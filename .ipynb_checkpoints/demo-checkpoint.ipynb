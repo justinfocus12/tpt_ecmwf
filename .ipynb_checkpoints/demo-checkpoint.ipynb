{
 "cells": [
  {
   "cell_type": "code",
   "execution_count": null,
   "metadata": {},
   "outputs": [],
   "source": [
    "# Set directories\n",
    "datadirs = dict({\n",
    "    \"ei\": \n",
    "})"
   ]
  },
  {
   "cell_type": "code",
   "execution_count": 7,
   "metadata": {},
   "outputs": [],
   "source": [
    "import sklearn\n",
    "import numpy as np"
   ]
  },
  {
   "cell_type": "code",
   "execution_count": 3,
   "metadata": {},
   "outputs": [
    {
     "name": "stdout",
     "output_type": "stream",
     "text": [
      "README.md\t\t      hm.out\t\ts2s_request.sbatch\r\n",
      "Untitled.ipynb\t\t      output\t\ts2s_request.txt\r\n",
      "Untitled1.ipynb\t\t      progress_s2s.txt\ts2s_request_october.out\r\n",
      "__pycache__\t\t      s2s.err\t\ts2s_request_october.py\r\n",
      "driver2.py\t\t      s2s.out\t\ts2s_request_october.txt\r\n",
      "flux_dens_tob_tth13624.0.npy  s2s.sbatch\tsrc_dest\r\n",
      "flux_dens_tob_tth14368.0.npy  s2s0.out\t\tstrat_feat.py\r\n",
      "grb2nc.sbatch\t\t      s2s1.out\t\ttdmc_obj.py\r\n",
      "grb2nc_era20c.sh\t      s2s2.out\t\ttpt_era20c.py\r\n",
      "grb2nc_eraint.sh\t      s2s_msg.txt\ttpt_general.py\r\n",
      "grb2nc_s2s.sh\t\t      s2s_request.out\tvisualize_one_ensemble.py\r\n",
      "helper.py\t\t      s2s_request.py\r\n"
     ]
    }
   ],
   "source": [
    "!ls"
   ]
  },
  {
   "cell_type": "code",
   "execution_count": 4,
   "metadata": {},
   "outputs": [],
   "source": [
    "import cartopy"
   ]
  },
  {
   "cell_type": "code",
   "execution_count": 5,
   "metadata": {},
   "outputs": [],
   "source": [
    "import helper"
   ]
  },
  {
   "cell_type": "code",
   "execution_count": 8,
   "metadata": {},
   "outputs": [
    {
     "data": {
      "text/plain": [
       "(3.141592653589793, 3)"
      ]
     },
     "execution_count": 8,
     "metadata": {},
     "output_type": "execute_result"
    }
   ],
   "source": [
    "helper.mantexp(np.pi*1000)"
   ]
  },
  {
   "cell_type": "code",
   "execution_count": null,
   "metadata": {},
   "outputs": [],
   "source": []
  }
 ],
 "metadata": {
  "kernelspec": {
   "display_name": "my_env",
   "language": "python",
   "name": "my_env"
  },
  "language_info": {
   "codemirror_mode": {
    "name": "ipython",
    "version": 3
   },
   "file_extension": ".py",
   "mimetype": "text/x-python",
   "name": "python",
   "nbconvert_exporter": "python",
   "pygments_lexer": "ipython3",
   "version": "3.9.5"
  }
 },
 "nbformat": 4,
 "nbformat_minor": 4
}
