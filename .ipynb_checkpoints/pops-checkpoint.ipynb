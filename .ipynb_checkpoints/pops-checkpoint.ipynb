{
 "cells": [
  {
   "cell_type": "code",
   "execution_count": 1,
   "metadata": {},
   "outputs": [],
   "source": [
    "import numpy as np\n",
    "import matplotlib.pyplot as plt"
   ]
  },
  {
   "cell_type": "code",
   "execution_count": null,
   "metadata": {},
   "outputs": [],
   "source": [
    "# Create a time-dependent system (OU process) on a (xdim,) system\n",
    "omega = 2*np.pi/10 # Period of 10\n",
    "A_true = np.array([[0,1],[-omega**2,x]])\n",
    "def drift_fun(x):\n",
    "    # x is a 1D array\n",
    "    return A_true.dot(x)\n",
    "def diffusion_fun(x):\n",
    "    # Should not depend on x\n",
    "    sigma = np.array([[1,2],[3,4]], dtype=float)\n",
    "    return sigma\n",
    "def integrate(x0, tmax):\n",
    "    "
   ]
  }
 ],
 "metadata": {
  "kernelspec": {
   "display_name": "my_env",
   "language": "python",
   "name": "my_env"
  },
  "language_info": {
   "codemirror_mode": {
    "name": "ipython",
    "version": 3
   },
   "file_extension": ".py",
   "mimetype": "text/x-python",
   "name": "python",
   "nbconvert_exporter": "python",
   "pygments_lexer": "ipython3",
   "version": "3.9.5"
  }
 },
 "nbformat": 4,
 "nbformat_minor": 4
}
