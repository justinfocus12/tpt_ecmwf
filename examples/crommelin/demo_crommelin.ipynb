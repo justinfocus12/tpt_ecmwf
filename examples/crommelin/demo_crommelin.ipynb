{
 "cells": [
  {
   "cell_type": "code",
   "execution_count": 1,
   "metadata": {},
   "outputs": [],
   "source": [
    "import sys\n",
    "sys.path.append(\"../..\")"
   ]
  },
  {
   "cell_type": "code",
   "execution_count": 2,
   "metadata": {},
   "outputs": [],
   "source": [
    "import numpy as np\n",
    "import xarray as xr\n",
    "import netCDF4 as nc\n",
    "import model_crommelin_seasonal\n",
    "import feature_template\n",
    "import feature_crommelin\n",
    "from importlib import reload\n",
    "import os\n",
    "from os import mkdir, makedirs\n",
    "from os.path import join,exists\n",
    "from importlib import reload\n",
    "import pickle\n",
    "import tpt_utils\n",
    "from sklearn.cluster import KMeans, MiniBatchKMeans\n",
    "from datetime import datetime"
   ]
  },
  {
   "cell_type": "code",
   "execution_count": 3,
   "metadata": {},
   "outputs": [],
   "source": [
    "import matplotlib.pyplot as plt \n",
    "%matplotlib inline"
   ]
  },
  {
   "cell_type": "markdown",
   "metadata": {},
   "source": [
    "A sequence of flags specifies which cells to run."
   ]
  },
  {
   "cell_type": "code",
   "execution_count": 12,
   "metadata": {},
   "outputs": [],
   "source": [
    "create_reanalysis_flag =               0\n",
    "create_hindcasts_flag =                0 \n",
    "featurize_flag =                       1\n",
    "recombine_features_flag =              1\n",
    "compute_empirical_committor_flag =     1\n",
    "cluster_flag =                         1\n",
    "estimate_transmat_flag =               1"
   ]
  },
  {
   "cell_type": "markdown",
   "metadata": {},
   "source": [
    "Create directories to save results "
   ]
  },
  {
   "cell_type": "code",
   "execution_count": 13,
   "metadata": {},
   "outputs": [],
   "source": [
    "# Organize the directory of data and features to be read from the data. \n",
    "topic_dir = \"/scratch/jf4241/crommelin\"\n",
    "filedict = dict({\n",
    "    \"data\": dict({\n",
    "        \"ra\": dict({\n",
    "            \"traj\": dict({\n",
    "                \"dir\": join(topic_dir, \"reanalysis\", \"trajectory\", \"2022-07-28\", \"0\"), # Directory with possibly many files\n",
    "            }),\n",
    "            \"feat_all\": dict({\n",
    "                \"dir\": join(topic_dir, \"reanalysis\", \"features_all\", \"2022-07-28\", \"0\"),\n",
    "                \"filename\": \"crom_feat_all.nc\",\n",
    "            }),\n",
    "            \"feat_tpt\": dict({\n",
    "                \"dir\": join(topic_dir, \"reanalysis\", \"features_tpt\", \"2022-07-28\", \"0\",),\n",
    "                \"filename\": \"crom_feat_tpt.nc\",\n",
    "            }),\n",
    "        }),\n",
    "        \"hc\": dict({\n",
    "            \"traj\": dict({\n",
    "                \"dir\": join(topic_dir, \"hindcast\", \"trajectory\", \"2022-07-28\", \"0\"), # Directory with possibly multiple files\n",
    "            }),\n",
    "            \"feat_all\": dict({\n",
    "                \"dir\": join(topic_dir, \"hindcast\", \"features_all\", \"2022-07-28\", \"0\"),\n",
    "                \"filename\": \"crom_feat_all.nc\",\n",
    "            }),\n",
    "            \"feat_tpt\": dict({\n",
    "                \"dir\": join(topic_dir, \"hindcast\", \"features_tpt\", \"2022-07-28\", \"0\"),\n",
    "                \"filename\": \"crom_feat_tpt.nc\",\n",
    "            })\n",
    "        }),        \n",
    "    }),\n",
    "    \"results\": dict({\n",
    "        \"dir\": join(topic_dir, \"results\", \"2022-07-28\", \"0\")\n",
    "    })\n",
    "})"
   ]
  },
  {
   "cell_type": "code",
   "execution_count": 14,
   "metadata": {},
   "outputs": [],
   "source": [
    "# Create the directories if they don't exist already\n",
    "for src in [\"ra\",\"hc\"]:\n",
    "    for fmt in [\"traj\",\"feat_all\",\"feat_tpt\"]:\n",
    "        path = filedict[\"data\"][src][fmt][\"dir\"]\n",
    "        if not exists(path):\n",
    "            makedirs(path, exist_ok=True)\n",
    "path = filedict[\"results\"][\"dir\"]\n",
    "if not exists(path): makedirs(path, exist_ok=True)"
   ]
  },
  {
   "cell_type": "markdown",
   "metadata": {},
   "source": [
    "# Generating data"
   ]
  },
  {
   "cell_type": "markdown",
   "metadata": {},
   "source": [
    "### 1. Model specification"
   ]
  },
  {
   "cell_type": "markdown",
   "metadata": {},
   "source": [
    "Set physical parameters for the dynamical model, including the size of the channel, the strength of drag and forcing and dissipation, and the length of the annual cycle. All this is stored in a \"fundamental parameter dictionary\" (FPD)"
   ]
  },
  {
   "cell_type": "code",
   "execution_count": 15,
   "metadata": {},
   "outputs": [],
   "source": [
    "fpd = dict({\n",
    "    \"b\": 0.5, \"beta\": 1.25, \"gamma_limits\": [0.15, 0.22], \n",
    "    \"C\": 0.1, \"x1star\": 0.95, \"r\": -0.801, \"year_length\": 400.0,\n",
    "})\n",
    "crom = model_crommelin_seasonal.SeasonalCrommelinModel(fpd)"
   ]
  },
  {
   "cell_type": "markdown",
   "metadata": {},
   "source": [
    "### 2. Reanalysis"
   ]
  },
  {
   "cell_type": "markdown",
   "metadata": {},
   "source": [
    "Set simulation parameters for the reanalysis (RA) simulation. We will start the simulation partway through year 1957 (remember, the years are 400 days long, so this doesn't correspond to our world) and save out every 0.5 days. We will start with a 500-day \"burn-in\" period to let the system settle onto its attractor. "
   ]
  },
  {
   "cell_type": "code",
   "execution_count": 16,
   "metadata": {},
   "outputs": [],
   "source": [
    "dt_samp = 0.5 # Time step to save out\n",
    "duration_burnin = 500.0 # Run 500 days of burn-in\n",
    "t_init_burnin = (1957 + 0.2)*fpd[\"year_length\"] # Start the burnin partway through 1957, in our pretend model world\n",
    "duration_ra = 200.0*fpd[\"year_length\"] # Run 200 years of reanalysis (abbreviated RA)"
   ]
  },
  {
   "cell_type": "markdown",
   "metadata": {},
   "source": [
    "The model integration will be stored as a 3-dimensional array with shape `(Nx, Nt, xdim)`, where\n",
    "* `Nx` is the number of parallel ensemble members. \n",
    "* `Nt` is the number of timesteps.\n",
    "* `xdim` is the number of dimensions, or degrees of freedom, in the model. Here `xdim = 7` for `x_1,...,x_6,t`. \n",
    "\n",
    "I have added time-dependence to the model of Crommelin (2004) to make an explicitly seasonal event. For reanalysis, there is only one thread of history, so `Nx = 1`. Later, we will make hindcast data and have `Nx = 10`. We will initialize the integration with an array of shape `(Nx,xdim)` for the integrator. The integrator will automatically save out to a Netcdf file (`burnin.nc`), which will be opened afterward to initialize the long integration."
   ]
  },
  {
   "cell_type": "code",
   "execution_count": 17,
   "metadata": {},
   "outputs": [],
   "source": [
    "x0 = np.zeros((1,7))\n",
    "x0[0,-1] = t_init_burnin # Time is the last dimension\n",
    "t_save = np.arange(0, duration_burnin, dt_samp)\n",
    "traj_filename_burnin = join(filedict[\"data\"][\"ra\"][\"traj\"][\"dir\"], \"burnin.nc\")\n",
    "crom.integrate_and_save(x0,t_save,traj_filename_burnin)"
   ]
  },
  {
   "cell_type": "markdown",
   "metadata": {},
   "source": [
    "Now that we have let the model find its attractor, we set up a longer simulation starting from the end of the burn-in. Below we specify the filenames to save both the model integration and the model parameters."
   ]
  },
  {
   "cell_type": "code",
   "execution_count": 18,
   "metadata": {},
   "outputs": [],
   "source": [
    "x_burnin = xr.open_dataset(traj_filename_burnin)[\"X\"]\n",
    "x0 = x_burnin[:,-1].data # End of burn-in = beginning of reanalyis\n",
    "t_init_str,_ = crom.date_format(x0[0,-1])\n",
    "t_fin_str,_ = crom.date_format(x0[0,-1] + duration_ra)\n",
    "traj_filename_ra = join(filedict[\"data\"][\"ra\"][\"traj\"][\"dir\"], f\"ra_{t_init_str}_to_{t_fin_str}.nc\")\n",
    "param_filename_ra = join(filedict[\"data\"][\"ra\"][\"traj\"][\"dir\"], \"params\")"
   ]
  },
  {
   "cell_type": "markdown",
   "metadata": {},
   "source": [
    "Below, we finally create the reanalysis data. Hopefully we don't need to do this too many times, so a flag is there to prevent running this cell every time. "
   ]
  },
  {
   "cell_type": "code",
   "execution_count": 19,
   "metadata": {},
   "outputs": [],
   "source": [
    "if create_reanalysis_flag:\n",
    "    t_save = np.arange(0,duration,dt_samp)\n",
    "    crom.integrate_and_save(x0,t_save,traj_filename_ra,metadata_filename=param_filename_ra)"
   ]
  },
  {
   "cell_type": "markdown",
   "metadata": {},
   "source": [
    "### 3. Hindcasts"
   ]
  },
  {
   "cell_type": "markdown",
   "metadata": {},
   "source": [
    "Now that we have reanalysis, we can make \"hindcast\" data by launching many perturbed parallel trajectories from reanalysis, to see alternative realities play out. The following parameters specify exactly which data to create:\n",
    "\n",
    "* `t_range_hc` says what time window the hindcasts will cover, in this case 1960-1970 (a strict subset of the reanalysis period)\n",
    "* `ens_size` is the size of each ensemble, in this case 10 (to match the S2S dataset).\n",
    "* `ens_gap` is the time separation between subsequent ensembles, in this case 13 days. (For S2S, it's 2 or 3 days).\n",
    "* `ens_duration` is the duration of the ensemble members, in this case 47 (to match the S2S dataset). \n",
    "* `pert_scale` is the size of random initial-condition perturbations. We choose `0.01` arbitrarily."
   ]
  },
  {
   "cell_type": "code",
   "execution_count": 20,
   "metadata": {},
   "outputs": [],
   "source": [
    "if create_hindcasts_flag:\n",
    "    t_range_hc = crom.q[\"year_length\"]*np.array([1960,1970])\n",
    "    crom.generate_hindcast_dataset(\n",
    "        [traj_filename_ra],filedict[\"data\"][\"hc\"][\"traj\"][\"dir\"],t_range_hc,dt_samp,\n",
    "        ens_size=10,ens_duration=47,ens_gap=13,pert_scale=0.01\n",
    "    )"
   ]
  },
  {
   "cell_type": "markdown",
   "metadata": {},
   "source": [
    "# Analyzing data"
   ]
  },
  {
   "cell_type": "markdown",
   "metadata": {},
   "source": [
    "The first step of any data analysis routine is to extract features, or observables, of interest, which depend on the system at hand. The file `feature_template.py` defines an abstract class, `SeasonalFeatures`, for organizing features of a seasonal phenomenon into `xarray` datasets for easy access. (By \"seasonal phenomenon\", I mean some dynamics with a particular season of interest, e.g., winter.) The file `feature_crommelin.py` defines a subclass,  `SeasonalCrommelinModelFeatures`, which implements observables that are physically relevant to the simple blocking model. As the model is only `6+1`-dimensional, the feature space is actually larger than the model state space. For more realistic models, such as the ECMWF Integrated Forecast System (IFS) which produces hindcasts, the feature space will be a major *reduction* from the state space. The code below will specify which observables we want, as we read them."
   ]
  },
  {
   "cell_type": "markdown",
   "metadata": {},
   "source": [
    "In general, reading features from the dataset will be expensive, as we have to comb through a large database of files, so we should minimize the number of times we do this in development. One strategy is to separate the featurization into multiple stages, with each stage repeated less often than the previous one. "
   ]
  },
  {
   "cell_type": "markdown",
   "metadata": {},
   "source": [
    "### Stage 1: read all possible features of interest\n",
    "The first stage is to read *all* possible features we *might* use for the downstream tasks and save them to a file, with the understanding that we will take some further reductions downstream. The list of observables for now is\n",
    "* `identity`: the model state space\n",
    "* `energy`: the energy contained in each wavenumber, as well as the total\n",
    "* `energy_tendency`: the rate of change of total energy, and its decomposition into dissipation and forcing\n",
    "* `energy_exchange`: the rate of energy *flow* between different wavenumbers, as well as dissipation and forcing, separated by wavenumber.\n",
    "* `phase`: the phase of each wave (i.e., how it's shifted with respect to the zonal domain walls)"
   ]
  },
  {
   "cell_type": "code",
   "execution_count": 21,
   "metadata": {},
   "outputs": [
    {
     "data": {
      "text/plain": [
       "<module 'feature_template' from '/home/jf4241/ecmwf/tpt_ecmwf/examples/crommelin/../../feature_template.py'>"
      ]
     },
     "execution_count": 21,
     "metadata": {},
     "output_type": "execute_result"
    }
   ],
   "source": [
    "reload(feature_crommelin); reload(feature_template)"
   ]
  },
  {
   "cell_type": "code",
   "execution_count": 22,
   "metadata": {},
   "outputs": [],
   "source": [
    "crom_feat = feature_crommelin.SeasonalCrommelinModelFeatures()\n",
    "qra = pickle.load(open(param_filename_ra,\"rb\")) # qra contains parameters of the Crommelin model"
   ]
  },
  {
   "cell_type": "code",
   "execution_count": 23,
   "metadata": {},
   "outputs": [],
   "source": [
    "if featurize_flag:\n",
    "    feat_all = dict()\n",
    "    for src in [\"ra\",\"hc\"]:\n",
    "        ds_feature_list = []\n",
    "        file_list = [f for f in os.listdir(filedict[\"data\"][src][\"traj\"][\"dir\"]) if (f.startswith(src) and f.endswith(\".nc\"))]\n",
    "        for filename in file_list:\n",
    "            ds = xr.open_dataset(join(filedict[\"data\"][src][\"traj\"][\"dir\"], filename))\n",
    "            ds_feature_list += [\n",
    "                xr.Dataset(\n",
    "                    data_vars = dict({\n",
    "                        # WARNING! So that this steps work, the 'feature' coordinate of each observable must be uniquely named. \n",
    "                        # For example, if the identity observable and energy observable both have a coordinate called \"feature\", \n",
    "                        # then xarray will assume it's the same and smush them together, filling in NaNs. This restricts what \n",
    "                        # we can use as feature names. \n",
    "                        \"identity\": crom_feat.identity_observable(ds, qra),\n",
    "                        \"energy\": crom_feat.energy_observable(ds, qra),\n",
    "                        \"energy_tendency\": crom_feat.energy_tendency_observable(ds, qra),\n",
    "                        \"energy_exchange\": crom_feat.energy_exchange_observable(ds, qra),\n",
    "                        \"phase\": crom_feat.phase_observable(ds, qra),\n",
    "                    })\n",
    "                )\n",
    "            ]\n",
    "            ds.close()\n",
    "        feat_all[src] = xr.concat(ds_feature_list,dim=\"ensemble\") # ensemble is a new dimension\n",
    "        feat_all[src].to_netcdf(join(filedict[\"data\"][src][\"feat_all\"][\"dir\"], filedict[\"data\"][src][\"feat_all\"][\"filename\"]))"
   ]
  },
  {
   "cell_type": "markdown",
   "metadata": {},
   "source": [
    "### Stage 2: Subset and recombine observables for use in TPT analysis\n",
    "Provided we have pulled enough data from the raw files above, we can further subset those to a feature space we think is truly relevant for the event. Moreover, we can make new features from the original ones. For example,\n",
    "* Time-delay embed a feature: `x1(t)  |--->   [x1(t), x1(t-1), x1(t-2), ..., x1(t-d+1)]`. Note that this will reduce the dataset somewhat because these features won't be defined for the first d-1 data points in the timeseries.\n",
    "* Take running means, maxima, minima, or other statistics over a finite time window\n",
    "* Apply spatial filters to observables with a spatial component, e.g., to get gradients\n",
    "* Apply temporal features to time-histories of a feature, e.g., to get time derivatives\n",
    "\n"
   ]
  },
  {
   "cell_type": "markdown",
   "metadata": {},
   "source": [
    "As a pre-requisite, we need to define the season of interest. We encode this into the object `espd`, for \"event seasonal parameter dictionary\", which stores the parameters\n",
    "* `szn_start`: which calendar day (out of the total `crom.year_length`) the season starts\n",
    "* `szn_length`: how many days after `szn_start` the season ends. Note that a season can bleed from one calendar year into the next, like our winter here on Earth.\n",
    "* `Nt_szn`: when defining seasonal statistics later on, we'll need some time window over which to aggregate data. This shouldn't have to be the same as the timestep of the model. `Nt_szn` reflects a choice of how to divide the season up. We will use these same small time windows to define the time-dependent Markov chain.\n"
   ]
  },
  {
   "cell_type": "code",
   "execution_count": 24,
   "metadata": {},
   "outputs": [],
   "source": [
    "espd = dict(\n",
    "    szn_start = 300.0,\n",
    "    szn_length = 250.0,\n",
    "    Nt_szn = 50, \n",
    "    year_length = crom.q[\"year_length\"],\n",
    ")\n",
    "crom_feat.set_event_seasonal_params(espd)"
   ]
  },
  {
   "cell_type": "markdown",
   "metadata": {},
   "source": [
    "Those parameters above will allow us to augment the dataset with tags that specify which time window each sample falls into. See below `t_szn` (time since the season beginning) and `ti_szn` (which window the datapoint occupies.) "
   ]
  },
  {
   "cell_type": "code",
   "execution_count": 25,
   "metadata": {},
   "outputs": [],
   "source": [
    "if recombine_features_flag:\n",
    "    feat_all = dict()\n",
    "    feat_tpt = dict()\n",
    "    # List the features to put into feat_tpt\n",
    "    # First, the features needed to define A and B: the time, the x1 coordinate, and its running mean, min, and max\n",
    "    # over some time horizon. \n",
    "    time_horizon = 40.0 # Units are days\n",
    "    feat_tpt_list = ([\n",
    "        \"t_abs\",\"x1_runmean\",\"x1_runmin\",\"x1_runmax\",\n",
    "        \"t_szn\",\"szn_start_year\",\"t_cal\",\"ti_szn\"\n",
    "    ])\n",
    "    # Physical features\n",
    "    feat_tpt_list += ([\n",
    "        \"x1\",\"x2\",\"x3\",\"x4\",\"x5\",\"x6\",\n",
    "        \"E_01\",\"E_02\",\"E_11\",\"E_12\",\"E_tot\",\n",
    "        \"Edot_dissipation\",\"Edot_forcing\",\n",
    "        \"Ex_11-diss\", \"Ex_12-diss\", \"Ex_11-02\", \"Ex_11-12\",\n",
    "        \"ph_11\",\"ph_12\",\n",
    "    ])\n",
    "    for src in [\"ra\",\"hc\"]:\n",
    "        feat_all[src] = xr.open_dataset(join(filedict[\"data\"][src][\"feat_all\"][\"dir\"], filedict[\"data\"][src][\"feat_all\"][\"filename\"]))\n",
    "        feat_tpt[src] = xr.Dataset(\n",
    "            data_vars = {\n",
    "                \"X\": xr.DataArray(               \n",
    "                    coords = {\n",
    "                        \"ensemble\": feat_all[src].coords[\"ensemble\"],\n",
    "                        \"member\": feat_all[src].coords[\"member\"],\n",
    "                        \"t_sim\": feat_all[src].coords[\"t_sim\"],\n",
    "                        \"feature\": feat_tpt_list,\n",
    "                    },\n",
    "                    data = np.zeros((\n",
    "                        feat_all[src][\"ensemble\"].size, feat_all[src][\"member\"].size, \n",
    "                        feat_all[src][\"t_sim\"].size, len(feat_tpt_list)\n",
    "                    )),\n",
    "                )\n",
    "            }\n",
    "        )\n",
    "        for id_coord in [\"x1\",\"x2\",\"x3\",\"x4\",\"x5\",\"x6\"]:\n",
    "            feat_tpt[src][\"X\"].loc[dict(feature=id_coord)] = (\n",
    "                feat_all[src][\"identity\"].sel(feature=id_coord)\n",
    "            )\n",
    "        for e_coord in [\"E_01\",\"E_02\",\"E_11\",\"E_12\",\"E_tot\"]:\n",
    "            feat_tpt[src][\"X\"].loc[dict(feature=e_coord)] = (\n",
    "                feat_all[src][\"energy\"].sel(reservoir=e_coord.replace(\"_\",\"\"))\n",
    "            )\n",
    "        for ph_coord in [\"ph_11\",\"ph_12\"]:\n",
    "            feat_tpt[src][\"X\"].loc[dict(feature=ph_coord)] = (\n",
    "                feat_all[src][\"phase\"].sel(wavenumber=ph_coord.replace(\"_\",\"\"))\n",
    "            )\n",
    "        feat_tpt[src][\"X\"].loc[dict(feature=\"Ex_11-diss\")] = (\n",
    "            feat_all[src][\"energy_exchange\"].sel(source=\"E11\",sink=\"dissipation\"))\n",
    "        feat_tpt[src][\"X\"].loc[dict(feature=\"Ex_12-diss\")] = (\n",
    "            feat_all[src][\"energy_exchange\"].sel(source=\"E12\",sink=\"dissipation\"))\n",
    "        feat_tpt[src][\"X\"].loc[dict(feature=\"Ex_11-02\")] = (\n",
    "            feat_all[src][\"energy_exchange\"].sel(source=\"E11\",sink=\"E02\"))\n",
    "        feat_tpt[src][\"X\"].loc[dict(feature=\"Ex_11-12\")] = (\n",
    "            feat_all[src][\"energy_exchange\"].sel(source=\"E11\",sink=\"E12\"))\n",
    "\n",
    "        feat_tpt[src][\"X\"].loc[dict(feature=\"t_abs\")] = feat_all[src][\"identity\"].sel(feature=\"t_abs\")\n",
    "        feat_tpt[src][\"X\"].loc[dict(feature=\"Edot_dissipation\")] = feat_all[src][\"energy_tendency\"].sel(Eflow=\"dissipation\")\n",
    "        feat_tpt[src][\"X\"].loc[dict(feature=\"Edot_forcing\")] = feat_all[src][\"energy_tendency\"].sel(Eflow=\"forcing\")    \n",
    "        # For the A- and B-defining feature of x1, take the running mean, minimum, and maximum of x1 over the time horizon\n",
    "        dt_samp = (feat_all[src][\"t_sim\"][1] - feat_all[src][\"t_sim\"][0]).data # Assume uniform time sampling!\n",
    "        num_delays = int(time_horizon/dt_samp) + 1\n",
    "        rolling_x1 = feat_all[src][\"identity\"].sel(feature=\"x1\").rolling(\n",
    "            dim={\"t_sim\": num_delays}, min_periods=num_delays) \n",
    "        feat_tpt[src][\"X\"].loc[dict(feature=\"x1_runmean\")] = rolling_x1.mean() \n",
    "        feat_tpt[src][\"X\"].loc[dict(feature=\"x1_runmin\")] = rolling_x1.min() \n",
    "        feat_tpt[src][\"X\"].loc[dict(feature=\"x1_runmax\")] = rolling_x1.max() \n",
    "        # Compute the calendar time and other temporal metadata, as this defines the seasonality \n",
    "        szn_start_year,t_cal,t_szn,ti_szn = crom_feat.time_conversion_from_absolute(\n",
    "            feat_all[src][\"identity\"].sel(feature=\"t_abs\")\n",
    "        )\n",
    "        feat_tpt[src][\"X\"].loc[dict(feature=\"t_szn\")] = t_szn # Time since the most recent season beginning\n",
    "        feat_tpt[src][\"X\"].loc[dict(feature=\"szn_start_year\")] = szn_start_year\n",
    "        feat_tpt[src][\"X\"].loc[dict(feature=\"t_cal\")] = t_cal\n",
    "        feat_tpt[src][\"X\"].loc[dict(feature=\"ti_szn\")] = ti_szn # Which window of the discretized season this sample belongs to\n",
    "        # Save \n",
    "        feat_tpt[src].to_netcdf(join(filedict[\"data\"][src][\"feat_tpt\"][\"dir\"], filedict[\"data\"][src][\"feat_tpt\"][\"filename\"]))"
   ]
  },
  {
   "cell_type": "markdown",
   "metadata": {},
   "source": [
    "To visualize the dataset we've created, let's plot a scalar feature of our choice evolving over time. This plot has three components:\n",
    "1. The background climatology in gray envelopes (quantile ranges) and in a black line (mean)\n",
    "2. One particular season, of which the climatology is a seasonal average\n",
    "3. One particular hindcast ensemble from that year\n",
    "\n",
    "This is where xarray really helps to organize the dataset. "
   ]
  },
  {
   "cell_type": "code",
   "execution_count": 26,
   "metadata": {},
   "outputs": [
    {
     "data": {
      "text/plain": [
       "Text(0.5, 1.0, '1962 season')"
      ]
     },
     "execution_count": 26,
     "metadata": {},
     "output_type": "execute_result"
    },
    {
     "data": {
      "image/png": "[encoded data removed]",
      "text/plain": [
       "<Figure size 432x288 with 1 Axes>"
      ]
     },
     "metadata": {
      "needs_background": "light"
     },
     "output_type": "display_data"
    }
   ],
   "source": [
    "feat = \"t_szn\" # Horizontal axis: time of season\n",
    "obs = \"E_01\" # Vertical axis: energy of the first Fourier mode. This can be anything from feat_tpt_list\n",
    "sel = dict(ensemble=0, member=0)\n",
    "fig,ax = plt.subplots()\n",
    "tpt_utils.plot_field_1d(\n",
    "    feat_tpt[\"ra\"][\"X\"].sel(sel,drop=True).sel(feature=obs).data.flatten(),\n",
    "    np.ones(feat_tpt[\"ra\"][\"t_sim\"].size),\n",
    "    feat_tpt[\"ra\"][\"X\"].sel(sel).sel(feature=feat).data.flatten(),\n",
    "    feat_name=\"Time into season\", field_name=obs,\n",
    "    fig=fig, ax=ax\n",
    ")\n",
    "# Now overlay a specific year of reanalysis\n",
    "year2plot = 1962\n",
    "sel = dict(ensemble=0, member=0)\n",
    "cond = 1*(feat_tpt[\"ra\"][\"X\"].sel(feature=\"szn_start_year\") == year2plot)\n",
    "ra_one_season = feat_tpt[\"ra\"][\"X\"].where(cond,drop=True).sel(sel,drop=True)\n",
    "ax.plot(\n",
    "    ra_one_season.sel(feature=feat).data.flatten(),\n",
    "    ra_one_season.sel(feature=obs).data.flatten(),\n",
    "    color='blue', zorder=4\n",
    ")\n",
    "# Now overlay a specific hindcast ensemble from the same year\n",
    "ensemble_number_in_season = 15 # Whichever number ensemble of the season we wish to see\n",
    "cond = 1*(\n",
    "    (feat_tpt[\"hc\"][\"X\"].sel(feature=\"szn_start_year\") == year2plot) \n",
    ")\n",
    "hc_one_window = feat_tpt[\"hc\"][\"X\"].where(cond,drop=True)\n",
    "# Find the index of the first ensemble of that year\n",
    "ensemble_time_order = np.argsort(hc_one_window.isel(t_sim=0).sel(member=0,feature=\"t_szn\").data.flatten())\n",
    "for i_mem in range(feat_tpt[\"hc\"][\"X\"].coords[\"member\"].size):\n",
    "    ax.plot(\n",
    "        hc_one_window.isel(ensemble=ensemble_time_order[ensemble_number_in_season]).sel(member=i_mem,feature=feat).data.flatten(),\n",
    "        hc_one_window.isel(ensemble=ensemble_time_order[ensemble_number_in_season]).sel(member=i_mem,feature=obs).data.flatten(),\n",
    "        color='red', zorder=3\n",
    "    )\n",
    "ax.set_title(f\"{year2plot} season\")\n"
   ]
  },
  {
   "cell_type": "markdown",
   "metadata": {},
   "source": [
    "# Defining the event"
   ]
  },
  {
   "cell_type": "markdown",
   "metadata": {},
   "source": [
    "By plotting the observable `x1` or `E_01` (proportional to the square of `x1`) above, we can see what a blocking event looks like: sometime between 100 and 250 days into the season, `x1` dips very low, with a variable magnitude and duration.  We make a straightforward definition for blocking with the following threshold:\n",
    "1. `x1_thresh0`: the value that `x1` must drop below to reach state `B`\n",
    "2. `x1_thresh1`: the value that `x1` must rise above to reach state `A`\n",
    "3. `t_thresh0`: the beginning of the time interval (relative to the start of the season) during which we expect blocking. It must be positive.\n",
    "4. `t_thresh1`: the ending of the time interval. It must be greater than `t_thresh0`, and less than `crom_feat.szn_length`. \n",
    "\n",
    "Below we specify one arbitrary set of thresholds, which could be adjusted. In particular, we could change `x1_thresh1` to resolve different levels of severity. We could also swap `x1` with `x1_runmean` to use some time-averaged criterion---*as long as it is computable from `feat_tpt`.* I've chosen `x1_thresh1` to be very high, so set `A` is never reached during the season: `A` is really the off-season. All this information gets stored in the `crom_feat` object, so we can later query data points by their membership in `A` or `B`. \n"
   ]
  },
  {
   "cell_type": "code",
   "execution_count": 27,
   "metadata": {},
   "outputs": [],
   "source": [
    "t_thresh0 = 10.0\n",
    "t_thresh1 = 200.0\n",
    "x1_thresh0 = 0.75\n",
    "x1_thresh1 = 2.0 # 2.0 may as well be infinity\n",
    "crom_feat.set_ab_boundaries(t_thresh0, t_thresh1, x1_thresh0, x1_thresh1)"
   ]
  },
  {
   "cell_type": "markdown",
   "metadata": {},
   "source": [
    "# Empirical committors and hitting times"
   ]
  },
  {
   "cell_type": "markdown",
   "metadata": {},
   "source": [
    "Now that we've specified how to tell whether a datapoint is in `A` or `B`, let's apply this function to all the reanalysis and hindcast data. We'll get a new `DataArray` called `ab_tag`, holding integers which code for `A`, `B`, or `D` (the complement of `A` and `B`). Furthermore, we will calculate hitting times, both in the future and past, for every data point. This information will be stored in `sintil` (combining \"since\" and \"until\", and computed from a function named `cotton_eye_joe`---look this up on YouTube). Once we have hitting times, the *empirical* committor is trivial to compute: it is one if the time to `B` is less than the time to `A`, and zero otherwise. In backward time, it is one if the time elapsed since hitting `A` is less than the time elapsed since hitting `B`."
   ]
  },
  {
   "cell_type": "code",
   "execution_count": 28,
   "metadata": {},
   "outputs": [],
   "source": [
    "compute_empirical_committor_flag = 1"
   ]
  },
  {
   "cell_type": "code",
   "execution_count": 29,
   "metadata": {},
   "outputs": [
    {
     "data": {
      "text/plain": [
       "<module 'feature_crommelin' from '/home/jf4241/ecmwf/tpt_ecmwf/examples/crommelin/feature_crommelin.py'>"
      ]
     },
     "execution_count": 29,
     "metadata": {},
     "output_type": "execute_result"
    }
   ],
   "source": [
    "reload(feature_template)\n",
    "reload(feature_crommelin)"
   ]
  },
  {
   "cell_type": "code",
   "execution_count": 30,
   "metadata": {},
   "outputs": [],
   "source": [
    "crom_feat = feature_crommelin.SeasonalCrommelinModelFeatures()\n",
    "crom_feat.set_event_seasonal_params(espd)\n",
    "crom_feat.set_ab_boundaries(t_thresh0, t_thresh1, x1_thresh0, x1_thresh1)"
   ]
  },
  {
   "cell_type": "code",
   "execution_count": 31,
   "metadata": {},
   "outputs": [
    {
     "name": "stdout",
     "output_type": "stream",
     "text": [
      "t_sim.shape = (160000,)\n",
      "Forward pass: through time 0 out of 94\n",
      "Backward pass: through time 0 out of 94\n"
     ]
    }
   ],
   "source": [
    "if compute_empirical_committor_flag:\n",
    "    ab_tag = dict()\n",
    "    sintil = dict() # Hitting times (since and until)\n",
    "    comm_emp = dict() # Empirical committor: to B in forward time, from A in backward time\n",
    "    for src in [\"ra\",\"hc\"]:\n",
    "        ab_tag[src] = crom_feat.ab_test(feat_tpt[src][\"X\"])\n",
    "        mode = \"timechunks\" if src == \"ra\" else \"timesteps\" # This determines the computation pattern for iterating through the dataset\n",
    "        sintil[src] = crom_feat.cotton_eye_joe(feat_tpt[src][\"X\"],ab_tag[src],mode=mode)\n",
    "        comm_emp[src] = 1*(sintil[src].sel(state=\"B\") < sintil[src].sel(state=\"A\"))\n",
    "        comm_emp[src].loc[dict(sense=\"since\")] = 1 - comm_emp[src].sel(sense=\"since\")\n",
    "        # Save each item\n",
    "        ab_tag[src].to_netcdf(join(filedict[\"results\"][\"dir\"], f\"ab_tag_{src}.nc\"))    \n",
    "        sintil[src].to_netcdf(join(filedict[\"results\"][\"dir\"], f\"sintil_{src}.nc\"))    \n",
    "        comm_emp[src].to_netcdf(join(filedict[\"results\"][\"dir\"], f\"comm_emp_{src}.nc\"))"
   ]
  },
  {
   "cell_type": "markdown",
   "metadata": {},
   "source": [
    "Close and reload these files for use later on."
   ]
  },
  {
   "cell_type": "code",
   "execution_count": 32,
   "metadata": {},
   "outputs": [],
   "source": [
    "for src in [\"ra\",\"hc\"]:\n",
    "    ab_tag[src].close()\n",
    "    sintil[src].close()\n",
    "    comm_emp[src].close()"
   ]
  },
  {
   "cell_type": "code",
   "execution_count": 33,
   "metadata": {},
   "outputs": [],
   "source": [
    "ab_tag = dict()\n",
    "sintil = dict() # Hitting times (since and until)\n",
    "comm = dict() # Committor: to B in forward time, from A in backward time\n",
    "for src in [\"ra\",\"hc\"]:\n",
    "    ab_tag[src] = xr.open_dataarray(join(filedict[\"results\"][\"dir\"], f\"ab_tag_{src}.nc\"))    \n",
    "    sintil[src] = xr.open_dataarray(join(filedict[\"results\"][\"dir\"], f\"sintil_{src}.nc\"))    \n",
    "    comm[src] = xr.open_dataarray(join(filedict[\"results\"][\"dir\"], f\"comm_{src}.nc\"))"
   ]
  },
  {
   "cell_type": "markdown",
   "metadata": {},
   "source": [
    "Below we confirm visually that the detection algorithm above is working. Along with of a timeseries of `x(t)`, we highlight the time intervals during which the system is in `A` and `B` in blue and red respectively."
   ]
  },
  {
   "cell_type": "code",
   "execution_count": 34,
   "metadata": {},
   "outputs": [
    {
     "data": {
      "text/plain": [
       "<matplotlib.legend.Legend at 0x1551a89dc5b0>"
      ]
     },
     "execution_count": 34,
     "metadata": {},
     "output_type": "execute_result"
    },
    {
     "data": {
      "image/png": "[encoded data removed]",
      "text/plain": [
       "<Figure size 1080x720 with 2 Axes>"
      ]
     },
     "metadata": {
      "needs_background": "light"
     },
     "output_type": "display_data"
    }
   ],
   "source": [
    "fig,axes = plt.subplots(nrows=2, figsize=(15,10), sharex=True)\n",
    "sel = dict(member=0, t_sim=slice(None,6000))\n",
    "h_x1, = xr.plot.plot(\n",
    "    feat_tpt[\"ra\"][\"X\"].sel(sel,drop=True).sel(feature=\"x1\"),\n",
    "    color=\"black\",ax=axes[0],label=\"$x_1$\",x=\"t_sim\"\n",
    ")\n",
    "handles = []\n",
    "for set_code in [\"A\",\"B\"]:\n",
    "    color = \"dodgerblue\" if set_code == \"A\" else \"red\"\n",
    "    starts, = np.where(np.diff(1*(ab_tag[\"ra\"].sel(sel,drop=True).data.flatten()==crom_feat.ab_code[set_code])) == 1)\n",
    "    ends, = np.where(np.diff(1*(ab_tag[\"ra\"].sel(sel,drop=True).data.flatten()==crom_feat.ab_code[set_code])) == -1)\n",
    "    if starts[0] > ends[0]: \n",
    "        ends = ends[1:]\n",
    "    if starts[-1] > ends[-1]:\n",
    "        starts = starts[:-1]\n",
    "    for i in range(len(starts)):\n",
    "        axes[0].axvspan(\n",
    "            feat_tpt[\"ra\"][\"t_sim\"][starts[i]], feat_tpt[\"ra\"][\"t_sim\"][ends[i]], \n",
    "            color=color, alpha=0.5, zorder=-1\n",
    "        )\n",
    "    h_hittime, = xr.plot.plot(\n",
    "        sintil[\"ra\"].sel(sel,drop=True).sel(state=set_code, sense=\"until\", drop=True),\n",
    "        ax=axes[1], label=r\"$\\tau_%s^+$\"%(set_code), color=color)\n",
    "    handles += [h_hittime]\n",
    "\n",
    "axes[0].axhline(y=crom_feat.tpt_bndy[\"x1_thresh\"][0], color='black')\n",
    "axes[0].legend(handles=[h_x1], prop={\"size\": 18})\n",
    "axes[1].legend(handles=handles, prop={\"size\": 18})\n"
   ]
  },
  {
   "cell_type": "code",
   "execution_count": 35,
   "metadata": {},
   "outputs": [],
   "source": [
    "num_B_entries = np.sum(\n",
    "    np.diff(\n",
    "        (ab_tag[\"ra\"].sel(member=0,ensemble=0)==crom_feat.ab_code[\"B\"]).data.flatten()\n",
    "    ) == 1\n",
    ")"
   ]
  },
  {
   "cell_type": "markdown",
   "metadata": {},
   "source": [
    "### Plot the empirical committor and lead time, from reanalysis"
   ]
  },
  {
   "cell_type": "markdown",
   "metadata": {},
   "source": [
    "Now we have a bunch of *empirical* committors (a point cloud of ones and zeros) as well as lead times (a point cloud of positive real numbers). We can projecting this point cloud into lower dimensions (1 or 2) to get a picture of the committor or lead time as a function of those coordinates.\n",
    "\n",
    "First, let's plot as a function of one variable, using `tpt_utils.plot_field_1d`. This shows the conditional mean as a black curve, the interquartile range as a dark gray envelope, and the min-max range as a light gray envelope."
   ]
  },
  {
   "cell_type": "code",
   "execution_count": 36,
   "metadata": {},
   "outputs": [
    {
     "data": {
      "text/plain": [
       "(<Figure size 432x288 with 1 Axes>,\n",
       " <AxesSubplot:xlabel='E_01', ylabel='Committor to B'>)"
      ]
     },
     "execution_count": 36,
     "metadata": {},
     "output_type": "execute_result"
    },
    {
     "data": {
      "image/png": "[encoded data removed]",
      "text/plain": [
       "<Figure size 432x288 with 1 Axes>"
      ]
     },
     "metadata": {
      "needs_background": "light"
     },
     "output_type": "display_data"
    },
    {
     "data": {
      "image/png": "[encoded data removed]",
      "text/plain": [
       "<Figure size 432x288 with 1 Axes>"
      ]
     },
     "metadata": {
      "needs_background": "light"
     },
     "output_type": "display_data"
    }
   ],
   "source": [
    "feat = \"E_01\" # The independent variable\n",
    "sel = dict(ensemble=0,member=0)\n",
    "cond = (\n",
    "    (feat_tpt[\"ra\"][\"X\"].sel(sel,drop=True).sel(feature=\"t_szn\") > crom_feat.tpt_bndy[\"t_thresh\"][0]) * \n",
    "    (feat_tpt[\"ra\"][\"X\"].sel(sel,drop=True).sel(feature=\"t_szn\") < crom_feat.tpt_bndy[\"t_thresh\"][0]+10) \n",
    ")\n",
    "tpt_utils.plot_field_1d(\n",
    "    sintil[\"ra\"].sel(sel,drop=True).sel(sense=\"until\",state=\"B\").where(cond).data.flatten(), \n",
    "    np.ones(cond[\"t_sim\"].size),\n",
    "    feat_tpt[\"ra\"][\"X\"].sel(sel).sel(feature=[feat]).where(cond).data.flatten(),\n",
    "    ax=axes[0],\n",
    "    feat_name=feat, field_name=\"Lead time to B\",\n",
    ")\n",
    "tpt_utils.plot_field_1d(\n",
    "    comm_emp[\"ra\"].sel(sel,drop=True).sel(sense=\"until\").where(cond).data.flatten(), \n",
    "    np.ones(cond[\"t_sim\"].size),\n",
    "    feat_tpt[\"ra\"][\"X\"].sel(sel).sel(feature=feat).where(cond).data.flatten(),\n",
    "    ax=axes[1],\n",
    "    feat_name=feat, field_name=\"Committor to B\"\n",
    ")"
   ]
  },
  {
   "cell_type": "markdown",
   "metadata": {},
   "source": [
    "If we choose `E_01` as the feature, we see some interesting behavior: the committor has a minimum at a relatively small value of `E_01` and is maximum at large values---even though set `B` is defined by anomalously *low* values of `E_01`. Apparently, the zonal-mean energy value becomes abnormally large before collapsing."
   ]
  },
  {
   "cell_type": "markdown",
   "metadata": {},
   "source": [
    "We can also visualize these functions over two dimensions, using the function `tpt_utils.plot_field_2d`. We keep the horizontal axis the same feature, `E_01` (the energy of the mean flow), and additionally resolve a second observable: `Ex_11-12`, the exchange of energy between wavenumber `(1,1)` and wavenumber `(1,2)`. This reveals a little more what's happening, but there are many more coordinates to explore. \n",
    "\n",
    "We have also added a third panel. Besides the committor and mean-first-passage-time (`E[\\tau_B^+]`), we're plotting the *lead time* `\\eta_B^+`, which is the conditional expectation of `\\tau_B^+` conditional on hitting `B` first. \n",
    "\n",
    "How do we do this from empirical data? Note that the first two arguments of `tpt_utils.plot_field_2d` (or `1D`) are the function values, and the weights for performing the marginal integration. For the committor and ordinary MFPT, the weights are uniform: we don't weight any datapoints more heavily than others. The conditional version only counts points that hit `B` first, so we multiply the function value by the committor, and ultimately we divide by the committor of that grid box in 2D. \n",
    "\n",
    "We've also selected a subset of the season, in order to see patterns more clearly (they will change over the course of the season). Slicing the data more finely gives more details, but reduces statistical confidence due to limited data. Try playing with the time subset and the features of interest. "
   ]
  },
  {
   "cell_type": "code",
   "execution_count": 37,
   "metadata": {},
   "outputs": [
    {
     "data": {
      "text/plain": [
       "(<Figure size 1080x360 with 3 Axes>,\n",
       " <AxesSubplot:title={'center':'$-\\\\eta_B^+$'}, xlabel='E_01', ylabel='Ex_11-12'>)"
      ]
     },
     "execution_count": 37,
     "metadata": {},
     "output_type": "execute_result"
    },
    {
     "data": {
      "image/png": "[encoded data removed]",
      "text/plain": [
       "<Figure size 1080x360 with 3 Axes>"
      ]
     },
     "metadata": {
      "needs_background": "light"
     },
     "output_type": "display_data"
    }
   ],
   "source": [
    "# Choose the two features\n",
    "feat0,feat1 = \"E_01\",\"Ex_11-12\"\n",
    "# Select the first ensemble and member (trivial for reanalysis: there's only one realization)\n",
    "sel = dict(ensemble=0,member=0) \n",
    "# Take a slice of the season, between two times\n",
    "cond = (\n",
    "    (feat_tpt[\"ra\"][\"X\"].sel(sel,drop=True).sel(feature=\"t_szn\") > crom_feat.tpt_bndy[\"t_thresh\"][0]) * \n",
    "    (feat_tpt[\"ra\"][\"X\"].sel(sel,drop=True).sel(feature=\"t_szn\") < crom_feat.tpt_bndy[\"t_thresh\"][0] + 100) \n",
    ")\n",
    "# Call the committor qp (q-plus) and the hitting time to B Tb\n",
    "qp = comm_emp[\"ra\"].sel(sel,drop=True).sel(sense=\"until\").where(cond).data.flatten()\n",
    "Tb = sintil[\"ra\"].sel(sel,drop=True).sel(sense=\"until\",state=\"B\").where(cond).data.flatten()\n",
    "\n",
    "fig,axes = plt.subplots(ncols=3,figsize=(15,5), sharey=True, sharex=True)\n",
    "# First plot: committor\n",
    "tpt_utils.plot_field_2d(\n",
    "    qp, # function values\n",
    "    np.ones(feat_tpt[\"ra\"][\"t_sim\"].size), # weights\n",
    "    feat_tpt[\"ra\"][\"X\"].sel(feature=[feat0,feat1]).where(cond).sel(sel,drop=True), # Feature space\n",
    "    feat_names = [feat0,feat1],  # axis labels\n",
    "    shp=[25,25], # shape of the 2D grid controls how pixellated the image is\n",
    "    fig=fig, ax=axes[0], field_name=r\"$q_B^+$\" #other display parameters\n",
    ")\n",
    "# Second plot: hitting time (negative, so it increases towards B)\n",
    "tpt_utils.plot_field_2d(\n",
    "    -Tb,\n",
    "    np.ones(feat_tpt[\"ra\"][\"t_sim\"].size),\n",
    "    feat_tpt[\"ra\"][\"X\"].sel(feature=[feat0,feat1]).where(cond).sel(sel,drop=True),\n",
    "    feat_names = [feat0,feat1], \n",
    "    shp=[25,25], fig=fig, ax=axes[1], field_name=r\"$-\\tau_B^+$\"\n",
    ")\n",
    "# Third plot: hitting time conditioned on hitting B first\n",
    "tpt_utils.plot_field_2d(\n",
    "    -Tb*qp,\n",
    "    qp,\n",
    "    feat_tpt[\"ra\"][\"X\"].sel(feature=[feat0,feat1]).where(cond).sel(sel,drop=True),\n",
    "    feat_names = [feat0,feat1], \n",
    "    shp=[25,25], fig=fig, ax=axes[2], field_name=r\"$-\\eta_B^+$\"\n",
    ")\n"
   ]
  },
  {
   "cell_type": "markdown",
   "metadata": {},
   "source": [
    "Finally, we should estimate the rate. What fraction of seasons involve a blocking event?"
   ]
  },
  {
   "cell_type": "code",
   "execution_count": 38,
   "metadata": {},
   "outputs": [],
   "source": [
    "num_B_entries = np.sum(\n",
    "    np.diff(\n",
    "        1*(ab_tag[\"ra\"].sel(member=0,ensemble=0)==crom_feat.ab_code[\"B\"]).data.flatten()\n",
    "    ) == 1\n",
    ")\n",
    "num_seasons = (\n",
    "    feat_tpt[\"ra\"][\"X\"].sel(feature=\"szn_start_year\").isel(t_sim=-1).data.flatten() - \n",
    "    feat_tpt[\"ra\"][\"X\"].sel(feature=\"szn_start_year\").isel(t_sim=0).data.flatten()\n",
    ").data[0]\n"
   ]
  },
  {
   "cell_type": "code",
   "execution_count": 39,
   "metadata": {},
   "outputs": [
    {
     "name": "stdout",
     "output_type": "stream",
     "text": [
      "There were 90 blocking onsets in 200.0 seasons, for an overall rate of 0.45\n"
     ]
    }
   ],
   "source": [
    "print(f\"There were {num_B_entries} blocking onsets in {num_seasons} seasons, for an overall rate of {num_B_entries/num_seasons}\")"
   ]
  },
  {
   "cell_type": "markdown",
   "metadata": {},
   "source": [
    "# Markov State Modeling using hindcasts"
   ]
  },
  {
   "cell_type": "markdown",
   "metadata": {},
   "source": [
    "We now wish to find the committor and lead time using hindcasts. Since the hindcast trajectories don't last all winter, we have to chain them together using a Markov State Model (MSM). The steps to building a MSM are:\n",
    "1. Select a set of features\n",
    "2. Cluster the data *separately at each time of the season*\n",
    "3. Count transitions from each box in time window `k` to each box in time window `k+1`, building a set of transition probability matrices"
   ]
  },
  {
   "cell_type": "markdown",
   "metadata": {},
   "source": [
    "### 1. Select a set of features\n",
    "Below we hand-pick some features that we think will be effective inputs to a clustering algorithm. I've chosen the basic state space coordinates of the model, since I know this ahead of time. Of course, for a more complicated model we cannot do this. It's an interesting question which features comprise \"sufficient statistics\" for the rate and other TPT quantities. "
   ]
  },
  {
   "cell_type": "code",
   "execution_count": 74,
   "metadata": {},
   "outputs": [],
   "source": [
    "#msm_features = [\"E_01\",\"E_02\",\"E_11\",\"E_12\",\"Ex_11-diss\",\"Ex_11-02\",\"Ex_11-12\",\"Edot_forcing\"] \n",
    "msm_features = [\"x1\",\"x2\",\"x3\",\"x4\",\"x5\",\"x6\"]\n",
    "feat_msm = dict()\n",
    "for src in [\"ra\",\"hc\"]:\n",
    "    feat_msm[src] = feat_tpt[src][\"X\"].sel(feature=msm_features)"
   ]
  },
  {
   "cell_type": "markdown",
   "metadata": {},
   "source": [
    "Especially in applications, the different features may have different units and different characteristic scales. For clustering to be effective, the dataset should be homogeneously shaped. Therefore, we need to center and normalize each feature according to its statistics during each time window of the season.\n",
    "\n",
    "The all-useful function `tpt_utils.project_field` can give us seasonal statistics easily (it is also used in `plot_field_<1,2>d` above). Below we compute statistics for every time window, including the mean and standard deviation, and store it in a `DataArray` called `szn_stats`. "
   ]
  },
  {
   "cell_type": "code",
   "execution_count": 75,
   "metadata": {},
   "outputs": [],
   "source": [
    "# Compute seasonal statistics\n",
    "szn_stats_dict,edges,centers = tpt_utils.project_field(\n",
    "    feat_msm[\"ra\"].sel(ensemble=0,member=0).data, \n",
    "    np.ones_like(feat_msm[\"ra\"].sel(ensemble=0,member=0).data),\n",
    "    feat_tpt[\"ra\"][\"X\"].sel(feature=\"t_szn\",ensemble=0,member=0).data.reshape(-1,1),\n",
    "    bounds = np.array([0.0, crom_feat.year_length+0.0001]).reshape(-1,1),\n",
    "    shp = (int(crom_feat.year_length/crom_feat.dt_szn + 0.5),)\n",
    ")\n",
    "szn_stats = xr.Dataset(\n",
    "    data_vars = dict({\n",
    "        key: xr.DataArray(\n",
    "            coords={\"t_szn_cent\": centers[0], \"feature\": msm_features,},\n",
    "            data=szn_stats_dict[key],\n",
    "            dims=[\"t_szn_cent\", \"feature\"],\n",
    "        ) \n",
    "        for key in list(szn_stats_dict.keys())\n",
    "    }),\n",
    "    attrs = {\n",
    "        \"t_szn_edge\": edges[0], \"t_szn_cent\": centers[0], \n",
    "        \"dt_szn\": edges[0][1]-edges[0][0], \"Nt_szn\": len(centers[0]),\n",
    "        \"szn_start\": crom_feat.szn_start, \"szn_length\": crom_feat.szn_length\n",
    "    }\n",
    ")"
   ]
  },
  {
   "cell_type": "markdown",
   "metadata": {},
   "source": [
    "Now we normalize the features to use in the MSM by their mean and standard deviation. Also, in order to ensure non-degenerate transition matrices, we exclude any trajectories whose starting point or ending point lies in the given time window `i_win`. "
   ]
  },
  {
   "cell_type": "code",
   "execution_count": 76,
   "metadata": {},
   "outputs": [],
   "source": [
    "feat_msm_normalized = dict()\n",
    "szn_window = dict()\n",
    "szn_start_year = dict()\n",
    "traj_beginning_flag = dict() # 1 if the sample is in the first seasonal time window where the trajectory started\n",
    "traj_ending_flag = dict() # 1 if the sample is in the last seasonal time window occupied by the trajectory\n",
    "for src in [\"ra\",\"hc\"]:\n",
    "    feat_msm_normalized[src] = feat_msm[src].copy(deep=True)\n",
    "    szn_window[src] = feat_tpt[src][\"X\"].sel(feature=\"ti_szn\").astype(int) #/szn_stats.attrs[\"dt_szn\"]).astype(int)\n",
    "    szn_start_year[src] = feat_tpt[src][\"X\"].sel(feature=\"szn_start_year\").astype(int)\n",
    "    for i_win in range(szn_stats.attrs[\"Nt_szn\"]):\n",
    "        feat_msm_normalized[src] = xr.where(\n",
    "            szn_window[src]==i_win, \n",
    "            (feat_msm_normalized[src] - szn_stats[\"mean\"].isel(t_szn_cent=i_win,drop=True)) / szn_stats[\"std\"].isel(t_szn_cent=i_win,drop=True), \n",
    "            feat_msm_normalized[src]\n",
    "        )\n",
    "    # --------------- Mark the trajectories that originated in an earlier time window and will reach another time window ---------------\n",
    "    traj_ending_flag[src] = (\n",
    "        (szn_window[src] == szn_window[src].isel(t_sim=-1,drop=True))*\n",
    "        (szn_start_year[src] == szn_start_year[src].isel(t_sim=-1,drop=True))\n",
    "    )\n",
    "    traj_beginning_flag[src] = (\n",
    "        (szn_window[src] == szn_window[src].isel(t_sim=0,drop=True))*\n",
    "        (szn_start_year[src] == szn_start_year[src].isel(t_sim=0,drop=True))\n",
    "    )\n",
    "    # -----------------------------------------------------------------------------------------------"
   ]
  },
  {
   "cell_type": "markdown",
   "metadata": {},
   "source": [
    "Now let's cluster into boxes at each timestep. Note, this could be parallelized. "
   ]
  },
  {
   "cell_type": "code",
   "execution_count": 77,
   "metadata": {},
   "outputs": [
    {
     "name": "stdout",
     "output_type": "stream",
     "text": [
      "Starting K-means number 0 out of 80\n",
      "Starting K-means number 10 out of 80\n",
      "Starting K-means number 20 out of 80\n",
      "Starting K-means number 30 out of 80\n",
      "Starting K-means number 40 out of 80\n",
      "Starting K-means number 50 out of 80\n",
      "Starting K-means number 60 out of 80\n",
      "Starting K-means number 70 out of 80\n",
      "Starting K-means number 0 out of 80\n",
      "Starting K-means number 10 out of 80\n",
      "Starting K-means number 20 out of 80\n",
      "Starting K-means number 30 out of 80\n",
      "Starting K-means number 40 out of 80\n",
      "Starting K-means number 50 out of 80\n",
      "Starting K-means number 60 out of 80\n",
      "Starting K-means number 70 out of 80\n"
     ]
    }
   ],
   "source": [
    "km_seed = 43 # for the random number generator\n",
    "\n",
    "km_assignment = dict()\n",
    "km_centers = dict()\n",
    "km_n_clusters = dict()\n",
    "for src in [\"hc\",\"ra\"]:\n",
    "    km_assignment_src = -np.ones((feat_tpt[src][\"ensemble\"].size,feat_tpt[src][\"member\"].size,feat_tpt[src][\"t_sim\"].size), dtype=int)\n",
    "    km_centers[src] = []\n",
    "    km_n_clusters[src] = -np.ones(szn_stats.attrs[\"Nt_szn\"], dtype=int)\n",
    "\n",
    "    for i_win in range(szn_stats.attrs[\"Nt_szn\"]):\n",
    "        if i_win % 10 == 0:\n",
    "            print(f\"Starting K-means number {i_win} out of {szn_stats.attrs['Nt_szn']}\")\n",
    "        idx_in_window = np.where(szn_window[src].data==i_win) # All the data in this time window\n",
    "        # idx_for_clustering is all the data that we're allowed to use to build the KMeans object\n",
    "        if i_win == 0:\n",
    "            idx_for_clustering = np.where(\n",
    "                (szn_window[src].data==i_win)*\n",
    "                (traj_ending_flag[src].data == 0)\n",
    "            )\n",
    "        elif i_win == szn_stats.attrs[\"Nt_szn\"]-1:\n",
    "            idx_for_clustering = np.where(\n",
    "                (szn_window[src].data==i_win)*\n",
    "                (traj_beginning_flag[src].data == 0)\n",
    "            )            \n",
    "        else:\n",
    "            idx_for_clustering = np.where(\n",
    "                (szn_window[src].data==i_win)*\n",
    "                (traj_ending_flag[src].data == 0)*\n",
    "                (traj_beginning_flag[src].data == 0)\n",
    "            )\n",
    "        km_n_clusters[src][i_win] = min(200,max(1,len(idx_for_clustering[0]//2)))\n",
    "        km = KMeans(n_clusters=km_n_clusters[src][i_win],random_state=km_seed).fit(\n",
    "                feat_msm_normalized[src].data[idx_for_clustering])\n",
    "        km_assignment_src[idx_in_window] = km.predict(feat_msm_normalized[src].data[idx_in_window]) \n",
    "        km_centers[src] += [km.cluster_centers_]\n",
    "        #print(f\"\\tkm_centers computation: {t5 - t4}\")\n",
    "    km_assignment[src] = xr.DataArray(\n",
    "        coords={\"ensemble\": feat_tpt[src][\"ensemble\"], \"member\": feat_tpt[src][\"member\"], \"t_sim\": feat_tpt[src][\"t_sim\"]},\n",
    "        dims=[\"ensemble\",\"member\",\"t_sim\"],\n",
    "        data=km_assignment_src.copy()    #np.zeros((feat_tpt[src][\"ensemble\"].size,feat_tpt[src][\"member\"].size,feat_tpt[src][\"t_sim\"].size), dtype=int)\n",
    "    )    \n",
    "\n"
   ]
  },
  {
   "cell_type": "markdown",
   "metadata": {},
   "source": [
    "Now build the Markov State Model by counting transitions from box to box. This part could also be parallelized."
   ]
  },
  {
   "cell_type": "code",
   "execution_count": 78,
   "metadata": {},
   "outputs": [
    {
     "name": "stdout",
     "output_type": "stream",
     "text": [
      "i_win = 0\n",
      "i_win = 10\n",
      "i_win = 20\n",
      "i_win = 30\n",
      "i_win = 40\n",
      "i_win = 50\n",
      "i_win = 60\n",
      "i_win = 70\n",
      "i_win = 0\n",
      "i_win = 10\n",
      "i_win = 20\n",
      "i_win = 30\n",
      "i_win = 40\n",
      "i_win = 50\n",
      "i_win = 60\n",
      "i_win = 70\n"
     ]
    }
   ],
   "source": [
    "P_list = dict()\n",
    "for src in [\"hc\",\"ra\"]:\n",
    "    time_dim = list(szn_window[src].dims).index(\"t_sim\")\n",
    "    nontime_dims = np.setdiff1d(np.arange(len(szn_window[src].dims)), [time_dim])\n",
    "    P_list[src] = []\n",
    "    for i_win in range(szn_stats.attrs[\"Nt_szn\"]-1):\n",
    "        if i_win % 10 == 0: print(f\"i_win = {i_win}\")\n",
    "        P = np.zeros((km_n_clusters[src][i_win],km_n_clusters[src][i_win+1]))\n",
    "        # Count the trajectories that passed through both box i during window i_win, and box j during window i_win+1. \n",
    "        # Maybe some trajectories will be double counted. \n",
    "        idx_pre = np.where(szn_window[src].data==i_win)\n",
    "        idx_post = np.where(szn_window[src].data==i_win+1)\n",
    "        overlap = np.where(\n",
    "            np.all(\n",
    "                np.array([\n",
    "                    (np.subtract.outer(idx_pre[dim], idx_post[dim]) == 0) \n",
    "                    for dim in nontime_dims\n",
    "                ]), axis=0\n",
    "            ) * (\n",
    "                np.subtract.outer(\n",
    "                    szn_start_year[src].data[idx_pre], szn_start_year[src].data[idx_post]\n",
    "                ) == 0\n",
    "            )          \n",
    "        )\n",
    "        idx_pre_overlap = tuple([idx_pre[dim][overlap[0]] for dim in range(len(idx_pre))])\n",
    "        idx_post_overlap = tuple([idx_post[dim][overlap[1]] for dim in range(len(idx_pre))])\n",
    "        km_pre = km_assignment[src].data[idx_pre_overlap]\n",
    "        km_post = km_assignment[src].data[idx_post_overlap]\n",
    "        ensemble_member_year_identifier = np.concatenate((\n",
    "            np.array(idx_pre_overlap)[nontime_dims,:], \n",
    "            [szn_start_year[src].data[idx_pre_overlap]]\n",
    "        ), axis=0)\n",
    "        for i in range(P.shape[0]):\n",
    "            for j in range(P.shape[1]):\n",
    "                traj_idx, = np.where((km_pre==i)*(km_post==j))\n",
    "                P[i,j] = np.unique(ensemble_member_year_identifier[:,traj_idx], axis=1).shape[1]\n",
    "        min_rowsum = np.min(np.sum(P, axis=1))\n",
    "        min_colsum = np.min(np.sum(P, axis=0))\n",
    "        if min_rowsum == 0 or min_colsum == 0:\n",
    "            raise Exception(f\"Under-filled transition matrices between seasonal windows {i_win} and {i_win+1}. min_rowsum = {min_rowsum} and min_colsum = {min_colsum}\")\n",
    "        P_list[src] += [P]\n"
   ]
  },
  {
   "cell_type": "code",
   "execution_count": 79,
   "metadata": {},
   "outputs": [],
   "source": [
    "# Normalize each matrix\n",
    "for src in [\"hc\",\"ra\"]:\n",
    "    for i_win in range(szn_stats.attrs[\"Nt_szn\"]-1):\n",
    "        P_list[src][i_win] = (\n",
    "            np.diag(1.0/np.sum(P_list[src][i_win], axis=1))\n",
    "            .dot(P_list[src][i_win])\n",
    "        )"
   ]
  },
  {
   "cell_type": "code",
   "execution_count": 80,
   "metadata": {},
   "outputs": [],
   "source": [
    "# Save out the data relevant for clustering\n",
    "msm_info = dict()\n",
    "for src in [\"hc\",\"ra\"]:\n",
    "    msm_info[src] = dict({\n",
    "        \"szn_window\": szn_window[src],\n",
    "        \"szn_start_year\": szn_start_year[src],\n",
    "        \"traj_beginning_flag\": traj_beginning_flag[src],\n",
    "        \"traj_ending_flag\": traj_ending_flag[src],\n",
    "        \"km_centers\": km_centers[src],\n",
    "        \"km_assignment\": km_assignment[src],\n",
    "        \"km_n_clusters\": km_n_clusters[src],\n",
    "        \"P_list\": P_list[src],\n",
    "    })\n",
    "pickle.dump(msm_info, open(join(filedict[\"results\"][\"dir\"], \"msm_info\"), \"wb\"))"
   ]
  },
  {
   "cell_type": "code",
   "execution_count": 81,
   "metadata": {},
   "outputs": [],
   "source": [
    "msm_info = pickle.load(open(join(filedict[\"results\"][\"dir\"], \"msm_info\"), \"rb\"))"
   ]
  },
  {
   "cell_type": "code",
   "execution_count": 82,
   "metadata": {},
   "outputs": [],
   "source": [
    "# Make a function to assign every point in the dataset a value according to its K-means assignment\n",
    "def broadcast_field_msm2dataarray(msm, field_msm, szn_stats, density_flag=False):\n",
    "    field_da = np.zeros(msm[\"szn_window\"].shape)\n",
    "    for i_win in range(szn_stats.attrs[\"Nt_szn\"]):\n",
    "        idx_in_window = np.where(msm[\"szn_window\"].data == i_win)\n",
    "        for i_clust in range(msm[\"km_n_clusters\"][i_win]):\n",
    "            idx_in_cluster = np.where(msm[\"km_assignment\"].data[idx_in_window] == i_clust)\n",
    "            idx_in_window_and_cluster = tuple([idx_in_window[dim][idx_in_cluster] for dim in range(len(idx_in_window))])\n",
    "            field_da[idx_in_window_and_cluster] = field_msm[i_win][i_clust]\n",
    "            if density_flag and (len(idx_in_window_and_cluster[0]) > 0):\n",
    "                field_da[idx_in_window_and_cluster] *= 1.0/len(idx_in_window_and_cluster[0])\n",
    "    da_broadcast = xr.DataArray(\n",
    "        coords = msm[\"szn_window\"].coords,\n",
    "        dims = msm[\"szn_window\"].dims, \n",
    "        data = field_da,\n",
    "    )\n",
    "    return da_broadcast\n"
   ]
  },
  {
   "cell_type": "markdown",
   "metadata": {},
   "source": [
    "# Solve for the committor"
   ]
  },
  {
   "cell_type": "markdown",
   "metadata": {},
   "source": [
    "First assign flags to each cluster center for A or B membership. For this we need to refer to the original data in the membership list of each cluster."
   ]
  },
  {
   "cell_type": "code",
   "execution_count": 83,
   "metadata": {},
   "outputs": [],
   "source": [
    "# Create a list of vectors to flag whether each cluster at each time is in A or is in B\n",
    "src = \"hc\"\n",
    "ina = []\n",
    "inb = []\n",
    "for i_win in range(szn_stats.attrs[\"Nt_szn\"]):\n",
    "    ina += [np.zeros(km_n_clusters[src][i_win], dtype=float)]    \n",
    "    inb += [np.zeros(km_n_clusters[src][i_win], dtype=float)]\n",
    "    idx_in_window = np.where(szn_window[src].data==i_win)\n",
    "    ab_tag_in_window = ab_tag[src].data[idx_in_window]\n",
    "    for i_clust in range(km_n_clusters[src][i_win]):\n",
    "        idx_in_cluster = np.where(km_assignment[src].data[idx_in_window]==i_clust)\n",
    "        ina[i_win][i_clust] = 1.0*(np.mean(ab_tag_in_window[idx_in_cluster]==crom_feat.ab_code[\"A\"]) == 1.0)\n",
    "        inb[i_win][i_clust] = 1.0*(np.mean(ab_tag_in_window[idx_in_cluster]==crom_feat.ab_code[\"B\"]) == 1.0)"
   ]
  },
  {
   "cell_type": "code",
   "execution_count": 84,
   "metadata": {},
   "outputs": [
    {
     "data": {
      "text/plain": [
       "351.0"
      ]
     },
     "execution_count": 84,
     "metadata": {},
     "output_type": "execute_result"
    }
   ],
   "source": [
    "sum(np.concatenate(inb)) # Count how many clusters actually got classified as in B"
   ]
  },
  {
   "cell_type": "markdown",
   "metadata": {},
   "source": [
    "Finally, we can estimate the rate according to TPT. This will use some simple functions from `tdmc_obj.py`, which implements a class definition for a \"time-dependent Markov chain\". "
   ]
  },
  {
   "cell_type": "code",
   "execution_count": 85,
   "metadata": {},
   "outputs": [],
   "source": [
    "# Instantiate the time-dependent Markov Chain class\n",
    "import tdmc_obj\n",
    "mc = tdmc_obj.TimeDependentMarkovChain(msm_info[src][\"P_list\"], szn_stats.attrs[\"t_szn_cent\"])\n",
    "\n",
    "# Solve for the committor\n",
    "G = [] \n",
    "F = [] \n",
    "for i in range(mc.Nt):\n",
    "    G += [1.0*inb[i]]\n",
    "    if i < mc.Nt-1: F += [1.0*np.outer((ina[i]==0)*(inb[i]==0), np.ones(mc.Nx[i+1]))]\n",
    "qp = mc.dynamical_galerkin_approximation(F,G)\n",
    "\n",
    "# Solve for the time-dependent density\n",
    "init_dens = np.ones(msm_info[\"hc\"][\"km_n_clusters\"][0]) \n",
    "init_dens *= 1.0/np.sum(init_dens)\n",
    "dens = mc.propagate_density_forward(init_dens)\n",
    "\n",
    "# Solve for the backward committor\n",
    "P_list_bwd = []                                                        \n",
    "for i in np.arange(mc.Nt-2,-1,-1):\n",
    "    P_list_bwd += [(msm_info[\"hc\"][\"P_list\"][i] * np.outer(dens[i], 1.0/dens[i+1])).T]        \n",
    "    rowsums = np.sum(P_list_bwd[-1],axis=1)                    \n",
    "G = []\n",
    "F = []\n",
    "for i in np.arange(mc.Nt-1,-1,-1):                             \n",
    "    G += [1.0*ina[i]]                                          \n",
    "    if i < mc.Nt-1: \n",
    "        Fnew = np.outer(1.0*(ina[i+1]==0)*(inb[i+1]==0), np.ones(len(inb[i]))) \n",
    "        F += [Fnew.copy()]\n",
    "qm = mc.dynamical_galerkin_approximation(F,G)                  \n",
    "qm.reverse()\n",
    "\n",
    "# Solve for the rate\n",
    "flux = []\n",
    "rate_froma = 0\n",
    "rate_tob = 0\n",
    "flux_froma = []\n",
    "flux_tob = []\n",
    "flux_dens_tob = np.zeros(szn_stats.attrs[\"Nt_szn\"])\n",
    "for ti in range(szn_stats.attrs[\"Nt_szn\"]-1):\n",
    "    flux += [(msm_info[\"hc\"][\"P_list\"][ti].T * dens[ti] * qm[ti]).T * qp[ti+1]]\n",
    "    flux_froma += [(msm_info[\"hc\"][\"P_list\"][ti].T * dens[ti] * ina[ti]).T * qp[ti+1]]\n",
    "    flux_tob += [(msm_info[\"hc\"][\"P_list\"][ti].T * dens[ti] * qm[ti]).T * inb[ti+1]]\n",
    "    rate_froma += np.sum(flux_froma[-1])\n",
    "    rate_tob += np.sum(flux_tob[-1])\n",
    "    flux_dens_tob[ti] = np.sum(flux_tob[-1])"
   ]
  },
  {
   "cell_type": "markdown",
   "metadata": {},
   "source": [
    "Ideally, the rate should be the same by both estimates `rate_froma` and `rate_tob`. Are they really?"
   ]
  },
  {
   "cell_type": "code",
   "execution_count": 86,
   "metadata": {},
   "outputs": [
    {
     "name": "stdout",
     "output_type": "stream",
     "text": [
      "rate_tob = 0.4098233549020127\n",
      "rate_froma = 0.4390668375393554\n"
     ]
    }
   ],
   "source": [
    "print(f\"rate_tob = {rate_tob}\")\n",
    "print(f\"rate_froma = {rate_froma}\")"
   ]
  },
  {
   "cell_type": "markdown",
   "metadata": {},
   "source": [
    "Not quite. We'll have to think about this. it really should be exact, for this Markov Chain approximation. However, both are decent estimates for the empirical rate according to reanalysis. "
   ]
  },
  {
   "cell_type": "markdown",
   "metadata": {},
   "source": [
    "## Visualize MSM-derived committors"
   ]
  },
  {
   "cell_type": "code",
   "execution_count": 87,
   "metadata": {},
   "outputs": [],
   "source": [
    "qp_da = broadcast_field_msm2dataarray(msm_info[src], qp, szn_stats)\n",
    "pi_da = broadcast_field_msm2dataarray(msm_info[src], dens, szn_stats, density_flag=True)\n",
    "qm_da = broadcast_field_msm2dataarray(msm_info[src], qm, szn_stats)"
   ]
  },
  {
   "cell_type": "code",
   "execution_count": 88,
   "metadata": {},
   "outputs": [
    {
     "data": {
      "text/plain": [
       "(<Figure size 1080x360 with 3 Axes>,\n",
       " <AxesSubplot:title={'center':'$q_A^-$'}, xlabel='E_01', ylabel='Ex_11-12'>)"
      ]
     },
     "execution_count": 88,
     "metadata": {},
     "output_type": "execute_result"
    },
    {
     "data": {
      "image/png": "[encoded data removed]",
      "text/plain": [
       "<Figure size 1080x360 with 3 Axes>"
      ]
     },
     "metadata": {
      "needs_background": "light"
     },
     "output_type": "display_data"
    }
   ],
   "source": [
    "fig,axes = plt.subplots(ncols=3,figsize=(15,5),sharey=True)\n",
    "cond = (\n",
    "    (feat_tpt[\"hc\"][\"X\"].sel(feature=\"t_szn\",drop=True) > crom_feat.tpt_bndy[\"t_thresh\"][0]) * \n",
    "    (feat_tpt[\"hc\"][\"X\"].sel(feature=\"t_szn\",drop=True) < crom_feat.tpt_bndy[\"t_thresh\"][0] + 100) \n",
    ")\n",
    "feat0,feat1 = \"E_01\",\"Ex_11-12\"\n",
    "features = np.array([feat_tpt[\"hc\"][\"X\"].sel(feature=ft).where(cond).data.flatten() for ft in [feat0,feat1]]).T\n",
    "weights = np.ones(features.shape[0])\n",
    "tpt_utils.plot_field_2d(\n",
    "    qp_da.where(cond).data.flatten(),\n",
    "    weights,\n",
    "    features,\n",
    "    feat_names = [feat0,feat1], \n",
    "    shp=[25,25], fig=fig, ax=axes[0], field_name=r\"$q_B^+$\"\n",
    ")\n",
    "tpt_utils.plot_field_2d(\n",
    "    pi_da.where(cond).data.flatten(),\n",
    "    weights,\n",
    "    features,\n",
    "    feat_names = [feat0,feat1], \n",
    "    shp=[25,25], fig=fig, ax=axes[1], field_name=r\"$\\pi$\",\n",
    "    stat_name=\"sum\"\n",
    ")\n",
    "tpt_utils.plot_field_2d(\n",
    "    qm_da.where(cond).data.flatten(),\n",
    "    weights,\n",
    "    features,\n",
    "    feat_names = [feat0,feat1], \n",
    "    shp=[25,25], fig=fig, ax=axes[2], field_name=r\"$q_A^-$\"\n",
    ")"
   ]
  },
  {
   "cell_type": "markdown",
   "metadata": {},
   "source": [
    "The committor doesn't look so bad. compared to the reanalysis picture. Try putting `t_szn` on the horizontal axis instead of `E_01` to see how this depends on time."
   ]
  },
  {
   "cell_type": "markdown",
   "metadata": {},
   "source": [
    "Coming soon: reactive current."
   ]
  }
 ],
 "metadata": {
  "kernelspec": {
   "display_name": "my_env",
   "language": "python",
   "name": "my_env"
  },
  "language_info": {
   "codemirror_mode": {
    "name": "ipython",
    "version": 3
   },
   "file_extension": ".py",
   "mimetype": "text/x-python",
   "name": "python",
   "nbconvert_exporter": "python",
   "pygments_lexer": "ipython3",
   "version": "3.9.5"
  }
 },
 "nbformat": 4,
 "nbformat_minor": 4
}
