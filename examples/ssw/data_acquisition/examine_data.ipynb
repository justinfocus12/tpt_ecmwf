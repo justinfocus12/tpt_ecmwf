{
 "cells": [
  {
   "cell_type": "code",
   "execution_count": 10,
   "metadata": {},
   "outputs": [],
   "source": [
    "import numpy as np\n",
    "import xarray as xr\n",
    "import netCDF4 as nc\n",
    "from os import listdir, mkdir\n",
    "from os.path import join, exists\n",
    "import matplotlib\n",
    "from matplotlib import pyplot as plt\n",
    "from calendar import monthrange\n",
    "import cartopy\n",
    "from datetime import datetime\n",
    "from cartopy import crs as ccrs"
   ]
  },
  {
   "cell_type": "code",
   "execution_count": 2,
   "metadata": {},
   "outputs": [],
   "source": [
    "%matplotlib inline\n",
    "matplotlib.rcParams[\"font.size\"] = 18"
   ]
  },
  {
   "cell_type": "code",
   "execution_count": 3,
   "metadata": {},
   "outputs": [],
   "source": [
    "def display_pole_field(field,lat,lon,u=None,v=None,vmin=None,vmax=None):\n",
    "    # field, u, and v must have shape (lat, lon)\n",
    "    data_crs = ccrs.PlateCarree() \n",
    "    ax_crs = ccrs.Orthographic(-10,90)\n",
    "    fig = plt.figure()\n",
    "    ax = fig.add_subplot(1,1,1,projection=ax_crs)\n",
    "    im = ax.pcolormesh(lon,lat,field,shading='nearest',cmap='coolwarm',transform=data_crs,vmin=vmin,vmax=vmax)\n",
    "    # If there's a vector field, overlay that \n",
    "    if u is not None and v is not None:\n",
    "        lon_subset = np.arange(0,lon.size,3) #np.linspace(0,lon.size-1,24).astype(int)\n",
    "        lat_subset = np.arange(2,lat.size-1,3) #np.linspace(1,lat.size-2,60).astype(int)\n",
    "        ax.quiver(\n",
    "            lon[lon_subset],lat[lat_subset],\n",
    "            u[lat_subset,:][:,lon_subset],\n",
    "            v[lat_subset,:][:,lon_subset],\n",
    "            transform=data_crs,color='black',zorder=5,\n",
    "        )\n",
    "    ax.add_feature(cartopy.feature.COASTLINE, zorder=3, edgecolor='black')\n",
    "    fig.colorbar(im,ax=ax)\n",
    "    return fig,ax,data_crs\n",
    "\n"
   ]
  },
  {
   "cell_type": "code",
   "execution_count": 4,
   "metadata": {},
   "outputs": [],
   "source": [
    "filedict = dict({\n",
    "    \"e5\": \"/scratch/jf4241/ecmwf_data/era5_data/raw_data/2022-08-14/\"\n",
    "})"
   ]
  },
  {
   "cell_type": "code",
   "execution_count": 5,
   "metadata": {},
   "outputs": [
    {
     "name": "stdout",
     "output_type": "stream",
     "text": [
      "24G\t/scratch/jf4241/ecmwf_data/era5_data/raw_data/2022-08-14/\n"
     ]
    }
   ],
   "source": [
    "!du -h {filedict['e5']}"
   ]
  },
  {
   "cell_type": "code",
   "execution_count": 6,
   "metadata": {},
   "outputs": [],
   "source": [
    "da = xr.open_dataset(join(filedict['e5'],\"2018-01.nc\"))"
   ]
  },
  {
   "cell_type": "code",
   "execution_count": 22,
   "metadata": {},
   "outputs": [],
   "source": [
    "year = da['time'].dt.year.to_numpy()\n",
    "time_of_year = (da['time'].to_numpy() - np.array([np.datetime64(datetime(yr-1, 1, 1)) for yr in year])) / np.timedelta64(1, 'D')"
   ]
  },
  {
   "cell_type": "code",
   "execution_count": 23,
   "metadata": {},
   "outputs": [
    {
     "data": {
      "text/plain": [
       "array([365.  , 365.25, 365.5 , 365.75, 366.  , 366.25, 366.5 , 366.75,\n",
       "       367.  , 367.25, 367.5 , 367.75, 368.  , 368.25, 368.5 , 368.75,\n",
       "       369.  , 369.25, 369.5 , 369.75, 370.  , 370.25, 370.5 , 370.75,\n",
       "       371.  , 371.25, 371.5 , 371.75, 372.  , 372.25, 372.5 , 372.75,\n",
       "       373.  , 373.25, 373.5 , 373.75, 374.  , 374.25, 374.5 , 374.75,\n",
       "       375.  , 375.25, 375.5 , 375.75, 376.  , 376.25, 376.5 , 376.75,\n",
       "       377.  , 377.25, 377.5 , 377.75, 378.  , 378.25, 378.5 , 378.75,\n",
       "       379.  , 379.25, 379.5 , 379.75, 380.  , 380.25, 380.5 , 380.75,\n",
       "       381.  , 381.25, 381.5 , 381.75, 382.  , 382.25, 382.5 , 382.75,\n",
       "       383.  , 383.25, 383.5 , 383.75, 384.  , 384.25, 384.5 , 384.75,\n",
       "       385.  , 385.25, 385.5 , 385.75, 386.  , 386.25, 386.5 , 386.75,\n",
       "       387.  , 387.25, 387.5 , 387.75, 388.  , 388.25, 388.5 , 388.75,\n",
       "       389.  , 389.25, 389.5 , 389.75, 390.  , 390.25, 390.5 , 390.75,\n",
       "       391.  , 391.25, 391.5 , 391.75, 392.  , 392.25, 392.5 , 392.75,\n",
       "       393.  , 393.25, 393.5 , 393.75, 394.  , 394.25, 394.5 , 394.75,\n",
       "       395.  , 395.25, 395.5 , 395.75])"
      ]
     },
     "execution_count": 23,
     "metadata": {},
     "output_type": "execute_result"
    }
   ],
   "source": [
    "time_of_year"
   ]
  },
  {
   "cell_type": "code",
   "execution_count": 18,
   "metadata": {},
   "outputs": [
    {
     "data": {
      "text/plain": [
       "numpy.datetime64('2018-01-01T00:00:00.000000')"
      ]
     },
     "execution_count": 18,
     "metadata": {},
     "output_type": "execute_result"
    }
   ],
   "source": [
    "np.datetime64(datetime(year[0],1,1))"
   ]
  },
  {
   "cell_type": "code",
   "execution_count": 15,
   "metadata": {},
   "outputs": [
    {
     "data": {
      "text/plain": [
       "array([datetime.datetime(2017, 1, 1, 0, 0),\n",
       "       datetime.datetime(2017, 1, 1, 0, 0),\n",
       "       datetime.datetime(2017, 1, 1, 0, 0),\n",
       "       datetime.datetime(2017, 1, 1, 0, 0),\n",
       "       datetime.datetime(2017, 1, 1, 0, 0),\n",
       "       datetime.datetime(2017, 1, 1, 0, 0),\n",
       "       datetime.datetime(2017, 1, 1, 0, 0),\n",
       "       datetime.datetime(2017, 1, 1, 0, 0),\n",
       "       datetime.datetime(2017, 1, 1, 0, 0),\n",
       "       datetime.datetime(2017, 1, 1, 0, 0)], dtype=object)"
      ]
     },
     "execution_count": 15,
     "metadata": {},
     "output_type": "execute_result"
    }
   ],
   "source": [
    "np.array([datetime(2017, 1, 1) for i in range(10)])"
   ]
  },
  {
   "cell_type": "code",
   "execution_count": 22,
   "metadata": {},
   "outputs": [
    {
     "name": "stdout",
     "output_type": "stream",
     "text": [
      "Coordinates:\n",
      "  * longitude  (longitude) float32 0.0 2.5 5.0 7.5 ... 350.0 352.5 355.0 357.5\n",
      "  * latitude   (latitude) float32 90.0 87.5 85.0 82.5 ... -85.0 -87.5 -90.0\n",
      "  * level      (level) int32 10 100 500 850\n",
      "  * time       (time) datetime64[ns] 2018-01-01 ... 2018-01-31T18:00:00\n",
      "Data variables:\n",
      "    z        (time, level, latitude, longitude) float32 ...\n",
      "    t        (time, level, latitude, longitude) float32 ...\n",
      "    u        (time, level, latitude, longitude) float32 ...\n",
      "    v        (time, level, latitude, longitude) float32 ...\n"
     ]
    }
   ],
   "source": [
    "print(da.coords)\n",
    "print(da.data_vars)"
   ]
  },
  {
   "cell_type": "code",
   "execution_count": 23,
   "metadata": {},
   "outputs": [
    {
     "name": "stderr",
     "output_type": "stream",
     "text": [
      "/ext3/miniconda3/lib/python3.9/site-packages/cartopy/mpl/geoaxes.py:1841: RuntimeWarning: invalid value encountered in subtract\n",
      "  u, v = self.projection.transform_vectors(t, x, y, u, v)\n"
     ]
    },
    {
     "data": {
      "image/png": "[encoded data removed]",
      "text/plain": [
       "<Figure size 432x288 with 2 Axes>"
      ]
     },
     "metadata": {
      "needs_background": "light"
     },
     "output_type": "display_data"
    }
   ],
   "source": [
    "isel = dict(time=0,level=0)\n",
    "fig,ax,data_crs = display_pole_field(\n",
    "    da['z'].isel(isel),da['latitude'],da['longitude'],\n",
    "    u=da['u'].isel(isel).data,v=da['v'].isel(isel).data,\n",
    ")\n"
   ]
  },
  {
   "cell_type": "code",
   "execution_count": 34,
   "metadata": {},
   "outputs": [
    {
     "name": "stdout",
     "output_type": "stream",
     "text": [
      "<xarray.DataArray 'time' ()>\n",
      "array('2018-01-01T00:00:00.000000000', dtype='datetime64[ns]')\n",
      "Coordinates:\n",
      "    time     datetime64[ns] 2018-01-01\n",
      "Attributes:\n",
      "    long_name:  time\n"
     ]
    }
   ],
   "source": [
    "t0 = da['time'][0]\n",
    "print(t0)"
   ]
  },
  {
   "cell_type": "code",
   "execution_count": 100,
   "metadata": {},
   "outputs": [
    {
     "data": {
      "text/plain": [
       "365.2478813559322"
      ]
     },
     "execution_count": 100,
     "metadata": {},
     "output_type": "execute_result"
    }
   ],
   "source": [
    "(da['time'].data[1] - np.datetime64(\"1900-01-01T00:00:00\")) / np.timedelta64(1, 'D') "
   ]
  },
  {
   "cell_type": "code",
   "execution_count": 60,
   "metadata": {},
   "outputs": [
    {
     "name": "stdout",
     "output_type": "stream",
     "text": [
      "hc2010-04-03_rt2017-04-03.nc\n"
     ]
    }
   ],
   "source": [
    "hcdir = \"/scratch/jf4241/ecmwf_data/s2s_data/2021-12-23\"\n",
    "file0 = listdir(hcdir)[0]"
   ]
  },
  {
   "cell_type": "code",
   "execution_count": 61,
   "metadata": {},
   "outputs": [],
   "source": [
    "da = xr.open_dataset(join(hcdir,file0))"
   ]
  },
  {
   "cell_type": "code",
   "execution_count": 114,
   "metadata": {},
   "outputs": [
    {
     "ename": "TypeError",
     "evalue": "an integer is required (got type method)",
     "output_type": "error",
     "traceback": [
      "\u001b[0;31m---------------------------------------------------------------------------\u001b[0m",
      "\u001b[0;31mTypeError\u001b[0m                                 Traceback (most recent call last)",
      "Input \u001b[0;32mIn [114]\u001b[0m, in \u001b[0;36m<cell line: 2>\u001b[0;34m()\u001b[0m\n\u001b[1;32m      1\u001b[0m \u001b[38;5;28;01mfrom\u001b[39;00m \u001b[38;5;21;01mdatetime\u001b[39;00m \u001b[38;5;28;01mimport\u001b[39;00m datetime\n\u001b[0;32m----> 2\u001b[0m \u001b[43mdatetime\u001b[49m\u001b[43m(\u001b[49m\u001b[43mda\u001b[49m\u001b[43m[\u001b[49m\u001b[38;5;124;43m'\u001b[39;49m\u001b[38;5;124;43mtime\u001b[39;49m\u001b[38;5;124;43m'\u001b[39;49m\u001b[43m]\u001b[49m\u001b[38;5;241;43m.\u001b[39;49m\u001b[43mdt\u001b[49m\u001b[38;5;241;43m.\u001b[39;49m\u001b[43myear\u001b[49m\u001b[38;5;241;43m.\u001b[39;49m\u001b[43mitem\u001b[49m\u001b[43m,\u001b[49m\u001b[43m \u001b[49m\u001b[43mda\u001b[49m\u001b[43m[\u001b[49m\u001b[38;5;124;43m'\u001b[39;49m\u001b[38;5;124;43mtime\u001b[39;49m\u001b[38;5;124;43m'\u001b[39;49m\u001b[43m]\u001b[49m\u001b[38;5;241;43m.\u001b[39;49m\u001b[43mdt\u001b[49m\u001b[38;5;241;43m.\u001b[39;49m\u001b[43mmonth\u001b[49m\u001b[38;5;241;43m.\u001b[39;49m\u001b[43mitem\u001b[49m\u001b[43m,\u001b[49m\u001b[43m \u001b[49m\u001b[43mda\u001b[49m\u001b[43m[\u001b[49m\u001b[38;5;124;43m'\u001b[39;49m\u001b[38;5;124;43mtime\u001b[39;49m\u001b[38;5;124;43m'\u001b[39;49m\u001b[43m]\u001b[49m\u001b[38;5;241;43m.\u001b[39;49m\u001b[43mdt\u001b[49m\u001b[38;5;241;43m.\u001b[39;49m\u001b[43mday\u001b[49m\u001b[38;5;241;43m.\u001b[39;49m\u001b[43mitem\u001b[49m\u001b[43m)\u001b[49m\n",
      "\u001b[0;31mTypeError\u001b[0m: an integer is required (got type method)"
     ]
    }
   ],
   "source": [
    "from datetime import datetime\n",
    "datetime(da['time'].dt.year.item, da['time'].dt.month.item, da['time'].dt.day.item)"
   ]
  },
  {
   "cell_type": "code",
   "execution_count": 93,
   "metadata": {},
   "outputs": [
    {
     "data": {
      "text/plain": [
       "24.0"
      ]
     },
     "execution_count": 93,
     "metadata": {},
     "output_type": "execute_result"
    }
   ],
   "source": [
    "(da['time'].data[1] - da['time'].data[0])/np.timedelta64(1, 'h')"
   ]
  },
  {
   "cell_type": "code",
   "execution_count": 137,
   "metadata": {},
   "outputs": [
    {
     "data": {
      "text/html": [
       "<div><svg style=\"position: absolute; width: 0; height: 0; overflow: hidden\">\n",
       "<defs>\n",
       "<symbol id=\"icon-database\" viewBox=\"0 0 32 32\">\n",
       "<path d=\"M16 0c-8.837 0-16 2.239-16 5v4c0 2.761 7.163 5 16 5s16-2.239 16-5v-4c0-2.761-7.163-5-16-5z\"></path>\n",
       "<path d=\"M16 17c-8.837 0-16-2.239-16-5v6c0 2.761 7.163 5 16 5s16-2.239 16-5v-6c0 2.761-7.163 5-16 5z\"></path>\n",
       "<path d=\"M16 26c-8.837 0-16-2.239-16-5v6c0 2.761 7.163 5 16 5s16-2.239 16-5v-6c0 2.761-7.163 5-16 5z\"></path>\n",
       "</symbol>\n",
       "<symbol id=\"icon-file-text2\" viewBox=\"0 0 32 32\">\n",
       "<path d=\"M28.681 7.159c-0.694-0.947-1.662-2.053-2.724-3.116s-2.169-2.030-3.116-2.724c-1.612-1.182-2.393-1.319-2.841-1.319h-15.5c-1.378 0-2.5 1.121-2.5 2.5v27c0 1.378 1.122 2.5 2.5 2.5h23c1.378 0 2.5-1.122 2.5-2.5v-19.5c0-0.448-0.137-1.23-1.319-2.841zM24.543 5.457c0.959 0.959 1.712 1.825 2.268 2.543h-4.811v-4.811c0.718 0.556 1.584 1.309 2.543 2.268zM28 29.5c0 0.271-0.229 0.5-0.5 0.5h-23c-0.271 0-0.5-0.229-0.5-0.5v-27c0-0.271 0.229-0.5 0.5-0.5 0 0 15.499-0 15.5 0v7c0 0.552 0.448 1 1 1h7v19.5z\"></path>\n",
       "<path d=\"M23 26h-14c-0.552 0-1-0.448-1-1s0.448-1 1-1h14c0.552 0 1 0.448 1 1s-0.448 1-1 1z\"></path>\n",
       "<path d=\"M23 22h-14c-0.552 0-1-0.448-1-1s0.448-1 1-1h14c0.552 0 1 0.448 1 1s-0.448 1-1 1z\"></path>\n",
       "<path d=\"M23 18h-14c-0.552 0-1-0.448-1-1s0.448-1 1-1h14c0.552 0 1 0.448 1 1s-0.448 1-1 1z\"></path>\n",
       "</symbol>\n",
       "</defs>\n",
       "</svg>\n",
       "<style>/* CSS stylesheet for displaying xarray objects in jupyterlab.\n",
       " *\n",
       " */\n",
       "\n",
       ":root {\n",
       "  --xr-font-color0: var(--jp-content-font-color0, rgba(0, 0, 0, 1));\n",
       "  --xr-font-color2: var(--jp-content-font-color2, rgba(0, 0, 0, 0.54));\n",
       "  --xr-font-color3: var(--jp-content-font-color3, rgba(0, 0, 0, 0.38));\n",
       "  --xr-border-color: var(--jp-border-color2, #e0e0e0);\n",
       "  --xr-disabled-color: var(--jp-layout-color3, #bdbdbd);\n",
       "  --xr-background-color: var(--jp-layout-color0, white);\n",
       "  --xr-background-color-row-even: var(--jp-layout-color1, white);\n",
       "  --xr-background-color-row-odd: var(--jp-layout-color2, #eeeeee);\n",
       "}\n",
       "\n",
       "html[theme=dark],\n",
       "body.vscode-dark {\n",
       "  --xr-font-color0: rgba(255, 255, 255, 1);\n",
       "  --xr-font-color2: rgba(255, 255, 255, 0.54);\n",
       "  --xr-font-color3: rgba(255, 255, 255, 0.38);\n",
       "  --xr-border-color: #1F1F1F;\n",
       "  --xr-disabled-color: #515151;\n",
       "  --xr-background-color: #111111;\n",
       "  --xr-background-color-row-even: #111111;\n",
       "  --xr-background-color-row-odd: #313131;\n",
       "}\n",
       "\n",
       ".xr-wrap {\n",
       "  display: block !important;\n",
       "  min-width: 300px;\n",
       "  max-width: 700px;\n",
       "}\n",
       "\n",
       ".xr-text-repr-fallback {\n",
       "  /* fallback to plain text repr when CSS is not injected (untrusted notebook) */\n",
       "  display: none;\n",
       "}\n",
       "\n",
       ".xr-header {\n",
       "  padding-top: 6px;\n",
       "  padding-bottom: 6px;\n",
       "  margin-bottom: 4px;\n",
       "  border-bottom: solid 1px var(--xr-border-color);\n",
       "}\n",
       "\n",
       ".xr-header > div,\n",
       ".xr-header > ul {\n",
       "  display: inline;\n",
       "  margin-top: 0;\n",
       "  margin-bottom: 0;\n",
       "}\n",
       "\n",
       ".xr-obj-type,\n",
       ".xr-array-name {\n",
       "  margin-left: 2px;\n",
       "  margin-right: 10px;\n",
       "}\n",
       "\n",
       ".xr-obj-type {\n",
       "  color: var(--xr-font-color2);\n",
       "}\n",
       "\n",
       ".xr-sections {\n",
       "  padding-left: 0 !important;\n",
       "  display: grid;\n",
       "  grid-template-columns: 150px auto auto 1fr 20px 20px;\n",
       "}\n",
       "\n",
       ".xr-section-item {\n",
       "  display: contents;\n",
       "}\n",
       "\n",
       ".xr-section-item input {\n",
       "  display: none;\n",
       "}\n",
       "\n",
       ".xr-section-item input + label {\n",
       "  color: var(--xr-disabled-color);\n",
       "}\n",
       "\n",
       ".xr-section-item input:enabled + label {\n",
       "  cursor: pointer;\n",
       "  color: var(--xr-font-color2);\n",
       "}\n",
       "\n",
       ".xr-section-item input:enabled + label:hover {\n",
       "  color: var(--xr-font-color0);\n",
       "}\n",
       "\n",
       ".xr-section-summary {\n",
       "  grid-column: 1;\n",
       "  color: var(--xr-font-color2);\n",
       "  font-weight: 500;\n",
       "}\n",
       "\n",
       ".xr-section-summary > span {\n",
       "  display: inline-block;\n",
       "  padding-left: 0.5em;\n",
       "}\n",
       "\n",
       ".xr-section-summary-in:disabled + label {\n",
       "  color: var(--xr-font-color2);\n",
       "}\n",
       "\n",
       ".xr-section-summary-in + label:before {\n",
       "  display: inline-block;\n",
       "  content: '►';\n",
       "  font-size: 11px;\n",
       "  width: 15px;\n",
       "  text-align: center;\n",
       "}\n",
       "\n",
       ".xr-section-summary-in:disabled + label:before {\n",
       "  color: var(--xr-disabled-color);\n",
       "}\n",
       "\n",
       ".xr-section-summary-in:checked + label:before {\n",
       "  content: '▼';\n",
       "}\n",
       "\n",
       ".xr-section-summary-in:checked + label > span {\n",
       "  display: none;\n",
       "}\n",
       "\n",
       ".xr-section-summary,\n",
       ".xr-section-inline-details {\n",
       "  padding-top: 4px;\n",
       "  padding-bottom: 4px;\n",
       "}\n",
       "\n",
       ".xr-section-inline-details {\n",
       "  grid-column: 2 / -1;\n",
       "}\n",
       "\n",
       ".xr-section-details {\n",
       "  display: none;\n",
       "  grid-column: 1 / -1;\n",
       "  margin-bottom: 5px;\n",
       "}\n",
       "\n",
       ".xr-section-summary-in:checked ~ .xr-section-details {\n",
       "  display: contents;\n",
       "}\n",
       "\n",
       ".xr-array-wrap {\n",
       "  grid-column: 1 / -1;\n",
       "  display: grid;\n",
       "  grid-template-columns: 20px auto;\n",
       "}\n",
       "\n",
       ".xr-array-wrap > label {\n",
       "  grid-column: 1;\n",
       "  vertical-align: top;\n",
       "}\n",
       "\n",
       ".xr-preview {\n",
       "  color: var(--xr-font-color3);\n",
       "}\n",
       "\n",
       ".xr-array-preview,\n",
       ".xr-array-data {\n",
       "  padding: 0 5px !important;\n",
       "  grid-column: 2;\n",
       "}\n",
       "\n",
       ".xr-array-data,\n",
       ".xr-array-in:checked ~ .xr-array-preview {\n",
       "  display: none;\n",
       "}\n",
       "\n",
       ".xr-array-in:checked ~ .xr-array-data,\n",
       ".xr-array-preview {\n",
       "  display: inline-block;\n",
       "}\n",
       "\n",
       ".xr-dim-list {\n",
       "  display: inline-block !important;\n",
       "  list-style: none;\n",
       "  padding: 0 !important;\n",
       "  margin: 0;\n",
       "}\n",
       "\n",
       ".xr-dim-list li {\n",
       "  display: inline-block;\n",
       "  padding: 0;\n",
       "  margin: 0;\n",
       "}\n",
       "\n",
       ".xr-dim-list:before {\n",
       "  content: '(';\n",
       "}\n",
       "\n",
       ".xr-dim-list:after {\n",
       "  content: ')';\n",
       "}\n",
       "\n",
       ".xr-dim-list li:not(:last-child):after {\n",
       "  content: ',';\n",
       "  padding-right: 5px;\n",
       "}\n",
       "\n",
       ".xr-has-index {\n",
       "  font-weight: bold;\n",
       "}\n",
       "\n",
       ".xr-var-list,\n",
       ".xr-var-item {\n",
       "  display: contents;\n",
       "}\n",
       "\n",
       ".xr-var-item > div,\n",
       ".xr-var-item label,\n",
       ".xr-var-item > .xr-var-name span {\n",
       "  background-color: var(--xr-background-color-row-even);\n",
       "  margin-bottom: 0;\n",
       "}\n",
       "\n",
       ".xr-var-item > .xr-var-name:hover span {\n",
       "  padding-right: 5px;\n",
       "}\n",
       "\n",
       ".xr-var-list > li:nth-child(odd) > div,\n",
       ".xr-var-list > li:nth-child(odd) > label,\n",
       ".xr-var-list > li:nth-child(odd) > .xr-var-name span {\n",
       "  background-color: var(--xr-background-color-row-odd);\n",
       "}\n",
       "\n",
       ".xr-var-name {\n",
       "  grid-column: 1;\n",
       "}\n",
       "\n",
       ".xr-var-dims {\n",
       "  grid-column: 2;\n",
       "}\n",
       "\n",
       ".xr-var-dtype {\n",
       "  grid-column: 3;\n",
       "  text-align: right;\n",
       "  color: var(--xr-font-color2);\n",
       "}\n",
       "\n",
       ".xr-var-preview {\n",
       "  grid-column: 4;\n",
       "}\n",
       "\n",
       ".xr-var-name,\n",
       ".xr-var-dims,\n",
       ".xr-var-dtype,\n",
       ".xr-preview,\n",
       ".xr-attrs dt {\n",
       "  white-space: nowrap;\n",
       "  overflow: hidden;\n",
       "  text-overflow: ellipsis;\n",
       "  padding-right: 10px;\n",
       "}\n",
       "\n",
       ".xr-var-name:hover,\n",
       ".xr-var-dims:hover,\n",
       ".xr-var-dtype:hover,\n",
       ".xr-attrs dt:hover {\n",
       "  overflow: visible;\n",
       "  width: auto;\n",
       "  z-index: 1;\n",
       "}\n",
       "\n",
       ".xr-var-attrs,\n",
       ".xr-var-data {\n",
       "  display: none;\n",
       "  background-color: var(--xr-background-color) !important;\n",
       "  padding-bottom: 5px !important;\n",
       "}\n",
       "\n",
       ".xr-var-attrs-in:checked ~ .xr-var-attrs,\n",
       ".xr-var-data-in:checked ~ .xr-var-data {\n",
       "  display: block;\n",
       "}\n",
       "\n",
       ".xr-var-data > table {\n",
       "  float: right;\n",
       "}\n",
       "\n",
       ".xr-var-name span,\n",
       ".xr-var-data,\n",
       ".xr-attrs {\n",
       "  padding-left: 25px !important;\n",
       "}\n",
       "\n",
       ".xr-attrs,\n",
       ".xr-var-attrs,\n",
       ".xr-var-data {\n",
       "  grid-column: 1 / -1;\n",
       "}\n",
       "\n",
       "dl.xr-attrs {\n",
       "  padding: 0;\n",
       "  margin: 0;\n",
       "  display: grid;\n",
       "  grid-template-columns: 125px auto;\n",
       "}\n",
       "\n",
       ".xr-attrs dt,\n",
       ".xr-attrs dd {\n",
       "  padding: 0;\n",
       "  margin: 0;\n",
       "  float: left;\n",
       "  padding-right: 10px;\n",
       "  width: auto;\n",
       "}\n",
       "\n",
       ".xr-attrs dt {\n",
       "  font-weight: normal;\n",
       "  grid-column: 1;\n",
       "}\n",
       "\n",
       ".xr-attrs dt:hover span {\n",
       "  display: inline-block;\n",
       "  background: var(--xr-background-color);\n",
       "  padding-right: 10px;\n",
       "}\n",
       "\n",
       ".xr-attrs dd {\n",
       "  grid-column: 2;\n",
       "  white-space: pre-wrap;\n",
       "  word-break: break-all;\n",
       "}\n",
       "\n",
       ".xr-icon-database,\n",
       ".xr-icon-file-text2 {\n",
       "  display: inline-block;\n",
       "  vertical-align: middle;\n",
       "  width: 1em;\n",
       "  height: 1.5em !important;\n",
       "  stroke-width: 0;\n",
       "  stroke: currentColor;\n",
       "  fill: currentColor;\n",
       "}\n",
       "</style><pre class='xr-text-repr-fallback'>&lt;xarray.DataArray &#x27;time&#x27; (time: 124)&gt;\n",
       "array([ 0.  ,  0.25,  0.5 ,  0.75,  1.  ,  1.25,  1.5 ,  1.75,  2.  ,\n",
       "        2.25,  2.5 ,  2.75,  3.  ,  3.25,  3.5 ,  3.75,  4.  ,  4.25,\n",
       "        4.5 ,  4.75,  5.  ,  5.25,  5.5 ,  5.75,  6.  ,  6.25,  6.5 ,\n",
       "        6.75,  7.  ,  7.25,  7.5 ,  7.75,  8.  ,  8.25,  8.5 ,  8.75,\n",
       "        9.  ,  9.25,  9.5 ,  9.75, 10.  , 10.25, 10.5 , 10.75, 11.  ,\n",
       "       11.25, 11.5 , 11.75, 12.  , 12.25, 12.5 , 12.75, 13.  , 13.25,\n",
       "       13.5 , 13.75, 14.  , 14.25, 14.5 , 14.75, 15.  , 15.25, 15.5 ,\n",
       "       15.75, 16.  , 16.25, 16.5 , 16.75, 17.  , 17.25, 17.5 , 17.75,\n",
       "       18.  , 18.25, 18.5 , 18.75, 19.  , 19.25, 19.5 , 19.75, 20.  ,\n",
       "       20.25, 20.5 , 20.75, 21.  , 21.25, 21.5 , 21.75, 22.  , 22.25,\n",
       "       22.5 , 22.75, 23.  , 23.25, 23.5 , 23.75, 24.  , 24.25, 24.5 ,\n",
       "       24.75, 25.  , 25.25, 25.5 , 25.75, 26.  , 26.25, 26.5 , 26.75,\n",
       "       27.  , 27.25, 27.5 , 27.75, 28.  , 28.25, 28.5 , 28.75, 29.  ,\n",
       "       29.25, 29.5 , 29.75, 30.  , 30.25, 30.5 , 30.75])\n",
       "Coordinates:\n",
       "  * time     (time) datetime64[ns] 2018-01-01 ... 2018-01-31T18:00:00</pre><div class='xr-wrap' style='display:none'><div class='xr-header'><div class='xr-obj-type'>xarray.DataArray</div><div class='xr-array-name'>'time'</div><ul class='xr-dim-list'><li><span class='xr-has-index'>time</span>: 124</li></ul></div><ul class='xr-sections'><li class='xr-section-item'><div class='xr-array-wrap'><input id='section-bb683289-759a-4c0c-9e0e-10a1e936e845' class='xr-array-in' type='checkbox' checked><label for='section-bb683289-759a-4c0c-9e0e-10a1e936e845' title='Show/hide data repr'><svg class='icon xr-icon-database'><use xlink:href='#icon-database'></use></svg></label><div class='xr-array-preview xr-preview'><span>0.0 0.25 0.5 0.75 1.0 1.25 1.5 ... 29.5 29.75 30.0 30.25 30.5 30.75</span></div><div class='xr-array-data'><pre>array([ 0.  ,  0.25,  0.5 ,  0.75,  1.  ,  1.25,  1.5 ,  1.75,  2.  ,\n",
       "        2.25,  2.5 ,  2.75,  3.  ,  3.25,  3.5 ,  3.75,  4.  ,  4.25,\n",
       "        4.5 ,  4.75,  5.  ,  5.25,  5.5 ,  5.75,  6.  ,  6.25,  6.5 ,\n",
       "        6.75,  7.  ,  7.25,  7.5 ,  7.75,  8.  ,  8.25,  8.5 ,  8.75,\n",
       "        9.  ,  9.25,  9.5 ,  9.75, 10.  , 10.25, 10.5 , 10.75, 11.  ,\n",
       "       11.25, 11.5 , 11.75, 12.  , 12.25, 12.5 , 12.75, 13.  , 13.25,\n",
       "       13.5 , 13.75, 14.  , 14.25, 14.5 , 14.75, 15.  , 15.25, 15.5 ,\n",
       "       15.75, 16.  , 16.25, 16.5 , 16.75, 17.  , 17.25, 17.5 , 17.75,\n",
       "       18.  , 18.25, 18.5 , 18.75, 19.  , 19.25, 19.5 , 19.75, 20.  ,\n",
       "       20.25, 20.5 , 20.75, 21.  , 21.25, 21.5 , 21.75, 22.  , 22.25,\n",
       "       22.5 , 22.75, 23.  , 23.25, 23.5 , 23.75, 24.  , 24.25, 24.5 ,\n",
       "       24.75, 25.  , 25.25, 25.5 , 25.75, 26.  , 26.25, 26.5 , 26.75,\n",
       "       27.  , 27.25, 27.5 , 27.75, 28.  , 28.25, 28.5 , 28.75, 29.  ,\n",
       "       29.25, 29.5 , 29.75, 30.  , 30.25, 30.5 , 30.75])</pre></div></div></li><li class='xr-section-item'><input id='section-02160302-2e56-47db-a035-175d9b82e7e8' class='xr-section-summary-in' type='checkbox'  checked><label for='section-02160302-2e56-47db-a035-175d9b82e7e8' class='xr-section-summary' >Coordinates: <span>(1)</span></label><div class='xr-section-inline-details'></div><div class='xr-section-details'><ul class='xr-var-list'><li class='xr-var-item'><div class='xr-var-name'><span class='xr-has-index'>time</span></div><div class='xr-var-dims'>(time)</div><div class='xr-var-dtype'>datetime64[ns]</div><div class='xr-var-preview xr-preview'>2018-01-01 ... 2018-01-31T18:00:00</div><input id='attrs-b35eceb9-a1a1-4802-bbd0-fe456fe73741' class='xr-var-attrs-in' type='checkbox' ><label for='attrs-b35eceb9-a1a1-4802-bbd0-fe456fe73741' title='Show/Hide attributes'><svg class='icon xr-icon-file-text2'><use xlink:href='#icon-file-text2'></use></svg></label><input id='data-ed6b141c-d1ee-43b6-bb1c-fbfaf3c27510' class='xr-var-data-in' type='checkbox'><label for='data-ed6b141c-d1ee-43b6-bb1c-fbfaf3c27510' title='Show/Hide data repr'><svg class='icon xr-icon-database'><use xlink:href='#icon-database'></use></svg></label><div class='xr-var-attrs'><dl class='xr-attrs'><dt><span>long_name :</span></dt><dd>time</dd></dl></div><div class='xr-var-data'><pre>array([&#x27;2018-01-01T00:00:00.000000000&#x27;, &#x27;2018-01-01T06:00:00.000000000&#x27;,\n",
       "       &#x27;2018-01-01T12:00:00.000000000&#x27;, &#x27;2018-01-01T18:00:00.000000000&#x27;,\n",
       "       &#x27;2018-01-02T00:00:00.000000000&#x27;, &#x27;2018-01-02T06:00:00.000000000&#x27;,\n",
       "       &#x27;2018-01-02T12:00:00.000000000&#x27;, &#x27;2018-01-02T18:00:00.000000000&#x27;,\n",
       "       &#x27;2018-01-03T00:00:00.000000000&#x27;, &#x27;2018-01-03T06:00:00.000000000&#x27;,\n",
       "       &#x27;2018-01-03T12:00:00.000000000&#x27;, &#x27;2018-01-03T18:00:00.000000000&#x27;,\n",
       "       &#x27;2018-01-04T00:00:00.000000000&#x27;, &#x27;2018-01-04T06:00:00.000000000&#x27;,\n",
       "       &#x27;2018-01-04T12:00:00.000000000&#x27;, &#x27;2018-01-04T18:00:00.000000000&#x27;,\n",
       "       &#x27;2018-01-05T00:00:00.000000000&#x27;, &#x27;2018-01-05T06:00:00.000000000&#x27;,\n",
       "       &#x27;2018-01-05T12:00:00.000000000&#x27;, &#x27;2018-01-05T18:00:00.000000000&#x27;,\n",
       "       &#x27;2018-01-06T00:00:00.000000000&#x27;, &#x27;2018-01-06T06:00:00.000000000&#x27;,\n",
       "       &#x27;2018-01-06T12:00:00.000000000&#x27;, &#x27;2018-01-06T18:00:00.000000000&#x27;,\n",
       "       &#x27;2018-01-07T00:00:00.000000000&#x27;, &#x27;2018-01-07T06:00:00.000000000&#x27;,\n",
       "       &#x27;2018-01-07T12:00:00.000000000&#x27;, &#x27;2018-01-07T18:00:00.000000000&#x27;,\n",
       "       &#x27;2018-01-08T00:00:00.000000000&#x27;, &#x27;2018-01-08T06:00:00.000000000&#x27;,\n",
       "       &#x27;2018-01-08T12:00:00.000000000&#x27;, &#x27;2018-01-08T18:00:00.000000000&#x27;,\n",
       "       &#x27;2018-01-09T00:00:00.000000000&#x27;, &#x27;2018-01-09T06:00:00.000000000&#x27;,\n",
       "       &#x27;2018-01-09T12:00:00.000000000&#x27;, &#x27;2018-01-09T18:00:00.000000000&#x27;,\n",
       "       &#x27;2018-01-10T00:00:00.000000000&#x27;, &#x27;2018-01-10T06:00:00.000000000&#x27;,\n",
       "       &#x27;2018-01-10T12:00:00.000000000&#x27;, &#x27;2018-01-10T18:00:00.000000000&#x27;,\n",
       "       &#x27;2018-01-11T00:00:00.000000000&#x27;, &#x27;2018-01-11T06:00:00.000000000&#x27;,\n",
       "       &#x27;2018-01-11T12:00:00.000000000&#x27;, &#x27;2018-01-11T18:00:00.000000000&#x27;,\n",
       "       &#x27;2018-01-12T00:00:00.000000000&#x27;, &#x27;2018-01-12T06:00:00.000000000&#x27;,\n",
       "       &#x27;2018-01-12T12:00:00.000000000&#x27;, &#x27;2018-01-12T18:00:00.000000000&#x27;,\n",
       "       &#x27;2018-01-13T00:00:00.000000000&#x27;, &#x27;2018-01-13T06:00:00.000000000&#x27;,\n",
       "       &#x27;2018-01-13T12:00:00.000000000&#x27;, &#x27;2018-01-13T18:00:00.000000000&#x27;,\n",
       "       &#x27;2018-01-14T00:00:00.000000000&#x27;, &#x27;2018-01-14T06:00:00.000000000&#x27;,\n",
       "       &#x27;2018-01-14T12:00:00.000000000&#x27;, &#x27;2018-01-14T18:00:00.000000000&#x27;,\n",
       "       &#x27;2018-01-15T00:00:00.000000000&#x27;, &#x27;2018-01-15T06:00:00.000000000&#x27;,\n",
       "       &#x27;2018-01-15T12:00:00.000000000&#x27;, &#x27;2018-01-15T18:00:00.000000000&#x27;,\n",
       "       &#x27;2018-01-16T00:00:00.000000000&#x27;, &#x27;2018-01-16T06:00:00.000000000&#x27;,\n",
       "       &#x27;2018-01-16T12:00:00.000000000&#x27;, &#x27;2018-01-16T18:00:00.000000000&#x27;,\n",
       "       &#x27;2018-01-17T00:00:00.000000000&#x27;, &#x27;2018-01-17T06:00:00.000000000&#x27;,\n",
       "       &#x27;2018-01-17T12:00:00.000000000&#x27;, &#x27;2018-01-17T18:00:00.000000000&#x27;,\n",
       "       &#x27;2018-01-18T00:00:00.000000000&#x27;, &#x27;2018-01-18T06:00:00.000000000&#x27;,\n",
       "       &#x27;2018-01-18T12:00:00.000000000&#x27;, &#x27;2018-01-18T18:00:00.000000000&#x27;,\n",
       "       &#x27;2018-01-19T00:00:00.000000000&#x27;, &#x27;2018-01-19T06:00:00.000000000&#x27;,\n",
       "       &#x27;2018-01-19T12:00:00.000000000&#x27;, &#x27;2018-01-19T18:00:00.000000000&#x27;,\n",
       "       &#x27;2018-01-20T00:00:00.000000000&#x27;, &#x27;2018-01-20T06:00:00.000000000&#x27;,\n",
       "       &#x27;2018-01-20T12:00:00.000000000&#x27;, &#x27;2018-01-20T18:00:00.000000000&#x27;,\n",
       "       &#x27;2018-01-21T00:00:00.000000000&#x27;, &#x27;2018-01-21T06:00:00.000000000&#x27;,\n",
       "       &#x27;2018-01-21T12:00:00.000000000&#x27;, &#x27;2018-01-21T18:00:00.000000000&#x27;,\n",
       "       &#x27;2018-01-22T00:00:00.000000000&#x27;, &#x27;2018-01-22T06:00:00.000000000&#x27;,\n",
       "       &#x27;2018-01-22T12:00:00.000000000&#x27;, &#x27;2018-01-22T18:00:00.000000000&#x27;,\n",
       "       &#x27;2018-01-23T00:00:00.000000000&#x27;, &#x27;2018-01-23T06:00:00.000000000&#x27;,\n",
       "       &#x27;2018-01-23T12:00:00.000000000&#x27;, &#x27;2018-01-23T18:00:00.000000000&#x27;,\n",
       "       &#x27;2018-01-24T00:00:00.000000000&#x27;, &#x27;2018-01-24T06:00:00.000000000&#x27;,\n",
       "       &#x27;2018-01-24T12:00:00.000000000&#x27;, &#x27;2018-01-24T18:00:00.000000000&#x27;,\n",
       "       &#x27;2018-01-25T00:00:00.000000000&#x27;, &#x27;2018-01-25T06:00:00.000000000&#x27;,\n",
       "       &#x27;2018-01-25T12:00:00.000000000&#x27;, &#x27;2018-01-25T18:00:00.000000000&#x27;,\n",
       "       &#x27;2018-01-26T00:00:00.000000000&#x27;, &#x27;2018-01-26T06:00:00.000000000&#x27;,\n",
       "       &#x27;2018-01-26T12:00:00.000000000&#x27;, &#x27;2018-01-26T18:00:00.000000000&#x27;,\n",
       "       &#x27;2018-01-27T00:00:00.000000000&#x27;, &#x27;2018-01-27T06:00:00.000000000&#x27;,\n",
       "       &#x27;2018-01-27T12:00:00.000000000&#x27;, &#x27;2018-01-27T18:00:00.000000000&#x27;,\n",
       "       &#x27;2018-01-28T00:00:00.000000000&#x27;, &#x27;2018-01-28T06:00:00.000000000&#x27;,\n",
       "       &#x27;2018-01-28T12:00:00.000000000&#x27;, &#x27;2018-01-28T18:00:00.000000000&#x27;,\n",
       "       &#x27;2018-01-29T00:00:00.000000000&#x27;, &#x27;2018-01-29T06:00:00.000000000&#x27;,\n",
       "       &#x27;2018-01-29T12:00:00.000000000&#x27;, &#x27;2018-01-29T18:00:00.000000000&#x27;,\n",
       "       &#x27;2018-01-30T00:00:00.000000000&#x27;, &#x27;2018-01-30T06:00:00.000000000&#x27;,\n",
       "       &#x27;2018-01-30T12:00:00.000000000&#x27;, &#x27;2018-01-30T18:00:00.000000000&#x27;,\n",
       "       &#x27;2018-01-31T00:00:00.000000000&#x27;, &#x27;2018-01-31T06:00:00.000000000&#x27;,\n",
       "       &#x27;2018-01-31T12:00:00.000000000&#x27;, &#x27;2018-01-31T18:00:00.000000000&#x27;],\n",
       "      dtype=&#x27;datetime64[ns]&#x27;)</pre></div></li></ul></div></li><li class='xr-section-item'><input id='section-8d1bc00d-a354-4b95-8cb6-b4ad2b815ab1' class='xr-section-summary-in' type='checkbox' disabled ><label for='section-8d1bc00d-a354-4b95-8cb6-b4ad2b815ab1' class='xr-section-summary'  title='Expand/collapse section'>Attributes: <span>(0)</span></label><div class='xr-section-inline-details'></div><div class='xr-section-details'><dl class='xr-attrs'></dl></div></li></ul></div></div>"
      ],
      "text/plain": [
       "<xarray.DataArray 'time' (time: 124)>\n",
       "array([ 0.  ,  0.25,  0.5 ,  0.75,  1.  ,  1.25,  1.5 ,  1.75,  2.  ,\n",
       "        2.25,  2.5 ,  2.75,  3.  ,  3.25,  3.5 ,  3.75,  4.  ,  4.25,\n",
       "        4.5 ,  4.75,  5.  ,  5.25,  5.5 ,  5.75,  6.  ,  6.25,  6.5 ,\n",
       "        6.75,  7.  ,  7.25,  7.5 ,  7.75,  8.  ,  8.25,  8.5 ,  8.75,\n",
       "        9.  ,  9.25,  9.5 ,  9.75, 10.  , 10.25, 10.5 , 10.75, 11.  ,\n",
       "       11.25, 11.5 , 11.75, 12.  , 12.25, 12.5 , 12.75, 13.  , 13.25,\n",
       "       13.5 , 13.75, 14.  , 14.25, 14.5 , 14.75, 15.  , 15.25, 15.5 ,\n",
       "       15.75, 16.  , 16.25, 16.5 , 16.75, 17.  , 17.25, 17.5 , 17.75,\n",
       "       18.  , 18.25, 18.5 , 18.75, 19.  , 19.25, 19.5 , 19.75, 20.  ,\n",
       "       20.25, 20.5 , 20.75, 21.  , 21.25, 21.5 , 21.75, 22.  , 22.25,\n",
       "       22.5 , 22.75, 23.  , 23.25, 23.5 , 23.75, 24.  , 24.25, 24.5 ,\n",
       "       24.75, 25.  , 25.25, 25.5 , 25.75, 26.  , 26.25, 26.5 , 26.75,\n",
       "       27.  , 27.25, 27.5 , 27.75, 28.  , 28.25, 28.5 , 28.75, 29.  ,\n",
       "       29.25, 29.5 , 29.75, 30.  , 30.25, 30.5 , 30.75])\n",
       "Coordinates:\n",
       "  * time     (time) datetime64[ns] 2018-01-01 ... 2018-01-31T18:00:00"
      ]
     },
     "execution_count": 137,
     "metadata": {},
     "output_type": "execute_result"
    }
   ],
   "source": [
    "(da['time'] - np.datetime64(datetime(da['time'].dt.year.to_numpy()[0], 1, 1))) / np.timedelta64(1, \"D\")"
   ]
  },
  {
   "cell_type": "code",
   "execution_count": 134,
   "metadata": {},
   "outputs": [
    {
     "data": {
      "text/plain": [
       "array([2018, 2018, 2018, 2018, 2018, 2018, 2018, 2018, 2018, 2018, 2018,\n",
       "       2018, 2018, 2018, 2018, 2018, 2018, 2018, 2018, 2018, 2018, 2018,\n",
       "       2018, 2018, 2018, 2018, 2018, 2018, 2018, 2018, 2018, 2018, 2018,\n",
       "       2018, 2018, 2018, 2018, 2018, 2018, 2018, 2018, 2018, 2018, 2018,\n",
       "       2018, 2018, 2018, 2018, 2018, 2018, 2018, 2018, 2018, 2018, 2018,\n",
       "       2018, 2018, 2018, 2018, 2018, 2018, 2018, 2018, 2018, 2018, 2018,\n",
       "       2018, 2018, 2018, 2018, 2018, 2018, 2018, 2018, 2018, 2018, 2018,\n",
       "       2018, 2018, 2018, 2018, 2018, 2018, 2018, 2018, 2018, 2018, 2018,\n",
       "       2018, 2018, 2018, 2018, 2018, 2018, 2018, 2018, 2018, 2018, 2018,\n",
       "       2018, 2018, 2018, 2018, 2018, 2018, 2018, 2018, 2018, 2018, 2018,\n",
       "       2018, 2018, 2018, 2018, 2018, 2018, 2018, 2018, 2018, 2018, 2018,\n",
       "       2018, 2018, 2018])"
      ]
     },
     "execution_count": 134,
     "metadata": {},
     "output_type": "execute_result"
    }
   ],
   "source": []
  },
  {
   "cell_type": "code",
   "execution_count": null,
   "metadata": {},
   "outputs": [],
   "source": []
  }
 ],
 "metadata": {
  "kernelspec": {
   "display_name": "my_env",
   "language": "python",
   "name": "my_env"
  },
  "language_info": {
   "codemirror_mode": {
    "name": "ipython",
    "version": 3
   },
   "file_extension": ".py",
   "mimetype": "text/x-python",
   "name": "python",
   "nbconvert_exporter": "python",
   "pygments_lexer": "ipython3",
   "version": "3.9.5"
  }
 },
 "nbformat": 4,
 "nbformat_minor": 4
}
