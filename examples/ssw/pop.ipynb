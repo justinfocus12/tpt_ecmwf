{
 "cells": [
  {
   "cell_type": "markdown",
   "metadata": {},
   "source": [
    "# Do a time-dependent POP analysis of the stratospheric polar vortex to identify slow dynamics"
   ]
  },
  {
   "cell_type": "code",
   "execution_count": 38,
   "metadata": {},
   "outputs": [],
   "source": [
    "import sys\n",
    "sys.path.append(\"../..\")"
   ]
  },
  {
   "cell_type": "code",
   "execution_count": 39,
   "metadata": {},
   "outputs": [],
   "source": [
    "import numpy as np\n",
    "import matplotlib\n",
    "from matplotlib import ticker\n",
    "from matplotlib import pyplot as plt\n",
    "import xarray as xr\n",
    "import netCDF4 as nc\n",
    "from importlib import reload\n",
    "import sys \n",
    "import os\n",
    "from os import mkdir, makedirs\n",
    "from os.path import join,exists\n",
    "from importlib import reload\n",
    "import pickle\n",
    "from sklearn.cluster import KMeans, MiniBatchKMeans\n",
    "from sklearn.linear_model import LinearRegression\n",
    "import datetime\n",
    "from calendar import monthrange\n",
    "import cartopy\n",
    "from cartopy import crs as ccrs"
   ]
  },
  {
   "cell_type": "code",
   "execution_count": 40,
   "metadata": {},
   "outputs": [],
   "source": [
    "%matplotlib inline"
   ]
  },
  {
   "cell_type": "code",
   "execution_count": 41,
   "metadata": {},
   "outputs": [],
   "source": [
    "plt.rcParams.update({\"font.size\": 18, \"font.family\": \"monospace\"})"
   ]
  },
  {
   "cell_type": "code",
   "execution_count": 42,
   "metadata": {},
   "outputs": [
    {
     "name": "stdout",
     "output_type": "stream",
     "text": [
      "The autoreload extension is already loaded. To reload it, use:\n",
      "  %reload_ext autoreload\n"
     ]
    }
   ],
   "source": [
    "%load_ext autoreload"
   ]
  },
  {
   "cell_type": "code",
   "execution_count": 46,
   "metadata": {},
   "outputs": [],
   "source": [
    "topic_dir = \"/scratch/jf4241/ecmwf_data/\"\n",
    "filedict = dict({\n",
    "    \"data\": dict({\n",
    "        \"e5\": dict({\n",
    "            \"traj\": dict({\n",
    "                \"dir\": join(topic_dir, \"era5_data\", \"raw_data\", \"2022-08-14\"), # Directory with possibly many files\n",
    "            }),\n",
    "        }),\n",
    "        \"s2\": dict({\n",
    "            \"traj\": dict({\n",
    "                \"dir\": join(topic_dir, \"s2s_data\", \"raw_data\", \"2022-08-20\"), # Directory with possibly many files\n",
    "            }),\n",
    "        })    \n",
    "    }),\n",
    "    \"results\": dict({\n",
    "        \"dir\": join(\n",
    "            topic_dir, \"results\", \"pops\", \"2022-09-05\", \n",
    "            f\"del{max_delay}_cls{num_clusters}_bdy{clust_bndy_choice}_featset{featset}\")\n",
    "    })\n",
    "})\n",
    "dispdict = dict({\n",
    "    \"e5\": dict({\n",
    "        \"color\": \"dodgerblue\",\n",
    "        \"abbrv\": \"ERA5\",\n",
    "    }),\n",
    "    \"s2\": dict({\n",
    "        \"color\": \"red\",\n",
    "        \"abbrv\": \"S2S\",\n",
    "    }),\n",
    "    \"linear_model\": dict({\n",
    "        \"color\": \"gray\",\n",
    "        \"abborv\": \"Linear model\",\n",
    "    })\n",
    "})"
   ]
  }
 ],
 "metadata": {
  "kernelspec": {
   "display_name": "my_env",
   "language": "python",
   "name": "my_env"
  },
  "language_info": {
   "codemirror_mode": {
    "name": "ipython",
    "version": 3
   },
   "file_extension": ".py",
   "mimetype": "text/x-python",
   "name": "python",
   "nbconvert_exporter": "python",
   "pygments_lexer": "ipython3",
   "version": "3.9.5"
  }
 },
 "nbformat": 4,
 "nbformat_minor": 4
}
