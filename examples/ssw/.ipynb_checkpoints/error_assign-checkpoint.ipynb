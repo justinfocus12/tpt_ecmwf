{
 "cells": [
  {
   "cell_type": "code",
   "execution_count": 1,
   "metadata": {},
   "outputs": [],
   "source": [
    "import xarray as xr\n",
    "import numpy as np\n",
    "import netCDF4 as nc"
   ]
  },
  {
   "cell_type": "code",
   "execution_count": 2,
   "metadata": {},
   "outputs": [],
   "source": [
    "da1 = xr.DataArray(coords={\"x\": [0,1,2]}, data=np.arange(3), dims=[\"x\"])\n",
    "da2 = xr.DataArray(coords={\"z\": [5], \"x\": [0,1,2], \"y\": [3,4],}, dims=[\"z\", \"x\", \"y\"], data=0)\n",
    "da3 = da2.copy(deep=True)"
   ]
  },
  {
   "cell_type": "markdown",
   "metadata": {},
   "source": [
    "Goal: I want to copy the data from `da1` into `da2`, tiling along the `z` and `y` dimensions that don't exist in `da1`. "
   ]
  },
  {
   "cell_type": "markdown",
   "metadata": {},
   "source": [
    "Method 1: this works exactly as I want. "
   ]
  },
  {
   "cell_type": "code",
   "execution_count": 3,
   "metadata": {},
   "outputs": [
    {
     "name": "stdout",
     "output_type": "stream",
     "text": [
      "<xarray.DataArray (z: 1, x: 3, y: 2)>\n",
      "array([[[0, 0],\n",
      "        [1, 1],\n",
      "        [2, 2]]])\n",
      "Coordinates:\n",
      "  * z        (z) int64 5\n",
      "  * x        (x) int64 0 1 2\n",
      "  * y        (y) int64 3 4\n"
     ]
    }
   ],
   "source": [
    "da2.loc[dict(z=5)] += da1\n",
    "print(da2)"
   ]
  },
  {
   "cell_type": "markdown",
   "metadata": {},
   "source": [
    "Method 2: this breaks. Unfortunately, I want to use method 2, because I don't know what data was inside of `da2` originally, so I would rather overwrite it than add to it. "
   ]
  },
  {
   "cell_type": "code",
   "execution_count": 4,
   "metadata": {},
   "outputs": [
    {
     "ename": "ValueError",
     "evalue": "could not broadcast input array from shape (1,3) into shape (3,2)",
     "output_type": "error",
     "traceback": [
      "\u001b[0;31m---------------------------------------------------------------------------\u001b[0m",
      "\u001b[0;31mValueError\u001b[0m                                Traceback (most recent call last)",
      "Input \u001b[0;32mIn [4]\u001b[0m, in \u001b[0;36m<cell line: 1>\u001b[0;34m()\u001b[0m\n\u001b[0;32m----> 1\u001b[0m da3\u001b[38;5;241m.\u001b[39mloc[\u001b[38;5;28mdict\u001b[39m(z\u001b[38;5;241m=\u001b[39m\u001b[38;5;241m5\u001b[39m)] \u001b[38;5;241m=\u001b[39m da1\n\u001b[1;32m      2\u001b[0m \u001b[38;5;28mprint\u001b[39m(da3)\n",
      "File \u001b[0;32m/ext3/miniconda3/lib/python3.9/site-packages/xarray/core/dataarray.py:207\u001b[0m, in \u001b[0;36m_LocIndexer.__setitem__\u001b[0;34m(self, key, value)\u001b[0m\n\u001b[1;32m    204\u001b[0m     key \u001b[38;5;241m=\u001b[39m \u001b[38;5;28mdict\u001b[39m(\u001b[38;5;28mzip\u001b[39m(\u001b[38;5;28mself\u001b[39m\u001b[38;5;241m.\u001b[39mdata_array\u001b[38;5;241m.\u001b[39mdims, labels))\n\u001b[1;32m    206\u001b[0m pos_indexers, _ \u001b[38;5;241m=\u001b[39m remap_label_indexers(\u001b[38;5;28mself\u001b[39m\u001b[38;5;241m.\u001b[39mdata_array, key)\n\u001b[0;32m--> 207\u001b[0m \u001b[38;5;28mself\u001b[39m\u001b[38;5;241m.\u001b[39mdata_array[pos_indexers] \u001b[38;5;241m=\u001b[39m value\n",
      "File \u001b[0;32m/ext3/miniconda3/lib/python3.9/site-packages/xarray/core/dataarray.py:757\u001b[0m, in \u001b[0;36mDataArray.__setitem__\u001b[0;34m(self, key, value)\u001b[0m\n\u001b[1;32m    752\u001b[0m \u001b[38;5;66;03m# DataArray key -> Variable key\u001b[39;00m\n\u001b[1;32m    753\u001b[0m key \u001b[38;5;241m=\u001b[39m {\n\u001b[1;32m    754\u001b[0m     k: v\u001b[38;5;241m.\u001b[39mvariable \u001b[38;5;28;01mif\u001b[39;00m \u001b[38;5;28misinstance\u001b[39m(v, DataArray) \u001b[38;5;28;01melse\u001b[39;00m v\n\u001b[1;32m    755\u001b[0m     \u001b[38;5;28;01mfor\u001b[39;00m k, v \u001b[38;5;129;01min\u001b[39;00m \u001b[38;5;28mself\u001b[39m\u001b[38;5;241m.\u001b[39m_item_key_to_dict(key)\u001b[38;5;241m.\u001b[39mitems()\n\u001b[1;32m    756\u001b[0m }\n\u001b[0;32m--> 757\u001b[0m \u001b[38;5;28mself\u001b[39m\u001b[38;5;241m.\u001b[39mvariable[key] \u001b[38;5;241m=\u001b[39m value\n",
      "File \u001b[0;32m/ext3/miniconda3/lib/python3.9/site-packages/xarray/core/variable.py:854\u001b[0m, in \u001b[0;36mVariable.__setitem__\u001b[0;34m(self, key, value)\u001b[0m\n\u001b[1;32m    851\u001b[0m     value \u001b[38;5;241m=\u001b[39m np\u001b[38;5;241m.\u001b[39mmoveaxis(value, new_order, \u001b[38;5;28mrange\u001b[39m(\u001b[38;5;28mlen\u001b[39m(new_order)))\n\u001b[1;32m    853\u001b[0m indexable \u001b[38;5;241m=\u001b[39m as_indexable(\u001b[38;5;28mself\u001b[39m\u001b[38;5;241m.\u001b[39m_data)\n\u001b[0;32m--> 854\u001b[0m indexable[index_tuple] \u001b[38;5;241m=\u001b[39m value\n",
      "File \u001b[0;32m/ext3/miniconda3/lib/python3.9/site-packages/xarray/core/indexing.py:1166\u001b[0m, in \u001b[0;36mNumpyIndexingAdapter.__setitem__\u001b[0;34m(self, key, value)\u001b[0m\n\u001b[1;32m   1164\u001b[0m array, key \u001b[38;5;241m=\u001b[39m \u001b[38;5;28mself\u001b[39m\u001b[38;5;241m.\u001b[39m_indexing_array_and_key(key)\n\u001b[1;32m   1165\u001b[0m \u001b[38;5;28;01mtry\u001b[39;00m:\n\u001b[0;32m-> 1166\u001b[0m     array[key] \u001b[38;5;241m=\u001b[39m value\n\u001b[1;32m   1167\u001b[0m \u001b[38;5;28;01mexcept\u001b[39;00m \u001b[38;5;167;01mValueError\u001b[39;00m:\n\u001b[1;32m   1168\u001b[0m     \u001b[38;5;66;03m# More informative exception if read-only view\u001b[39;00m\n\u001b[1;32m   1169\u001b[0m     \u001b[38;5;28;01mif\u001b[39;00m \u001b[38;5;129;01mnot\u001b[39;00m array\u001b[38;5;241m.\u001b[39mflags\u001b[38;5;241m.\u001b[39mwriteable \u001b[38;5;129;01mand\u001b[39;00m \u001b[38;5;129;01mnot\u001b[39;00m array\u001b[38;5;241m.\u001b[39mflags\u001b[38;5;241m.\u001b[39mowndata:\n",
      "\u001b[0;31mValueError\u001b[0m: could not broadcast input array from shape (1,3) into shape (3,2)"
     ]
    }
   ],
   "source": [
    "da3.loc[dict(z=5)] = da1\n",
    "print(da3)"
   ]
  },
  {
   "cell_type": "markdown",
   "metadata": {},
   "source": [
    "Method 3: a hack. First zero out whatever was in `da3` at `z=5`, and then proceed to add `da1`. "
   ]
  },
  {
   "cell_type": "code",
   "execution_count": 5,
   "metadata": {},
   "outputs": [
    {
     "name": "stdout",
     "output_type": "stream",
     "text": [
      "<xarray.DataArray (z: 1, x: 3, y: 2)>\n",
      "array([[[0, 0],\n",
      "        [1, 1],\n",
      "        [2, 2]]])\n",
      "Coordinates:\n",
      "  * z        (z) int64 5\n",
      "  * x        (x) int64 0 1 2\n",
      "  * y        (y) int64 3 4\n"
     ]
    }
   ],
   "source": [
    "da3.loc[dict(z=5)] = 0 \n",
    "da3.loc[dict(z=5)] += da1\n",
    "print(da3)"
   ]
  }
 ],
 "metadata": {
  "kernelspec": {
   "display_name": "my_env",
   "language": "python",
   "name": "my_env"
  },
  "language_info": {
   "codemirror_mode": {
    "name": "ipython",
    "version": 3
   },
   "file_extension": ".py",
   "mimetype": "text/x-python",
   "name": "python",
   "nbconvert_exporter": "python",
   "pygments_lexer": "ipython3",
   "version": "3.9.5"
  }
 },
 "nbformat": 4,
 "nbformat_minor": 4
}
