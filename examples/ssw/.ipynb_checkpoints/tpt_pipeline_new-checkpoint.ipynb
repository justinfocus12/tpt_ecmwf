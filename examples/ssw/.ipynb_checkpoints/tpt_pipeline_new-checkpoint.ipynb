{
 "cells": [
  {
   "cell_type": "markdown",
   "metadata": {},
   "source": [
    "# TPT pipeline with ERA5 and S2S"
   ]
  },
  {
   "cell_type": "code",
   "execution_count": 1,
   "metadata": {},
   "outputs": [],
   "source": [
    "import sys\n",
    "sys.path.append(\"../..\")"
   ]
  },
  {
   "cell_type": "code",
   "execution_count": 2,
   "metadata": {},
   "outputs": [],
   "source": [
    "import numpy as np\n",
    "from numpy.random import default_rng\n",
    "import pandas\n",
    "import matplotlib\n",
    "from matplotlib import ticker\n",
    "from matplotlib import pyplot as plt\n",
    "from mpl_toolkits.axes_grid1.axes_divider import make_axes_locatable\n",
    "import xarray as xr\n",
    "import netCDF4 as nc\n",
    "from importlib import reload\n",
    "import sys \n",
    "import os\n",
    "from os import mkdir, makedirs\n",
    "from os.path import join,exists\n",
    "from importlib import reload\n",
    "import pickle\n",
    "from sklearn.cluster import KMeans, MiniBatchKMeans\n",
    "from sklearn.linear_model import LinearRegression,Lasso\n",
    "from sklearn.ensemble import RandomForestRegressor\n",
    "from sklearn import tree\n",
    "import datetime\n",
    "from calendar import monthrange\n",
    "import cartopy\n",
    "from cartopy import crs as ccrs\n",
    "from scipy.stats import genextreme\n",
    "import functools"
   ]
  },
  {
   "cell_type": "code",
   "execution_count": 3,
   "metadata": {},
   "outputs": [],
   "source": [
    "%load_ext autoreload"
   ]
  },
  {
   "cell_type": "code",
   "execution_count": 4,
   "metadata": {},
   "outputs": [],
   "source": [
    "%aimport xr_utils\n",
    "%aimport feature_template\n",
    "%aimport feature_stratosphere\n",
    "%aimport tpt_utils\n",
    "%aimport tdmc_obj"
   ]
  },
  {
   "cell_type": "code",
   "execution_count": 5,
   "metadata": {},
   "outputs": [],
   "source": [
    "%matplotlib inline"
   ]
  },
  {
   "cell_type": "code",
   "execution_count": 6,
   "metadata": {},
   "outputs": [],
   "source": [
    "plt.rcParams.update({\"font.size\": 18, \"font.family\": \"monospace\"})"
   ]
  },
  {
   "cell_type": "markdown",
   "metadata": {},
   "source": [
    "# Set up experiment"
   ]
  },
  {
   "cell_type": "markdown",
   "metadata": {},
   "source": [
    "Which tasks to do"
   ]
  },
  {
   "cell_type": "code",
   "execution_count": 7,
   "metadata": {},
   "outputs": [],
   "source": [
    "compute_all_features_flag =           0\n",
    "assemble_tpt_features_flag =          0\n",
    "path_counting_flag =                  0\n",
    "build_msm_flag =                      1\n",
    "dga_flag =                            1\n",
    "tune_hyperparameters_flag =           1\n",
    "regress_over_features_flag =          1\n",
    "featset =                             1 # n, where this is the n'th set of features we've tried"
   ]
  },
  {
   "cell_type": "code",
   "execution_count": 8,
   "metadata": {},
   "outputs": [],
   "source": [
    "topic_dir = \"/scratch/jf4241/ecmwf_data/\"\n",
    "filedict = dict({\n",
    "    \"data\": dict({\n",
    "        \"e5\": dict({\n",
    "            \"traj\": dict({\n",
    "                \"dir\": join(topic_dir, \"era5_data\", \"raw_data\", \"2022-08-14\"), # Directory with possibly many files\n",
    "            }),\n",
    "            \"stats\": dict({\n",
    "                \"dir\": join(topic_dir, \"era5_data\", \"stats\", \"2022-09-03\"),\n",
    "                \"eof_filename\": \"eofs.nc\",\n",
    "                \"monthly_climatology_filename\": \"monclim.nc\",\n",
    "            }),\n",
    "            \"feat_all\": dict({\n",
    "                \"dir\": join(topic_dir, \"era5_data\", \"features_all\", \"2022-10-15\"),\n",
    "                #\"filename\": \"era5_features_all.nc\",\n",
    "            }),\n",
    "            \"feat_tpt\": dict({\n",
    "                \"dir\": join(topic_dir, \"era5_data\", \"features_tpt\", \"2022-10-15\",),\n",
    "                #\"filename\": \"era5_features_tpt.nc\",\n",
    "            }),\n",
    "        }),\n",
    "        \"s2\": dict({\n",
    "            \"traj\": dict({\n",
    "                \"dir\": join(topic_dir, \"s2s_data\", \"raw_data\", \"2022-08-20\"), # Directory with possibly many files\n",
    "            }),\n",
    "            \"stats\": dict({\n",
    "                \"dir\": join(topic_dir, \"s2s_data\", \"stats\", \"2022-09-04\"),\n",
    "            }),\n",
    "            \"feat_all\": dict({\n",
    "                \"dir\": join(topic_dir, \"s2s_data\", \"features_all\", \"2022-10-15\"),\n",
    "                \"filename\": \"era5_features_all.nc\",\n",
    "            }),\n",
    "            \"feat_tpt\": dict({\n",
    "                \"dir\": join(topic_dir, \"s2s_data\", \"features_tpt\", \"2022-10-15\",),\n",
    "                \"filename\": \"s2s_features_tpt.nc\",\n",
    "            }),\n",
    "        })    \n",
    "    }),\n",
    "    \"results\": dict({\n",
    "        \"shared\": join(topic_dir, \"results\", \"tpt_quantities\", \"2022-11-22\", \"shared\"),\n",
    "        \"extval\": join(topic_dir, \"results\", \"tpt_quantities\", \"2022-11-22\", \"extval\"),\n",
    "        \"pathcounting\": join(topic_dir, \"results\", \"tpt_quantities\", \"2022-11-22\", \"pathcounting\"),\n",
    "        \"direct\": join(topic_dir, \"results\", \"tpt_quantities\", \"2022-11-22\", \"direct\"),\n",
    "        \"dga\": join(topic_dir, \"results\", \"tpt_quantities\", \"2022-11-22\", \"dga\"), # Further sub-directories to be specified below \n",
    "    })\n",
    "})\n",
    "dispdict = dict({\n",
    "    \"e5\": dict({\n",
    "        \"color\": \"dodgerblue\",\n",
    "        \"abbrv\": \"ERA5\",\n",
    "    }),\n",
    "    \"s2\": dict({\n",
    "        \"color\": \"red\",\n",
    "        \"abbrv\": \"S2S\",\n",
    "    }),\n",
    "    \"linear_model\": dict({\n",
    "        \"color\": \"gray\",\n",
    "        \"abborv\": \"Linear model\",\n",
    "    })\n",
    "})"
   ]
  },
  {
   "cell_type": "code",
   "execution_count": 9,
   "metadata": {},
   "outputs": [],
   "source": [
    "# Create the directories if they don't exist already\n",
    "\n",
    "# Data folders\n",
    "for src in list(filedict[\"data\"].keys()):\n",
    "    for data_stage in [\"traj\",\"stats\",\"feat_all\",\"feat_tpt\"]:\n",
    "        path = filedict[\"data\"][src][data_stage][\"dir\"]\n",
    "        if not exists(path):\n",
    "            makedirs(path, exist_ok=True)\n",
    "\n",
    "# Results folders\n",
    "for path in list(filedict[\"results\"].keys()):\n",
    "    if not exists(path): makedirs(filedict[\"results\"][path], exist_ok=True)"
   ]
  },
  {
   "cell_type": "markdown",
   "metadata": {},
   "source": [
    "## Read database and compute features. "
   ]
  },
  {
   "cell_type": "code",
   "execution_count": 10,
   "metadata": {},
   "outputs": [],
   "source": [
    "reload(feature_template)\n",
    "reload(feature_stratosphere)\n",
    "feat_strat = feature_stratosphere.WinterStratosphereFeatures()\n",
    "feat_strat.set_event_seasonal_params()\n",
    "feat_strat.set_ab_code()\n",
    "plt.rcParams.update({\"font.size\": 18, \"font.family\": \"monospace\"})"
   ]
  },
  {
   "cell_type": "code",
   "execution_count": 11,
   "metadata": {},
   "outputs": [],
   "source": [
    "if compute_all_features_flag:\n",
    "    obs2compute = [\n",
    "        \"time_observable\", \"ubar_observable\",\n",
    "        \"temperature_observable\", \"heatflux_observable\",\n",
    "        \"qbo_observable\",\n",
    "    ]\n",
    "    for src in [\"e5\",\"s2\"]:\n",
    "        obs_dict = dict({obsname: [] for obsname in obs2compute})\n",
    "        input_dir = filedict[\"data\"][src][\"traj\"][\"dir\"]\n",
    "        input_file_list = [join(input_dir, f) for f in os.listdir(input_dir) if f.endswith(\".nc\")]\n",
    "        output_dir = filedict[\"data\"][src][\"feat_all\"][\"dir\"]\n",
    "        feat_strat.compute_all_features_nodask(\n",
    "            src, input_file_list, output_dir, \n",
    "            obs2compute=obs2compute\n",
    "        )"
   ]
  },
  {
   "cell_type": "markdown",
   "metadata": {},
   "source": [
    "Reload the TPT features as a dictionary. We don't yet put them in a single dataset in order to avoid dimension conflicts. "
   ]
  },
  {
   "cell_type": "code",
   "execution_count": 12,
   "metadata": {},
   "outputs": [],
   "source": [
    "feat_all = dict()\n",
    "for src in [\"s2\",\"e5\"]:\n",
    "    feat_all[src] = feat_strat.assemble_all_features(\n",
    "        src,\n",
    "        filedict[\"data\"][src][\"feat_all\"][\"dir\"]\n",
    "        )"
   ]
  },
  {
   "cell_type": "markdown",
   "metadata": {},
   "source": [
    "Plot some climatological envelopes, as well as some hindcast ensembles from the same year "
   ]
  },
  {
   "cell_type": "code",
   "execution_count": 13,
   "metadata": {},
   "outputs": [
    {
     "data": {
      "image/png": "[encoded data removed]",
      "text/plain": [
       "<Figure size 1080x360 with 1 Axes>"
      ]
     },
     "metadata": {},
     "output_type": "display_data"
    }
   ],
   "source": [
    "fig,ax = plt.subplots(figsize=(15,5))\n",
    "fig.set_facecolor(\"white\")\n",
    "handles = []\n",
    "\n",
    "year2plot = 2009\n",
    "obs_group = \"ubar_observable\"\n",
    "obs_name = \"ubar_10_60\"\n",
    "obs_label = \"$\\overline{u}$(10 hPa, 60$^\\circ$N)\"\n",
    "t_init_target_list = [70, 147.0, 250] # How many days into the season\n",
    "\n",
    "cond_e5 = 1*(feat_all[\"e5\"][\"time_observable\"].sel(feature=\"year_szn_start\") == year2plot)\n",
    "cond_s2 = 1*(feat_all[\"s2\"][\"time_observable\"].isel(t_sim=0).sel(feature=\"year_szn_start\") == year2plot)\n",
    "\n",
    "t_szn_1year = feat_all[\"e5\"][\"time_observable\"].where(cond_e5,drop=True).sel(feature=\"t_szn\").isel(t_init=0,member=0).to_numpy()\n",
    "xticks, xticklabels = feat_strat.generate_seasonal_xticks(t_szn_1year)\n",
    "ax.set_xticks(xticks)\n",
    "ax.set_xticklabels(xticklabels)\n",
    "ax.set_title(f\"{year2plot}-{year2plot+1}\")\n",
    "\n",
    "tpt_utils.plot_field_1d(\n",
    "    feat_all[\"e5\"][obs_group].sel(feature=obs_name).isel(t_init=0,member=0).to_numpy(), \n",
    "    np.ones(feat_all[\"e5\"][obs_group].t_sim.size), \n",
    "    feat_all[\"e5\"][\"time_observable\"].sel(feature=\"t_szn\").isel(t_init=0,member=0).to_numpy(),\n",
    "    feat_name=\"\", field_name=obs_label,\n",
    "    fig=fig, ax=ax, nbins=365\n",
    ")\n",
    "\n",
    "h, = ax.plot(\n",
    "    t_szn_1year,\n",
    "    feat_all[\"e5\"][obs_group].where(cond_e5,drop=True).sel(feature=obs_name).isel(t_init=0,member=0).to_numpy(),\n",
    "    color='dodgerblue', linewidth=4, label=\"ERA5\"\n",
    ")\n",
    "handles += [h]\n",
    "ax.legend(handles=handles)\n",
    "fig.savefig(join(filedict[\"results\"][\"shared\"], f\"{year2plot}_illust_0\"))\n",
    "\n",
    "# Draw thresholds\n",
    "u_thresh_list = np.arange(-52,1,4)\n",
    "for uth in [0]: #u_thresh_list:\n",
    "    ax.axhline(y=uth, color='black', linestyle='--')\n",
    "ax.axvline(x=61, color='black', linestyle='--')\n",
    "ax.axvline(x=181, color='black', linestyle='--')\n",
    "fig.savefig(join(filedict[\"results\"][\"shared\"], f\"{year2plot}_illust_1\"))\n",
    "\n",
    "\n",
    "t_szn_1year = feat_all[\"e5\"][\"time_observable\"].where(cond_e5,drop=True).sel(feature=\"t_szn\").isel(t_init=0,member=0).to_numpy()\n",
    "for t_init_target in t_init_target_list:\n",
    "    i_t_init = int(t_init_target / 3.5)\n",
    "    for i_mem in range(feat_all[\"s2\"][\"time_observable\"].member.size):\n",
    "        x_ens, = (\n",
    "            feat_all[\"s2\"][\"time_observable\"].where(cond_s2,drop=True)\n",
    "            .isel(t_init=i_t_init,member=i_mem)\n",
    "            .sel(feature=\"t_szn\").to_numpy()\n",
    "        ),\n",
    "        y_ens, = feat_all[\"s2\"][obs_group].where(cond_s2,drop=True).isel(t_init=i_t_init,member=i_mem).sel(feature=obs_name).to_numpy(),\n",
    "        h, = ax.plot(x_ens, y_ens, color='red', label=\"S2S\")\n",
    "        if i_mem == 0: \n",
    "            h = ax.scatter(x_ens[0], y_ens[0], color='red', marker='o', zorder=10, s=144)\n",
    "\n",
    "handles += [h]\n",
    "ax.legend(handles=handles)\n",
    "\n",
    "fig.savefig(join(filedict[\"results\"][\"shared\"], f\"{year2plot}_illust_2\"))"
   ]
  },
  {
   "cell_type": "markdown",
   "metadata": {},
   "source": [
    "# Assemble features for TPT."
   ]
  },
  {
   "cell_type": "markdown",
   "metadata": {},
   "source": [
    "Assemble and save the features with time delays. "
   ]
  },
  {
   "cell_type": "code",
   "execution_count": 14,
   "metadata": {},
   "outputs": [],
   "source": [
    "reload(feature_template)\n",
    "reload(feature_stratosphere)\n",
    "feat_strat = feature_stratosphere.WinterStratosphereFeatures()\n",
    "feat_strat.set_event_seasonal_params()\n",
    "feat_strat.set_ab_code()\n",
    "plt.rcParams.update({\"font.size\": 18, \"font.family\": \"monospace\"})"
   ]
  },
  {
   "cell_type": "code",
   "execution_count": 15,
   "metadata": {},
   "outputs": [],
   "source": [
    "if assemble_tpt_features_flag:\n",
    "    for src in [\"s2\",\"e5\"]:\n",
    "        feat_strat.assemble_tpt_features(feat_all[src], filedict[\"data\"][src][\"feat_tpt\"][\"dir\"])"
   ]
  },
  {
   "cell_type": "markdown",
   "metadata": {},
   "source": [
    "Reload them"
   ]
  },
  {
   "cell_type": "code",
   "execution_count": 16,
   "metadata": {},
   "outputs": [],
   "source": [
    "feat_tpt = dict()\n",
    "for src in [\"s2\",\"e5\"]:\n",
    "    feat_tpt[src] = xr.open_dataarray(join(filedict[\"data\"][src][\"feat_tpt\"][\"dir\"], \"features_tpt.nc\"))"
   ]
  },
  {
   "cell_type": "markdown",
   "metadata": {},
   "source": [
    "# Return time estimates"
   ]
  },
  {
   "cell_type": "markdown",
   "metadata": {},
   "source": [
    "In the following, we sweep through a number of SSW definitions, varying both the threshold and the season. "
   ]
  },
  {
   "cell_type": "code",
   "execution_count": 17,
   "metadata": {},
   "outputs": [],
   "source": [
    "sep1 = 0\n",
    "oct1,nov1,dec1,jan1 = np.cumsum([monthrange(1901,m)[1] for m in [9,10,11,12]])\n",
    "feb1,mar1,apr1 = jan1 + np.cumsum([monthrange(1902,m)[1] for m in [1,2,3]])\n",
    "u_thresh_list = np.arange(-52,1,4)\n",
    "t_thresh_list = np.array([\n",
    "    [oct1, apr1],\n",
    "    [nov1, mar1],\n",
    "    [oct1, mar1],\n",
    "])[:2]\n",
    "t_thresh_string_list = [\n",
    "    \"Oct-Mar\", \"Nov-Feb\", \n",
    "]\n",
    "np.save(join(filedict[\"results\"][\"shared\"], \"u_thresh_list\"), u_thresh_list)\n",
    "np.save(join(filedict[\"results\"][\"shared\"], \"t_thresh_list\"), u_thresh_list)"
   ]
  },
  {
   "cell_type": "markdown",
   "metadata": {},
   "source": [
    "## Method 1: count paths from each initialization"
   ]
  },
  {
   "cell_type": "code",
   "execution_count": 18,
   "metadata": {},
   "outputs": [],
   "source": [
    "reload(feature_template)\n",
    "reload(feature_stratosphere)\n",
    "feat_strat = feature_stratosphere.WinterStratosphereFeatures()\n",
    "feat_strat.set_event_seasonal_params()\n",
    "feat_strat.set_ab_code()\n",
    "plt.rcParams.update({\"font.size\": 18, \"font.family\": \"monospace\"})"
   ]
  },
  {
   "cell_type": "code",
   "execution_count": 19,
   "metadata": {},
   "outputs": [],
   "source": [
    "if path_counting_flag:\n",
    "    for i_tth in range(len(t_thresh_list)):\n",
    "        t_thresh = t_thresh_list[i_tth]\n",
    "        rate_e5,rate_s2 = feat_strat.path_counting_rates(feat_all, feat_tpt, t_thresh, u_thresh_list, min_spread_time=15)\n",
    "        rate_e5.to_netcdf(join(filedict[\"results\"][\"pathcounting\"], f\"rate_pathcounting_e5_{t_thresh[0]}-{t_thresh[1]}.nc\"))\n",
    "        rate_s2.to_netcdf(join(filedict[\"results\"][\"pathcounting\"], f\"rate_pathcounting_s2_{t_thresh[0]}-{t_thresh[1]}.nc\"))"
   ]
  },
  {
   "cell_type": "markdown",
   "metadata": {},
   "source": [
    "## Plot results"
   ]
  },
  {
   "cell_type": "code",
   "execution_count": 20,
   "metadata": {},
   "outputs": [
    {
     "data": {
      "image/png": "[encoded data removed]",
      "text/plain": [
       "<Figure size 360x360 with 1 Axes>"
      ]
     },
     "metadata": {},
     "output_type": "display_data"
    },
    {
     "data": {
      "image/png": "[encoded data removed]",
      "text/plain": [
       "<Figure size 360x360 with 1 Axes>"
      ]
     },
     "metadata": {},
     "output_type": "display_data"
    }
   ],
   "source": [
    "for i_tth in range(len(t_thresh_list)):\n",
    "    t_thresh = t_thresh_list[i_tth]\n",
    "    rate_e5 = xr.open_dataarray(join(filedict[\"results\"][\"pathcounting\"], f\"rate_pathcounting_e5_{t_thresh[0]}-{t_thresh[1]}.nc\"))\n",
    "    rate_s2 = xr.open_dataarray(join(filedict[\"results\"][\"pathcounting\"], f\"rate_pathcounting_s2_{t_thresh[0]}-{t_thresh[1]}.nc\"))\n",
    "\n",
    "    fig,ax = plt.subplots(ncols=1, figsize=(5,5))\n",
    "    fig.set_facecolor(\"white\")\n",
    "    ax.yaxis.set_tick_params(labelbottom=True)\n",
    "\n",
    "    handles = []\n",
    "    rate_s2 = rate_s2.where(rate_s2 > 0)\n",
    "    #colors = [\"red\", \"purple\", \"orange\"]\n",
    "    ax.plot(rate_s2[\"u_thresh\"], rate_s2.sel(bound=\"lower\"), color=\"red\", marker='.')\n",
    "    h, = ax.plot(\n",
    "        rate_s2[\"u_thresh\"], rate_s2.sel(bound=\"upper\"), \n",
    "        color=\"red\", marker='.', label=r\"S2S (20 yr) bounds\"\n",
    "    )\n",
    "    handles += [h]\n",
    "    # Additionally plot ERA5 only\n",
    "    h, = ax.plot(rate_e5[\"u_thresh\"], rate_e5.where(rate_e5>0).sel(falls=\"1959-2019\"), color=\"orange\", marker='.', label=\"ERA5 (61 yr)\")\n",
    "    handles += [h]\n",
    "    h, = ax.plot(rate_e5[\"u_thresh\"], rate_e5.where(rate_e5>0).sel(falls=\"1996-2015\"), color=\"dodgerblue\", marker='.', label=\"ERA5 (20 yr)\")\n",
    "    handles += [h]\n",
    "\n",
    "    # Additionally plot Ed's estimate\n",
    "    h, = ax.plot(rate_s2[\"u_thresh\"], rate_s2.sel(bound=\"ed\"), color=\"black\", marker=\"o\", label=\"Ed\")\n",
    "    handles += [h]\n",
    "\n",
    "    ax.set_yscale(\"log\")\n",
    "    ax.set_xlabel(\"$\\overline{u}$(10 hPa, 60$^\\circ$N) threshold\")\n",
    "    ax.legend(handles=handles, fontsize=\"small\")\n",
    "    ax.set_title(\"Path counting bounds\")\n",
    "    ax.set_ylim([1e-5,1])\n",
    "\n",
    "    fig.subplots_adjust(top=0.85)\n",
    "    fig.suptitle(t_thresh_string_list[i_tth], y=0.98, fontsize=25)"
   ]
  },
  {
   "cell_type": "markdown",
   "metadata": {},
   "source": [
    "# Method 2: DGA"
   ]
  },
  {
   "cell_type": "code",
   "execution_count": 21,
   "metadata": {},
   "outputs": [],
   "source": [
    "reload(tpt_utils)\n",
    "reload(feature_template)\n",
    "reload(feature_stratosphere)\n",
    "reload(tdmc_obj)\n",
    "feat_strat = feature_stratosphere.WinterStratosphereFeatures()\n",
    "feat_strat.set_event_seasonal_params()\n",
    "feat_strat.set_ab_code()\n",
    "plt.rcParams.update({\"font.size\": 18, \"font.family\": \"monospace\"})"
   ]
  },
  {
   "cell_type": "markdown",
   "metadata": {},
   "source": [
    "Algorithmic parameters"
   ]
  },
  {
   "cell_type": "code",
   "execution_count": 23,
   "metadata": {},
   "outputs": [],
   "source": [
    "max_delay_list = [1, 2, 5, 10, 15][2:3]\n",
    "num_clusters_list = [50, 100, 150][2:]\n",
    "clust_bndy_choice = \"half\""
   ]
  },
  {
   "cell_type": "code",
   "execution_count": null,
   "metadata": {},
   "outputs": [
    {
     "name": "stdout",
     "output_type": "stream",
     "text": [
      "----------- Time delay 5 -------------\n",
      "-------- 150 clusters ------------\n",
      "max_tau_sums are all < 0.0\n",
      "Solved for the lead time moments\n",
      "For uthresh -52 and s2 data, rates are 0.0 from A, 0.0 to B\n",
      "max_tau_sums are all < 1.0\n",
      "Solved for the lead time moments\n",
      "For uthresh -48 and s2 data, rates are 0.0004447910408533158 from A, 0.0004447910408533157 to B\n",
      "max_tau_sums are all < 1.0\n",
      "Solved for the lead time moments\n",
      "For uthresh -44 and s2 data, rates are 0.0004447910408533169 from A, 0.0004447910408533167 to B\n",
      "max_tau_sums are all < 1.0\n",
      "Solved for the lead time moments\n",
      "For uthresh -40 and s2 data, rates are 0.0015704913662346668 from A, 0.001570491366234666 to B\n"
     ]
    }
   ],
   "source": [
    "for max_delay in max_delay_list[::-1]:\n",
    "    print(f\"----------- Time delay {max_delay} -------------\")\n",
    "    for num_clusters in num_clusters_list:\n",
    "        print(f\"-------- {num_clusters} clusters ------------\")\n",
    "        resultdir = join(filedict[\"results\"][\"dga\"], f\"cl{num_clusters}_md{max_delay}\")\n",
    "        os.makedirs(resultdir, exist_ok=True)\n",
    "        \n",
    "        if False and build_msm_flag:\n",
    "            msm_feature_names = [f\"ubar_10_60_delay{d}\" for d in np.arange(max_delay)] \n",
    "            year_subset = np.arange(1996,2016)\n",
    "            szn_stats_e5,msm_info = feat_strat.build_msm(\n",
    "                max_delay, feat_all, feat_tpt, year_subset, msm_feature_names, resultdir, km_seed=43, num_clusters=num_clusters, \n",
    "            )\n",
    "\n",
    "            szn_stats_e5.to_netcdf(join(resultdir, \"szn_stats_e5.nc\"))\n",
    "\n",
    "        if dga_flag:\n",
    "            szn_stats_e5 = xr.open_dataset(join(resultdir, \"szn_stats_e5.nc\"))\n",
    "            msm_info = pickle.load(open(join(resultdir, \"msm_info\"), \"rb\"))\n",
    "            feat_strat.dga_from_msm(\n",
    "                msm_info, feat_tpt, szn_stats_e5, t_thresh_list, \n",
    "                u_thresh_list, resultdir, clust_bndy_choice)\n",
    "\n",
    "        "
   ]
  },
  {
   "cell_type": "code",
   "execution_count": null,
   "metadata": {},
   "outputs": [],
   "source": [
    "def softlogit(q):\n",
    "    eps = 1e-10\n",
    "    qlogit = np.log(np.maximum(q, eps) / np.maximum(1-q, eps))\n",
    "    qlogit = qlogit.where((q > eps)*(q > 1-eps))\n",
    "    return qlogit\n",
    "def softlog(q):\n",
    "    eps = 1e-10\n",
    "    qlog = np.log(np.maximum(q, eps))\n",
    "    qlog = qlog.where(q > eps)\n",
    "    return qlog"
   ]
  },
  {
   "cell_type": "code",
   "execution_count": null,
   "metadata": {},
   "outputs": [],
   "source": [
    "# Evaluate the specific choice of clustering by looking at the (normalized) log-likelihood\n",
    "if tune_hyperparameters_flag:\n",
    "    tau_max = 20\n",
    "    for t_thresh in t_thresh_list:\n",
    "        qp_lim_skill = xr.DataArray(\n",
    "            coords={\"u_thresh\": u_thresh_list, \"max_delay\": max_delay_list, \"num_clusters\": num_clusters_list},\n",
    "            dims=[\"u_thresh\",\"max_delay\",\"num_clusters\"],\n",
    "            data=np.nan\n",
    "        )\n",
    "        for u_thresh in u_thresh_list[::-1]: #[::-1]:\n",
    "            print(f\"-------------- U thresh {u_thresh}-------------------\")\n",
    "            feat_strat.set_ab_boundaries(t_thresh[0], t_thresh[1], u_thresh)\n",
    "            ab_tag_s2 = feat_strat.ab_test(feat_tpt[\"s2\"])\n",
    "            cej_s2 = feat_strat.cotton_eye_joe(feat_tpt[\"s2\"], ab_tag_s2, \"timesteps\")\n",
    "            qp_limited_s2 = 1.0*(cej_s2.sel(sense=\"until\",state=\"B\") <= tau_max).sel(\n",
    "                t_sim=cej_s2[\"t_sim\"].values[-1]-tau_max-3)\n",
    "            comm_s2 = feat_strat.estimate_empirical_committor(cej_s2)\n",
    "            for max_delay in max_delay_list[::-1]:\n",
    "                #print(f\"----------- Time delay {max_delay} -------------\")\n",
    "                for num_clusters in num_clusters_list:\n",
    "                    #print(f\"-------- {num_clusters} clusters ------------\")\n",
    "                    resultdir = join(filedict[\"results\"][\"dga\"], f\"cl{num_clusters}_md{max_delay}\")\n",
    "                    tau_pmf = pickle.load(open(join(\n",
    "                        filedict[\"results\"][\"dga\"], f\"cl{num_clusters}_md{max_delay}\", \n",
    "                        f\"dga_results_s2_{t_thresh[0]}-{t_thresh[1]}_u{u_thresh}\"), \"rb\"))[\"tau_pmf\"]\n",
    "                    msm_info = pickle.load(open(join(\n",
    "                        filedict[\"results\"][\"dga\"], f\"cl{num_clusters}_md{max_delay}\", \n",
    "                        f\"msm_info\"), \"rb\"))\n",
    "                    # Calculate an integrated error metric \n",
    "                    tau_leq46 = [np.nansum(tau_pmf[i][:tau_max], axis=0) for i in range(len(tau_pmf))]\n",
    "                    qp_limited_dga = feat_strat.broadcast_field_msm2dataarray(\n",
    "                        msm_info[\"s2\"], tau_leq46).sel(t_sim=cej_s2[\"t_sim\"].values[-1]-tau_max-3)\n",
    "                    print(f\"dga tpmf: fracfinite = {np.mean(np.isfinite(qp_limited_dga.values))}\")\n",
    "                    print(f\"min and max: {np.nanmin(qp_limited_dga.values)}, {np.nanmax(qp_limited_dga.values)}\")\n",
    "\n",
    "                    # Compute normalized log likelihood\n",
    "                    clim_prob = qp_limited_s2.to_numpy().mean()\n",
    "                    if (clim_prob > 0) and (clim_prob < 1):\n",
    "                        ll_centered = (\n",
    "                            (qp_limited_s2*softlog(qp_limited_dga/clim_prob)).sum()\n",
    "                            + ((1-qp_limited_s2)*softlog((1-qp_limited_dga)/(1-clim_prob))).sum()\n",
    "                        )\n",
    "                        ll_centered_optimal = (\n",
    "                            (qp_limited_s2*softlog(qp_limited_s2/clim_prob)).sum()\n",
    "                            + ((1-qp_limited_s2)*softlog((1-qp_limited_s2)/(1-clim_prob))).sum()\n",
    "                        )\n",
    "                        qp_lim_skill.loc[dict(u_thresh=u_thresh,max_delay=max_delay,num_clusters=num_clusters)] = (\n",
    "                            ll_centered / ll_centered_optimal\n",
    "                        )    \n",
    "                        print(f\"clim_prob = {clim_prob}; ll_centered = {ll_centered.values}; ll_centered_optimal = {ll_centered_optimal.values}\")\n",
    "        qp_lim_skill.to_netcdf(join(filedict[\"results\"][\"dga\"], f\"qp_lim_skill_{t_thresh[0]}-{t_thresh[1]}.nc\"))\n",
    "        del qp_lim_skill"
   ]
  },
  {
   "cell_type": "code",
   "execution_count": null,
   "metadata": {},
   "outputs": [],
   "source": [
    "for t_thresh in t_thresh_list:\n",
    "    qp_lim_skill = xr.open_dataarray(join(filedict[\"results\"][\"dga\"], f\"qp_lim_skill_{t_thresh[0]}-{t_thresh[1]}.nc\"))\n",
    "    fig,ax = plt.subplots()\n",
    "    fig.set_facecolor(\"white\")\n",
    "    xr.plot.pcolormesh(\n",
    "        qp_lim_skill.mean(dim=\"u_thresh\"),\n",
    "        x=\"max_delay\",y=\"num_clusters\",cmap=\"cividis\")\n",
    "    ax.set_xlabel(\"Delays [days]\")\n",
    "    ax.set_ylabel(\"Number of clusters\")\n",
    "    ax.set_title(\"Normalized skill\")\n",
    "    fig.savefig(join(filedict[\"results\"][\"dga\"], f\"qplim_skill_plot_{t_thresh[0]}-{t_thresh[1]}\"))"
   ]
  },
  {
   "cell_type": "code",
   "execution_count": null,
   "metadata": {},
   "outputs": [],
   "source": [
    "# Plot the loss as a function of zonal wind threshold\n",
    "for t_thresh in t_thresh_list:\n",
    "    qp_lim_skill = xr.open_dataarray(join(filedict[\"results\"][\"dga\"], f\"qp_lim_skill_{t_thresh[0]}-{t_thresh[1]}.nc\"))\n",
    "    fig,ax = plt.subplots()\n",
    "    fig.set_facecolor(\"white\")\n",
    "    pairs2plot = [[2,50],[5,50],[5,150],[15,150]]\n",
    "    handles = []\n",
    "    for p in pairs2plot:\n",
    "        h, = xr.plot.plot(\n",
    "            qp_lim_skill.sel(max_delay=p[0],num_clusters=p[1]), \n",
    "            x=\"u_thresh\", label=f\"{p[0]} delays, {p[1]} clusters\")\n",
    "        handles += [h]\n",
    "    ax.legend(handles=handles, bbox_to_anchor=(1.0,-0.2))\n",
    "    ax.set_title(\"\")\n",
    "    ax.set_xlabel(\"$U^{\\mathrm{(th)}}$\")\n",
    "    ax.set_ylabel(\"Normalized skill\")\n",
    "    fig.savefig(join(filedict[\"results\"][\"dga\"], f\"qplim_skill_vs_uth_{t_thresh[0]}-{t_thresh[1]}\"))\n",
    "    #plt.close(fig)"
   ]
  },
  {
   "cell_type": "markdown",
   "metadata": {},
   "source": [
    "Apparently, an delay of 5 and a cluster number of 150 is all-around optimal."
   ]
  },
  {
   "cell_type": "code",
   "execution_count": null,
   "metadata": {},
   "outputs": [],
   "source": [
    "max_delay_opt = 5\n",
    "num_clusters_opt = 150"
   ]
  },
  {
   "cell_type": "markdown",
   "metadata": {},
   "source": [
    "# Compute error bars for the chosen MSM by repeating the analysis with many randomly chosen subsets."
   ]
  },
  {
   "cell_type": "code",
   "execution_count": null,
   "metadata": {},
   "outputs": [],
   "source": [
    "feat_all[\"s2\"][\"time_observable\"].isel(t_init=range(10),member=0,t_sim=0).sel(feature=\"t_cal\")"
   ]
  },
  {
   "cell_type": "code",
   "execution_count": null,
   "metadata": {},
   "outputs": [],
   "source": [
    "feat_all[\"s2\"][\"time_observable\"].feature"
   ]
  },
  {
   "cell_type": "code",
   "execution_count": null,
   "metadata": {},
   "outputs": [],
   "source": [
    "feat_all[\"s2\"][\"time_observable\"].isel(t_init=[0,1,0,0,0]).shape"
   ]
  },
  {
   "cell_type": "code",
   "execution_count": null,
   "metadata": {},
   "outputs": [],
   "source": [
    "\n",
    "rng = default_rng(seed=123)\n",
    "num_boot = 10\n",
    "all_years = np.arange(1996,2016)\n",
    "year_subsets = rng.choice(all_years, size=(num_boot, len(all_years)), replace=True)\n",
    "year_szn_start = feat_all[\"s2\"][\"time_observable\"].isel(t_sim=0,member=0).sel(feature=\"year_szn_start\").to_numpy()\n"
   ]
  },
  {
   "cell_type": "code",
   "execution_count": null,
   "metadata": {},
   "outputs": [],
   "source": [
    "for i_boot in range(num_boot):\n",
    "    resultdir = join(filedict[\"results\"][\"dga\"], f\"cl{num_clusters_opt}_md{max_delay_opt}\", \"boot{i_boot}\")\n",
    "    os.makedirs(resultdir, exist_ok=True)\n",
    "    \n",
    "    if build_msm_flag:\n",
    "        msm_feature_names = [f\"ubar_10_60_delay{d}\" for d in np.arange(max_delay)] \n",
    "        szn_stats_e5,msm_info = feat_strat.build_msm(\n",
    "            max_delay, feat_all, feat_tpt, year_subsets[i_boot], msm_feature_names, resultdir, km_seed=43, num_clusters=num_clusters, \n",
    "        )\n",
    "\n",
    "        szn_stats_e5.to_netcdf(join(resultdir, \"szn_stats_e5.nc\"))\n",
    "\n",
    "    if dga_flag:\n",
    "        szn_stats_e5 = xr.open_dataset(join(resultdir, \"szn_stats_e5.nc\"))\n",
    "        msm_info = pickle.load(open(join(resultdir, \"msm_info\"), \"rb\"))\n",
    "        feat_strat.dga_from_msm(\n",
    "            msm_info, feat_tpt, szn_stats_e5, t_thresh_list, \n",
    "            u_thresh_list, resultdir, clust_bndy_choice)\n"
   ]
  },
  {
   "cell_type": "markdown",
   "metadata": {},
   "source": [
    "# Plot all the results together, regarding rates"
   ]
  },
  {
   "cell_type": "code",
   "execution_count": null,
   "metadata": {},
   "outputs": [],
   "source": [
    "!ls {filedict[\"results\"][\"dga\"]}"
   ]
  },
  {
   "cell_type": "code",
   "execution_count": null,
   "metadata": {},
   "outputs": [],
   "source": [
    "i_tth = 1\n",
    "t_thresh = t_thresh_list[i_tth]\n",
    "\n",
    "rate_e5 = xr.open_dataarray(join(filedict[\"results\"][\"pathcounting\"], f\"rate_pathcounting_e5_{t_thresh[0]}-{t_thresh[1]}.nc\"))\n",
    "rate_s2 = xr.open_dataarray(join(filedict[\"results\"][\"pathcounting\"], f\"rate_pathcounting_s2_{t_thresh[0]}-{t_thresh[1]}.nc\"))\n",
    "rate_s2 = rate_s2.where(rate_s2 > 0)\n",
    "\n",
    "\n",
    "fig,ax = plt.subplots(figsize=(10,8))\n",
    "fig.set_facecolor(\"white\")\n",
    "handles = []\n",
    "ax.set_yscale(\"log\")\n",
    "ax.set_xlabel(\"$\\overline{u}$(10 hPa, 60$^\\circ$N) threshold [m/s]\", fontsize=23)\n",
    "ax.set_ylabel(\"Rate [years$^{-1}$]\", fontsize=23)\n",
    "ax.set_title(f\"{t_thresh_string_list[i_tth]} SSW rates\", fontsize=23)\n",
    "ax.set_ylim([1e-5,1])\n",
    "ax.set_xlim([u_thresh_list.min()-3, u_thresh_list.max()+3])\n",
    "ax.set_xticks(np.arange(-50,1,10))\n",
    "\n",
    "# --------------- Method 0: direct counting from ERA5 --------------\n",
    "h, = ax.plot(\n",
    "    rate_e5[\"u_thresh\"], rate_e5.where(rate_e5>0).sel(falls=\"1959-2019\"), \n",
    "    color=\"darkorange\", marker='o', linewidth=2, label=\"ERA5 (1959-2019)\"\n",
    ")\n",
    "handles = [h] + handles\n",
    "h, = ax.plot(\n",
    "    rate_e5[\"u_thresh\"], rate_e5.where(rate_e5>0).sel(falls=\"1996-2015\"), \n",
    "    color=\"dodgerblue\", marker='o', linewidth=2, label=\"ERA5 (1996-2015)\"\n",
    ")\n",
    "handles = [h] + handles\n",
    "ax.legend(handles=handles[::-1], fontsize=\"large\", loc=\"lower right\")\n",
    "fig.savefig(join(filedict[\"results\"][\"shared\"], f\"rates_itth{i_tth}_0\"), bbox_inches=\"tight\")\n",
    "\n",
    "# --------------- Method 1: upper and lower bounds from S2S ---------\n",
    "if False:\n",
    "    ax.plot(rate_s2[\"u_thresh\"], rate_s2.sel(bound=\"lower\"), color=\"red\", marker='o')\n",
    "    h, = ax.plot(\n",
    "        rate_s2[\"u_thresh\"], rate_s2.sel(bound=\"upper\"), \n",
    "        color=\"red\", marker='o', label=r\"Path-counting\"\n",
    "    )\n",
    "    handles = [h] + handles\n",
    "    ax.legend(handles=handles[::-1], fontsize=\"large\", loc=\"lower right\")\n",
    "    fig.savefig(join(filedict[\"results\"][\"shared\"], f\"rates_itth{i_tth}_1\"), bbox_inches=\"tight\")\n",
    "\n",
    "# --------------- Method 2: direct estimate from S2S --------------\n",
    "# Additionally plot Ed's estimate\n",
    "h, = ax.plot(rate_s2[\"u_thresh\"], rate_s2.sel(bound=\"ed\"), color=\"black\", marker=\"o\", label=\"Flux-counting\")\n",
    "handles = [h] + handles\n",
    "ax.legend(handles=handles[::-1], fontsize=\"large\", loc=\"lower right\")\n",
    "fig.savefig(join(filedict[\"results\"][\"shared\"], f\"rates_itth{i_tth}_2\"), bbox_inches=\"tight\")\n",
    "\n",
    "\n",
    "# ---------------------- Method 3: DGA (one result at a time) -----------------------------\n",
    "for max_delay in max_delay_list:\n",
    "    for num_clusters in num_clusters_list:    \n",
    "        dga_rates = pickle.load(\n",
    "            open(join(filedict[\"results\"][\"dga\"], f\"cl{num_clusters}_md{max_delay}\", \n",
    "                      f\"dga_rates_{t_thresh[0]}-{t_thresh[1]}\"), \"rb\")\n",
    "        )[\"s2\"]\n",
    "        dga_rates[dga_rates==0] = np.nan\n",
    "        h, = ax.plot(u_thresh_list, dga_rates, color='purple', linestyle='--', \n",
    "                     linewidth=3, label=\"MSM\", zorder=-1, alpha=1)\n",
    "        handles = [h] + handles\n",
    "        ax.legend(handles=handles[::-1], fontsize=\"large\", loc=\"lower right\")\n",
    "        fig.savefig(join(filedict[\"results\"][\"dga\"], f\"cl{num_clusters}_md{max_delay}\", f\"rates_itth{i_tth}\"), bbox_inches=\"tight\")\n",
    "        # Remove it\n",
    "        h.remove()\n",
    "        handles.pop(0)\n",
    "\n",
    "# ---------------- All DGA results together ---------------\n",
    "for max_delay in max_delay_list:\n",
    "    for num_clusters in num_clusters_list:    \n",
    "        dga_rates = pickle.load(\n",
    "            open(join(filedict[\"results\"][\"dga\"], f\"cl{num_clusters}_md{max_delay}\", \n",
    "                      f\"dga_rates_{t_thresh[0]}-{t_thresh[1]}\"), \"rb\")\n",
    "        )[\"s2\"]\n",
    "        dga_rates[dga_rates==0] = np.nan\n",
    "        h, = ax.plot(u_thresh_list, dga_rates, color='purple', linestyle='-', \n",
    "                     linewidth=3, label=\"MSM\", zorder=-1, alpha=0.25)\n",
    "handles = [h] + handles\n",
    "ax.legend(handles=handles[::-1], fontsize=\"large\", loc=\"lower right\")\n",
    "fig.savefig(join(filedict[\"results\"][\"shared\"], f\"rates_itth{i_tth}_3\"), bbox_inches=\"tight\")\n",
    "\n",
    "# ----------------------- Method 4: LIM -----------------------------\n",
    "if False:\n",
    "    for src in [\"e5\",\"s2\"]:\n",
    "        h, = ax.plot(\n",
    "            rate_lim[src][\"u_thresh\"].values, \n",
    "            rate_lim[src].isel(i_tth=i_tth).values, color=dispdict[src][\"color\"], \n",
    "            linestyle='--', linewidth=3, label=f\"{dispdict[src]['abbrv']} LIM\")\n",
    "        handles = [h] + handles\n",
    "    ax.legend(handles=handles, fontsize=\"large\", loc=\"lower right\")\n",
    "    \n",
    "fig.savefig(join(filedict[\"results\"][\"shared\"], f\"results_itth{i_tth}_4\"), bbox_inches=\"tight\")\n"
   ]
  },
  {
   "cell_type": "markdown",
   "metadata": {},
   "source": [
    "TODO: plot some integrated error metric and plot it against the cluster number and delay."
   ]
  },
  {
   "cell_type": "markdown",
   "metadata": {},
   "source": [
    "# Find the important features"
   ]
  },
  {
   "cell_type": "markdown",
   "metadata": {},
   "source": [
    "### Do a sparse linear regression over features. "
   ]
  },
  {
   "cell_type": "code",
   "execution_count": null,
   "metadata": {},
   "outputs": [],
   "source": [
    "i_tth = 1\n",
    "t_thresh = t_thresh_list[i_tth]\n",
    "num_clusters = num_clusters_opt\n",
    "max_delay = max_delay_opt\n",
    "\n",
    "delays = np.arange(max_delay)\n",
    "szn_stats_e5 = xr.open_dataset(join(filedict[\"results\"][\"dga\"], f\"cl{num_clusters}_md{max_delay}\", \"szn_stats_e5.nc\"))\n",
    "msm_info = pickle.load(open(join(filedict[\"results\"][\"dga\"], f\"cl{num_clusters}_md{max_delay}\", \"msm_info\"), \"rb\"))\n",
    "\n",
    "t_bounds = [t_thresh[0], t_thresh[0]+30]\n",
    "\n",
    "\n",
    "feats2regress = [f\"ubar_{lev}_60_delay{d}\" for lev in [10,100,500,850] for d in delays]\n",
    "feats2regress_labels = [r\"$\\overline{u}$(%i hPa, 60$^\\circ$N, t-%i)\"%(lev,d) for lev in [10,100,500,850] for d in delays]\n",
    "feats2regress += [f\"vT_{lev}_{wn}_runavg10\" for lev in [10,100,500,850] for wn in [0,1,2]]\n",
    "feats2regress_labels += [r\"$\\overline{vT}$(%i hPa, 60$^\\circ$N, wave-%i, 10-day mean)\"%(lev,wn) for lev in [10,100,500,850] for wn in [0,1,2]]\n",
    "stackmap = dict({\"sample\": [\"t_init\",\"member\",\"t_sim\"]})\n",
    "X = (\n",
    "    feat_tpt[\"s2\"].sel(feature=feats2regress)\n",
    "    .stack(stackmap).transpose(\"sample\",\"feature\")\n",
    ")"
   ]
  },
  {
   "cell_type": "code",
   "execution_count": null,
   "metadata": {},
   "outputs": [],
   "source": [
    "# Store regression results in a dataarray\n",
    "if regress_over_features_flag:\n",
    "    reg_coef = xr.DataArray(\n",
    "        coords={\"u_thresh\": u_thresh_list, \"feature\": feats2regress, \"target\": [\"committor\",\"leadtime\"]}, \n",
    "        dims=[\"u_thresh\",\"feature\",\"target\"], data=np.nan)\n",
    "    reg_bias = xr.DataArray(\n",
    "        coords={\"u_thresh\": u_thresh_list, \"target\": [\"committor\",\"leadtime\"]},\n",
    "        dims=[\"u_thresh\",\"target\"], data=np.nan)\n",
    "    reg_rsq = xr.DataArray(\n",
    "        coords={\"u_thresh\": u_thresh_list, \"target\": [\"committor\",\"leadtime\"]}, \n",
    "        dims=[\"u_thresh\",\"target\"], data=np.nan)\n",
    "\n",
    "    dec_imp = xr.DataArray(\n",
    "        coords={\"u_thresh\": u_thresh_list, \"feature\": feats2regress, \"target\": [\"committor\",\"leadtime\"]}, \n",
    "        dims=[\"u_thresh\",\"feature\",\"target\"], data=np.nan)\n",
    "    dec_rsq = xr.DataArray(\n",
    "        coords={\"u_thresh\": u_thresh_list, \"target\": [\"committor\",\"leadtime\"]}, \n",
    "        dims=[\"u_thresh\",\"target\"], data=np.nan)\n",
    "\n",
    "    for i_uth in range(1,len(u_thresh_list)):\n",
    "        u_thresh = u_thresh_list[i_uth]\n",
    "        print(f\"Beginning regression in threshold {u_thresh}\")\n",
    "        feat_strat.set_ab_boundaries(t_thresh[0], t_thresh[1], u_thresh)\n",
    "        dga_results = pickle.load(open(join(filedict[\"results\"][\"dga\"], f\"cl{num_clusters}_md{max_delay}\", f\"dga_results_s2_{t_thresh[0]}-{t_thresh[1]}_u{u_thresh}\"), \"rb\"))\n",
    "        qp = dict({\n",
    "            \"s2\": feat_strat.broadcast_field_msm2dataarray(msm_info[\"s2\"], dga_results[\"qp\"]), #\"e5\": comm_e5.sel(sense=\"until\"),\n",
    "        })\n",
    "        eta = dict({\n",
    "            \"s2\": feat_strat.broadcast_field_msm2dataarray(msm_info[\"s2\"], dga_results[\"leadtime\"][\"mean\"]), #\"e5\": comm_e5.sel(sense=\"until\"),\n",
    "        })\n",
    "        Y_qp = qp[\"s2\"].stack(stackmap)\n",
    "        Y_eta = eta[\"s2\"].stack(stackmap)\n",
    "        t_szn = feat_tpt[\"s2\"].sel(feature=\"t_szn\").stack(stackmap)\n",
    "\n",
    "        idx2fit_candidates = np.where(\n",
    "            (t_szn >= t_bounds[0]) * (t_szn < t_bounds[1])\n",
    "            * np.all(np.isfinite(X.values), axis=1) * np.isfinite(Y_qp.values)\n",
    "            * (Y_qp > 1e-6) * (1-Y_qp > 1e-6)\n",
    "        )[0]\n",
    "        if len(idx2fit_candidates) > 0:\n",
    "            idx2fit = np.random.choice(idx2fit_candidates, size=min(1000,len(idx2fit_candidates)), replace=True)\n",
    "            Y_transformed = dict({\n",
    "                \"committor\":  np.log(Y_qp.values[idx2fit] / (1 - Y_qp.values[idx2fit])),\n",
    "                \"leadtime\": np.log(Y_eta.values[idx2fit])\n",
    "            })\n",
    "            for target in [\"committor\",\"leadtime\"]:\n",
    "                # ----------- Lasso regression -----------\n",
    "                reg = Lasso(alpha=0.1).fit(X.values[idx2fit], Y_transformed[target])\n",
    "                reg_bias.loc[dict(u_thresh=u_thresh,target=target)] = reg.intercept_\n",
    "                reg_coef.loc[dict(u_thresh=u_thresh,target=target)] = reg.coef_\n",
    "                reg_rsq.loc[dict(u_thresh=u_thresh,target=target)] = reg.score(X.values[idx2fit], Y_transformed[target])\n",
    "                # ------- Decision tree regression --------\n",
    "                #dec = tree.DecisionTreeRegressor(\n",
    "                dec = RandomForestRegressor(n_estimators=10,\n",
    "                    max_depth=3).fit(X.values[idx2fit], Y_transformed[target])\n",
    "                dec_imp.loc[dict(u_thresh=u_thresh,target=target)] = dec.feature_importances_\n",
    "                dec_rsq.loc[dict(u_thresh=u_thresh,target=target)] = dec.score(X.values[idx2fit], Y_transformed[target])\n",
    "\n",
    "    dectree = xr.Dataset(data_vars={\"importance\": dec_imp, \"rsq\": dec_rsq})\n",
    "    dectree.to_netcdf(join(filedict[\"results\"][\"dga\"], \"dectree.nc\"))\n",
    "    lassreg = xr.Dataset(data_vars={\"bias\": reg_bias, \"coef\": reg_coef, \"rsq\": reg_rsq})\n",
    "    lassreg.to_netcdf(join(filedict[\"results\"][\"dga\"], \"lassreg.nc\"))"
   ]
  },
  {
   "cell_type": "code",
   "execution_count": null,
   "metadata": {},
   "outputs": [],
   "source": [
    "dectree = xr.open_dataset(join(filedict[\"results\"][\"dga\"], \"dectree.nc\")).isel(u_thresh=slice(1,None))\n",
    "lassreg = xr.open_dataset(join(filedict[\"results\"][\"dga\"], \"lassreg.nc\")).isel(u_thresh=slice(1,None))"
   ]
  },
  {
   "cell_type": "markdown",
   "metadata": {},
   "source": [
    "## Plot regression coefficients "
   ]
  },
  {
   "cell_type": "code",
   "execution_count": null,
   "metadata": {},
   "outputs": [],
   "source": [
    "target_labels = dict({\"committor\": \"Committor\", \"leadtime\": \"Lead time\"})\n",
    "for target in [\"committor\",\"leadtime\"]:\n",
    "    fig,axes = plt.subplots(\n",
    "        ncols=2, nrows=2, figsize=(15,22), sharex=True, sharey='row', \n",
    "        gridspec_kw={\"width_ratios\": [1,1], \"height_ratios\": [3,1]})\n",
    "    fig.set_facecolor(\"white\")\n",
    "    #fig.suptitle(f\"{target_labels[target]} regression\")\n",
    "    fig.subplots_adjust(top=0.99,hspace=0.15)\n",
    "    \n",
    "    divider0 = make_axes_locatable(axes[0,0])\n",
    "    cax0 = divider0.append_axes(\"top\", size=\"7%\", pad=\"0.5%\")\n",
    "    divider1 = make_axes_locatable(axes[0,1])\n",
    "    cax1 = divider1.append_axes(\"top\", size=\"7%\", pad=\"0.5%\")\n",
    "    \n",
    "    cax1.set_title(\"Random forest importances\")\n",
    "    cax0.set_title(\"LASSO coefficients\")\n",
    "    cax1.axis(\"off\")\n",
    "    cax0.axis(\"off\")\n",
    "    \n",
    "    ax = axes[0,1]\n",
    "    xr.plot.pcolormesh(\n",
    "        dectree[\"importance\"].sel(target=target)\n",
    "        .assign_coords({\"feature\": np.arange(len(feats2regress))}), \n",
    "        x=\"u_thresh\", y=\"feature\", cmap=plt.cm.magma_r, ax=ax, #cbar_ax=axes[0,0],\n",
    "        cbar_kwargs={\"orientation\": \"horizontal\", \"pad\": 0.0, \n",
    "                     \"ax\": cax1, \"fraction\": 1.0, \"label\": \"\"})        \n",
    "    ax.set_ylabel(\"\")\n",
    "    ax.set_xlabel(r\"$U^{\\mathrm{(th)}}$\")\n",
    "    ax.set_ylabel(\"\")\n",
    "    ax.xaxis.set_tick_params(which=\"both\", labelbottom=True)\n",
    "    ax.set_title(\"\")\n",
    "    \n",
    "    ax = axes[0,0]\n",
    "    xr.plot.pcolormesh(\n",
    "        lassreg[\"coef\"].sel(target=target)\n",
    "        .assign_coords({\"feature\": np.arange(len(feats2regress))}), \n",
    "        x=\"u_thresh\", y=\"feature\", cmap=plt.cm.seismic_r, ax=ax, #cbar_ax=axes[0,1],\n",
    "        cbar_kwargs={\"orientation\": \"horizontal\", \"pad\": 0.0, \n",
    "                     \"ax\": cax0, \"fraction\": 1.0, \"label\": \"\"})\n",
    "    ax.set_xlabel(r\"$U^{\\mathrm{(th)}}$\")\n",
    "    \n",
    "    ax.set_yticks(np.arange(len(feats2regress)))\n",
    "    ax.set_yticklabels(feats2regress_labels)\n",
    "    ax.set_ylabel(\"\")\n",
    "    ax.xaxis.set_tick_params(which=\"both\", labelbottom=True)\n",
    "    ax.set_title(\"\")\n",
    "    \n",
    "    ax = axes[1,1]\n",
    "    h_rsq, = xr.plot.plot(\n",
    "        dectree[\"rsq\"].sel(target=target), x=\"u_thresh\",\n",
    "        ax=ax, color=\"red\", label=\"$R^2$\")\n",
    "    h_sps, = xr.plot.plot(\n",
    "        (dectree[\"importance\"]==0).sel(target=target).mean(dim=\"feature\"), x=\"u_thresh\",\n",
    "        ax=ax, color=\"black\", label=\"sparsity\")\n",
    "    ax.legend(handles=[h_rsq,h_sps])\n",
    "    ax.set_ylabel(r\"\")\n",
    "    ax.set_xlabel(r\"$U^{\\mathrm{(th)}}$\")\n",
    "    ax.set_ylim([0,1])\n",
    "    ax.set_title(\"Random forest performance\")\n",
    "    \n",
    "    ax = axes[1,0]\n",
    "    h_rsq, = xr.plot.plot(\n",
    "        lassreg[\"rsq\"].sel(target=target), x=\"u_thresh\",\n",
    "        ax=ax, color=\"red\", label=\"$R^2$\")\n",
    "    h_sps, = xr.plot.plot(\n",
    "        (lassreg[\"coef\"]==0).sel(target=target).mean(dim=\"feature\"), x=\"u_thresh\",\n",
    "        ax=ax, color=\"black\", label=\"sparsity\")\n",
    "    ax.legend(handles=[h_rsq,h_sps])\n",
    "    ax.set_ylabel(\"\")\n",
    "    ax.set_xlabel(r\"$U^{\\mathrm{(th)}}$\")\n",
    "    ax.set_ylim([0,1])\n",
    "    ax.set_title(\"LASSO performance\")\n",
    "    \n",
    "    fig.savefig(join(filedict[\"results\"][\"shared\"], f\"coefs_uthall_{target}\"))"
   ]
  },
  {
   "cell_type": "markdown",
   "metadata": {},
   "source": [
    "## Plot some pictures of the committor and lead time."
   ]
  },
  {
   "cell_type": "code",
   "execution_count": null,
   "metadata": {},
   "outputs": [],
   "source": [
    "reload(tpt_utils)\n",
    "reload(feature_template)\n",
    "reload(feature_stratosphere)\n",
    "feat_strat = feature_stratosphere.WinterStratosphereFeatures()\n",
    "feat_strat.set_event_seasonal_params()\n",
    "feat_strat.set_ab_code()\n",
    "plt.rcParams.update({\"font.size\": 18, \"font.family\": \"monospace\"})"
   ]
  },
  {
   "cell_type": "markdown",
   "metadata": {},
   "source": [
    "lead time PMF"
   ]
  },
  {
   "cell_type": "code",
   "execution_count": null,
   "metadata": {},
   "outputs": [],
   "source": [
    "i_tth = 1\n",
    "num_clusters = 150\n",
    "max_delay = 5\n",
    "t_thresh = t_thresh_list[i_tth]\n",
    "t_thresh_str = ([\n",
    "    (\n",
    "        datetime.date(1901, feat_strat.szn_start['month'], feat_strat.szn_start['day'])\n",
    "    ).strftime(\"%b %d\")\n",
    "    for i in range(2)]\n",
    ")"
   ]
  },
  {
   "cell_type": "code",
   "execution_count": null,
   "metadata": {},
   "outputs": [],
   "source": [
    "qplimited_labels = dict({\"s2\": \"S2S\", \"dga\": \"MSM\"})\n",
    "for tau_max in [20]:\n",
    "    for i_uth in [9,11,13]: #np.arange(1,len(u_thresh_list),4):\n",
    "        u_thresh = u_thresh_list[i_uth]\n",
    "        szn_stats_e5 = xr.open_dataset(join(filedict[\"results\"][\"dga\"], f\"cl{num_clusters}_md{max_delay}\", \"szn_stats_e5.nc\"))\n",
    "        msm_info = pickle.load(open(join(filedict[\"results\"][\"dga\"], f\"cl{num_clusters}_md{max_delay}\", \"msm_info\"), \"rb\"))\n",
    "\n",
    "\n",
    "        dga_results = pickle.load(open(join(filedict[\"results\"][\"dga\"], f\"cl{num_clusters}_md{max_delay}\", f\"dga_results_s2_{t_thresh[0]}-{t_thresh[1]}_u{u_thresh}\"), \"rb\"))\n",
    "        feat_strat.set_ab_boundaries(t_thresh[0], t_thresh[1], u_thresh)\n",
    "        ab_tag_e5 = feat_strat.ab_test(feat_tpt[\"e5\"])\n",
    "        cej_e5 = feat_strat.cotton_eye_joe(feat_tpt[\"e5\"], ab_tag_e5, \"timechunks\")\n",
    "        comm_e5 = feat_strat.estimate_empirical_committor(cej_e5)\n",
    "        ab_tag_s2 = feat_strat.ab_test(feat_tpt[\"s2\"])\n",
    "        cej_s2 = feat_strat.cotton_eye_joe(feat_tpt[\"s2\"], ab_tag_s2, \"timesteps\")\n",
    "        comm_s2 = feat_strat.estimate_empirical_committor(cej_s2)\n",
    "\n",
    "\n",
    "        qp = dict({\n",
    "            \"dga\": feat_strat.broadcast_field_msm2dataarray(msm_info[\"s2\"], dga_results[\"qp\"]), \n",
    "            \"e5\": comm_e5.sel(sense=\"until\"),\n",
    "            \"s2\": comm_s2.sel(sense=\"until\"),\n",
    "        })\n",
    "        qm = dict({\n",
    "            \"dga\": feat_strat.broadcast_field_msm2dataarray(msm_info[\"s2\"], dga_results[\"qm\"]), \n",
    "            \"e5\": comm_e5.sel(sense=\"since\"),\n",
    "            \"s2\": comm_s2.sel(sense=\"since\"),\n",
    "        })\n",
    "        pi = dict({\n",
    "            \"dga\": feat_strat.broadcast_field_msm2dataarray(msm_info[\"s2\"], dga_results[\"pi\"], density_flag=True), \n",
    "            \"e5\": xr.ones_like(qm[\"e5\"]),\n",
    "            \"s2\": xr.ones_like(qm[\"s2\"]),\n",
    "        })\n",
    "        eta = dict({\n",
    "            \"dga\": feat_strat.broadcast_field_msm2dataarray(msm_info[\"s2\"], dga_results[\"leadtime\"][\"mean\"]), \n",
    "        })\n",
    "        prob_ssw_46 = [np.nansum(tau_pmf[:tau_max+1], axis=0) for tau_pmf in dga_results[\"tau_pmf\"]]\n",
    "        qp_limited = dict({\n",
    "            \"dga\": feat_strat.broadcast_field_msm2dataarray(msm_info[\"s2\"], prob_ssw_46), \n",
    "            \"e5\": 1.0*(cej_e5.sel(sense=\"until\",state=\"B\") <= tau_max),\n",
    "            \"s2\": 1.0*(cej_s2.sel(sense=\"until\",state=\"B\") <= tau_max),\n",
    "        })\n",
    "\n",
    "        qp_vmin = min(qp[\"dga\"].where(qp[\"dga\"] > 0).min(), qp[\"s2\"].where(qp[\"s2\"] > 0).min())\n",
    "        qp_limited_vmin = min(qp_limited[\"dga\"].where(qp_limited[\"dga\"] > 0).min(), qp_limited[\"s2\"].where(qp_limited[\"s2\"] > 0).min())\n",
    "        qp_limited_vmax = max(qp_limited[\"dga\"].max(), qp_limited[\"s2\"].max())\n",
    "\n",
    "        for combo in np.arange(10)[::-1]:\n",
    "            if combo == 0:\n",
    "                feat_names = [\"vT_10_0_runavg10\",\"vT_10_1_runavg10\"]\n",
    "            elif combo == 1:\n",
    "                feat_names = [\"vT_100_0_runavg10\",\"vT_100_1_runavg10\"]\n",
    "            elif combo == 2:\n",
    "                feat_names = [\"ubar_10_60_delay0\",\"ubar_10_60_delay4\"]\n",
    "            elif combo == 3:\n",
    "                feat_names = [\"ubar_10_60_delay0\",\"vT_10_1_runavg10\"]\n",
    "            elif combo == 4:\n",
    "                feat_names = [\"ubar_10_60_delay0\",\"vT_100_1_runavg10\"]\n",
    "            # Now the individual components plotted against time \n",
    "            elif combo == 5:\n",
    "                feat_names = [\"t_szn\",\"ubar_10_60_delay0\"]\n",
    "            elif combo == 6:\n",
    "                feat_names = [\"t_szn\",\"vT_10_0_runavg10\"]\n",
    "            elif combo == 7:\n",
    "                feat_names = [\"t_szn\",\"vT_10_1_runavg10\"]\n",
    "            elif combo == 8:\n",
    "                feat_names = [\"t_szn\",\"vT_100_0_runavg10\"]\n",
    "            elif combo == 9:\n",
    "                feat_names = [\"t_szn\",\"vT_100_1_runavg10\"]\n",
    "                \n",
    "            # Random ones\n",
    "            elif combo == 16:\n",
    "                feat_names = [\"ubar_100_60_delay0\",\"ubar_500_60_delay0\"]\n",
    "                feat_labels = [r\"$\\overline{u}(100\\,\\mathrm{hPa},60^\\circ\\mathrm{N},t)$\", r\"$\\overline{u}(500\\,\\mathrm{hPa},60^\\circ\\mathrm{N},t)$\"]\n",
    "                             \n",
    "            feat_labels = [\"\",\"\"]\n",
    "            if feat_names[0] == \"t_szn\":\n",
    "                feat_labels[0] = \"\"\n",
    "                feat_labels[1] = feats2regress_labels[feats2regress.index(feat_names[1])] \n",
    "                t_bounds = [t_thresh[0], t_thresh[1]]\n",
    "            else:\n",
    "                feat_labels = [feats2regress_labels[feats2regress.index(fn)] for fn in feat_names]\n",
    "                t_bounds = [t_thresh[0], t_thresh[0] + 30]\n",
    "            # --------- Prepare features common to all plots -----------\n",
    "            date_bounds_str = ([\n",
    "                (\n",
    "                    datetime.date(1901, feat_strat.szn_start['month'], feat_strat.szn_start['day'])\n",
    "                    + datetime.timedelta(days=int(t_bounds[i]))\n",
    "                ).strftime(\"%b %d\")\n",
    "                for i in range(2)]\n",
    "            )\n",
    "            cond = (\n",
    "                (feat_tpt[\"s2\"].sel(feature=\"t_szn\") > t_bounds[0]) \n",
    "                * (feat_tpt[\"s2\"].sel(feature=\"t_szn\") < t_bounds[1])\n",
    "            )\n",
    "            stackmap = {\"sample\": (\"t_init\",\"member\",\"t_sim\")}\n",
    "            features = np.array([\n",
    "                feat_tpt[\"s2\"].where(cond).sel(feature=feat_names[0]).stack(stackmap).to_numpy().flatten(),\n",
    "                feat_tpt[\"s2\"].where(cond).sel(feature=feat_names[1]).stack(stackmap).to_numpy().flatten()\n",
    "            ]).T\n",
    "            # ------------------- Expected lead time ----------------------\n",
    "            src = \"dga\"\n",
    "            weight = pi[src].stack(stackmap).to_numpy().flatten()\n",
    "            fig,ax = plt.subplots(figsize=(8,8))\n",
    "            fig.set_facecolor('white')\n",
    "            field = eta[src].stack(stackmap).to_numpy().flatten()\n",
    "            tpt_utils.plot_field_2d(\n",
    "                field, weight, features, fig=fig, ax=ax, feat_names=feat_labels, \n",
    "                stat_name=\"mean\", \n",
    "                vmin=None, vmax=None, shp=[30,30], cmap=plt.cm.coolwarm_r, logscale=False, \n",
    "                pcolor_flag=False, contour_flag=True, cbar_flag=True\n",
    "            )\n",
    "            tpt_utils.plot_field_2d(\n",
    "                field, weight, features, fig=fig, ax=ax, feat_names=feat_labels, \n",
    "                stat_name=\"weightsum\", \n",
    "                vmin=None, vmax=None, shp=[30,30], cmap=plt.cm.coolwarm_r, logscale=True, \n",
    "                pcolor_flag=False, contour_empty_flag=True, cbar_flag=False, num_levels=5\n",
    "            )            \n",
    "            ax.set_title(r\"Expected lead time $\\eta^+$; $U^{\\mathrm{(th)}}=%i$\"%(u_thresh))\n",
    "            ax.set_xlabel(feat_labels[0])\n",
    "            ax.set_ylabel(feat_labels[1])\n",
    "            ax.xaxis.set_tick_params(which=\"both\", labelbottom=True)\n",
    "            ax.yaxis.set_tick_params(which=\"both\", labelbottom=True)\n",
    "            if feat_names[0] == \"t_szn\":\n",
    "                xticks, xticklabels = feat_strat.generate_seasonal_xticks(features[:,0])\n",
    "                print(f\"xticks = {xticks}, xticklabels = {xticklabels}\")\n",
    "                ax.set_xlabel(\"\")\n",
    "                ax.set_xticks(xticks)\n",
    "                ax.set_xticklabels(xticklabels)\n",
    "            fig.savefig(\n",
    "                join(filedict[\"results\"][\"shared\"], f\"combo{combo}_uth{u_thresh}_{date_bounds_str[0]}-{date_bounds_str[1]}_eta\"\n",
    "                     .replace(\" \",\"\").replace(\".\",\"p\")))\n",
    "            plt.close(fig)\n",
    "            # ------------------- Lead time <= tau_max ----------------------\n",
    "            for src in [\"dga\",\"s2\"]:\n",
    "                weight = pi[src].stack(stackmap).to_numpy().flatten()                \n",
    "                fig,ax = plt.subplots(figsize=(8,8))\n",
    "                fig.set_facecolor('white')\n",
    "                field = qp_limited[src].stack(stackmap).to_numpy().flatten()\n",
    "                tpt_utils.plot_field_2d(\n",
    "                    field, weight, features, fig=fig, ax=ax, feat_names=feat_labels, \n",
    "                    stat_name=\"mean\", \n",
    "                    vmin=qp_limited_vmin, vmax=qp_limited_vmax, shp=[30,30], cmap=plt.cm.coolwarm, logscale=True, \n",
    "                    pcolor_flag=False, contour_flag=True, cbar_flag=True\n",
    "                )\n",
    "                tpt_utils.plot_field_2d(\n",
    "                    field, weight, features, fig=fig, ax=ax, feat_names=feat_labels, \n",
    "                    stat_name=\"weightsum\", \n",
    "                    vmin=None, vmax=None, shp=[30,30], cmap=plt.cm.coolwarm, \n",
    "                    logscale=True, num_levels=5, pcolor_flag=False, contour_empty_flag=True, cbar_flag=False\n",
    "                )\n",
    "                ax.set_title(r\"$1\\{\\tau^+-t<%i\\}$ according to %s; $U^{\\mathrm{(th)}}=%i$\"%(tau_max,qplimited_labels[src],u_thresh))\n",
    "                ax.set_xlabel(feat_labels[0])\n",
    "                ax.set_ylabel(feat_labels[1])\n",
    "                ax.xaxis.set_tick_params(which=\"both\", labelbottom=True)\n",
    "                ax.yaxis.set_tick_params(which=\"both\", labelbottom=True)\n",
    "                if feat_names[0] == \"t_szn\":\n",
    "                    xticks, xticklabels = feat_strat.generate_seasonal_xticks(features[:,0])\n",
    "                    ax.set_xlabel(\"\")\n",
    "                    ax.set_xticks(xticks)\n",
    "                    ax.set_xticklabels(xticklabels)               \n",
    "                fig.savefig(\n",
    "                    join(filedict[\"results\"][\"shared\"], f\"combo{combo}_uth{u_thresh}_{date_bounds_str[0]}-{date_bounds_str[1]}_taumax{tau_max}_qplimited_{src}\"\n",
    "                         .replace(\" \",\"\").replace(\".\",\"p\")))\n",
    "                plt.close(fig)\n",
    "            # ------------------- Committor ----------------------\n",
    "            src = \"dga\"\n",
    "            weight = pi[src].stack(stackmap).to_numpy().flatten()\n",
    "            fig,ax = plt.subplots(figsize=(8,8))\n",
    "            fig.set_facecolor('white')\n",
    "            field = qp[src].stack(stackmap).to_numpy().flatten()\n",
    "            tpt_utils.plot_field_2d(\n",
    "                field, weight, features, fig=fig, ax=ax, feat_names=feat_labels, \n",
    "                stat_name=\"mean\", \n",
    "                vmin=None, vmax=None, shp=[30,30], cmap=plt.cm.coolwarm, logscale=(feat_names[0]!=\"t_szn\"), \n",
    "                pcolor_flag=False, contour_flag=True, cbar_flag=True\n",
    "            )\n",
    "            tpt_utils.plot_field_2d(\n",
    "                field, weight, features, fig=fig, ax=ax, feat_names=feat_labels, \n",
    "                stat_name=\"weightsum\", \n",
    "                vmin=None, vmax=None, shp=[30,30], logscale=True, \n",
    "                pcolor_flag=False, contour_empty_flag=True, cbar_flag=False, num_levels=5\n",
    "            )            \n",
    "            ax.set_title(r\"Committor $q^+$; $U^{\\mathrm{(th)}}=%i$\"%(u_thresh))\n",
    "            ax.set_xlabel(feat_labels[0])\n",
    "            ax.set_ylabel(feat_labels[1])\n",
    "            ax.xaxis.set_tick_params(which=\"both\", labelbottom=True)\n",
    "            ax.yaxis.set_tick_params(which=\"both\", labelbottom=True)\n",
    "            if feat_names[0] == \"t_szn\":\n",
    "                xticks, xticklabels = feat_strat.generate_seasonal_xticks(features[:,0])\n",
    "                ax.set_xlabel(\"\")\n",
    "                ax.set_xticks(xticks)\n",
    "                ax.set_xticklabels(xticklabels)\n",
    "            fig.savefig(\n",
    "                join(filedict[\"results\"][\"shared\"], f\"combo{combo}_uth{u_thresh}_{date_bounds_str[0]}-{date_bounds_str[1]}_taumax{tau_max}_qp\"\n",
    "                     .replace(\" \",\"\").replace(\".\",\"p\")))\n",
    "            plt.close(fig)\n",
    "            # ------------------- Density ------------------------\n",
    "            src = \"dga\"\n",
    "            weight = pi[src].stack(stackmap).to_numpy().flatten()\n",
    "            fig,ax = plt.subplots(figsize=(8,8))\n",
    "            fig.set_facecolor('white')\n",
    "            tpt_utils.plot_field_2d(\n",
    "                field, weight, features, fig=fig, ax=ax, feat_names=feat_labels, \n",
    "                stat_name=\"weightsum\", \n",
    "                vmin=None, vmax=None, shp=[30,30], cmap=plt.cm.magma, logscale=True, \n",
    "                pcolor_flag=False, contour_flag=True, cbar_flag=True\n",
    "            )\n",
    "            ax.set_title(r\"Density $\\pi$; $U^{\\mathrm{(th)}}=%i$\"%(u_thresh))\n",
    "            ax.set_xlabel(feat_labels[0])\n",
    "            ax.set_ylabel(feat_labels[1])\n",
    "            ax.xaxis.set_tick_params(which=\"both\", labelbottom=True)\n",
    "            ax.yaxis.set_tick_params(which=\"both\", labelbottom=True)\n",
    "            if feat_names[0] == \"t_szn\":\n",
    "                xticks, xticklabels = feat_strat.generate_seasonal_xticks(features[:,0])\n",
    "                ax.set_xlabel(\"\")\n",
    "                ax.set_xticks(xticks)\n",
    "                ax.set_xticklabels(xticklabels)\n",
    "            fig.savefig(\n",
    "                join(filedict[\"results\"][\"shared\"], f\"combo{combo}_uth{u_thresh}_{date_bounds_str[0]}-{date_bounds_str[1]}_taumax{tau_max}_pi\"\n",
    "                     .replace(\" \",\"\").replace(\".\",\"p\")))\n",
    "            plt.close(fig)"
   ]
  },
  {
   "cell_type": "code",
   "execution_count": null,
   "metadata": {},
   "outputs": [],
   "source": []
  },
  {
   "cell_type": "markdown",
   "metadata": {},
   "source": [
    "# Method 2.5: fit a GEV distribution to this data "
   ]
  },
  {
   "cell_type": "markdown",
   "metadata": {},
   "source": [
    "### TBD"
   ]
  },
  {
   "cell_type": "markdown",
   "metadata": {},
   "source": [
    "# Method 3: running a LIM "
   ]
  },
  {
   "cell_type": "markdown",
   "metadata": {},
   "source": [
    "Here we construct a linear inverse model (a.k.a., (E)DMD) from the features we've chosen. We will test its robustness to lag time and ensure it varies smoothly with the seasonal cycle. After that, we will possibly incorporate the corresponding modes into the feature vector for DGA. "
   ]
  },
  {
   "cell_type": "code",
   "execution_count": null,
   "metadata": {},
   "outputs": [],
   "source": [
    "ubar_names = [f\"ubar_{lev}_60_delay{d}\" for d in [0] for lev in [10,100,500,850]]\n",
    "vT_1_names = [f\"vT_{lev}_1_runavg10\" for lev in [10,100,500,850]]\n",
    "vT_2_names = [f\"vT_{lev}_2_runavg10\" for lev in [10,100,500,850]]\n",
    "ubar_delay_names = [f\"ubar_10_60_delay{d}\" for d in range(15)]\n",
    "#lim_feature_names = ubar_names + vT_1_names + vT_2_names\n",
    "lim_feature_names = ubar_delay_names\n",
    "feat_msm = feat_tpt[\"s2\"].sel(feature=lim_feature_names)\n",
    "feat_msm_e5 = feat_tpt[\"e5\"].sel(feature=lim_feature_names)"
   ]
  },
  {
   "cell_type": "code",
   "execution_count": null,
   "metadata": {},
   "outputs": [],
   "source": [
    "szn_stats_e5 = feat_strat.get_seasonal_statistics(feat_msm_e5, feat_tpt[\"e5\"].sel(feature=\"t_szn\"))\n",
    "# Replace the mean with first four harmonics\n",
    "ssm = szn_stats_e5[\"mean\"].transpose(\"feature\",\"t_szn_cent\")\n",
    "ssmhat = np.fft.fft(ssm.values, axis=1)\n",
    "ssmhat[:,5:-5] = 0\n",
    "ssmooth = np.fft.ifft(ssmhat, axis=1).real\n",
    "ssm[:] = ssmooth"
   ]
  },
  {
   "cell_type": "code",
   "execution_count": null,
   "metadata": {},
   "outputs": [],
   "source": [
    "reload(feature_template)\n",
    "reload(feature_stratosphere)\n",
    "feat_strat = feature_stratosphere.WinterStratosphereFeatures()\n",
    "feat_strat.set_event_seasonal_params()\n",
    "feat_strat.set_ab_code()\n",
    "plt.rcParams.update({\"font.size\": 18, \"font.family\": \"monospace\"})"
   ]
  },
  {
   "cell_type": "code",
   "execution_count": null,
   "metadata": {},
   "outputs": [],
   "source": [
    "feat_lim = dict()\n",
    "for src in [\"s2\",\"e5\"]:\n",
    "    feat_lim[src] = feat_tpt[src].sel(feature=lim_feature_names)"
   ]
  },
  {
   "cell_type": "code",
   "execution_count": null,
   "metadata": {},
   "outputs": [],
   "source": [
    "lim = dict()\n",
    "for src in [\"s2\",\"e5\"]:\n",
    "    lim[src] = feat_strat.build_lim(\n",
    "        feat_lim[src], szn_stats_e5, feat_all[src][\"time_observable\"], \n",
    "        max_delay, demean=True, max_lag=1\n",
    "    )"
   ]
  },
  {
   "cell_type": "markdown",
   "metadata": {},
   "source": [
    "Simulate the LIM!"
   ]
  },
  {
   "cell_type": "code",
   "execution_count": null,
   "metadata": {},
   "outputs": [],
   "source": [
    "# Sample random initial conditions\n",
    "win_init = 0\n",
    "win_fin = 260\n",
    "szn_window_e5 = (feat_all[\"e5\"][\"time_observable\"].sel(feature=\"t_szn\") / feat_strat.dt_szn).astype(int)\n",
    "idx_init = np.where(szn_window_e5.values == win_init)\n",
    "X_init = (\n",
    "    feat_lim[\"e5\"].transpose(\"t_init\",\"member\",\"t_sim\",\"feature\")\n",
    "    - szn_stats_e5[\"mean\"].isel(t_szn_cent=win_init)\n",
    ").values[idx_init]"
   ]
  },
  {
   "cell_type": "code",
   "execution_count": null,
   "metadata": {},
   "outputs": [],
   "source": [
    "# Run both LIMs \n",
    "X_sim = dict()\n",
    "for src in [\"e5\",\"s2\"]:\n",
    "    X_sim[src] = xr.DataArray(\n",
    "        coords={\n",
    "            \"t_szn_cent\": szn_stats_e5[\"t_szn_cent\"].values[win_init:win_fin+1], \n",
    "            \"feature\": feat_lim[\"e5\"][\"feature\"],\n",
    "            \"sample\": np.arange(30000),\n",
    "        },\n",
    "        dims=[\"t_szn_cent\",\"sample\",\"feature\"],\n",
    "        data=np.nan,\n",
    "    )\n",
    "    idx_sim = np.random.choice(np.arange(len(X_init)), size=X_sim[src][\"sample\"].size, replace=True)\n",
    "    X_sim[src][dict(t_szn_cent=0)] = X_init[idx_sim]\n",
    "\n",
    "    for i_win in range(win_fin-win_init):\n",
    "        xi = np.random.randn(X_sim[src][\"sample\"].size, X_sim[src][\"feature\"].size)\n",
    "        forcing = xi @ (lim[src][\"sigma\"].isel(t_szn_cent=win_init+i_win).values).T\n",
    "        G = lim[src][\"G\"].isel(t_szn_cent=win_init+i_win).values\n",
    "        X_sim[src][dict(t_szn_cent=i_win+1)] = X_sim[src].isel(t_szn_cent=i_win).values @ G.T + forcing"
   ]
  },
  {
   "cell_type": "markdown",
   "metadata": {},
   "source": [
    "Save the LIM and X_sim"
   ]
  },
  {
   "cell_type": "code",
   "execution_count": null,
   "metadata": {},
   "outputs": [],
   "source": [
    "for src in [\"e5\",\"s2\"]:\n",
    "    lim[src].to_netcdf(join(filedict[\"results\"][\"dir\"], f\"lim_{src}.nc\"))\n",
    "    X_sim[src].to_netcdf(join(filedict[\"results\"][\"dir\"], f\"X_sim_{src}.nc\"))"
   ]
  },
  {
   "cell_type": "code",
   "execution_count": null,
   "metadata": {},
   "outputs": [],
   "source": [
    "feat = \"ubar_10_60_delay0\"\n",
    "fig,axes = plt.subplots(ncols=2,figsize=(15,5),sharey=True)\n",
    "sources = [\"e5\",\"s2\"]\n",
    "for i_src,src in enumerate([\"e5\",\"s2\"]):\n",
    "    ax = axes[i_src]\n",
    "    ax.plot(szn_stats_e5[\"mean\"].sel(feature=feat).isel(t_szn_cent=slice(win_init,win_fin+1)), color='black', linewidth=3)\n",
    "    for samp in range(500): #X_sim[\"sample\"].values:\n",
    "        ax.plot(\n",
    "            X_sim[src].sel(sample=samp,feature=feat) + szn_stats_e5[\"mean\"].sel(feature=feat).isel(t_szn_cent=slice(win_init,win_fin+1)),\n",
    "            color='dodgerblue', alpha=0.5\n",
    "        )\n",
    "    ax.plot(szn_stats_e5[\"mean\"].sel(feature=feat).isel(t_szn_cent=slice(win_init,win_fin+1)), color='black', linewidth=3)\n",
    "    ax.plot(szn_stats_e5[\"min\"].sel(feature=feat).isel(t_szn_cent=slice(win_init,win_fin+1)), color='black', linewidth=3)\n",
    "    ax.plot(szn_stats_e5[\"max\"].sel(feature=feat).isel(t_szn_cent=slice(win_init,win_fin+1)), color='black', linewidth=3)\n",
    "    ax.set_title(f\"{dispdict[src]['abbrv']} LIM\")\n",
    "    ax.set_xlabel(\"Time [days]\")\n",
    "    ax.set_ylabel(\"$\\overline{u}$(10 hPa, 60$^\\circ$N)\")"
   ]
  },
  {
   "cell_type": "markdown",
   "metadata": {},
   "source": [
    "Compute the rates inferred from this model."
   ]
  },
  {
   "cell_type": "code",
   "execution_count": null,
   "metadata": {},
   "outputs": [],
   "source": [
    "rate_lim = dict()\n",
    "for src in [\"e5\",\"s2\"]:\n",
    "    rate_lim[src] = xr.DataArray(\n",
    "        coords={\"i_tth\": range(len(t_thresh_list)), \"u_thresh\": u_thresh_list},\n",
    "        dims=[\"i_tth\",\"u_thresh\"],\n",
    "        data=np.nan\n",
    "    )\n",
    "    for i_tth in range(len(t_thresh_list)):\n",
    "        t_thresh = t_thresh_list[i_tth]\n",
    "        lim_umin = (\n",
    "            (X_sim[src] + szn_stats_e5[\"mean\"])\n",
    "            .sel(feature=\"ubar_10_60_delay0\",t_szn_cent=slice(t_thresh[0],t_thresh[1]))\n",
    "        ).min(dim=\"t_szn_cent\")\n",
    "        for uth in rate_lim[src][\"u_thresh\"].values:\n",
    "            rate_lim[src].loc[dict(i_tth=i_tth,u_thresh=uth)] = np.mean(lim_umin <= uth)\n",
    "    rate_lim[src] = rate_lim[src].where(rate_lim[src] > 0)\n",
    "\n",
    "rate_lim_ds = xr.Dataset(data_vars=rate_lim)\n",
    "rate_lim_ds.to_netcdf(join(filedict[\"results\"][\"dir\"], f\"rate_lim.nc\"))"
   ]
  },
  {
   "cell_type": "code",
   "execution_count": null,
   "metadata": {},
   "outputs": [],
   "source": [
    "i_tth = 0\n",
    "t_thresh = t_thresh_list[i_tth]\n",
    "extval_stats = pickle.load(open(join(filedict[\"results\"][\"dir\"], f\"extval_stats_tth{t_thresh[0]}-{t_thresh[1]}\"), \"rb\"))\n",
    "rate_e5 = xr.open_dataarray(join(filedict[\"results\"][\"dir\"], f\"rate_pathcounting_e5_{t_thresh[0]}-{t_thresh[1]}.nc\"))\n",
    "rate_s2 = xr.open_dataarray(join(filedict[\"results\"][\"dir\"], f\"rate_pathcounting_s2_{t_thresh[0]}-{t_thresh[1]}.nc\"))\n",
    "\n",
    "fig,axes = plt.subplots(ncols=2, figsize=(15,5), sharey=True, sharex=True)\n",
    "fig.set_facecolor(\"white\")\n",
    "axes[1].yaxis.set_tick_params(labelbottom=True)\n",
    "\n",
    "# First plot: extreme values\n",
    "ax = axes[0]\n",
    "labels = {\"e5\": \"ERA5 (61 yr)\", \"s2\": \"S2S (20 yr)\", \"linear_model\": \"Linear model\"}\n",
    "zorders = {\"e5\": 0, \"s2\": 1, \"linear_model\": -1}\n",
    "handles = []\n",
    "for src in [\"e5\",\"s2\",\"linear_model\"]:\n",
    "    idx, = np.where(extval_stats[src][\"umin\"] < 0)\n",
    "    order = np.argsort(extval_stats[src][\"umin\"][idx])\n",
    "    h, = ax.plot(\n",
    "        extval_stats[src][\"umin\"][idx][order], extval_stats[src][\"rate_lower\"][idx][order], \n",
    "        color=dispdict[src][\"color\"],\n",
    "        marker='.', label=labels[src], zorder=zorders[src]\n",
    "    ) \n",
    "    handles += [h]\n",
    "\n",
    "\n",
    "ax.legend(handles=handles, fontsize=\"small\", loc=\"lower right\")\n",
    "ax.set_xlabel(\"Minimum $\\overline{u}$(10 hPa, 60$^\\circ$N)\")\n",
    "ax.set_ylabel(\"Rate [years$^{-1}$]\")\n",
    "ax.set_yscale(\"log\")\n",
    "ax.set_title(\"Extreme value estimate\")\n",
    "\n",
    "# Second plot: rates\n",
    "ax = axes[1]\n",
    "handles = []\n",
    "rate_s2 = rate_s2.where(rate_s2 > 0)\n",
    "#colors = [\"red\", \"purple\", \"orange\"]\n",
    "ax.plot(rate_s2[\"u_thresh\"], rate_s2.sel(bound=\"lower\"), color=\"red\", marker='.')\n",
    "h, = ax.plot(\n",
    "    rate_s2[\"u_thresh\"], rate_s2.sel(bound=\"upper\"), \n",
    "    color=\"red\", marker='.', label=r\"S2S (20 yr) bounds\"\n",
    ")\n",
    "handles += [h]\n",
    "# Additionally plot ERA5 only\n",
    "h, = ax.plot(rate_e5[\"u_thresh\"], rate_e5.where(rate_e5>0).sel(falls=\"1959-2019\"), color=\"orange\", marker='.', label=\"ERA5 (61 yr)\")\n",
    "handles += [h]\n",
    "h, = ax.plot(rate_e5[\"u_thresh\"], rate_e5.where(rate_e5>0).sel(falls=\"1996-2015\"), color=\"dodgerblue\", marker='.', label=\"ERA5 (20 yr)\")\n",
    "handles += [h]\n",
    "\n",
    "# Additionally plot Ed's estimate\n",
    "h, = ax.plot(rate_s2[\"u_thresh\"], rate_s2.sel(bound=\"ed\"), color=\"black\", marker=\"o\", label=\"direct\")\n",
    "handles += [h]\n",
    "\n",
    "# Additionally plot the LIM estimate\n",
    "for src in [\"e5\",\"s2\"]:\n",
    "    h, = ax.plot(\n",
    "        rate_lim[src][\"u_thresh\"].values, \n",
    "        rate_lim[src].isel(i_tth=i_tth).values, color=dispdict[src][\"color\"], \n",
    "        linestyle='--', label=f\"{dispdict[src]['abbrv']} LIM\")\n",
    "    handles += [h]\n",
    "\n",
    "\n",
    "\n",
    "ax.set_yscale(\"log\")\n",
    "ax.set_xlabel(\"$\\overline{u}$(10 hPa, 60$^\\circ$N) threshold\")\n",
    "ax.legend(handles=handles, fontsize=\"small\")\n",
    "ax.set_title(\"Path counting bounds\")\n",
    "ax.set_ylim([1e-5,1])\n",
    "\n",
    "fig.subplots_adjust(top=0.85)\n",
    "fig.suptitle(t_thresh_string_list[i_tth], y=0.98, fontsize=25)"
   ]
  },
  {
   "cell_type": "markdown",
   "metadata": {},
   "source": [
    "Picture the committor from the LIM"
   ]
  },
  {
   "cell_type": "code",
   "execution_count": null,
   "metadata": {},
   "outputs": [],
   "source": [
    "i_tth = 1\n",
    "uth = 0\n",
    "src = \"e5\"\n",
    "t_thresh = t_thresh_list[i_tth]\n",
    "lim_umin = (\n",
    "    (X_sim[src] + szn_stats_e5[\"mean\"])\n",
    "    .sel(feature=\"ubar_10_60_delay0\",t_szn_cent=slice(t_thresh[0],t_thresh[1]))\n",
    ").min(dim=\"t_szn_cent\")\n",
    "lim_qp = xr.ones_like(X_sim[src] + szn_stats_e5[\"mean\"]) * (lim_umin < uth)"
   ]
  },
  {
   "cell_type": "code",
   "execution_count": null,
   "metadata": {},
   "outputs": [],
   "source": [
    "lim_qp.dims"
   ]
  },
  {
   "cell_type": "code",
   "execution_count": null,
   "metadata": {},
   "outputs": [],
   "source": [
    "feat_names = [\"ubar_10_60_delay0\"]\n",
    "\n",
    "fig,ax = plt.subplots()\n",
    "fig.suptitle(f\"Days {t_bounds[0]}-{t_bounds[1]}\")\n",
    "fig.set_facecolor('white')\n",
    "stackmap = {\"snapshot\": (\"t_szn_cent\",\"sample\")}\n",
    "field = lim_qp[src].stack(stackmap).to_numpy().flatten()\n",
    "weight = np.ones_like(lim_qp[src]).stack(stackmap).to_numpy().flatten()\n",
    "cond = (lim_qp.sel(feature=\"t_szn_cent\") > t_bounds[0]) * (lim_qp.sel(feature=\"t_szn_cent\") < t_bounds[1])\n",
    "features = np.array([\n",
    "    lim_qp.where(cond).sel(feature=feat_names[0]).stack(stackmap).to_numpy().flatten(),\n",
    "    lim_qp.where(cond).sel(feature=feat_names[1]).stack(stackmap).to_numpy().flatten()\n",
    "]).T\n",
    "\n",
    "ax = axes[0,i_src]\n",
    "tpt_utils.plot_field_2d(\n",
    "    field, weight, features, fig=fig, ax=ax, feat_names=feat_names, \n",
    "    stat_name=\"mean\", \n",
    "    vmin=0, vmax=1, shp=[30,30], cmap=plt.cm.coolwarm\n",
    ")\n",
    "ax.set_title(f\"{dispdict[src]['abbrv']} Committor\")"
   ]
  }
 ],
 "metadata": {
  "kernelspec": {
   "display_name": "my_env",
   "language": "python",
   "name": "my_env"
  },
  "language_info": {
   "codemirror_mode": {
    "name": "ipython",
    "version": 3
   },
   "file_extension": ".py",
   "mimetype": "text/x-python",
   "name": "python",
   "nbconvert_exporter": "python",
   "pygments_lexer": "ipython3",
   "version": "3.9.5"
  }
 },
 "nbformat": 4,
 "nbformat_minor": 4
}
