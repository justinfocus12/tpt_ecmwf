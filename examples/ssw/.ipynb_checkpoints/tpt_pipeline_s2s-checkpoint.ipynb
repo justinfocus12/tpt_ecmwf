{
 "cells": [
  {
   "cell_type": "markdown",
   "metadata": {},
   "source": [
    "# TPT pipeline with S2S"
   ]
  },
  {
   "cell_type": "code",
   "execution_count": 1,
   "metadata": {},
   "outputs": [],
   "source": [
    "import sys\n",
    "sys.path.append(\"../..\")"
   ]
  },
  {
   "cell_type": "code",
   "execution_count": 9,
   "metadata": {},
   "outputs": [],
   "source": [
    "import numpy as np\n",
    "from matplotlib import pyplot as plt\n",
    "import xarray as xr\n",
    "import netCDF4 as nc\n",
    "import feature_template\n",
    "import feature_stratosphere\n",
    "from importlib import reload\n",
    "import sys \n",
    "import os\n",
    "from os import mkdir, makedirs\n",
    "from os.path import join,exists\n",
    "from importlib import reload\n",
    "import pickle\n",
    "import tpt_utils\n",
    "from sklearn.cluster import KMeans, MiniBatchKMeans\n",
    "from datetime import datetime\n",
    "from calendar import monthrange\n",
    "import cartopy\n",
    "from cartopy import crs as ccrs\n",
    "import xr_utils"
   ]
  },
  {
   "cell_type": "code",
   "execution_count": 3,
   "metadata": {},
   "outputs": [],
   "source": [
    "import matplotlib\n",
    "from matplotlib import ticker\n",
    "matplotlib.rcParams[\"font.size\"] = 18\n",
    "matplotlib.rcParams[\"font.family\"] = 'monospace'\n",
    "%matplotlib inline"
   ]
  },
  {
   "cell_type": "code",
   "execution_count": 4,
   "metadata": {},
   "outputs": [],
   "source": []
  },
  {
   "cell_type": "markdown",
   "metadata": {},
   "source": [
    "# Set up experiment"
   ]
  },
  {
   "cell_type": "code",
   "execution_count": null,
   "metadata": {},
   "outputs": [],
   "source": [
    "featurize_flag =                     1\n",
    "recombine_features_flag =            1"
   ]
  },
  {
   "cell_type": "code",
   "execution_count": null,
   "metadata": {},
   "outputs": [],
   "source": [
    "topic_dir = \"/scratch/jf4241/ecmwf_data/\"\n",
    "filedict = dict({\n",
    "    \"data\": dict({\n",
    "        \"ra\": dict({\n",
    "            \"traj\": dict({\n",
    "                \"dir\": join(topic_dir, \"era5_data\", \"raw_data\", \"2022-08-14\"), # Directory with possibly many files\n",
    "            }),\n",
    "            \"stats\": dict({\n",
    "                \"dir\": join(topic_dir, \"era5_data\", \"stats\", \"2022-08-19\"),\n",
    "                \"eof_filename\": \"eofs.nc\",\n",
    "                \"monthly_climatology_filename\": \"monclim.nc\",\n",
    "            }),\n",
    "            \"feat_all\": dict({\n",
    "                \"dir\": join(topic_dir, \"era5_data\", \"features_all\", \"2022-08-19\"),\n",
    "                \"filename\": \"era5_features_all.nc\",\n",
    "            }),\n",
    "            \"feat_tpt\": dict({\n",
    "                \"dir\": join(topic_dir, \"era5_data\", \"features_tpt\", \"2022-08-19\",),\n",
    "                \"filename\": \"era5_features_tpt.nc\",\n",
    "            }),\n",
    "        }),\n",
    "        \"s2s\": dict({\n",
    "            \"traj\": dict({\n",
    "                \"dir\": join(topic_dir, \"s2s_data\", \"raw_data\", \"2022-08-20\"), # Directory with possibly many files\n",
    "            }),\n",
    "            \"stats\": dict({\n",
    "                \"dir\": join(topic_dir, \"s2s_data\", \"stats\", \"2022-08-22\"),\n",
    "            }),\n",
    "            \"feat_all\": dict({\n",
    "                \"dir\": join(topic_dir, \"s2s_data\", \"features_all\", \"2022-08-22\"),\n",
    "                \"filename\": \"era5_features_all.nc\",\n",
    "            }),\n",
    "            \"feat_tpt\": dict({\n",
    "                \"dir\": join(topic_dir, \"s2s_data\", \"features_tpt\", \"2022-08-22\",),\n",
    "                \"filename\": \"s2s_features_tpt.nc\",\n",
    "            }),\n",
    "        })\n",
    "    }),\n",
    "    \"results\": dict({\n",
    "        \"dir\": join(topic_dir, \"results\", \"tpt_quantities\", \"2022-08-19\")\n",
    "    })\n",
    "})"
   ]
  },
  {
   "cell_type": "code",
   "execution_count": null,
   "metadata": {},
   "outputs": [],
   "source": [
    "# Create the directories if they don't exist already\n",
    "for src in list(filedict[\"data\"].keys()):\n",
    "    for data_stage in [\"traj\",\"stats\",\"feat_all\",\"feat_tpt\"]:\n",
    "        path = filedict[\"data\"][src][data_stage][\"dir\"]\n",
    "        if not exists(path):\n",
    "            makedirs(path, exist_ok=True)\n",
    "path = filedict[\"results\"][\"dir\"]\n",
    "if not exists(path): makedirs(path, exist_ok=True)"
   ]
  },
  {
   "cell_type": "code",
   "execution_count": null,
   "metadata": {},
   "outputs": [],
   "source": [
    "file_list = [f for f in os.listdir(filedict[\"data\"][\"s2s\"][\"traj\"][\"dir\"]) if f.endswith(\".nc\")]"
   ]
  },
  {
   "cell_type": "code",
   "execution_count": null,
   "metadata": {},
   "outputs": [],
   "source": [
    "len(file_list)"
   ]
  },
  {
   "cell_type": "markdown",
   "metadata": {},
   "source": [
    "## Reload and plot EOFs "
   ]
  },
  {
   "cell_type": "code",
   "execution_count": null,
   "metadata": {},
   "outputs": [],
   "source": [
    "statsdir = filedict[\"data\"][\"ra\"][\"stats\"][\"dir\"]\n",
    "ds_eofs = xr.open_dataset(join(statsdir, filedict[\"data\"][\"ra\"][\"stats\"][\"eof_filename\"]))\n",
    "ds_monclim = xr.open_dataset(join(statsdir, filedict[\"data\"][\"ra\"][\"stats\"][\"monthly_climatology_filename\"]))"
   ]
  },
  {
   "cell_type": "code",
   "execution_count": null,
   "metadata": {},
   "outputs": [],
   "source": [
    "fig = plt.figure(figsize=(24,18))\n",
    "eofs, variance_fraction = ds_eofs[\"eofs\"], ds_eofs[\"variance_fraction\"]\n",
    "for i_lev in range(4):\n",
    "    # Plot singular value spectrum\n",
    "    ax = fig.add_subplot(3,4,i_lev+1)\n",
    "    vf = variance_fraction.isel(level=i_lev)\n",
    "    ax.plot(variance_fraction.mode, 100*variance_fraction.isel(level=i_lev), marker='o', color='black')\n",
    "    ax.set_xlabel(\"Mode\")\n",
    "    ax.set_ylabel(\"Variance percentage\")\n",
    "    ax.set_title(f\"{variance_fraction.level.data[i_lev]} hPa\")\n",
    "    # Plot EOF 1\n",
    "    ax = fig.add_subplot(3,4,4+i_lev+1,projection=ccrs.Orthographic(-10,90))\n",
    "    display_pole_field(eofs.sel(mode=1).isel(level=i_lev), lat=eofs[\"latitude\"], lon=eofs[\"longitude\"], fig=fig, ax=ax)\n",
    "    ax.set_title(\"EOF 1\")\n",
    "    # Plot EOF 2\n",
    "    ax = fig.add_subplot(3,4,8+i_lev+1,projection=ccrs.Orthographic(-10,90))\n",
    "    display_pole_field(eofs.sel(mode=2).isel(level=i_lev), lat=eofs[\"latitude\"], lon=eofs[\"longitude\"], fig=fig, ax=ax)\n",
    "    ax.set_title(\"EOF 1\")\n",
    "    "
   ]
  },
  {
   "cell_type": "markdown",
   "metadata": {},
   "source": [
    "Save the EOF data to file where we can use it for features."
   ]
  },
  {
   "cell_type": "markdown",
   "metadata": {},
   "source": [
    "## Read database and compute features. "
   ]
  },
  {
   "cell_type": "code",
   "execution_count": null,
   "metadata": {},
   "outputs": [],
   "source": [
    "reload(feature_stratosphere)"
   ]
  },
  {
   "cell_type": "code",
   "execution_count": null,
   "metadata": {},
   "outputs": [],
   "source": [
    "feat_strat = feature_stratosphere.WinterStratosphereFeatures()\n",
    "feat_strat.set_event_seasonal_params()\n",
    "feat_strat.set_ab_code()"
   ]
  },
  {
   "cell_type": "markdown",
   "metadata": {},
   "source": [
    "Load EOF information to use for computing features"
   ]
  },
  {
   "cell_type": "code",
   "execution_count": null,
   "metadata": {},
   "outputs": [],
   "source": [
    "ds = xr.open_dataset(join(filedict[\"data\"][src][\"traj\"][\"dir\"], filename)).resample(time=\"1D\").mean()"
   ]
  },
  {
   "cell_type": "code",
   "execution_count": null,
   "metadata": {},
   "outputs": [],
   "source": [
    "ds.coords"
   ]
  },
  {
   "cell_type": "code",
   "execution_count": null,
   "metadata": {},
   "outputs": [],
   "source": [
    "obs2compute = [\n",
    "    \"time_observable\", \"ubar_observable\", \"pc_observable\", \n",
    "    \"temperature_observable\", \"heatflux_observable\",\n",
    "    \"qbo_observable\",\n",
    "]\n",
    "feat_all = dict()\n",
    "for src in [\"s2s\"]:\n",
    "    obs_dict = dict({obsname: [] for obsname in obs2compute})\n",
    "    file_list = [f for f in os.listdir(filedict[\"data\"][src][\"traj\"][\"dir\"]) if f.endswith(\".nc\")]\n",
    "    for i_filename,filename in enumerate(file_list):\n",
    "        month = int(filename[7:9])\n",
    "        print(f\"month = {month}\")\n",
    "        if month in [1, 2, 3]:\n",
    "            ds = xr.open_dataset(join(filedict[\"data\"][src][\"traj\"][\"dir\"], filename)).resample(time=\"1D\").mean()\n",
    "            if i_filename % 12 == 0:\n",
    "                print(f\"Starting file number {i_filename} out of {len(file_list)}\")\n",
    "            if \"time_observable\" in obs2compute:\n",
    "                obs_dict[\"time_observable\"] += [feat_strat.time_observable(ds)]\n",
    "            if \"ubar_observable\" in obs2compute:\n",
    "                obs_dict[\"ubar_observable\"] += [feat_strat.ubar_observable(ds)]\n",
    "            if \"heatflux_observable\" in obs2compute:\n",
    "                obs_dict[\"heatflux_observable\"] += [feat_strat.heatflux_observable(ds)]\n",
    "            if \"temperature_observable\" in obs2compute:\n",
    "                obs_dict[\"temperature_observable\"] += [feat_strat.temperature_observable(ds)]\n",
    "            if \"pc_observable\" in obs2compute:\n",
    "                obs_dict[\"pc_observable\"] += [feat_strat.pc_observable(ds, ds_eofs, ds_monclim)]\n",
    "            if \"qbo_observable\" in obs2compute:\n",
    "                obs_dict[\"qbo_observable\"] += [feat_strat.qbo_observable(ds)]\n",
    "            ds.close()\n",
    "    concat_dim = \"time\" if src == \"ra\" else \"ensemble\"\n",
    "    for obsname in obs2compute:\n",
    "        ds_obs = xr.concat(obs_dict[obsname], dim=concat_dim).sortby(\"time\")\n",
    "        ds_obs.to_netcdf(join(\n",
    "            filedict[\"data\"][src][\"feat_all\"][\"dir\"], \n",
    "            f\"{obsname}.nc\"\n",
    "        ))\n",
    "        ds_obs.close()"
   ]
  },
  {
   "cell_type": "raw",
   "metadata": {},
   "source": []
  },
  {
   "cell_type": "markdown",
   "metadata": {},
   "source": [
    "Reload the TPT features as a dictionary. We don't yet put them in a single dataset in order to avoid dimension conflicts. "
   ]
  },
  {
   "cell_type": "code",
   "execution_count": null,
   "metadata": {},
   "outputs": [],
   "source": [
    "feat_all = dict()\n",
    "for src in [\"ra\"]:\n",
    "    feat_all[src] = dict({\n",
    "        obsname: xr.open_dataarray(join(filedict[\"data\"][src][\"feat_all\"][\"dir\"], f\"{obsname}.nc\"))\n",
    "        for obsname in [\n",
    "            \"time_observable\", \"ubar_observable\", \"pc_observable\",\n",
    "            \"temperature_observable\", \"heatflux_observable\", \"qbo_observable\"\n",
    "        ]\n",
    "    })"
   ]
  },
  {
   "cell_type": "markdown",
   "metadata": {},
   "source": [
    "Plot some climatological envelopes"
   ]
  },
  {
   "cell_type": "code",
   "execution_count": null,
   "metadata": {},
   "outputs": [],
   "source": [
    "fig,axes = plt.subplots(ncols=2, nrows=2, figsize=(12,10))\n",
    "# One observable per column\n",
    "# One level per row \n",
    "groups2plot = [\"ubar_observable\",\"ubar_observable\",\"heatflux_observable\",\"heatflux_observable\"]\n",
    "obs2plot = [\"ubar_10_60\", \"ubar_100_60\", \"vT_10_1\", \"vT_100_1\"]\n",
    "year2plot = 2018\n",
    "cond = 1*(feat_all[\"ra\"][\"time_observable\"].sel(feature=\"year_szn_start\") == year2plot)\n",
    "\n",
    "for i_ax in range(len(axes.flat)):\n",
    "    tpt_utils.plot_field_1d(\n",
    "        feat_all[\"ra\"][groups2plot[i_ax]].sel(feature=obs2plot[i_ax]).to_numpy(), \n",
    "        np.ones(feat_all[\"ra\"][groups2plot[i_ax]].time.size), \n",
    "        feat_all[\"ra\"][\"time_observable\"].sel(feature=\"t_szn\").to_numpy(),\n",
    "        feat_name=\"Time into season\", field_name=obs2plot[i_ax],\n",
    "        fig=fig, ax=axes.flat[i_ax], nbins=50\n",
    "    )\n",
    "    axes.flat[i_ax].plot(\n",
    "        feat_all[\"ra\"][\"time_observable\"].where(cond,drop=True).sel(feature=\"t_szn\").to_numpy(),\n",
    "        feat_all[\"ra\"][groups2plot[i_ax]].where(cond,drop=True).sel(feature=obs2plot[i_ax]).to_numpy(),\n",
    "        color='dodgerblue'\n",
    "    )"
   ]
  },
  {
   "cell_type": "markdown",
   "metadata": {},
   "source": [
    "Plot some two-dimensional densities, at multiple time slices throughout the season."
   ]
  },
  {
   "cell_type": "code",
   "execution_count": null,
   "metadata": {},
   "outputs": [],
   "source": [
    "feat_all[\"ra\"][\"time_observable\"].shape"
   ]
  },
  {
   "cell_type": "code",
   "execution_count": null,
   "metadata": {},
   "outputs": [],
   "source": [
    "fig,ax = plt.subplots()\n",
    "cond = 1*(\n",
    "    (feat_all[\"ra\"][\"time_observable\"].sel(feature=\"t_szn\") > 0) * \n",
    "    (feat_all[\"ra\"][\"time_observable\"].sel(feature=\"t_szn\") < 100)\n",
    ")\n",
    "tpt_utils.plot_field_2d(\n",
    "    np.ones(feat_all[\"ra\"][\"time_observable\"].where(cond,drop=True).time.size), \n",
    "    np.ones(feat_all[\"ra\"][\"time_observable\"].where(cond,drop=True).time.size),\n",
    "    np.array([\n",
    "        feat_all[\"ra\"][\"ubar_observable\"].where(cond,drop=True).sel(feature=\"ubar_10_60\").to_numpy(),\n",
    "        feat_all[\"ra\"][\"qbo_observable\"].where(cond,drop=True).sel(feature=\"ubar_10_0pm5\").to_numpy(),        \n",
    "    ]).T,\n",
    "    feat_names = [\"u_10_60\", \"pc_10_2\"],\n",
    "    fig=fig, ax=ax, shp=[20,20],\n",
    "    stat_name=\"weightsum\"\n",
    ")"
   ]
  },
  {
   "cell_type": "markdown",
   "metadata": {},
   "source": [
    "# Assemble features for TPT."
   ]
  },
  {
   "cell_type": "code",
   "execution_count": null,
   "metadata": {},
   "outputs": [],
   "source": [
    "if recombine_features_flag:\n",
    "    feat_tpt = dict()\n",
    "    # List the features to put into feat_tpt\n",
    "    # First, the features needed to define A and B: the time, the x1 coordinate, and its running mean, min, and max\n",
    "    # over some time horizon. \n",
    "    num_time_delays = 20 # Units are days\n",
    "    levels = [10, 100, 500, 850]\n",
    "    pcs = [1, 2, 3, 4]\n",
    "    modes = np.arange(4)\n",
    "    feat_tpt_list = (\n",
    "        [\"t_abs\",\"t_szn\",\"year_szn_start\",\"t_cal\",] + \n",
    "        [f\"ubar_{level}_60_delay{delay}\" for level in levels for delay in range(num_time_delays+1)] + \n",
    "        [f\"pc_{level}_{i_pc}\" for level in levels for i_pc in pcs] + \n",
    "        [f\"Tcap_{level}_60to90\" for level in levels] + \n",
    "        [f\"vT_{level}_{mode}_runavg{delay}\" for level in levels for mode in modes for delay in range(num_time_delays+1)] + \n",
    "        [f\"ubar_{level}_0pm5\" for level in [10, 100]]\n",
    "    )\n",
    "    for src in [\"ra\"]:\n",
    "        t_abs = feat_all[src][\"time_observable\"].sel(feature=\"t_abs\").to_numpy()\n",
    "        t_sim = t_abs - t_abs[0]\n",
    "        feat_tpt[src] = xr.DataArray(\n",
    "            coords = {\n",
    "                #TODO: for S2S, modify ensemble and member coordinates\n",
    "                \"ensemble\": np.arange(1),\n",
    "                \"member\": np.arange(1,2),\n",
    "                \"t_sim\":  t_sim,\n",
    "                \"feature\": feat_tpt_list,\n",
    "            },\n",
    "            dims = [\"ensemble\",\"member\",\"t_sim\",\"feature\"],\n",
    "        )\n",
    "        print(feat_tpt[src].coords)\n",
    "        # Time observables\n",
    "        t_names = [\"t_abs\",\"t_szn\",\"year_szn_start\",\"t_cal\"]\n",
    "        feat_tpt[src].loc[dict(feature=t_names)] = (\n",
    "            feat_all[src][\"time_observable\"].sel(feature=t_names)\n",
    "        )\n",
    "        # PC observables\n",
    "        pc_names = [f\"pc_{level}_{i_pc}\" for level in levels for i_pc in pcs]\n",
    "        feat_tpt[src].loc[dict(feature=pc_names)] = (\n",
    "            feat_all[src][\"pc_observable\"].sel(feature=pc_names)\n",
    "        )\n",
    "        # Time-delayed zonal wind observables\n",
    "        for i_delay in range(num_time_delays+1):\n",
    "            tidx_in = np.arange(num_time_delays-i_delay,len(t_abs)-i_delay)\n",
    "            tidx_out = np.arange(num_time_delays,len(t_abs))\n",
    "            ubar_names_in = [f\"ubar_{level}_60\" for level in levels]\n",
    "            ubar_names_out = [f\"ubar_{level}_60_delay{i_delay}\" for level in levels]\n",
    "            feat_tpt[src].loc[dict(feature=ubar_names_out,t_sim=t_sim[tidx_out])] = (\n",
    "                feat_all[src][\"ubar_observable\"].sel(feature=ubar_names_in)\n",
    "                .isel(time=tidx_in).to_numpy()\n",
    "            )\n",
    "        # Temperature observables \n",
    "        temp_names = [f\"Tcap_{level}_60to90\" for level in levels]\n",
    "        feat_tpt[src].loc[dict(feature=temp_names)] = (\n",
    "            feat_all[src][\"temperature_observable\"].sel(feature=temp_names)\n",
    "        )\n",
    "        # Heat flux observables\n",
    "        for i_delay in range(num_time_delays+1):\n",
    "            vT_names_in = [f\"vT_{level}_{mode}\" for level in levels for mode in modes]\n",
    "            vT_names_out = [f\"vT_{level}_{mode}_runavg{i_delay}\" for level in levels for mode in modes]\n",
    "            feat_tpt[src].loc[dict(feature=vT_names_out)] = (\n",
    "                feat_all[src][\"heatflux_observable\"].sel(feature=vT_names_in)\n",
    "                .rolling(time=i_delay+1, center=False).mean().to_numpy()\n",
    "            )\n",
    "        # QBO observable\n",
    "        qbo_names = [f\"ubar_{level}_0pm5\" for level in [10, 100]]\n",
    "        feat_tpt[src].loc[dict(feature=qbo_names)] = (\n",
    "            feat_all[src][\"qbo_observable\"].sel(feature=qbo_names)\n",
    "        )\n",
    "        # Save \n",
    "        feat_tpt[src].to_netcdf(join(filedict[\"data\"][src][\"feat_tpt\"][\"dir\"], filedict[\"data\"][src][\"feat_tpt\"][\"filename\"]))"
   ]
  },
  {
   "cell_type": "markdown",
   "metadata": {},
   "source": [
    "# Compute the source and destination: A and B "
   ]
  },
  {
   "cell_type": "code",
   "execution_count": null,
   "metadata": {},
   "outputs": [],
   "source": [
    "reload(feature_stratosphere)"
   ]
  },
  {
   "cell_type": "code",
   "execution_count": null,
   "metadata": {},
   "outputs": [],
   "source": [
    "reload(feature_template)"
   ]
  },
  {
   "cell_type": "code",
   "execution_count": null,
   "metadata": {},
   "outputs": [],
   "source": [
    "feat_strat = feature_stratosphere.WinterStratosphereFeatures()\n",
    "feat_strat.set_event_seasonal_params()\n",
    "feat_strat.set_ab_code()"
   ]
  },
  {
   "cell_type": "markdown",
   "metadata": {},
   "source": [
    "## Estimate return time for a range of different parameters"
   ]
  },
  {
   "cell_type": "code",
   "execution_count": null,
   "metadata": {},
   "outputs": [],
   "source": [
    "feat_strat.set_ab_boundaries(40, 150, 0.0)"
   ]
  },
  {
   "cell_type": "code",
   "execution_count": null,
   "metadata": {},
   "outputs": [],
   "source": [
    "ab_tag = dict()\n",
    "cej = dict() # Hitting times (Cotton-eye Joe)\n",
    "comm_emp = dict() # Empirical committor: to B in forward time, from A in backward time\n",
    "rate_emp = dict() # Empirical rate estimate \n",
    "for src in [\"ra\"]:\n",
    "    ab_tag[src] = feat_strat.ab_test(feat_tpt[src])\n",
    "    mode = \"timechunks\" if src == \"ra\" else \"timesteps\" # This determines the computation pattern for iterating through the dataset\n",
    "    cej[src] = feat_strat.cotton_eye_joe(feat_tpt[src],ab_tag[src],mode=mode)\n",
    "    comm_emp[src] = feat_strat.estimate_empirical_committor(cej[src])\n",
    "    rate_emp[src] = feat_strat.estimate_rate(cej[src], comm_emp[src])\n",
    "    # Save each item\n",
    "    ab_tag[src].to_netcdf(join(filedict[\"results\"][\"dir\"], f\"ab_tag_{src}.nc\"))    \n",
    "    cej[src].to_netcdf(join(filedict[\"results\"][\"dir\"], f\"cej_{src}.nc\"))    \n",
    "    comm_emp[src].to_netcdf(join(filedict[\"results\"][\"dir\"], f\"comm_emp_{src}.nc\"))\n",
    "    rate_emp[src].to_netcdf(join(filedict[\"results\"][\"dir\"], f\"rate_emp_{src}.nc\"))\n"
   ]
  },
  {
   "cell_type": "markdown",
   "metadata": {},
   "source": [
    "Plot the return level vs. return time for minimum U1060. Is there some natural way to do this just using A and B definitions? "
   ]
  },
  {
   "cell_type": "code",
   "execution_count": null,
   "metadata": {},
   "outputs": [],
   "source": [
    "sel = dict(ensemble=0,member=1)\n",
    "cond = (\n",
    "    (feat_tpt[\"ra\"].sel(sel,drop=True).sel(feature=\"t_szn\") > feat_strat.tpt_bndy[\"t_thresh\"][0]) * \n",
    "    (feat_tpt[\"ra\"].sel(sel,drop=True).sel(feature=\"t_szn\") < feat_strat.tpt_bndy[\"t_thresh\"][1]) \n",
    ")\n",
    "field = feat_tpt[\"ra\"].sel(sel,drop=True).where(cond,drop=True).sel(feature=\"ubar_10_60_delay0\",drop=True).to_numpy().reshape(-1,1)\n",
    "weights = np.ones_like(field)\n",
    "year_szn_start = (\n",
    "    feat_tpt[\"ra\"].sel(sel,drop=True)\n",
    "    .where(cond,drop=True).\n",
    "    sel(feature=\"year_szn_start\",drop=True).\n",
    "    to_numpy().\n",
    "    reshape(-1,1).astype(int)\n",
    ")\n",
    "bounds = np.array([[np.min(year_szn_start)-0.5], [np.max(year_szn_start)+0.5]])\n",
    "shp = (np.round(bounds[1] - bounds[0])).astype(int)\n",
    "ubar_yearly_stats, edges, centers = tpt_utils.project_field(  \n",
    "    field, weights, year_szn_start, shp=shp, bounds=bounds\n",
    ")"
   ]
  },
  {
   "cell_type": "code",
   "execution_count": null,
   "metadata": {},
   "outputs": [],
   "source": [
    "# Function to compute return period for a list of block minima\n",
    "neg_umin = -ubar_yearly_stats['min'].flatten()\n",
    "order = np.argsort(neg_umin)\n",
    "rank = np.argsort(order)\n",
    "cdf_emp = rank / len(neg_umin)\n",
    "ret_emp = 1.0/(1 - cdf_emp)"
   ]
  },
  {
   "cell_type": "code",
   "execution_count": null,
   "metadata": {},
   "outputs": [],
   "source": [
    "fig,ax = plt.subplots()\n",
    "idx, = np.where(neg_umin > 0)\n",
    "ax.scatter(ret_emp[idx], neg_umin[idx], color='black', marker='.') \n",
    "ax.set_xscale('log')\n",
    "ax.set_yscale('log')\n",
    "ax.set_yticks([1,5,10,20,30])\n",
    "ax.set_yticklabels([1,5,10,20,30])\n",
    "ax.set_xticks([1, 5, 10, 25, 50])\n",
    "ax.set_xticklabels([1, 5, 10, 25, 50])\n",
    "ax.set_xlabel(\"Return period (years)\", font={\"size\": 18})\n",
    "ax.set_ylabel(\"$-\\min(\\overline{u})$\", font={\"size\": 18})"
   ]
  },
  {
   "cell_type": "code",
   "execution_count": null,
   "metadata": {},
   "outputs": [],
   "source": [
    "neg_umin.size"
   ]
  },
  {
   "cell_type": "markdown",
   "metadata": {},
   "source": [
    "## Plot some pictures of the committor "
   ]
  },
  {
   "cell_type": "code",
   "execution_count": null,
   "metadata": {},
   "outputs": [],
   "source": [
    "fig,axes = plt.subplots(nrows=2, figsize=(15,10), sharex=True)\n",
    "years2plot = np.arange(1984,1992)\n",
    "tidx, = np.where(np.in1d(feat_tpt[\"ra\"].sel(feature=\"year_szn_start\").to_numpy(), years2plot))\n",
    "sel = dict(ensemble=0, member=1, t_sim=feat_tpt[\"t_sim\"][tidx])\n",
    "h_ubar, = xr.plot.plot(\n",
    "    feat_tpt[\"ra\"].sel(sel,drop=True).sel(feature=\"vT_100_1_runavg15\"),\n",
    "    color=\"black\",ax=axes[0],label=\"$u1060$\",x=\"t_sim\"\n",
    ")\n",
    "handles = []\n",
    "for set_code in [\"A\",\"B\"]:\n",
    "    color = \"dodgerblue\" if set_code == \"A\" else \"red\"\n",
    "    starts, = np.where(np.diff(1*(ab_tag[\"ra\"].isel(isel,drop=True).data.flatten()==feat_strat.ab_code[set_code])) == 1)\n",
    "    ends, = np.where(np.diff(1*(ab_tag[\"ra\"].isel(isel,drop=True).data.flatten()==feat_strat.ab_code[set_code])) == -1)\n",
    "    if starts[0] > ends[0]: \n",
    "        ends = ends[1:]\n",
    "    if starts[-1] > ends[-1]:\n",
    "        starts = starts[:-1]\n",
    "    for i in range(len(starts)):\n",
    "        axes[0].axvspan(\n",
    "            feat_tpt[\"ra\"][\"t_sim\"][tidx[starts[i]]], feat_tpt[\"ra\"][\"t_sim\"][tidx[ends[i]]], \n",
    "            color=color, alpha=0.5, zorder=-1\n",
    "        )\n",
    "    h_hittime, = xr.plot.plot(\n",
    "        cej[\"ra\"].isel(isel,drop=True).sel(state=set_code, sense=\"until\", drop=True),\n",
    "        ax=axes[1], label=r\"$\\tau_%s^+$\"%(set_code), color=color)\n",
    "    handles += [h_hittime]\n",
    "\n",
    "axes[0].axhline(y=feat_strat.tpt_bndy[\"ubar_10_60_thresh\"], color='black')\n",
    "axes[0].legend(handles=[h_ubar], prop={\"size\": 18})\n",
    "axes[1].legend(handles=handles, prop={\"size\": 18})\n"
   ]
  },
  {
   "cell_type": "code",
   "execution_count": null,
   "metadata": {},
   "outputs": [],
   "source": [
    "feat = \"pc_10_3\" # The independent variable\n",
    "sel = dict(ensemble=0,member=1)\n",
    "cond = (\n",
    "    (feat_tpt[\"ra\"].sel(sel,drop=True).sel(feature=\"t_szn\") > feat_strat.tpt_bndy[\"t_thresh\"][0]) * \n",
    "    (feat_tpt[\"ra\"].sel(sel,drop=True).sel(feature=\"t_szn\") < feat_strat.tpt_bndy[\"t_thresh\"][0]+50) \n",
    ")\n",
    "# Committor\n",
    "qp = comm_emp[\"ra\"].sel(sel,drop=True).sel(sense=\"until\").where(cond).data.flatten()\n",
    "# Next hitting time\n",
    "Tb = cej[\"ra\"].sel(sel,drop=True).sel(sense=\"until\",state=\"B\").where(cond).data.flatten()\n",
    "tpt_utils.plot_field_1d(\n",
    "    qp, np.ones(qp.size), \n",
    "    feat_tpt[\"ra\"].sel(sel).sel(feature=feat).where(cond).data.flatten(),\n",
    "    ax=axes[1], feat_name=feat, field_name=\"Committor to B\"\n",
    ")\n",
    "tpt_utils.plot_field_1d(\n",
    "    -Tb, qp, \n",
    "    feat_tpt[\"ra\"].sel(sel).sel(feature=[feat]).where(cond).data.flatten(),\n",
    "    ax=axes[0],\n",
    "    feat_name=feat, field_name=\"Lead time to B\",\n",
    ")\n"
   ]
  },
  {
   "cell_type": "code",
   "execution_count": null,
   "metadata": {},
   "outputs": [],
   "source": [
    "# Choose the two features\n",
    "feat0,feat1 = \"ubar_10_60_delay0\",\"ubar_10_60_delay10\"\n",
    "# Select the first ensemble and member (trivial for reanalysis: there's only one realization)\n",
    "sel = dict(ensemble=0,member=1) \n",
    "# Take a slice of the season, between two times\n",
    "cond = (\n",
    "    (feat_tpt[\"ra\"].sel(sel,drop=True).sel(feature=\"t_szn\") > feat_strat.tpt_bndy[\"t_thresh\"][0]) * \n",
    "    (feat_tpt[\"ra\"].sel(sel,drop=True).sel(feature=\"t_szn\") < feat_strat.tpt_bndy[\"t_thresh\"][0] + 50) \n",
    ")\n",
    "# Call the committor qp (q-plus) and the hitting time to B Tb\n",
    "qp = comm_emp[\"ra\"].sel(sel,drop=True).sel(sense=\"until\").where(cond).data.flatten()\n",
    "Tb = cej[\"ra\"].sel(sel,drop=True).sel(sense=\"until\",state=\"B\").where(cond).data.flatten()\n",
    "\n",
    "fig,axes = plt.subplots(ncols=3,figsize=(15,5), sharey=True, sharex=True)\n",
    "# First plot: committor\n",
    "tpt_utils.plot_field_2d(\n",
    "    qp, # function values\n",
    "    np.ones(feat_tpt[\"ra\"][\"t_sim\"].size), # weights\n",
    "    feat_tpt[\"ra\"].sel(feature=[feat0,feat1]).where(cond).sel(sel,drop=True), # Feature space\n",
    "    feat_names = [feat0,feat1],  # axis labels\n",
    "    shp=[20,20], # shape of the 2D grid controls how pixellated the image is\n",
    "    fig=fig, ax=axes[0], field_name=r\"$q_B^+$\" #other display parameters\n",
    ")\n",
    "# Second plot: hitting time (negative, so it increases towards B)\n",
    "tpt_utils.plot_field_2d(\n",
    "    -Tb,\n",
    "    np.ones(feat_tpt[\"ra\"][\"t_sim\"].size),\n",
    "    feat_tpt[\"ra\"].sel(feature=[feat0,feat1]).where(cond).sel(sel,drop=True),\n",
    "    feat_names = [feat0,feat1], \n",
    "    shp=[20,20], fig=fig, ax=axes[1], field_name=r\"$-\\tau_B^+$\"\n",
    ")\n",
    "# Third plot: hitting time conditioned on hitting B first\n",
    "tpt_utils.plot_field_2d(\n",
    "    -Tb*qp,\n",
    "    qp,\n",
    "    feat_tpt[\"ra\"].sel(feature=[feat0,feat1]).where(cond).sel(sel,drop=True),\n",
    "    feat_names = [feat0,feat1], \n",
    "    shp=[20,20], fig=fig, ax=axes[2], field_name=r\"$-\\eta_B^+$\"\n",
    ")\n"
   ]
  },
  {
   "cell_type": "markdown",
   "metadata": {},
   "source": [
    "# Estimate the rate from ERA5. "
   ]
  },
  {
   "cell_type": "markdown",
   "metadata": {},
   "source": [
    "And include error bars. This time, we will plot return period as a function of return level."
   ]
  },
  {
   "cell_type": "code",
   "execution_count": null,
   "metadata": {},
   "outputs": [],
   "source": []
  }
 ],
 "metadata": {
  "kernelspec": {
   "display_name": "my_env",
   "language": "python",
   "name": "my_env"
  },
  "language_info": {
   "codemirror_mode": {
    "name": "ipython",
    "version": 3
   },
   "file_extension": ".py",
   "mimetype": "text/x-python",
   "name": "python",
   "nbconvert_exporter": "python",
   "pygments_lexer": "ipython3",
   "version": "3.9.5"
  }
 },
 "nbformat": 4,
 "nbformat_minor": 4
}
