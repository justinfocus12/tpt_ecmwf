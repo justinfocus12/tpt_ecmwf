{
 "cells": [
  {
   "cell_type": "markdown",
   "metadata": {},
   "source": [
    "# TPT pipeline with ERA5 and S2S"
   ]
  },
  {
   "cell_type": "code",
   "execution_count": 2,
   "metadata": {},
   "outputs": [],
   "source": [
    "import sys\n",
    "sys.path.append(\"../..\")"
   ]
  },
  {
   "cell_type": "code",
   "execution_count": 3,
   "metadata": {},
   "outputs": [],
   "source": [
    "import numpy as np\n",
    "import pandas\n",
    "import matplotlib\n",
    "from matplotlib import ticker\n",
    "from matplotlib import pyplot as plt\n",
    "import xarray as xr\n",
    "import netCDF4 as nc\n",
    "from importlib import reload\n",
    "import sys \n",
    "import os\n",
    "from os import mkdir, makedirs\n",
    "from os.path import join,exists\n",
    "from importlib import reload\n",
    "import pickle\n",
    "from sklearn.cluster import KMeans, MiniBatchKMeans\n",
    "from sklearn.linear_model import LinearRegression,Lasso\n",
    "import datetime\n",
    "from calendar import monthrange\n",
    "import cartopy\n",
    "from cartopy import crs as ccrs\n",
    "from scipy.stats import genextreme\n",
    "import functools"
   ]
  },
  {
   "cell_type": "code",
   "execution_count": 4,
   "metadata": {},
   "outputs": [],
   "source": [
    "%load_ext autoreload"
   ]
  },
  {
   "cell_type": "code",
   "execution_count": 5,
   "metadata": {},
   "outputs": [],
   "source": [
    "%aimport xr_utils\n",
    "%aimport feature_template\n",
    "%aimport feature_stratosphere\n",
    "%aimport tpt_utils\n",
    "%aimport tdmc_obj"
   ]
  },
  {
   "cell_type": "code",
   "execution_count": 6,
   "metadata": {},
   "outputs": [],
   "source": [
    "%matplotlib inline"
   ]
  },
  {
   "cell_type": "code",
   "execution_count": 7,
   "metadata": {},
   "outputs": [],
   "source": [
    "plt.rcParams.update({\"font.size\": 18, \"font.family\": \"monospace\"})"
   ]
  },
  {
   "cell_type": "markdown",
   "metadata": {},
   "source": [
    "# Set up experiment"
   ]
  },
  {
   "cell_type": "markdown",
   "metadata": {},
   "source": [
    "Algorithmic parameters"
   ]
  },
  {
   "cell_type": "code",
   "execution_count": 8,
   "metadata": {},
   "outputs": [],
   "source": [
    "max_delay = 1\n",
    "num_clusters = 50\n",
    "clust_bndy_choice = \"half\""
   ]
  },
  {
   "cell_type": "markdown",
   "metadata": {},
   "source": [
    "Which tasks to do"
   ]
  },
  {
   "cell_type": "code",
   "execution_count": 9,
   "metadata": {},
   "outputs": [],
   "source": [
    "compute_all_features_flag =           0\n",
    "assemble_tpt_features_flag =          0\n",
    "extreme_value_analysis_flag =         1\n",
    "path_counting_flag =                  1\n",
    "build_msm_flag =                      1\n",
    "dga_flag =                            1\n",
    "featset =                             1 # n, where this is the n'th set of features we've tried"
   ]
  },
  {
   "cell_type": "code",
   "execution_count": 10,
   "metadata": {},
   "outputs": [],
   "source": [
    "topic_dir = \"/scratch/jf4241/ecmwf_data/\"\n",
    "filedict = dict({\n",
    "    \"data\": dict({\n",
    "        \"e5\": dict({\n",
    "            \"traj\": dict({\n",
    "                \"dir\": join(topic_dir, \"era5_data\", \"raw_data\", \"2022-08-14\"), # Directory with possibly many files\n",
    "            }),\n",
    "            \"stats\": dict({\n",
    "                \"dir\": join(topic_dir, \"era5_data\", \"stats\", \"2022-09-03\"),\n",
    "                \"eof_filename\": \"eofs.nc\",\n",
    "                \"monthly_climatology_filename\": \"monclim.nc\",\n",
    "            }),\n",
    "            \"feat_all\": dict({\n",
    "                \"dir\": join(topic_dir, \"era5_data\", \"features_all\", \"2022-10-15\"),\n",
    "                #\"filename\": \"era5_features_all.nc\",\n",
    "            }),\n",
    "            \"feat_tpt\": dict({\n",
    "                \"dir\": join(topic_dir, \"era5_data\", \"features_tpt\", \"2022-10-15\",),\n",
    "                #\"filename\": \"era5_features_tpt.nc\",\n",
    "            }),\n",
    "        }),\n",
    "        \"s2\": dict({\n",
    "            \"traj\": dict({\n",
    "                \"dir\": join(topic_dir, \"s2s_data\", \"raw_data\", \"2022-08-20\"), # Directory with possibly many files\n",
    "            }),\n",
    "            \"stats\": dict({\n",
    "                \"dir\": join(topic_dir, \"s2s_data\", \"stats\", \"2022-09-04\"),\n",
    "            }),\n",
    "            \"feat_all\": dict({\n",
    "                \"dir\": join(topic_dir, \"s2s_data\", \"features_all\", \"2022-10-15\"),\n",
    "                \"filename\": \"era5_features_all.nc\",\n",
    "            }),\n",
    "            \"feat_tpt\": dict({\n",
    "                \"dir\": join(topic_dir, \"s2s_data\", \"features_tpt\", \"2022-10-15\",),\n",
    "                \"filename\": \"s2s_features_tpt.nc\",\n",
    "            }),\n",
    "        })    \n",
    "    }),\n",
    "    \"results\": dict({\n",
    "        \"dir\": join(\n",
    "            topic_dir, \"results\", \"tpt_quantities\", \"2022-10-15\", \n",
    "            f\"del{max_delay}_cls{num_clusters}_bdy{clust_bndy_choice}_featset{featset}\")\n",
    "    })\n",
    "})\n",
    "dispdict = dict({\n",
    "    \"e5\": dict({\n",
    "        \"color\": \"dodgerblue\",\n",
    "        \"abbrv\": \"ERA5\",\n",
    "    }),\n",
    "    \"s2\": dict({\n",
    "        \"color\": \"red\",\n",
    "        \"abbrv\": \"S2S\",\n",
    "    }),\n",
    "    \"linear_model\": dict({\n",
    "        \"color\": \"gray\",\n",
    "        \"abborv\": \"Linear model\",\n",
    "    })\n",
    "})"
   ]
  },
  {
   "cell_type": "code",
   "execution_count": 11,
   "metadata": {},
   "outputs": [],
   "source": [
    "# Create the directories if they don't exist already\n",
    "for src in list(filedict[\"data\"].keys()):\n",
    "    for data_stage in [\"traj\",\"stats\",\"feat_all\",\"feat_tpt\"]:\n",
    "        path = filedict[\"data\"][src][data_stage][\"dir\"]\n",
    "        if not exists(path):\n",
    "            makedirs(path, exist_ok=True)\n",
    "path = filedict[\"results\"][\"dir\"]\n",
    "if not exists(path): makedirs(path, exist_ok=True)"
   ]
  },
  {
   "cell_type": "markdown",
   "metadata": {},
   "source": [
    "## Read database and compute features. "
   ]
  },
  {
   "cell_type": "code",
   "execution_count": 12,
   "metadata": {},
   "outputs": [],
   "source": [
    "reload(feature_template)\n",
    "reload(feature_stratosphere)\n",
    "feat_strat = feature_stratosphere.WinterStratosphereFeatures()\n",
    "feat_strat.set_event_seasonal_params()\n",
    "feat_strat.set_ab_code()\n",
    "plt.rcParams.update({\"font.size\": 18, \"font.family\": \"monospace\"})"
   ]
  },
  {
   "cell_type": "code",
   "execution_count": 13,
   "metadata": {},
   "outputs": [],
   "source": [
    "if compute_all_features_flag:\n",
    "    obs2compute = [\n",
    "        \"time_observable\", \"ubar_observable\",\n",
    "        \"temperature_observable\", \"heatflux_observable\",\n",
    "        \"qbo_observable\",\n",
    "    ]\n",
    "    for src in [\"e5\",\"s2\"]:\n",
    "        obs_dict = dict({obsname: [] for obsname in obs2compute})\n",
    "        input_dir = filedict[\"data\"][src][\"traj\"][\"dir\"]\n",
    "        input_file_list = [join(input_dir, f) for f in os.listdir(input_dir) if f.endswith(\".nc\")]\n",
    "        output_dir = filedict[\"data\"][src][\"feat_all\"][\"dir\"]\n",
    "        feat_strat.compute_all_features_nodask(\n",
    "            src, input_file_list, output_dir, \n",
    "            obs2compute=obs2compute\n",
    "        )"
   ]
  },
  {
   "cell_type": "markdown",
   "metadata": {},
   "source": [
    "Reload the TPT features as a dictionary. We don't yet put them in a single dataset in order to avoid dimension conflicts. "
   ]
  },
  {
   "cell_type": "code",
   "execution_count": 14,
   "metadata": {},
   "outputs": [],
   "source": [
    "feat_all = dict()\n",
    "for src in [\"s2\",\"e5\"]:\n",
    "    feat_all[src] = feat_strat.assemble_all_features(\n",
    "        src,\n",
    "        filedict[\"data\"][src][\"feat_all\"][\"dir\"]\n",
    "        )"
   ]
  },
  {
   "cell_type": "markdown",
   "metadata": {},
   "source": [
    "Plot some climatological envelopes, as well as some hindcast ensembles from the same year "
   ]
  },
  {
   "cell_type": "code",
   "execution_count": 15,
   "metadata": {},
   "outputs": [
    {
     "name": "stdout",
     "output_type": "stream",
     "text": [
      "[  0  30  61  91 122 153 181 212 242 273 303 334]\n"
     ]
    },
    {
     "data": {
      "image/png": "[encoded data removed]",
      "text/plain": [
       "<Figure size 1080x360 with 1 Axes>"
      ]
     },
     "metadata": {},
     "output_type": "display_data"
    }
   ],
   "source": [
    "fig,ax = plt.subplots(figsize=(15,5))\n",
    "fig.set_facecolor(\"white\")\n",
    "handles = []\n",
    "\n",
    "year2plot = 2010\n",
    "obs_group = \"heatflux_observable\"\n",
    "obs_name = \"vT_500_2\"\n",
    "obs_label = \"$\\overline{v'T'}$(10 hPa) wave 0\"\n",
    "t_init_target_list = [70, 147.0, 250] # How many days into the season\n",
    "\n",
    "cond_e5 = 1*(feat_all[\"e5\"][\"time_observable\"].sel(feature=\"year_szn_start\") == year2plot)\n",
    "cond_s2 = 1*(feat_all[\"s2\"][\"time_observable\"].isel(t_sim=0).sel(feature=\"year_szn_start\") == year2plot)\n",
    "\n",
    "t_szn_1year = feat_all[\"e5\"][\"time_observable\"].where(cond_e5,drop=True).sel(feature=\"t_szn\").isel(t_init=0,member=0).to_numpy()\n",
    "xticks, xticklabels = feat_strat.generate_seasonal_xticks(t_szn_1year)\n",
    "ax.set_xticks(xticks)\n",
    "ax.set_xticklabels(xticklabels)\n",
    "ax.set_title(f\"{year2plot}-{year2plot+1}\")\n",
    "\n",
    "tpt_utils.plot_field_1d(\n",
    "    feat_all[\"e5\"][obs_group].sel(feature=obs_name).isel(t_init=0,member=0).to_numpy(), \n",
    "    np.ones(feat_all[\"e5\"][obs_group].t_sim.size), \n",
    "    feat_all[\"e5\"][\"time_observable\"].sel(feature=\"t_szn\").isel(t_init=0,member=0).to_numpy(),\n",
    "    feat_name=\"\", field_name=obs_label,\n",
    "    fig=fig, ax=ax, nbins=50\n",
    ")\n",
    "\n",
    "h, = ax.plot(\n",
    "    t_szn_1year,\n",
    "    feat_all[\"e5\"][obs_group].where(cond_e5,drop=True).sel(feature=obs_name).isel(t_init=0,member=0).to_numpy(),\n",
    "    color='dodgerblue', linewidth=4, label=\"ERA5\"\n",
    ")\n",
    "handles += [h]\n",
    "ax.legend(handles=handles)\n",
    "fig.savefig(join(filedict[\"results\"][\"dir\"], f\"{year2plot}_illust_0\"))\n",
    "\n",
    "# Draw thresholds\n",
    "for uth in [0,-5,-10]:\n",
    "    ax.axhline(y=uth, color='black', linestyle='--')\n",
    "ax.axvline(x=61, color='black', linestyle='--')\n",
    "ax.axvline(x=181, color='black', linestyle='--')\n",
    "fig.savefig(join(filedict[\"results\"][\"dir\"], f\"{year2plot}_illust_1\"))\n",
    "\n",
    "\n",
    "t_szn_1year = feat_all[\"e5\"][\"time_observable\"].where(cond_e5,drop=True).sel(feature=\"t_szn\").isel(t_init=0,member=0).to_numpy()\n",
    "for t_init_target in t_init_target_list:\n",
    "    i_t_init = int(t_init_target / 3.5)\n",
    "    for i_mem in range(feat_all[\"s2\"][\"time_observable\"].member.size):\n",
    "        x_ens, = (\n",
    "            feat_all[\"s2\"][\"time_observable\"].where(cond_s2,drop=True)\n",
    "            .isel(t_init=i_t_init,member=i_mem)\n",
    "            .sel(feature=\"t_szn\").to_numpy()\n",
    "        ),\n",
    "        y_ens, = feat_all[\"s2\"][obs_group].where(cond_s2,drop=True).isel(t_init=i_t_init,member=i_mem).sel(feature=obs_name).to_numpy(),\n",
    "        h, = ax.plot(x_ens, y_ens, color='red', label=\"S2S\")\n",
    "        if i_mem == 0: \n",
    "            h = ax.scatter(x_ens[0], y_ens[0], color='red', marker='o', zorder=10, s=144)\n",
    "\n",
    "handles += [h]\n",
    "ax.legend(handles=handles)\n",
    "\n",
    "fig.savefig(join(filedict[\"results\"][\"dir\"], f\"{year2plot}_illust_2\"))"
   ]
  },
  {
   "cell_type": "markdown",
   "metadata": {},
   "source": [
    "Plot some two-dimensional densities, at multiple time slices throughout the season."
   ]
  },
  {
   "cell_type": "markdown",
   "metadata": {},
   "source": [
    "# Assemble features for TPT."
   ]
  },
  {
   "cell_type": "markdown",
   "metadata": {},
   "source": [
    "Assemble and save the features with time delays. "
   ]
  },
  {
   "cell_type": "code",
   "execution_count": 16,
   "metadata": {},
   "outputs": [],
   "source": [
    "reload(feature_template)\n",
    "reload(feature_stratosphere)\n",
    "feat_strat = feature_stratosphere.WinterStratosphereFeatures()\n",
    "feat_strat.set_event_seasonal_params()\n",
    "feat_strat.set_ab_code()\n",
    "plt.rcParams.update({\"font.size\": 18, \"font.family\": \"monospace\"})"
   ]
  },
  {
   "cell_type": "code",
   "execution_count": 17,
   "metadata": {},
   "outputs": [],
   "source": [
    "if assemble_tpt_features_flag:\n",
    "    for src in [\"s2\",\"e5\"]:\n",
    "        feat_strat.assemble_tpt_features(feat_all[src], filedict[\"data\"][src][\"feat_tpt\"][\"dir\"])"
   ]
  },
  {
   "cell_type": "markdown",
   "metadata": {},
   "source": [
    "Reload them"
   ]
  },
  {
   "cell_type": "code",
   "execution_count": 18,
   "metadata": {},
   "outputs": [],
   "source": [
    "feat_tpt = dict()\n",
    "for src in [\"s2\",\"e5\"]:\n",
    "    feat_tpt[src] = xr.open_dataarray(join(filedict[\"data\"][src][\"feat_tpt\"][\"dir\"], \"features_tpt.nc\"))"
   ]
  },
  {
   "cell_type": "markdown",
   "metadata": {},
   "source": [
    "# Plot some densities to get a feel for the data"
   ]
  },
  {
   "cell_type": "markdown",
   "metadata": {},
   "source": [
    "Two-dimensional histograms of various observables"
   ]
  },
  {
   "cell_type": "code",
   "execution_count": null,
   "metadata": {},
   "outputs": [],
   "source": [
    "src = \"s2\"\n",
    "feats2plot = [\"ubar_10_60_delay0\",\"vT_100_1_runavg10\"]\n",
    "cond = 1*(\n",
    "    (feat_tpt[src].sel(feature=\"t_szn\") > 0) * \n",
    "    (feat_tpt[src].sel(feature=\"t_szn\") < 100)\n",
    ")\n",
    "feat_names = [\"U1060\",\"vT 10-day mean\"]\n",
    "data_cond = feat_tpt[src].where(cond)\n",
    "data_cond = data_cond.sel(feature=feats2plot,drop=True)\n",
    "data_cond = data_cond.stack(snapshot=(\"t_init\",\"member\",\"t_sim\"))"
   ]
  },
  {
   "cell_type": "code",
   "execution_count": null,
   "metadata": {},
   "outputs": [],
   "source": [
    "fig,ax = plt.subplots()\n",
    "tpt_utils.plot_field_2d(\n",
    "    np.ones(data_cond.snapshot.size), \n",
    "    np.ones(data_cond.snapshot.size),\n",
    "    np.array([\n",
    "        data_cond.sel(feature=feats2plot[0]).to_numpy().flatten(), \n",
    "        data_cond.sel(feature=feats2plot[1]).to_numpy().flatten()\n",
    "    ]).T,\n",
    "    feat_names = feat_names,\n",
    "    fig=fig, ax=ax, shp=[25,25],\n",
    "    stat_name=\"weightsum\", \n",
    "    cmap=plt.cm.magma, logscale=True\n",
    ")"
   ]
  },
  {
   "cell_type": "markdown",
   "metadata": {},
   "source": [
    "# Return time estimates: three methods "
   ]
  },
  {
   "cell_type": "markdown",
   "metadata": {},
   "source": [
    "In the following, we sweep through a number of SSW definitions, varying both the threshold and the season. "
   ]
  },
  {
   "cell_type": "code",
   "execution_count": 19,
   "metadata": {},
   "outputs": [],
   "source": [
    "sep1 = 0\n",
    "oct1,nov1,dec1,jan1 = np.cumsum([monthrange(1901,m)[1] for m in [9,10,11,12]])\n",
    "feb1,mar1,apr1 = jan1 + np.cumsum([monthrange(1902,m)[1] for m in [1,2,3]])\n",
    "u_thresh_list = np.arange(-52,1,4)\n",
    "t_thresh_list = np.array([\n",
    "    [oct1, apr1],\n",
    "    [nov1, mar1],\n",
    "    [oct1, mar1],\n",
    "])[:2]\n",
    "t_thresh_string_list = [\n",
    "    \"Oct-Mar\", \"Nov-Feb\", \n",
    "]\n",
    "np.save(join(filedict[\"results\"][\"dir\"], \"u_thresh_list\"), u_thresh_list)\n",
    "np.save(join(filedict[\"results\"][\"dir\"], \"t_thresh_list\"), u_thresh_list)"
   ]
  },
  {
   "cell_type": "markdown",
   "metadata": {},
   "source": [
    "## Method 1: extreme value theory"
   ]
  },
  {
   "cell_type": "code",
   "execution_count": 20,
   "metadata": {},
   "outputs": [],
   "source": [
    "reload(feature_template)\n",
    "reload(feature_stratosphere)\n",
    "feat_strat = feature_stratosphere.WinterStratosphereFeatures()\n",
    "feat_strat.set_event_seasonal_params()\n",
    "feat_strat.set_ab_code()\n",
    "plt.rcParams.update({\"font.size\": 18, \"font.family\": \"monospace\"})"
   ]
  },
  {
   "cell_type": "code",
   "execution_count": 21,
   "metadata": {},
   "outputs": [
    {
     "name": "stdout",
     "output_type": "stream",
     "text": [
      "rate_lower = [0.25806452 0.64516129 0.37096774 1.         0.53225806 0.14516129\n",
      " 0.87096774 0.51612903 0.9516129  0.56451613 0.58064516 0.17741935\n",
      " 0.5        0.72580645 0.0483871  0.43548387 0.16129032 0.85483871\n",
      " 0.61290323 0.30645161 0.33870968 0.5483871  0.74193548 0.66129032\n",
      " 0.79032258 0.38709677 0.22580645 0.19354839 0.11290323 0.12903226\n",
      " 0.27419355 0.93548387 0.91935484 0.4516129  0.83870968 0.82258065\n",
      " 0.77419355 0.90322581 0.80645161 0.59677419 0.06451613 0.62903226\n",
      " 0.40322581 0.67741935 0.69354839 0.29032258 0.32258065 0.09677419\n",
      " 0.48387097 0.20967742 0.01612903 0.46774194 0.96774194 0.88709677\n",
      " 0.35483871 0.24193548 0.70967742 0.03225806 0.75806452 0.08064516\n",
      " 0.41935484 0.98387097]\n",
      "src = e5, umin=[-1.40479374e+01 -3.29306245e+00 -1.19367714e+01  1.48310528e+01\n",
      " -6.48498058e+00 -1.76873989e+01  2.14950299e+00 -7.56937313e+00\n",
      "  9.12770367e+00 -5.64080286e+00 -4.99071693e+00 -1.56552258e+01\n",
      " -7.98900032e+00 -1.13869905e+00 -2.74612904e+01 -9.36456871e+00\n",
      " -1.59697914e+01  2.03904009e+00 -4.20458651e+00 -1.36069536e+01\n",
      " -1.23180742e+01 -6.20585108e+00 -2.92718671e-02 -2.31852293e+00\n",
      "  5.63029826e-01 -1.19099874e+01 -1.45471935e+01 -1.56195412e+01\n",
      " -1.94537220e+01 -1.82228546e+01 -1.39756727e+01  7.72936487e+00\n",
      "  3.70464158e+00 -9.34669781e+00  1.55883956e+00  1.54455900e+00\n",
      "  2.44321823e-01  3.32201171e+00  1.53442144e+00 -4.48147249e+00\n",
      " -2.63147411e+01 -3.72295880e+00 -1.17568932e+01 -1.98878813e+00\n",
      " -1.84187555e+00 -1.39368086e+01 -1.32659578e+01 -2.44071922e+01\n",
      " -8.08517265e+00 -1.48696270e+01 -3.21076317e+01 -8.33298874e+00\n",
      "  1.13267250e+01  2.44046497e+00 -1.21455927e+01 -1.41627502e+01\n",
      " -1.44101286e+00 -3.05582371e+01  3.00216675e-02 -2.45039368e+01\n",
      " -1.08487558e+01  1.42281389e+01],\n",
      "empirical rates = [0.25806452 0.64516129 0.37096774 1.         0.53225806 0.14516129\n",
      " 0.87096774 0.51612903 0.9516129  0.56451613 0.58064516 0.17741935\n",
      " 0.5        0.72580645 0.0483871  0.43548387 0.16129032 0.85483871\n",
      " 0.61290323 0.30645161 0.33870968 0.5483871  0.74193548 0.66129032\n",
      " 0.79032258 0.38709677 0.22580645 0.19354839 0.11290323 0.12903226\n",
      " 0.27419355 0.93548387 0.91935484 0.4516129  0.83870968 0.82258065\n",
      " 0.77419355 0.90322581 0.80645161 0.59677419 0.06451613 0.62903226\n",
      " 0.40322581 0.67741935 0.69354839 0.29032258 0.32258065 0.09677419\n",
      " 0.48387097 0.20967742 0.01612903 0.46774194 0.96774194 0.88709677\n",
      " 0.35483871 0.24193548 0.70967742 0.03225806 0.75806452 0.08064516\n",
      " 0.41935484 0.98387097]\n",
      "rate_lower = [1.74002468e-03 1.06334842e-03 9.66680378e-05 8.73245252e-04\n",
      " 1.45002057e-03 1.83669272e-03 1.16001645e-03 1.55243600e-03\n",
      " 5.80008227e-04 1.35335253e-03 4.83340189e-04 2.91081751e-04\n",
      " 9.66680378e-04 6.76676265e-04 1.25668449e-03 1.94054500e-03\n",
      " 1.93336076e-04 7.73344303e-04 1.64335664e-03 3.88109001e-04]\n",
      "src = s2, umin=[-28.6425705  -34.01984024 -49.91216278 -34.39689636 -31.39238739\n",
      " -27.83846664 -33.6598053  -30.52801895 -35.28737259 -31.99394989\n",
      " -37.00657654 -41.2653389  -34.2759285  -34.77402878 -33.5835762\n",
      " -26.18906403 -43.79975128 -34.51608658 -28.92887306 -38.56066895],\n",
      "empirical rates = [1.74002468e-03 1.06334842e-03 9.66680378e-05 8.73245252e-04\n",
      " 1.45002057e-03 1.83669272e-03 1.16001645e-03 1.55243600e-03\n",
      " 5.80008227e-04 1.35335253e-03 4.83340189e-04 2.91081751e-04\n",
      " 9.66680378e-04 6.76676265e-04 1.25668449e-03 1.94054500e-03\n",
      " 1.93336076e-04 7.73344303e-04 1.64335664e-03 3.88109001e-04]\n",
      "rate_lower = [1.74002468e-03 1.25668449e-03 2.90004114e-04 1.35838150e-03\n",
      " 9.66680378e-04 1.45002057e-03 1.54668861e-03 6.79190751e-04\n",
      " 7.73344303e-04 3.86672151e-04 1.16001645e-03 4.85136251e-04\n",
      " 9.66680378e-05 1.06334842e-03 1.93336076e-03 1.84351775e-03\n",
      " 8.70012341e-04 5.80008227e-04 1.64335664e-03 1.94054500e-04]\n",
      "rate_lower = [1.         0.41935484 0.74193548 0.88709677 0.35483871 0.96774194\n",
      " 0.85483871 0.33870968 0.72580645 0.37096774 0.38709677 0.12903226\n",
      " 0.32258065 0.67741935 0.03225806 0.91935484 0.77419355 0.98387097\n",
      " 0.40322581 0.62903226 0.20967742 0.64516129 0.51612903 0.43548387\n",
      " 0.59677419 0.24193548 0.16129032 0.80645161 0.09677419 0.11290323\n",
      " 0.17741935 0.69354839 0.58064516 0.70967742 0.83870968 0.56451613\n",
      " 0.5        0.9516129  0.5483871  0.53225806 0.0483871  0.93548387\n",
      " 0.25806452 0.4516129  0.46774194 0.19354839 0.66129032 0.08064516\n",
      " 0.30645161 0.14516129 0.01612903 0.29032258 0.87096774 0.61290323\n",
      " 0.22580645 0.90322581 0.75806452 0.79032258 0.48387097 0.06451613\n",
      " 0.27419355 0.82258065]\n",
      "src = e5, umin=[ 2.73727150e+01 -3.29306245e+00  9.47705269e+00  1.65272102e+01\n",
      " -6.48498058e+00  2.16408749e+01  1.44398766e+01 -7.56937313e+00\n",
      "  9.12770367e+00 -5.64080286e+00 -4.99071693e+00 -1.56552258e+01\n",
      " -7.98900032e+00  7.55700588e+00 -2.74612904e+01  1.77267570e+01\n",
      "  9.90799236e+00  2.54980736e+01 -4.20458651e+00  6.46987724e+00\n",
      " -1.23180742e+01  6.64601707e+00  7.21234858e-01 -2.31852293e+00\n",
      "  5.32017612e+00 -1.19099874e+01 -1.45471935e+01  1.32337523e+01\n",
      " -1.94537220e+01 -1.82228546e+01 -1.39756727e+01  7.72936487e+00\n",
      "  3.70464158e+00  8.15071201e+00  1.43986034e+01  1.54455900e+00\n",
      "  2.44321823e-01  2.07164211e+01  1.53442144e+00  1.14215600e+00\n",
      " -2.63147411e+01  2.05617828e+01 -1.17568932e+01 -1.98878813e+00\n",
      " -1.84187555e+00 -1.39368086e+01  7.29840088e+00 -2.44071922e+01\n",
      " -8.08517265e+00 -1.48696270e+01 -3.21076317e+01 -8.33298874e+00\n",
      "  1.55756950e+01  6.06831598e+00 -1.21455927e+01  1.70780773e+01\n",
      "  9.79194641e+00  1.11817284e+01  3.00216675e-02 -2.45039368e+01\n",
      " -1.08487558e+01  1.43947401e+01],\n",
      "empirical rates = [1.         0.41935484 0.74193548 0.88709677 0.35483871 0.96774194\n",
      " 0.85483871 0.33870968 0.72580645 0.37096774 0.38709677 0.12903226\n",
      " 0.32258065 0.67741935 0.03225806 0.91935484 0.77419355 0.98387097\n",
      " 0.40322581 0.62903226 0.20967742 0.64516129 0.51612903 0.43548387\n",
      " 0.59677419 0.24193548 0.16129032 0.80645161 0.09677419 0.11290323\n",
      " 0.17741935 0.69354839 0.58064516 0.70967742 0.83870968 0.56451613\n",
      " 0.5        0.9516129  0.5483871  0.53225806 0.0483871  0.93548387\n",
      " 0.25806452 0.4516129  0.46774194 0.19354839 0.66129032 0.08064516\n",
      " 0.30645161 0.14516129 0.01612903 0.29032258 0.87096774 0.61290323\n",
      " 0.22580645 0.90322581 0.75806452 0.79032258 0.48387097 0.06451613\n",
      " 0.27419355 0.82258065]\n",
      "rate_lower = [0.0025     0.00147059 0.00014706 0.00117647 0.00220588 0.00264706\n",
      " 0.00161765 0.00235294 0.00088235 0.00205882 0.00058824 0.00044118\n",
      " 0.00132353 0.00102941 0.00176471 0.00279412 0.00029412 0.00191176\n",
      " 0.00294118 0.00073529]\n",
      "src = s2, umin=[-27.87937355 -34.01984024 -49.91216278 -34.39689636 -31.39238739\n",
      " -27.83846664 -33.6598053  -30.52801895 -35.28737259 -31.99394989\n",
      " -37.00657654 -41.2653389  -34.2759285  -34.77402878 -32.53899765\n",
      " -26.18906403 -43.79975128 -32.30089569 -25.27691841 -35.72401428],\n",
      "empirical rates = [0.0025     0.00147059 0.00014706 0.00117647 0.00220588 0.00264706\n",
      " 0.00161765 0.00235294 0.00088235 0.00205882 0.00058824 0.00044118\n",
      " 0.00132353 0.00102941 0.00176471 0.00279412 0.00029412 0.00191176\n",
      " 0.00294118 0.00073529]\n",
      "rate_lower = [0.00191176 0.00176471 0.00029412 0.00294118 0.00102941 0.00147059\n",
      " 0.00161765 0.00073529 0.00220588 0.00044118 0.00132353 0.00058824\n",
      " 0.00014706 0.00117647 0.00264706 0.00205882 0.00088235 0.00279412\n",
      " 0.00235294 0.0025    ]\n"
     ]
    }
   ],
   "source": [
    "if extreme_value_analysis_flag:\n",
    "    feat_strat.extreme_value_analysis(t_thresh_list, feat_tpt, filedict[\"results\"][\"dir\"])"
   ]
  },
  {
   "cell_type": "markdown",
   "metadata": {},
   "source": [
    "## Plot results for extreme values"
   ]
  },
  {
   "cell_type": "code",
   "execution_count": 22,
   "metadata": {},
   "outputs": [
    {
     "data": {
      "image/png": "[encoded data removed]",
      "text/plain": [
       "<Figure size 432x288 with 1 Axes>"
      ]
     },
     "metadata": {},
     "output_type": "display_data"
    }
   ],
   "source": [
    "fig,ax = plt.subplots()\n",
    "fig.set_facecolor(\"white\")\n",
    "xlim = np.inf*np.array([1,-1])\n",
    "\n",
    "itth_list = [0,1,2]\n",
    "sizes = [100, 49, 9]\n",
    "zorders = [1, 2, 3]\n",
    "colors = ['springgreen', 'magenta', 'black']\n",
    "\n",
    "handles = []\n",
    "for i_tth in range(len(t_thresh_list)):\n",
    "    t_thresh = t_thresh_list[i_tth]\n",
    "    extval_stats = pickle.load(open(join(filedict[\"results\"][\"dir\"], f\"extval_stats_tth{t_thresh[0]}-{t_thresh[1]}\"), \"rb\"))\n",
    "    fyidx = dict({\n",
    "        \"e5\": np.where(np.in1d(extval_stats[\"e5\"][\"fall_years\"], extval_stats[\"s2\"][\"fall_years\"])),\n",
    "        \"s2\": np.where(np.in1d(extval_stats[\"s2\"][\"fall_years\"], extval_stats[\"e5\"][\"fall_years\"]))\n",
    "    })\n",
    "    fy_common = extval_stats[\"e5\"][\"fall_years\"][fyidx[\"e5\"]]\n",
    "    # Plot minimum S2S vs minimum E5\n",
    "    xdata = extval_stats[\"e5\"][\"umin\"][fyidx[\"e5\"]]\n",
    "    ydata = extval_stats[\"s2\"][\"umin\"][fyidx[\"s2\"]]\n",
    "    xlim = [min(xlim[0], xdata.min(), ydata.min()) - 5, max(xlim[1], xdata.max(), ydata.max()) + 5]\n",
    "    h = ax.scatter(xdata, ydata, s=sizes[i_tth], color=colors[i_tth], marker='o', zorder=zorders[i_tth], label=t_thresh_string_list[i_tth])\n",
    "    handles += [h]\n",
    "# Plot the linear model\n",
    "for i_tth in range(len(t_thresh_list)):\n",
    "    t_thresh = t_thresh_list[i_tth]\n",
    "    extval_stats = pickle.load(open(join(filedict[\"results\"][\"dir\"], f\"extval_stats_tth{t_thresh[0]}-{t_thresh[1]}\"), \"rb\"))\n",
    "    intercept,slope = extval_stats[\"linear_model\"][\"coeffs\"]\n",
    "    ax.plot(np.array(xlim), intercept + slope*np.array(xlim), color=colors[i_tth], zorder=-1)\n",
    "\n",
    "ax.set_title(r\"min $\\overline{u}$(10 hPa, 60$^\\circ$N)\")\n",
    "ax.set_xlabel(\"ERA5\")\n",
    "ax.set_ylabel(\"S2S\")\n",
    "ax.set_xlim(xlim)\n",
    "ax.set_ylim(xlim)\n",
    "ax.plot(xlim, xlim, color='gray', zorder=-1, alpha=0.75)\n",
    "ax.legend(handles=handles)\n",
    "\n",
    "fig.savefig(join(filedict[\"results\"][\"dir\"], \"umin_s2_vs_e5\"), bbox_inches=\"tight\")\n"
   ]
  },
  {
   "cell_type": "markdown",
   "metadata": {},
   "source": [
    "## Method 2: count paths from each initialization"
   ]
  },
  {
   "cell_type": "code",
   "execution_count": 23,
   "metadata": {},
   "outputs": [],
   "source": [
    "reload(feature_template)\n",
    "reload(feature_stratosphere)\n",
    "feat_strat = feature_stratosphere.WinterStratosphereFeatures()\n",
    "feat_strat.set_event_seasonal_params()\n",
    "feat_strat.set_ab_code()\n",
    "plt.rcParams.update({\"font.size\": 18, \"font.family\": \"monospace\"})"
   ]
  },
  {
   "cell_type": "code",
   "execution_count": 24,
   "metadata": {},
   "outputs": [
    {
     "name": "stdout",
     "output_type": "stream",
     "text": [
      "---------- Starting u_thresh -52 --------------\n",
      "t_sim.shape = (22280,)\n",
      "Forward pass: through time 0 out of 47\n",
      "Backward pass: through time 0 out of 47\n",
      "number in domain = {len(domain_idx)}\n",
      "comm_emp_s2 dims = ('t_init', 'member', 't_sim', 'sense')\n",
      "froma_flag dims = ('t_init', 'member', 't_sim')\n",
      "How many from A? <xarray.DataArray ()>\n",
      "array(748800.)\n",
      "Coordinates:\n",
      "    sense    <U5 'since'\n",
      "prob_ssw = 0.0\n",
      "---------- Starting u_thresh -48 --------------\n",
      "t_sim.shape = (22280,)\n",
      "Forward pass: through time 0 out of 47\n",
      "Backward pass: through time 0 out of 47\n",
      "number in domain = {len(domain_idx)}\n",
      "comm_emp_s2 dims = ('t_init', 'member', 't_sim', 'sense')\n",
      "froma_flag dims = ('t_init', 'member', 't_sim')\n",
      "How many from A? <xarray.DataArray ()>\n",
      "array(748785.)\n",
      "Coordinates:\n",
      "    sense    <U5 'since'\n",
      "prob_ssw = 0.0005\n",
      "---------- Starting u_thresh -44 --------------\n",
      "t_sim.shape = (22280,)\n",
      "Forward pass: through time 0 out of 47\n",
      "Backward pass: through time 0 out of 47\n",
      "number in domain = {len(domain_idx)}\n",
      "comm_emp_s2 dims = ('t_init', 'member', 't_sim', 'sense')\n",
      "froma_flag dims = ('t_init', 'member', 't_sim')\n",
      "How many from A? <xarray.DataArray ()>\n",
      "array(748785.)\n",
      "Coordinates:\n",
      "    sense    <U5 'since'\n",
      "prob_ssw = 0.0005\n",
      "---------- Starting u_thresh -40 --------------\n",
      "t_sim.shape = (22280,)\n",
      "Forward pass: through time 0 out of 47\n",
      "Backward pass: through time 0 out of 47\n",
      "number in domain = {len(domain_idx)}\n",
      "comm_emp_s2 dims = ('t_init', 'member', 't_sim', 'sense')\n",
      "froma_flag dims = ('t_init', 'member', 't_sim')\n",
      "How many from A? <xarray.DataArray ()>\n",
      "array(748758.)\n",
      "Coordinates:\n",
      "    sense    <U5 'since'\n",
      "prob_ssw = 0.0015002501250625314\n",
      "---------- Starting u_thresh -36 --------------\n",
      "t_sim.shape = (22280,)\n",
      "Forward pass: through time 0 out of 47\n",
      "Backward pass: through time 0 out of 47\n",
      "number in domain = {len(domain_idx)}\n",
      "comm_emp_s2 dims = ('t_init', 'member', 't_sim', 'sense')\n",
      "froma_flag dims = ('t_init', 'member', 't_sim')\n",
      "How many from A? <xarray.DataArray ()>\n",
      "array(748672.)\n",
      "Coordinates:\n",
      "    sense    <U5 'since'\n",
      "prob_ssw = 0.0043200095790017065\n",
      "---------- Starting u_thresh -32 --------------\n",
      "t_sim.shape = (22280,)\n",
      "Forward pass: through time 0 out of 47\n",
      "Backward pass: through time 0 out of 47\n",
      "number in domain = {len(domain_idx)}\n",
      "comm_emp_s2 dims = ('t_init', 'member', 't_sim', 'sense')\n",
      "froma_flag dims = ('t_init', 'member', 't_sim')\n",
      "How many from A? <xarray.DataArray ()>\n",
      "array(741326.)\n",
      "Coordinates:\n",
      "    sense    <U5 'since'\n",
      "prob_ssw = 0.01735482558969999\n",
      "---------- Starting u_thresh -28 --------------\n",
      "t_sim.shape = (22280,)\n",
      "Forward pass: through time 0 out of 47\n",
      "Backward pass: through time 0 out of 47\n",
      "number in domain = {len(domain_idx)}\n",
      "comm_emp_s2 dims = ('t_init', 'member', 't_sim', 'sense')\n",
      "froma_flag dims = ('t_init', 'member', 't_sim')\n",
      "How many from A? <xarray.DataArray ()>\n",
      "array(737689.)\n",
      "Coordinates:\n",
      "    sense    <U5 'since'\n",
      "prob_ssw = 0.03685953905124072\n",
      "---------- Starting u_thresh -24 --------------\n",
      "t_sim.shape = (22280,)\n",
      "Forward pass: through time 0 out of 47\n",
      "Backward pass: through time 0 out of 47\n",
      "number in domain = {len(domain_idx)}\n",
      "comm_emp_s2 dims = ('t_init', 'member', 't_sim', 'sense')\n",
      "froma_flag dims = ('t_init', 'member', 't_sim')\n",
      "How many from A? <xarray.DataArray ()>\n",
      "array(717905.)\n",
      "Coordinates:\n",
      "    sense    <U5 'since'\n",
      "prob_ssw = 0.08442714697620485\n",
      "---------- Starting u_thresh -20 --------------\n",
      "t_sim.shape = (22280,)\n",
      "Forward pass: through time 0 out of 47\n",
      "Backward pass: through time 0 out of 47\n",
      "number in domain = {len(domain_idx)}\n",
      "comm_emp_s2 dims = ('t_init', 'member', 't_sim', 'sense')\n",
      "froma_flag dims = ('t_init', 'member', 't_sim')\n",
      "How many from A? <xarray.DataArray ()>\n",
      "array(713737.)\n",
      "Coordinates:\n",
      "    sense    <U5 'since'\n",
      "prob_ssw = 0.17871174058799133\n",
      "---------- Starting u_thresh -16 --------------\n",
      "t_sim.shape = (22280,)\n",
      "Forward pass: through time 0 out of 47\n",
      "Backward pass: through time 0 out of 47\n",
      "number in domain = {len(domain_idx)}\n",
      "comm_emp_s2 dims = ('t_init', 'member', 't_sim', 'sense')\n",
      "froma_flag dims = ('t_init', 'member', 't_sim')\n",
      "How many from A? <xarray.DataArray ()>\n",
      "array(709367.)\n",
      "Coordinates:\n",
      "    sense    <U5 'since'\n",
      "prob_ssw = 0.3165945728994161\n",
      "---------- Starting u_thresh -12 --------------\n",
      "t_sim.shape = (22280,)\n",
      "Forward pass: through time 0 out of 47\n",
      "Backward pass: through time 0 out of 47\n",
      "number in domain = {len(domain_idx)}\n",
      "comm_emp_s2 dims = ('t_init', 'member', 't_sim', 'sense')\n",
      "froma_flag dims = ('t_init', 'member', 't_sim')\n",
      "How many from A? <xarray.DataArray ()>\n",
      "array(681019.)\n",
      "Coordinates:\n",
      "    sense    <U5 'since'\n",
      "prob_ssw = 0.5494381573089159\n",
      "---------- Starting u_thresh -8 --------------\n",
      "t_sim.shape = (22280,)\n",
      "Forward pass: through time 0 out of 47\n",
      "Backward pass: through time 0 out of 47\n",
      "number in domain = {len(domain_idx)}\n",
      "comm_emp_s2 dims = ('t_init', 'member', 't_sim', 'sense')\n",
      "froma_flag dims = ('t_init', 'member', 't_sim')\n",
      "How many from A? <xarray.DataArray ()>\n",
      "array(658657.)\n",
      "Coordinates:\n",
      "    sense    <U5 'since'\n",
      "prob_ssw = 0.8771885024915278\n",
      "---------- Starting u_thresh -4 --------------\n",
      "t_sim.shape = (22280,)\n",
      "Forward pass: through time 0 out of 47\n",
      "Backward pass: through time 0 out of 47\n",
      "number in domain = {len(domain_idx)}\n",
      "comm_emp_s2 dims = ('t_init', 'member', 't_sim', 'sense')\n",
      "froma_flag dims = ('t_init', 'member', 't_sim')\n",
      "How many from A? <xarray.DataArray ()>\n",
      "array(649169.)\n",
      "Coordinates:\n",
      "    sense    <U5 'since'\n",
      "prob_ssw = 1.2379439741199245\n",
      "---------- Starting u_thresh 0 --------------\n",
      "t_sim.shape = (22280,)\n",
      "Forward pass: through time 0 out of 47\n",
      "Backward pass: through time 0 out of 47\n",
      "number in domain = {len(domain_idx)}\n",
      "comm_emp_s2 dims = ('t_init', 'member', 't_sim', 'sense')\n",
      "froma_flag dims = ('t_init', 'member', 't_sim')\n",
      "How many from A? <xarray.DataArray ()>\n",
      "array(621949.)\n",
      "Coordinates:\n",
      "    sense    <U5 'since'\n",
      "prob_ssw = 1.6769508927877264\n",
      "---------- Starting u_thresh -52 --------------\n",
      "t_sim.shape = (22280,)\n",
      "Forward pass: through time 0 out of 47\n",
      "Backward pass: through time 0 out of 47\n",
      "number in domain = {len(domain_idx)}\n",
      "comm_emp_s2 dims = ('t_init', 'member', 't_sim', 'sense')\n",
      "froma_flag dims = ('t_init', 'member', 't_sim')\n",
      "How many from A? <xarray.DataArray ()>\n",
      "array(748800.)\n",
      "Coordinates:\n",
      "    sense    <U5 'since'\n",
      "prob_ssw = 0.0\n",
      "---------- Starting u_thresh -48 --------------\n",
      "t_sim.shape = (22280,)\n",
      "Forward pass: through time 0 out of 47\n",
      "Backward pass: through time 0 out of 47\n",
      "number in domain = {len(domain_idx)}\n",
      "comm_emp_s2 dims = ('t_init', 'member', 't_sim', 'sense')\n",
      "froma_flag dims = ('t_init', 'member', 't_sim')\n",
      "How many from A? <xarray.DataArray ()>\n",
      "array(748785.)\n",
      "Coordinates:\n",
      "    sense    <U5 'since'\n",
      "prob_ssw = 0.0005\n",
      "---------- Starting u_thresh -44 --------------\n",
      "t_sim.shape = (22280,)\n",
      "Forward pass: through time 0 out of 47\n",
      "Backward pass: through time 0 out of 47\n",
      "number in domain = {len(domain_idx)}\n",
      "comm_emp_s2 dims = ('t_init', 'member', 't_sim', 'sense')\n",
      "froma_flag dims = ('t_init', 'member', 't_sim')\n",
      "How many from A? <xarray.DataArray ()>\n",
      "array(748785.)\n",
      "Coordinates:\n",
      "    sense    <U5 'since'\n",
      "prob_ssw = 0.0005\n",
      "---------- Starting u_thresh -40 --------------\n",
      "t_sim.shape = (22280,)\n",
      "Forward pass: through time 0 out of 47\n",
      "Backward pass: through time 0 out of 47\n",
      "number in domain = {len(domain_idx)}\n",
      "comm_emp_s2 dims = ('t_init', 'member', 't_sim', 'sense')\n",
      "froma_flag dims = ('t_init', 'member', 't_sim')\n",
      "How many from A? <xarray.DataArray ()>\n",
      "array(748758.)\n",
      "Coordinates:\n",
      "    sense    <U5 'since'\n",
      "prob_ssw = 0.0015002501250625314\n",
      "---------- Starting u_thresh -36 --------------\n",
      "t_sim.shape = (22280,)\n",
      "Forward pass: through time 0 out of 47\n",
      "Backward pass: through time 0 out of 47\n",
      "number in domain = {len(domain_idx)}\n",
      "comm_emp_s2 dims = ('t_init', 'member', 't_sim', 'sense')\n",
      "froma_flag dims = ('t_init', 'member', 't_sim')\n",
      "How many from A? <xarray.DataArray ()>\n",
      "array(748709.)\n",
      "Coordinates:\n",
      "    sense    <U5 'since'\n",
      "prob_ssw = 0.002910298365243778\n",
      "---------- Starting u_thresh -32 --------------\n",
      "t_sim.shape = (22280,)\n",
      "Forward pass: through time 0 out of 47\n",
      "Backward pass: through time 0 out of 47\n",
      "number in domain = {len(domain_idx)}\n",
      "comm_emp_s2 dims = ('t_init', 'member', 't_sim', 'sense')\n",
      "froma_flag dims = ('t_init', 'member', 't_sim')\n",
      "How many from A? <xarray.DataArray ()>\n",
      "array(744999.)\n",
      "Coordinates:\n",
      "    sense    <U5 'since'\n",
      "prob_ssw = 0.012675545118167491\n",
      "---------- Starting u_thresh -28 --------------\n",
      "t_sim.shape = (22280,)\n",
      "Forward pass: through time 0 out of 47\n",
      "Backward pass: through time 0 out of 47\n",
      "number in domain = {len(domain_idx)}\n",
      "comm_emp_s2 dims = ('t_init', 'member', 't_sim', 'sense')\n",
      "froma_flag dims = ('t_init', 'member', 't_sim')\n",
      "How many from A? <xarray.DataArray ()>\n",
      "array(744223.)\n",
      "Coordinates:\n",
      "    sense    <U5 'since'\n",
      "prob_ssw = 0.024893223242113943\n",
      "---------- Starting u_thresh -24 --------------\n",
      "t_sim.shape = (22280,)\n",
      "Forward pass: through time 0 out of 47\n",
      "Backward pass: through time 0 out of 47\n",
      "number in domain = {len(domain_idx)}\n",
      "comm_emp_s2 dims = ('t_init', 'member', 't_sim', 'sense')\n",
      "froma_flag dims = ('t_init', 'member', 't_sim')\n",
      "How many from A? <xarray.DataArray ()>\n",
      "array(731657.)\n",
      "Coordinates:\n",
      "    sense    <U5 'since'\n",
      "prob_ssw = 0.05429700986926347\n",
      "---------- Starting u_thresh -20 --------------\n",
      "t_sim.shape = (22280,)\n",
      "Forward pass: through time 0 out of 47\n",
      "Backward pass: through time 0 out of 47\n",
      "number in domain = {len(domain_idx)}\n",
      "comm_emp_s2 dims = ('t_init', 'member', 't_sim', 'sense')\n",
      "froma_flag dims = ('t_init', 'member', 't_sim')\n",
      "How many from A? <xarray.DataArray ()>\n",
      "array(729136.)\n",
      "Coordinates:\n",
      "    sense    <U5 'since'\n",
      "prob_ssw = 0.11178073423969792\n",
      "---------- Starting u_thresh -16 --------------\n",
      "t_sim.shape = (22280,)\n",
      "Forward pass: through time 0 out of 47\n",
      "Backward pass: through time 0 out of 47\n",
      "number in domain = {len(domain_idx)}\n",
      "comm_emp_s2 dims = ('t_init', 'member', 't_sim', 'sense')\n",
      "froma_flag dims = ('t_init', 'member', 't_sim')\n",
      "How many from A? <xarray.DataArray ()>\n",
      "array(726490.)\n",
      "Coordinates:\n",
      "    sense    <U5 'since'\n",
      "prob_ssw = 0.1939454685935809\n",
      "---------- Starting u_thresh -12 --------------\n",
      "t_sim.shape = (22280,)\n",
      "Forward pass: through time 0 out of 47\n",
      "Backward pass: through time 0 out of 47\n",
      "number in domain = {len(domain_idx)}\n",
      "comm_emp_s2 dims = ('t_init', 'member', 't_sim', 'sense')\n",
      "froma_flag dims = ('t_init', 'member', 't_sim')\n",
      "How many from A? <xarray.DataArray ()>\n",
      "array(713051.)\n",
      "Coordinates:\n",
      "    sense    <U5 'since'\n",
      "prob_ssw = 0.31540675782943217\n",
      "---------- Starting u_thresh -8 --------------\n",
      "t_sim.shape = (22280,)\n",
      "Forward pass: through time 0 out of 47\n",
      "Backward pass: through time 0 out of 47\n",
      "number in domain = {len(domain_idx)}\n",
      "comm_emp_s2 dims = ('t_init', 'member', 't_sim', 'sense')\n",
      "froma_flag dims = ('t_init', 'member', 't_sim')\n",
      "How many from A? <xarray.DataArray ()>\n",
      "array(703776.)\n",
      "Coordinates:\n",
      "    sense    <U5 'since'\n",
      "prob_ssw = 0.46700762429041576\n",
      "---------- Starting u_thresh -4 --------------\n",
      "t_sim.shape = (22280,)\n",
      "Forward pass: through time 0 out of 47\n",
      "Backward pass: through time 0 out of 47\n",
      "number in domain = {len(domain_idx)}\n",
      "comm_emp_s2 dims = ('t_init', 'member', 't_sim', 'sense')\n",
      "froma_flag dims = ('t_init', 'member', 't_sim')\n",
      "How many from A? <xarray.DataArray ()>\n",
      "array(697646.)\n",
      "Coordinates:\n",
      "    sense    <U5 'since'\n",
      "prob_ssw = 0.665281861149563\n",
      "---------- Starting u_thresh 0 --------------\n",
      "t_sim.shape = (22280,)\n",
      "Forward pass: through time 0 out of 47\n",
      "Backward pass: through time 0 out of 47\n",
      "number in domain = {len(domain_idx)}\n",
      "comm_emp_s2 dims = ('t_init', 'member', 't_sim', 'sense')\n",
      "froma_flag dims = ('t_init', 'member', 't_sim')\n",
      "How many from A? <xarray.DataArray ()>\n",
      "array(678587.)\n",
      "Coordinates:\n",
      "    sense    <U5 'since'\n",
      "prob_ssw = 0.8955831320124612\n"
     ]
    }
   ],
   "source": [
    "if path_counting_flag:\n",
    "    for i_tth in range(len(t_thresh_list)):\n",
    "        t_thresh = t_thresh_list[i_tth]\n",
    "        rate_e5,rate_s2 = feat_strat.path_counting_rates(feat_all, feat_tpt, t_thresh, u_thresh_list, min_spread_time=10)\n",
    "        rate_e5.to_netcdf(join(filedict[\"results\"][\"dir\"], f\"rate_pathcounting_e5_{t_thresh[0]}-{t_thresh[1]}.nc\"))\n",
    "        rate_s2.to_netcdf(join(filedict[\"results\"][\"dir\"], f\"rate_pathcounting_s2_{t_thresh[0]}-{t_thresh[1]}.nc\"))"
   ]
  },
  {
   "cell_type": "markdown",
   "metadata": {},
   "source": [
    "## Plot results"
   ]
  },
  {
   "cell_type": "code",
   "execution_count": 25,
   "metadata": {},
   "outputs": [
    {
     "data": {
      "text/plain": [
       "Text(0.5, 0.98, 'Oct-Mar')"
      ]
     },
     "execution_count": 25,
     "metadata": {},
     "output_type": "execute_result"
    },
    {
     "data": {
      "image/png": "[encoded data removed]",
      "text/plain": [
       "<Figure size 1080x360 with 2 Axes>"
      ]
     },
     "metadata": {},
     "output_type": "display_data"
    }
   ],
   "source": [
    "i_tth = 0\n",
    "t_thresh = t_thresh_list[i_tth]\n",
    "extval_stats = pickle.load(open(join(filedict[\"results\"][\"dir\"], f\"extval_stats_tth{t_thresh[0]}-{t_thresh[1]}\"), \"rb\"))\n",
    "rate_e5 = xr.open_dataarray(join(filedict[\"results\"][\"dir\"], f\"rate_pathcounting_e5_{t_thresh[0]}-{t_thresh[1]}.nc\"))\n",
    "rate_s2 = xr.open_dataarray(join(filedict[\"results\"][\"dir\"], f\"rate_pathcounting_s2_{t_thresh[0]}-{t_thresh[1]}.nc\"))\n",
    "\n",
    "fig,axes = plt.subplots(ncols=2, figsize=(15,5), sharey=True, sharex=True)\n",
    "fig.set_facecolor(\"white\")\n",
    "axes[1].yaxis.set_tick_params(labelbottom=True)\n",
    "\n",
    "# First plot: extreme values\n",
    "ax = axes[0]\n",
    "labels = {\"e5\": \"ERA5 (61 yr)\", \"s2\": \"S2S (20 yr)\", \"linear_model\": \"Linear model\"}\n",
    "zorders = {\"e5\": 0, \"s2\": 1, \"linear_model\": -1}\n",
    "handles = []\n",
    "for src in [\"e5\",\"s2\",\"linear_model\"]:\n",
    "    idx, = np.where(extval_stats[src][\"umin\"] < 0)\n",
    "    order = np.argsort(extval_stats[src][\"umin\"][idx])\n",
    "    h, = ax.plot(\n",
    "        extval_stats[src][\"umin\"][idx][order], extval_stats[src][\"rate_lower\"][idx][order], \n",
    "        color=dispdict[src][\"color\"],\n",
    "        marker='.', label=labels[src], zorder=zorders[src]\n",
    "    ) \n",
    "    handles += [h]\n",
    "    # Also the GEV fit\n",
    "    shp,loc,scale = [extval_stats[src][\"gevpar\"][v] for v in [\"shp\",\"loc\",\"scale\"]]\n",
    "    h, = ax.plot(\n",
    "        u_thresh_list, genextreme.sf(-u_thresh_list,shp,loc=loc,scale=scale),\n",
    "        linestyle='--', color=dispdict[src][\"color\"]\n",
    "    )\n",
    "\n",
    "\n",
    "ax.legend(handles=handles, fontsize=\"small\", loc=\"lower right\")\n",
    "ax.set_xlabel(\"Minimum $\\overline{u}$(10 hPa, 60$^\\circ$N)\")\n",
    "ax.set_ylabel(\"Rate [years$^{-1}$]\")\n",
    "ax.set_yscale(\"log\")\n",
    "ax.set_title(\"Extreme value estimate\")\n",
    "\n",
    "# Second plot: rates\n",
    "ax = axes[1]\n",
    "handles = []\n",
    "rate_s2 = rate_s2.where(rate_s2 > 0)\n",
    "#colors = [\"red\", \"purple\", \"orange\"]\n",
    "ax.plot(rate_s2[\"u_thresh\"], rate_s2.sel(bound=\"lower\"), color=\"red\", marker='.')\n",
    "h, = ax.plot(\n",
    "    rate_s2[\"u_thresh\"], rate_s2.sel(bound=\"upper\"), \n",
    "    color=\"red\", marker='.', label=r\"S2S (20 yr) bounds\"\n",
    ")\n",
    "handles += [h]\n",
    "# Additionally plot ERA5 only\n",
    "h, = ax.plot(rate_e5[\"u_thresh\"], rate_e5.where(rate_e5>0).sel(falls=\"1959-2019\"), color=\"orange\", marker='.', label=\"ERA5 (61 yr)\")\n",
    "handles += [h]\n",
    "h, = ax.plot(rate_e5[\"u_thresh\"], rate_e5.where(rate_e5>0).sel(falls=\"1996-2015\"), color=\"dodgerblue\", marker='.', label=\"ERA5 (20 yr)\")\n",
    "handles += [h]\n",
    "\n",
    "# Additionally plot Ed's estimate\n",
    "h, = ax.plot(rate_s2[\"u_thresh\"], rate_s2.sel(bound=\"ed\"), color=\"black\", marker=\"o\", label=\"Ed\")\n",
    "handles += [h]\n",
    "\n",
    "ax.set_yscale(\"log\")\n",
    "ax.set_xlabel(\"$\\overline{u}$(10 hPa, 60$^\\circ$N) threshold\")\n",
    "ax.legend(handles=handles, fontsize=\"small\")\n",
    "ax.set_title(\"Path counting bounds\")\n",
    "ax.set_ylim([1e-5,1])\n",
    "\n",
    "fig.subplots_adjust(top=0.85)\n",
    "fig.suptitle(t_thresh_string_list[i_tth], y=0.98, fontsize=25)"
   ]
  },
  {
   "cell_type": "code",
   "execution_count": 26,
   "metadata": {},
   "outputs": [
    {
     "data": {
      "text/plain": [
       "{'shp': 2.425541187569806e-01,\n",
       " 'loc': 3.8273831897210107,\n",
       " 'scale': 10.043694667699206}"
      ]
     },
     "execution_count": 26,
     "metadata": {},
     "output_type": "execute_result"
    }
   ],
   "source": [
    "extval_stats[\"e5\"][\"gevpar\"]"
   ]
  },
  {
   "cell_type": "markdown",
   "metadata": {},
   "source": [
    "### Method 2.5: fit a GEV distribution to this data "
   ]
  },
  {
   "cell_type": "code",
   "execution_count": null,
   "metadata": {},
   "outputs": [],
   "source": [
    "\n",
    "fig,ax = plt.subplots()\n",
    "ax.plot(u_thresh_list, sf, marker=\".\")\n",
    "ax.set_yscale(\"log\")"
   ]
  },
  {
   "cell_type": "markdown",
   "metadata": {},
   "source": [
    "# Method 3: running a LIM "
   ]
  },
  {
   "cell_type": "markdown",
   "metadata": {},
   "source": [
    "Here we construct a linear inverse model (a.k.a., (E)DMD) from the features we've chosen. We will test its robustness to lag time and ensure it varies smoothly with the seasonal cycle. After that, we will possibly incorporate the corresponding modes into the feature vector for DGA. "
   ]
  },
  {
   "cell_type": "code",
   "execution_count": null,
   "metadata": {},
   "outputs": [],
   "source": [
    "ubar_names = [f\"ubar_{lev}_60_delay{d}\" for d in [0] for lev in [10,100,500,850]]\n",
    "vT_1_names = [f\"vT_{lev}_1_runavg10\" for lev in [10,100,500,850]]\n",
    "vT_2_names = [f\"vT_{lev}_2_runavg10\" for lev in [10,100,500,850]]\n",
    "ubar_delay_names = [f\"ubar_10_60_delay{d}\" for d in range(15)]\n",
    "#lim_feature_names = ubar_names + vT_1_names + vT_2_names\n",
    "lim_feature_names = ubar_delay_names\n",
    "feat_msm = feat_tpt[\"s2\"].sel(feature=lim_feature_names)\n",
    "feat_msm_e5 = feat_tpt[\"e5\"].sel(feature=lim_feature_names)"
   ]
  },
  {
   "cell_type": "code",
   "execution_count": null,
   "metadata": {},
   "outputs": [],
   "source": [
    "szn_stats_e5 = feat_strat.get_seasonal_statistics(feat_msm_e5, feat_tpt[\"e5\"].sel(feature=\"t_szn\"))\n",
    "# Replace the mean with first four harmonics\n",
    "ssm = szn_stats_e5[\"mean\"].transpose(\"feature\",\"t_szn_cent\")\n",
    "ssmhat = np.fft.fft(ssm.values, axis=1)\n",
    "ssmhat[:,5:-5] = 0\n",
    "ssmooth = np.fft.ifft(ssmhat, axis=1).real\n",
    "ssm[:] = ssmooth"
   ]
  },
  {
   "cell_type": "code",
   "execution_count": null,
   "metadata": {},
   "outputs": [],
   "source": [
    "reload(feature_template)\n",
    "reload(feature_stratosphere)\n",
    "feat_strat = feature_stratosphere.WinterStratosphereFeatures()\n",
    "feat_strat.set_event_seasonal_params()\n",
    "feat_strat.set_ab_code()\n",
    "plt.rcParams.update({\"font.size\": 18, \"font.family\": \"monospace\"})"
   ]
  },
  {
   "cell_type": "code",
   "execution_count": null,
   "metadata": {},
   "outputs": [],
   "source": [
    "feat_lim = dict()\n",
    "for src in [\"s2\",\"e5\"]:\n",
    "    feat_lim[src] = feat_tpt[src].sel(feature=lim_feature_names)"
   ]
  },
  {
   "cell_type": "code",
   "execution_count": null,
   "metadata": {},
   "outputs": [],
   "source": [
    "lim = dict()\n",
    "for src in [\"s2\",\"e5\"]:\n",
    "    lim[src] = feat_strat.build_lim(\n",
    "        feat_lim[src], szn_stats_e5, feat_all[src][\"time_observable\"], \n",
    "        max_delay, demean=True, max_lag=1\n",
    "    )"
   ]
  },
  {
   "cell_type": "markdown",
   "metadata": {},
   "source": [
    "Simulate the LIM!"
   ]
  },
  {
   "cell_type": "code",
   "execution_count": null,
   "metadata": {},
   "outputs": [],
   "source": [
    "# Sample random initial conditions\n",
    "win_init = 0\n",
    "win_fin = 260\n",
    "szn_window_e5 = (feat_all[\"e5\"][\"time_observable\"].sel(feature=\"t_szn\") / feat_strat.dt_szn).astype(int)\n",
    "idx_init = np.where(szn_window_e5.values == win_init)\n",
    "X_init = (\n",
    "    feat_lim[\"e5\"].transpose(\"t_init\",\"member\",\"t_sim\",\"feature\")\n",
    "    - szn_stats_e5[\"mean\"].isel(t_szn_cent=win_init)\n",
    ").values[idx_init]"
   ]
  },
  {
   "cell_type": "code",
   "execution_count": null,
   "metadata": {},
   "outputs": [],
   "source": [
    "# Run both LIMs \n",
    "X_sim = dict()\n",
    "for src in [\"e5\",\"s2\"]:\n",
    "    X_sim[src] = xr.DataArray(\n",
    "        coords={\n",
    "            \"t_szn_cent\": szn_stats_e5[\"t_szn_cent\"].values[win_init:win_fin+1], \n",
    "            \"feature\": feat_lim[\"e5\"][\"feature\"],\n",
    "            \"sample\": np.arange(30000),\n",
    "        },\n",
    "        dims=[\"t_szn_cent\",\"sample\",\"feature\"],\n",
    "        data=np.nan,\n",
    "    )\n",
    "    idx_sim = np.random.choice(np.arange(len(X_init)), size=X_sim[src][\"sample\"].size, replace=True)\n",
    "    X_sim[src][dict(t_szn_cent=0)] = X_init[idx_sim]\n",
    "\n",
    "    for i_win in range(win_fin-win_init):\n",
    "        xi = np.random.randn(X_sim[src][\"sample\"].size, X_sim[src][\"feature\"].size)\n",
    "        forcing = xi @ (lim[src][\"sigma\"].isel(t_szn_cent=win_init+i_win).values).T\n",
    "        G = lim[src][\"G\"].isel(t_szn_cent=win_init+i_win).values\n",
    "        X_sim[src][dict(t_szn_cent=i_win+1)] = X_sim[src].isel(t_szn_cent=i_win).values @ G.T + forcing"
   ]
  },
  {
   "cell_type": "markdown",
   "metadata": {},
   "source": [
    "Save the LIM and X_sim"
   ]
  },
  {
   "cell_type": "code",
   "execution_count": null,
   "metadata": {},
   "outputs": [],
   "source": [
    "for src in [\"e5\",\"s2\"]:\n",
    "    lim[src].to_netcdf(join(filedict[\"results\"][\"dir\"], f\"lim_{src}.nc\"))\n",
    "    X_sim[src].to_netcdf(join(filedict[\"results\"][\"dir\"], f\"X_sim_{src}.nc\"))"
   ]
  },
  {
   "cell_type": "code",
   "execution_count": null,
   "metadata": {},
   "outputs": [],
   "source": [
    "feat = \"ubar_10_60_delay0\"\n",
    "fig,axes = plt.subplots(ncols=2,figsize=(15,5),sharey=True)\n",
    "sources = [\"e5\",\"s2\"]\n",
    "for i_src,src in enumerate([\"e5\",\"s2\"]):\n",
    "    ax = axes[i_src]\n",
    "    ax.plot(szn_stats_e5[\"mean\"].sel(feature=feat).isel(t_szn_cent=slice(win_init,win_fin+1)), color='black', linewidth=3)\n",
    "    for samp in range(500): #X_sim[\"sample\"].values:\n",
    "        ax.plot(\n",
    "            X_sim[src].sel(sample=samp,feature=feat) + szn_stats_e5[\"mean\"].sel(feature=feat).isel(t_szn_cent=slice(win_init,win_fin+1)),\n",
    "            color='dodgerblue', alpha=0.5\n",
    "        )\n",
    "    ax.plot(szn_stats_e5[\"mean\"].sel(feature=feat).isel(t_szn_cent=slice(win_init,win_fin+1)), color='black', linewidth=3)\n",
    "    ax.plot(szn_stats_e5[\"min\"].sel(feature=feat).isel(t_szn_cent=slice(win_init,win_fin+1)), color='black', linewidth=3)\n",
    "    ax.plot(szn_stats_e5[\"max\"].sel(feature=feat).isel(t_szn_cent=slice(win_init,win_fin+1)), color='black', linewidth=3)\n",
    "    ax.set_title(f\"{dispdict[src]['abbrv']} LIM\")\n",
    "    ax.set_xlabel(\"Time [days]\")\n",
    "    ax.set_ylabel(\"$\\overline{u}$(10 hPa, 60$^\\circ$N)\")"
   ]
  },
  {
   "cell_type": "markdown",
   "metadata": {},
   "source": [
    "Compute the rates inferred from this model."
   ]
  },
  {
   "cell_type": "code",
   "execution_count": null,
   "metadata": {},
   "outputs": [],
   "source": [
    "rate_lim = dict()\n",
    "for src in [\"e5\",\"s2\"]:\n",
    "    rate_lim[src] = xr.DataArray(\n",
    "        coords={\"i_tth\": range(len(t_thresh_list)), \"u_thresh\": u_thresh_list},\n",
    "        dims=[\"i_tth\",\"u_thresh\"],\n",
    "        data=np.nan\n",
    "    )\n",
    "    for i_tth in range(len(t_thresh_list)):\n",
    "        t_thresh = t_thresh_list[i_tth]\n",
    "        lim_umin = (\n",
    "            (X_sim[src] + szn_stats_e5[\"mean\"])\n",
    "            .sel(feature=\"ubar_10_60_delay0\",t_szn_cent=slice(t_thresh[0],t_thresh[1]))\n",
    "        ).min(dim=\"t_szn_cent\")\n",
    "        for uth in rate_lim[src][\"u_thresh\"].values:\n",
    "            rate_lim[src].loc[dict(i_tth=i_tth,u_thresh=uth)] = np.mean(lim_umin <= uth)\n",
    "    rate_lim[src] = rate_lim[src].where(rate_lim[src] > 0)\n",
    "\n",
    "rate_lim_ds = xr.Dataset(data_vars=rate_lim)\n",
    "rate_lim_ds.to_netcdf(join(filedict[\"results\"][\"dir\"], f\"rate_lim.nc\"))"
   ]
  },
  {
   "cell_type": "code",
   "execution_count": null,
   "metadata": {},
   "outputs": [],
   "source": [
    "i_tth = 0\n",
    "t_thresh = t_thresh_list[i_tth]\n",
    "extval_stats = pickle.load(open(join(filedict[\"results\"][\"dir\"], f\"extval_stats_tth{t_thresh[0]}-{t_thresh[1]}\"), \"rb\"))\n",
    "rate_e5 = xr.open_dataarray(join(filedict[\"results\"][\"dir\"], f\"rate_pathcounting_e5_{t_thresh[0]}-{t_thresh[1]}.nc\"))\n",
    "rate_s2 = xr.open_dataarray(join(filedict[\"results\"][\"dir\"], f\"rate_pathcounting_s2_{t_thresh[0]}-{t_thresh[1]}.nc\"))\n",
    "\n",
    "fig,axes = plt.subplots(ncols=2, figsize=(15,5), sharey=True, sharex=True)\n",
    "fig.set_facecolor(\"white\")\n",
    "axes[1].yaxis.set_tick_params(labelbottom=True)\n",
    "\n",
    "# First plot: extreme values\n",
    "ax = axes[0]\n",
    "labels = {\"e5\": \"ERA5 (61 yr)\", \"s2\": \"S2S (20 yr)\", \"linear_model\": \"Linear model\"}\n",
    "zorders = {\"e5\": 0, \"s2\": 1, \"linear_model\": -1}\n",
    "handles = []\n",
    "for src in [\"e5\",\"s2\",\"linear_model\"]:\n",
    "    idx, = np.where(extval_stats[src][\"umin\"] < 0)\n",
    "    order = np.argsort(extval_stats[src][\"umin\"][idx])\n",
    "    h, = ax.plot(\n",
    "        extval_stats[src][\"umin\"][idx][order], extval_stats[src][\"rate_lower\"][idx][order], \n",
    "        color=dispdict[src][\"color\"],\n",
    "        marker='.', label=labels[src], zorder=zorders[src]\n",
    "    ) \n",
    "    handles += [h]\n",
    "\n",
    "\n",
    "ax.legend(handles=handles, fontsize=\"small\", loc=\"lower right\")\n",
    "ax.set_xlabel(\"Minimum $\\overline{u}$(10 hPa, 60$^\\circ$N)\")\n",
    "ax.set_ylabel(\"Rate [years$^{-1}$]\")\n",
    "ax.set_yscale(\"log\")\n",
    "ax.set_title(\"Extreme value estimate\")\n",
    "\n",
    "# Second plot: rates\n",
    "ax = axes[1]\n",
    "handles = []\n",
    "rate_s2 = rate_s2.where(rate_s2 > 0)\n",
    "#colors = [\"red\", \"purple\", \"orange\"]\n",
    "ax.plot(rate_s2[\"u_thresh\"], rate_s2.sel(bound=\"lower\"), color=\"red\", marker='.')\n",
    "h, = ax.plot(\n",
    "    rate_s2[\"u_thresh\"], rate_s2.sel(bound=\"upper\"), \n",
    "    color=\"red\", marker='.', label=r\"S2S (20 yr) bounds\"\n",
    ")\n",
    "handles += [h]\n",
    "# Additionally plot ERA5 only\n",
    "h, = ax.plot(rate_e5[\"u_thresh\"], rate_e5.where(rate_e5>0).sel(falls=\"1959-2019\"), color=\"orange\", marker='.', label=\"ERA5 (61 yr)\")\n",
    "handles += [h]\n",
    "h, = ax.plot(rate_e5[\"u_thresh\"], rate_e5.where(rate_e5>0).sel(falls=\"1996-2015\"), color=\"dodgerblue\", marker='.', label=\"ERA5 (20 yr)\")\n",
    "handles += [h]\n",
    "\n",
    "# Additionally plot Ed's estimate\n",
    "h, = ax.plot(rate_s2[\"u_thresh\"], rate_s2.sel(bound=\"ed\"), color=\"black\", marker=\"o\", label=\"direct\")\n",
    "handles += [h]\n",
    "\n",
    "# Additionally plot the LIM estimate\n",
    "for src in [\"e5\",\"s2\"]:\n",
    "    h, = ax.plot(\n",
    "        rate_lim[src][\"u_thresh\"].values, \n",
    "        rate_lim[src].isel(i_tth=i_tth).values, color=dispdict[src][\"color\"], \n",
    "        linestyle='--', label=f\"{dispdict[src]['abbrv']} LIM\")\n",
    "    handles += [h]\n",
    "\n",
    "\n",
    "\n",
    "ax.set_yscale(\"log\")\n",
    "ax.set_xlabel(\"$\\overline{u}$(10 hPa, 60$^\\circ$N) threshold\")\n",
    "ax.legend(handles=handles, fontsize=\"small\")\n",
    "ax.set_title(\"Path counting bounds\")\n",
    "ax.set_ylim([1e-5,1])\n",
    "\n",
    "fig.subplots_adjust(top=0.85)\n",
    "fig.suptitle(t_thresh_string_list[i_tth], y=0.98, fontsize=25)"
   ]
  },
  {
   "cell_type": "markdown",
   "metadata": {},
   "source": [
    "Picture the committor from the LIM"
   ]
  },
  {
   "cell_type": "code",
   "execution_count": null,
   "metadata": {},
   "outputs": [],
   "source": [
    "i_tth = 1\n",
    "uth = 0\n",
    "src = \"e5\"\n",
    "t_thresh = t_thresh_list[i_tth]\n",
    "lim_umin = (\n",
    "    (X_sim[src] + szn_stats_e5[\"mean\"])\n",
    "    .sel(feature=\"ubar_10_60_delay0\",t_szn_cent=slice(t_thresh[0],t_thresh[1]))\n",
    ").min(dim=\"t_szn_cent\")\n",
    "lim_qp = xr.ones_like(X_sim[src] + szn_stats_e5[\"mean\"]) * (lim_umin < uth)"
   ]
  },
  {
   "cell_type": "code",
   "execution_count": null,
   "metadata": {},
   "outputs": [],
   "source": [
    "lim_qp.dims"
   ]
  },
  {
   "cell_type": "code",
   "execution_count": null,
   "metadata": {},
   "outputs": [],
   "source": [
    "feat_names = [\"ubar_10_60_delay0\"]\n",
    "\n",
    "fig,ax = plt.subplots()\n",
    "fig.suptitle(f\"Days {t_bounds[0]}-{t_bounds[1]}\")\n",
    "fig.set_facecolor('white')\n",
    "stackmap = {\"snapshot\": (\"t_szn_cent\",\"sample\")}\n",
    "field = lim_qp[src].stack(stackmap).to_numpy().flatten()\n",
    "weight = np.ones_like(lim_qp[src]).stack(stackmap).to_numpy().flatten()\n",
    "cond = (lim_qp.sel(feature=\"t_szn_cent\") > t_bounds[0]) * (lim_qp.sel(feature=\"t_szn_cent\") < t_bounds[1])\n",
    "features = np.array([\n",
    "    lim_qp.where(cond).sel(feature=feat_names[0]).stack(stackmap).to_numpy().flatten(),\n",
    "    lim_qp.where(cond).sel(feature=feat_names[1]).stack(stackmap).to_numpy().flatten()\n",
    "]).T\n",
    "\n",
    "ax = axes[0,i_src]\n",
    "tpt_utils.plot_field_2d(\n",
    "    field, weight, features, fig=fig, ax=ax, feat_names=feat_names, \n",
    "    stat_name=\"mean\", \n",
    "    vmin=0, vmax=1, shp=[30,30], cmap=plt.cm.coolwarm\n",
    ")\n",
    "ax.set_title(f\"{dispdict[src]['abbrv']} Committor\")"
   ]
  },
  {
   "cell_type": "markdown",
   "metadata": {},
   "source": [
    "# Method 3: DGA"
   ]
  },
  {
   "cell_type": "code",
   "execution_count": 27,
   "metadata": {},
   "outputs": [],
   "source": [
    "reload(tpt_utils)\n",
    "reload(feature_template)\n",
    "reload(feature_stratosphere)\n",
    "feat_strat = feature_stratosphere.WinterStratosphereFeatures()\n",
    "feat_strat.set_event_seasonal_params()\n",
    "feat_strat.set_ab_code()\n",
    "plt.rcParams.update({\"font.size\": 18, \"font.family\": \"monospace\"})"
   ]
  },
  {
   "cell_type": "code",
   "execution_count": 28,
   "metadata": {},
   "outputs": [
    {
     "name": "stdout",
     "output_type": "stream",
     "text": [
      "i_win = 0 out of 268\n",
      "i_win = 50 out of 268\n",
      "i_win = 100 out of 268\n",
      "i_win = 150 out of 268\n",
      "i_win = 200 out of 268\n",
      "i_win = 250 out of 268\n",
      "two\n",
      "fmn coords = Coordinates:\n",
      "  * feature  (feature) int64 0\n",
      "  * t_init   (t_init) datetime64[ns] 1959-01-01\n",
      "  * t_sim    (t_sim) float64 0.0 1.0 2.0 3.0 ... 2.228e+04 2.228e+04 2.228e+04\n",
      "  * member   (member) int64 1\n",
      "i_win = 0 out of 268\n",
      "i_win = 50 out of 268\n",
      "i_win = 100 out of 268\n",
      "i_win = 150 out of 268\n",
      "i_win = 200 out of 268\n",
      "i_win = 250 out of 268\n",
      "two\n",
      "fmn coords = Coordinates:\n",
      "  * feature  (feature) int64 0\n",
      "  * t_init   (t_init) datetime64[ns] 1996-07-04 1996-07-07 ... 2016-06-29\n",
      "  * t_sim    (t_sim) float64 0.0 1.0 2.0 3.0 4.0 ... 42.0 43.0 44.0 45.0 46.0\n",
      "  * member   (member) int64 1 2 3 4 5 6 7 8 9 10\n",
      "shapes: \n",
      "feat_msm_normalized: (1, 1, 22280, 1)\n",
      "t_obe: (1, 1, 6, 22280)\n",
      "szn_window: (1, 1, 22280)\n",
      "Starting K-means number 0 out of 268\n",
      "Starting K-means number 30 out of 268\n",
      "Starting K-means number 60 out of 268\n",
      "Starting K-means number 90 out of 268\n",
      "Starting K-means number 120 out of 268\n",
      "Starting K-means number 150 out of 268\n",
      "Starting K-means number 180 out of 268\n",
      "Starting K-means number 210 out of 268\n",
      "Starting K-means number 240 out of 268\n",
      "Did KMeans for src e5\n",
      "shapes: \n",
      "feat_msm_normalized: (2080, 10, 47, 1)\n",
      "t_obe: (2080, 10, 47, 6)\n",
      "szn_window: (2080, 10, 47)\n",
      "Starting K-means number 0 out of 268\n",
      "Starting K-means number 30 out of 268\n",
      "Starting K-means number 60 out of 268\n",
      "Starting K-means number 90 out of 268\n",
      "Starting K-means number 120 out of 268\n",
      "Starting K-means number 150 out of 268\n",
      "Starting K-means number 180 out of 268\n",
      "Starting K-means number 210 out of 268\n",
      "Starting K-means number 240 out of 268\n",
      "Did KMeans for src s2\n",
      "Starting transition matrix for i_win = 0\n",
      "Starting transition matrix for i_win = 30\n",
      "Starting transition matrix for i_win = 60\n",
      "Starting transition matrix for i_win = 90\n",
      "Starting transition matrix for i_win = 120\n",
      "Starting transition matrix for i_win = 150\n",
      "Starting transition matrix for i_win = 180\n",
      "Starting transition matrix for i_win = 210\n",
      "Starting transition matrix for i_win = 240\n",
      "Starting transition matrix for i_win = 0\n",
      "Starting transition matrix for i_win = 30\n",
      "Starting transition matrix for i_win = 60\n",
      "Starting transition matrix for i_win = 90\n",
      "Starting transition matrix for i_win = 120\n",
      "Starting transition matrix for i_win = 150\n",
      "Starting transition matrix for i_win = 180\n",
      "Starting transition matrix for i_win = 210\n",
      "Starting transition matrix for i_win = 240\n"
     ]
    }
   ],
   "source": [
    "if build_msm_flag:\n",
    "    msm_feature_names = [f\"ubar_10_60_delay{d}\" for d in np.arange(max_delay)] \n",
    "    szn_stats_e5,msm_info = feat_strat.build_msm(\n",
    "        max_delay, feat_all, feat_tpt, msm_feature_names, filedict[\"results\"][\"dir\"], km_seed=43, num_clusters=num_clusters, \n",
    "    )"
   ]
  },
  {
   "cell_type": "code",
   "execution_count": 29,
   "metadata": {},
   "outputs": [],
   "source": [
    "szn_stats_e5.to_netcdf(join(filedict[\"results\"][\"dir\"], \"szn_stats_e5.nc\"))"
   ]
  },
  {
   "cell_type": "code",
   "execution_count": 30,
   "metadata": {},
   "outputs": [],
   "source": [
    "reload(tpt_utils)\n",
    "reload(feature_template)\n",
    "reload(feature_stratosphere)\n",
    "feat_strat = feature_stratosphere.WinterStratosphereFeatures()\n",
    "feat_strat.set_event_seasonal_params()\n",
    "feat_strat.set_ab_code()\n",
    "plt.rcParams.update({\"font.size\": 18, \"font.family\": \"monospace\"})"
   ]
  },
  {
   "cell_type": "code",
   "execution_count": 31,
   "metadata": {},
   "outputs": [
    {
     "name": "stdout",
     "output_type": "stream",
     "text": [
      "For uthresh -52 and s2 data, rates are 0.0 from A, 0.0 to B\n",
      "For uthresh -48 and s2 data, rates are 0.000920398558254624 from A, 0.0009203985582546236 to B\n",
      "For uthresh -44 and s2 data, rates are 0.0009203985582546266 from A, 0.0009203985582546259 to B\n",
      "For uthresh -40 and s2 data, rates are 0.0020901345679564375 from A, 0.0020901345679564367 to B\n",
      "For uthresh -36 and s2 data, rates are 0.005111489172217096 from A, 0.0051114891722170925 to B\n",
      "For uthresh -32 and s2 data, rates are 0.023248946289041048 from A, 0.023248946289041034 to B\n",
      "For uthresh -28 and s2 data, rates are 0.05035598034997658 from A, 0.050355980349976556 to B\n",
      "For uthresh -24 and s2 data, rates are 0.08129274005569444 from A, 0.08129274005569435 to B\n",
      "For uthresh -20 and s2 data, rates are 0.12740347462516066 from A, 0.12740347462516066 to B\n",
      "For uthresh -16 and s2 data, rates are 0.18125950004003158 from A, 0.1812595000400315 to B\n",
      "For uthresh -12 and s2 data, rates are 0.25246502569308377 from A, 0.25246502569308354 to B\n",
      "For uthresh -8 and s2 data, rates are 0.3390211288295274 from A, 0.33902112882952723 to B\n",
      "For uthresh -4 and s2 data, rates are 0.429899493698674 from A, 0.4298994936986737 to B\n",
      "For uthresh 0 and s2 data, rates are 0.5405002796356244 from A, 0.540500279635624 to B\n",
      "For uthresh -52 and s2 data, rates are 0.0 from A, 0.0 to B\n",
      "For uthresh -48 and s2 data, rates are 0.0009203985582546241 from A, 0.0009203985582546236 to B\n",
      "For uthresh -44 and s2 data, rates are 0.0009203985582546263 from A, 0.0009203985582546261 to B\n",
      "For uthresh -40 and s2 data, rates are 0.0020901345679564375 from A, 0.0020901345679564367 to B\n",
      "For uthresh -36 and s2 data, rates are 0.003915131435973319 from A, 0.003915131435973317 to B\n",
      "For uthresh -32 and s2 data, rates are 0.01612370501911546 from A, 0.016123705019115447 to B\n",
      "For uthresh -28 and s2 data, rates are 0.03530919741356105 from A, 0.035309197413561026 to B\n",
      "For uthresh -24 and s2 data, rates are 0.0607928441510174 from A, 0.06079284415101737 to B\n",
      "For uthresh -20 and s2 data, rates are 0.0967366758037804 from A, 0.09673667580378038 to B\n",
      "For uthresh -16 and s2 data, rates are 0.13667182645220338 from A, 0.13667182645220333 to B\n",
      "For uthresh -12 and s2 data, rates are 0.1847122944506265 from A, 0.1847122944506264 to B\n",
      "For uthresh -8 and s2 data, rates are 0.24772425239928728 from A, 0.24772425239928705 to B\n",
      "For uthresh -4 and s2 data, rates are 0.31284480442785545 from A, 0.31284480442785534 to B\n",
      "For uthresh 0 and s2 data, rates are 0.39720258419332444 from A, 0.3972025841933243 to B\n"
     ]
    }
   ],
   "source": [
    "if dga_flag:\n",
    "    szn_stats_e5 = xr.open_dataset(join(filedict[\"results\"][\"dir\"], \"szn_stats_e5.nc\"))\n",
    "    msm_info = pickle.load(open(join(filedict[\"results\"][\"dir\"], \"msm_info\"), \"rb\"))\n",
    "    feat_strat.dga_from_msm(msm_info, feat_tpt, szn_stats_e5, t_thresh_list, u_thresh_list, filedict[\"results\"][\"dir\"], clust_bndy_choice)"
   ]
  },
  {
   "cell_type": "markdown",
   "metadata": {},
   "source": [
    "# Plot all the results together, regarding rates"
   ]
  },
  {
   "cell_type": "code",
   "execution_count": 32,
   "metadata": {},
   "outputs": [
    {
     "data": {
      "image/png": "[encoded data removed]",
      "text/plain": [
       "<Figure size 720x576 with 1 Axes>"
      ]
     },
     "metadata": {},
     "output_type": "display_data"
    }
   ],
   "source": [
    "i_tth = 0\n",
    "t_thresh = t_thresh_list[i_tth]\n",
    "\n",
    "extval_stats = pickle.load(open(join(filedict[\"results\"][\"dir\"], f\"extval_stats_tth{t_thresh[0]}-{t_thresh[1]}\"), \"rb\"))\n",
    "rate_e5 = xr.open_dataarray(join(filedict[\"results\"][\"dir\"], f\"rate_pathcounting_e5_{t_thresh[0]}-{t_thresh[1]}.nc\"))\n",
    "rate_s2 = xr.open_dataarray(join(filedict[\"results\"][\"dir\"], f\"rate_pathcounting_s2_{t_thresh[0]}-{t_thresh[1]}.nc\"))\n",
    "rate_s2 = rate_s2.where(rate_s2 > 0)\n",
    "dga_rates = pickle.load(open(join(filedict[\"results\"][\"dir\"], f\"dga_rates_{t_thresh[0]}-{t_thresh[1]}\"), \"rb\"))[\"s2\"]\n",
    "dga_rates[dga_rates==0] = np.nan\n",
    "\n",
    "fig,ax = plt.subplots(figsize=(10,8))\n",
    "fig.set_facecolor(\"white\")\n",
    "handles = []\n",
    "ax.set_yscale(\"log\")\n",
    "ax.set_xlabel(\"$\\overline{u}$(10 hPa, 60$^\\circ$N) threshold [m/s]\", fontsize=23)\n",
    "ax.set_ylabel(\"Rate [years$^{-1}$]\", fontsize=23)\n",
    "ax.set_title(f\"{t_thresh_string_list[i_tth]} SSW rates\", fontsize=23)\n",
    "ax.set_ylim([1e-5,1])\n",
    "ax.set_xlim([u_thresh_list.min()-3, u_thresh_list.max()+3])\n",
    "ax.set_xticks(np.arange(-50,1,10))\n",
    "\n",
    "# --------------- Method 0: direct counting from ERA5 --------------\n",
    "h, = ax.plot(\n",
    "    rate_e5[\"u_thresh\"], rate_e5.where(rate_e5>0).sel(falls=\"1959-2019\"), \n",
    "    color=\"gray\", marker='o', label=\"ERA5 (1959-2019)\"\n",
    ")\n",
    "handles = [h] + handles\n",
    "h, = ax.plot(\n",
    "    rate_e5[\"u_thresh\"], rate_e5.where(rate_e5>0).sel(falls=\"1996-2015\"), \n",
    "    color=\"dodgerblue\", marker='o', label=\"ERA5 (1996-2015)\"\n",
    ")\n",
    "handles = [h] + handles\n",
    "ax.legend(handles=handles, fontsize=\"large\", loc=\"lower right\")\n",
    "fig.savefig(join(filedict[\"results\"][\"dir\"], f\"results_itth{i_tth}_0\"), bbox_inches=\"tight\")\n",
    "\n",
    "# --------------- Method 1: upper and lower bounds from S2S ---------\n",
    "ax.plot(rate_s2[\"u_thresh\"], rate_s2.sel(bound=\"lower\"), color=\"red\", marker='o')\n",
    "h, = ax.plot(\n",
    "    rate_s2[\"u_thresh\"], rate_s2.sel(bound=\"upper\"), \n",
    "    color=\"red\", marker='o', label=r\"S2S bounds\"\n",
    ")\n",
    "handles = [h] + handles\n",
    "ax.legend(handles=handles, fontsize=\"large\", loc=\"lower right\")\n",
    "fig.savefig(join(filedict[\"results\"][\"dir\"], f\"results_itth{i_tth}_1\"), bbox_inches=\"tight\")\n",
    "\n",
    "# --------------- Method 2: direct estimate from S2S --------------\n",
    "# Additionally plot Ed's estimate\n",
    "h, = ax.plot(rate_s2[\"u_thresh\"], rate_s2.sel(bound=\"ed\"), color=\"black\", marker=\"o\", label=\"S2S direct\")\n",
    "handles = [h] + handles\n",
    "ax.legend(handles=handles, fontsize=\"large\", loc=\"lower right\")\n",
    "fig.savefig(join(filedict[\"results\"][\"dir\"], f\"results_itth{i_tth}_2\"), bbox_inches=\"tight\")\n",
    "\n",
    "\n",
    "# ---------------------- Method 3: DGA -----------------------------\n",
    "h, = ax.plot(u_thresh_list, dga_rates, color='purple', linestyle='--', \n",
    "             linewidth=3, label=\"S2S+DGA\")\n",
    "handles = [h] + handles\n",
    "ax.legend(handles=handles, fontsize=\"large\", loc=\"lower right\")\n",
    "fig.savefig(join(filedict[\"results\"][\"dir\"], f\"results_itth{i_tth}_3\"), bbox_inches=\"tight\")\n",
    "\n",
    "# ----------------------- Method 4: LIM -----------------------------\n",
    "if False:\n",
    "    for src in [\"e5\",\"s2\"]:\n",
    "        h, = ax.plot(\n",
    "            rate_lim[src][\"u_thresh\"].values, \n",
    "            rate_lim[src].isel(i_tth=i_tth).values, color=dispdict[src][\"color\"], \n",
    "            linestyle='--', linewidth=3, label=f\"{dispdict[src]['abbrv']} LIM\")\n",
    "        handles = [h] + handles\n",
    "    ax.legend(handles=handles, fontsize=\"large\", loc=\"lower right\")\n",
    "fig.savefig(join(filedict[\"results\"][\"dir\"], f\"results_itth{i_tth}_4\"), bbox_inches=\"tight\")\n",
    "\n",
    "\n"
   ]
  },
  {
   "cell_type": "code",
   "execution_count": 33,
   "metadata": {},
   "outputs": [
    {
     "data": {
      "text/plain": [
       "'/scratch/jf4241/ecmwf_data/results/tpt_quantities/2022-10-15/del1_cls50_bdyhalf_featset1'"
      ]
     },
     "execution_count": 33,
     "metadata": {},
     "output_type": "execute_result"
    }
   ],
   "source": [
    "filedict[\"results\"][\"dir\"]"
   ]
  },
  {
   "cell_type": "markdown",
   "metadata": {},
   "source": [
    "## Plot some pictures of the committor "
   ]
  },
  {
   "cell_type": "code",
   "execution_count": 34,
   "metadata": {},
   "outputs": [],
   "source": [
    "reload(tpt_utils)\n",
    "reload(feature_template)\n",
    "reload(feature_stratosphere)\n",
    "feat_strat = feature_stratosphere.WinterStratosphereFeatures()\n",
    "feat_strat.set_event_seasonal_params()\n",
    "feat_strat.set_ab_code()\n",
    "plt.rcParams.update({\"font.size\": 18, \"font.family\": \"monospace\"})"
   ]
  },
  {
   "cell_type": "code",
   "execution_count": 44,
   "metadata": {},
   "outputs": [
    {
     "name": "stdout",
     "output_type": "stream",
     "text": [
      "t_sim.shape = (22280,)\n"
     ]
    }
   ],
   "source": [
    "i_tth = 0\n",
    "i_uth = 13\n",
    "t_thresh = t_thresh_list[i_tth]\n",
    "u_thresh = u_thresh_list[i_uth]\n",
    "\n",
    "dga_results = pickle.load(open(join(filedict[\"results\"][\"dir\"], f\"dga_results_s2_{t_thresh[0]}-{t_thresh[1]}_u{u_thresh}\"), \"rb\"))\n",
    "szn_stats_e5 = xr.open_dataset(join(filedict[\"results\"][\"dir\"], \"szn_stats_e5.nc\"))\n",
    "msm_info = pickle.load(open(join(filedict[\"results\"][\"dir\"], \"msm_info\"), \"rb\"))\n",
    "\n",
    "feat_strat.set_ab_boundaries(t_thresh[0], t_thresh[1], u_thresh)\n",
    "ab_tag_e5 = feat_strat.ab_test(feat_tpt[\"e5\"])\n",
    "cej_e5 = feat_strat.cotton_eye_joe(feat_tpt[\"e5\"], ab_tag_e5, \"timechunks\")\n",
    "comm_e5 = feat_strat.estimate_empirical_committor(cej_e5)"
   ]
  },
  {
   "cell_type": "code",
   "execution_count": 45,
   "metadata": {},
   "outputs": [
    {
     "data": {
      "text/plain": [
       "dict_keys(['szn_window', 'szn_start_year', 'traj_beginning_flag', 'traj_ending_flag', 'km_centers', 'km_assignment', 'km_n_clusters', 'P_list', 'Nt_szn'])"
      ]
     },
     "execution_count": 45,
     "metadata": {},
     "output_type": "execute_result"
    }
   ],
   "source": [
    "msm_info[\"s2\"].keys()"
   ]
  },
  {
   "cell_type": "code",
   "execution_count": 46,
   "metadata": {},
   "outputs": [],
   "source": [
    "qp = dict({\n",
    "    \"s2\": feat_strat.broadcast_field_msm2dataarray(msm_info[\"s2\"], dga_results[\"qp\"]), \"e5\": comm_e5.sel(sense=\"until\"),\n",
    "})\n",
    "qm = dict({\n",
    "    \"s2\": feat_strat.broadcast_field_msm2dataarray(msm_info[\"s2\"], dga_results[\"qm\"]), \"e5\": comm_e5.sel(sense=\"since\"),\n",
    "})\n",
    "pi = dict({\n",
    "    \"s2\": feat_strat.broadcast_field_msm2dataarray(msm_info[\"s2\"], dga_results[\"pi\"], density_flag=True), \"e5\": xr.ones_like(qm[\"e5\"]),\n",
    "})"
   ]
  },
  {
   "cell_type": "code",
   "execution_count": 130,
   "metadata": {},
   "outputs": [
    {
     "name": "stdout",
     "output_type": "stream",
     "text": [
      "vmin = 1.0\n",
      "vmin = 0.0002045419780590742\n"
     ]
    },
    {
     "data": {
      "image/png": "[encoded data removed]",
      "text/plain": [
       "<Figure size 1152x864 with 8 Axes>"
      ]
     },
     "metadata": {},
     "output_type": "display_data"
    }
   ],
   "source": [
    "combo = 9\n",
    "if combo == 0:\n",
    "    feat_names = [\"ubar_100_60_delay0\",\"ubar_500_60_delay0\"]\n",
    "    t_bounds = t_thresh[0], t_thresh[0]+31\n",
    "elif combo == 1:\n",
    "    feat_names = [\"ubar_100_60_delay0\",\"ubar_500_60_delay0\"]\n",
    "    t_bounds = t_thresh[0]+30, t_thresh[0]+60\n",
    "elif combo == 2:\n",
    "    feat_names = [\"ubar_100_60_delay0\",\"ubar_500_60_delay0\"]\n",
    "    t_bounds = t_thresh[0]+60, t_thresh[0]+90\n",
    "elif combo == 3:\n",
    "    feat_names = [\"ubar_100_60_delay0\",\"ubar_500_60_delay0\"]\n",
    "    t_bounds = t_thresh[0]+90, t_thresh[0]+120    \n",
    "elif combo == 4:\n",
    "    feat_names = [\"ubar_100_60_delay0\",\"ubar_500_60_delay0\"]\n",
    "    t_bounds = t_thresh[0]+120, t_thresh[0]+150\n",
    "elif combo == 5:\n",
    "    feat_names = [\"ubar_100_60_delay0\",\"ubar_500_60_delay0\"]\n",
    "    t_bounds = t_thresh[0]+150, t_thresh[0]+180   \n",
    "elif combo == 5.5:\n",
    "    feat_names = [\"ubar_100_60_delay0\",\"ubar_500_60_delay0\"]\n",
    "    t_bounds = t_thresh[0], t_thresh[1] \n",
    "elif combo == 5.75:\n",
    "    feat_names = [\"ubar_100_60_delay0\",\"ubar_500_60_delay2\"]\n",
    "    t_bounds = t_thresh[0]+30, t_thresh[0]+90\n",
    "elif combo == 6:\n",
    "    feat_names = [\"t_szn\",\"ubar_10_60_delay0\"]\n",
    "    t_bounds = t_thresh[0], t_thresh[1]   \n",
    "elif combo == 7:\n",
    "    feat_names = [\"t_szn\",\"ubar_500_60_delay0\"]\n",
    "    t_bounds = t_thresh[0], t_thresh[1]  \n",
    "elif combo == 8:\n",
    "    feat_names = [\"t_szn\",\"ubar_100_60_delay0\"]\n",
    "    t_bounds = t_thresh[0], t_thresh[1]  \n",
    "elif combo == 9:\n",
    "    feat_names = [\"vT_10_1_runavg20\",\"vT_10_2_runavg20\"]\n",
    "    t_bounds = t_thresh[0]+60, t_thresh[0]+90\n",
    "\n",
    "t_bounds = list(t_bounds)\n",
    "    \n",
    "fig,axes = plt.subplots(ncols=2, nrows=2, figsize=(16,12), sharey=True, sharex=True)\n",
    "# Make a title that shows the time range\n",
    "date_bounds_str = ([\n",
    "    (\n",
    "        datetime.date(1901, feat_strat.szn_start['month'], feat_strat.szn_start['day'])\n",
    "        + datetime.timedelta(days=int(t_bounds[i]))\n",
    "    ).strftime(\"%b %d\")\n",
    "    for i in range(2)]\n",
    ")\n",
    "fig.suptitle(f\"{date_bounds_str[0]} - {date_bounds_str[1]}\")\n",
    "fig.set_facecolor('white')\n",
    "for i_src, src in enumerate([\"e5\",\"s2\"]):\n",
    "    # Two committors to plot: one according to ERA5, and one according to S2S \n",
    "    stackmap = {\"sample\": (\"t_init\",\"member\",\"t_sim\")}\n",
    "    field = qp[src].stack(stackmap).to_numpy().flatten()\n",
    "    weight = pi[src].stack(stackmap).to_numpy().flatten()\n",
    "    cond = (\n",
    "        (feat_tpt[src].sel(feature=\"t_szn\") > t_bounds[0]) \n",
    "        * (feat_tpt[src].sel(feature=\"t_szn\") < t_bounds[1])\n",
    "        #* (feat_tpt[src][\"member\"] == 1) \n",
    "    )\n",
    "    if src == \"s2\":\n",
    "        cond *= (feat_tpt[src][\"t_sim\"] == feat_tpt[src][\"t_sim\"].max())\n",
    "    features = np.array([\n",
    "        feat_tpt[src].where(cond).sel(feature=feat_names[0]).stack(stackmap).to_numpy().flatten(),\n",
    "        feat_tpt[src].where(cond).sel(feature=feat_names[1]).stack(stackmap).to_numpy().flatten()\n",
    "    ]).T\n",
    "    \n",
    "    ax = axes[0,i_src]\n",
    "    tpt_utils.plot_field_2d(\n",
    "        field, weight, features, fig=fig, ax=ax, feat_names=feat_names, \n",
    "        stat_name=\"mean\", \n",
    "        vmin=0, vmax=1, shp=[30,30], cmap=plt.cm.coolwarm, logscale=False\n",
    "    )\n",
    "    ax.set_title(f\"{dispdict[src]['abbrv']} Committor\")\n",
    "\n",
    "    ax = axes[1,i_src]\n",
    "    tpt_utils.plot_field_2d(\n",
    "        field, weight, features, fig=fig, ax=ax, feat_names=feat_names, \n",
    "        stat_name=\"weightsum\", \n",
    "        vmin=None, vmax=None, logscale=True, cmap=plt.cm.magma\n",
    "    )\n",
    "    ax.set_title(\"Density\")\n",
    "    # Modify x ticks if the horizontal axis is t_szn\n",
    "    if feat_names[0] == \"t_szn\":\n",
    "        xticks, xticklabels = feat_strat.generate_seasonal_xticks(features[:,0])\n",
    "        axes[1,i_src].set_xticks(xticks)\n",
    "        axes[1,i_src].set_xticklabels(xticklabels)\n"
   ]
  },
  {
   "cell_type": "markdown",
   "metadata": {},
   "source": [
    "### Do a sparse linear regression at each time over the $\\bar{u}$ features"
   ]
  },
  {
   "cell_type": "code",
   "execution_count": 49,
   "metadata": {},
   "outputs": [
    {
     "name": "stdout",
     "output_type": "stream",
     "text": [
      "t_sim.shape = (22280,)\n"
     ]
    }
   ],
   "source": [
    "i_tth = 0\n",
    "i_uth = 13\n",
    "t_thresh = t_thresh_list[i_tth]\n",
    "u_thresh = u_thresh_list[i_uth]\n",
    "\n",
    "dga_results = pickle.load(open(join(filedict[\"results\"][\"dir\"], f\"dga_results_s2_{t_thresh[0]}-{t_thresh[1]}_u{u_thresh}\"), \"rb\"))\n",
    "szn_stats_e5 = xr.open_dataset(join(filedict[\"results\"][\"dir\"], \"szn_stats_e5.nc\"))\n",
    "msm_info = pickle.load(open(join(filedict[\"results\"][\"dir\"], \"msm_info\"), \"rb\"))\n",
    "\n",
    "feat_strat.set_ab_boundaries(t_thresh[0], t_thresh[1], u_thresh)\n",
    "ab_tag_e5 = feat_strat.ab_test(feat_tpt[\"e5\"])\n",
    "cej_e5 = feat_strat.cotton_eye_joe(feat_tpt[\"e5\"], ab_tag_e5, \"timechunks\")\n",
    "comm_e5 = feat_strat.estimate_empirical_committor(cej_e5)\n",
    "\n",
    "qp = dict({\n",
    "    \"s2\": feat_strat.broadcast_field_msm2dataarray(msm_info[\"s2\"], dga_results[\"qp\"]), \"e5\": comm_e5.sel(sense=\"until\"),\n",
    "})\n",
    "qm = dict({\n",
    "    \"s2\": feat_strat.broadcast_field_msm2dataarray(msm_info[\"s2\"], dga_results[\"qm\"]), \"e5\": comm_e5.sel(sense=\"since\"),\n",
    "})\n",
    "pi = dict({\n",
    "    \"s2\": feat_strat.broadcast_field_msm2dataarray(msm_info[\"s2\"], dga_results[\"pi\"], density_flag=True), \"e5\": xr.ones_like(qm[\"e5\"]),\n",
    "})"
   ]
  },
  {
   "cell_type": "code",
   "execution_count": 124,
   "metadata": {},
   "outputs": [],
   "source": [
    "feats2regress = [f\"ubar_{lev}_60_delay{d}\" for lev in [10,100,500,850] for d in range(2)]\n",
    "#feats2regress = [f\"vT_{lev}_{wn}_runavg30\" for lev in [10, 100, 500, 850] for wn in [0,1,2]]"
   ]
  },
  {
   "cell_type": "code",
   "execution_count": 125,
   "metadata": {},
   "outputs": [],
   "source": [
    "stackmap = dict({\"sample\": [\"t_init\",\"member\",\"t_sim\"]})\n",
    "X = (\n",
    "    feat_tpt[\"s2\"].sel(feature=feats2regress)\n",
    "    .stack(stackmap).transpose(\"sample\",\"feature\")\n",
    ")\n",
    "Y = qp[\"s2\"].stack(stackmap)\n",
    "t_szn = feat_tpt[\"s2\"].sel(feature=\"t_szn\").stack(stackmap)"
   ]
  },
  {
   "cell_type": "code",
   "execution_count": 126,
   "metadata": {},
   "outputs": [
    {
     "name": "stdout",
     "output_type": "stream",
     "text": [
      "Intercept = 0.6985107678992252;\n",
      "coef max = 0.033667051703368076\n"
     ]
    }
   ],
   "source": [
    "t_bounds = [t_thresh[0], t_thresh[0]+30]\n",
    "idx2fit = np.random.choice(\n",
    "    np.where(\n",
    "        (t_szn >= t_bounds[0]) * (t_szn < t_bounds[1])\n",
    "        * np.all(np.isfinite(X.values), axis=1) * np.isfinite(Y.values)\n",
    "        * (Y > 1e-6) * (1-Y > 1e-6)\n",
    "    )[0],\n",
    "    size=1000, replace=True\n",
    ")\n",
    "Y_logit = np.log(Y.values[idx2fit] / (1 - Y.values[idx2fit]))\n",
    "reg = Lasso(alpha=0.01).fit(X.values[idx2fit], Y_logit)\n",
    "print(f\"Intercept = {reg.intercept_};\\ncoef max = {np.max(np.abs(reg.coef_))}\")"
   ]
  },
  {
   "cell_type": "code",
   "execution_count": 127,
   "metadata": {},
   "outputs": [
    {
     "data": {
      "text/plain": [
       "0.7024086445249865"
      ]
     },
     "execution_count": 127,
     "metadata": {},
     "output_type": "execute_result"
    }
   ],
   "source": [
    "reg.score(X.values[idx2fit], Y_logit)"
   ]
  },
  {
   "cell_type": "code",
   "execution_count": 128,
   "metadata": {},
   "outputs": [
    {
     "data": {
      "text/plain": [
       "array([-0.03366705, -0.        ,  0.        , -0.        , -0.        ,\n",
       "       -0.00272317, -0.00033671, -0.00083396])"
      ]
     },
     "execution_count": 128,
     "metadata": {},
     "output_type": "execute_result"
    }
   ],
   "source": [
    "reg.coef_"
   ]
  },
  {
   "cell_type": "code",
   "execution_count": 129,
   "metadata": {},
   "outputs": [
    {
     "data": {
      "text/plain": [
       "[<matplotlib.lines.Line2D at 0x1529a5c3b6a0>]"
      ]
     },
     "execution_count": 129,
     "metadata": {},
     "output_type": "execute_result"
    },
    {
     "data": {
      "image/png": "[encoded data removed]",
      "text/plain": [
       "<Figure size 432x288 with 1 Axes>"
      ]
     },
     "metadata": {
      "needs_background": "light"
     },
     "output_type": "display_data"
    }
   ],
   "source": [
    "plt.scatter(reg.predict(X.values[idx2fit]), Y_logit)\n",
    "plt.plot([Y_logit.min(),Y_logit.max()], [Y_logit.min(),Y_logit.max()], color=\"black\")"
   ]
  },
  {
   "cell_type": "code",
   "execution_count": null,
   "metadata": {},
   "outputs": [],
   "source": [
    "plt.plot([np.std(qpd) for qpd in dga_results[\"qp\"]])"
   ]
  },
  {
   "cell_type": "markdown",
   "metadata": {},
   "source": [
    "### Do a sparse linear regression on the features at a certain slice of time"
   ]
  },
  {
   "cell_type": "code",
   "execution_count": null,
   "metadata": {},
   "outputs": [],
   "source": [
    "from sklearn.preprocessing import StandardScaler\n",
    "from sklearn.model_selection import train_test_split\n",
    "from sklearn.linear_model import Lasso, LinearRegression"
   ]
  },
  {
   "cell_type": "code",
   "execution_count": null,
   "metadata": {},
   "outputs": [],
   "source": [
    "src = \"s2\"\n",
    "stackmap = {\"sample\": (\"t_init\",\"member\",\"t_sim\")}\n",
    "committor = qp[src].stack(stackmap)\n",
    "feat_names = [f\"ubar_{p}_60_delay{d}\" for p in [500] for d in range(10)]\n",
    "predictors = feat_tpt[src].sel(feature=feat_names+[\"t_szn\"]).stack(stackmap).transpose(\"sample\",\"feature\")"
   ]
  },
  {
   "cell_type": "code",
   "execution_count": null,
   "metadata": {},
   "outputs": [],
   "source": [
    "# Clean and subset data\n",
    "idx, = np.where(\n",
    "    (np.isnan(predictors).sum(axis=1) == 0) * \n",
    "    (np.isnan(committor) == 0) * \n",
    "    # (committor > 0.52) * (committor < 0.522) * \n",
    "    (predictors.sel(feature=\"t_szn\") > t_thresh[0]) * (predictors.sel(feature=\"t_szn\") < t_thresh[0]+170)\n",
    ")\n",
    "X = predictors.sel(feature=feat_names).to_numpy()[idx]\n",
    "y = committor[idx]"
   ]
  },
  {
   "cell_type": "code",
   "execution_count": null,
   "metadata": {},
   "outputs": [],
   "source": [
    "_ = plt.hist(y, bins=100)"
   ]
  },
  {
   "cell_type": "code",
   "execution_count": null,
   "metadata": {},
   "outputs": [],
   "source": [
    "# Normalize features\n",
    "X = StandardScaler().fit_transform(X)"
   ]
  },
  {
   "cell_type": "code",
   "execution_count": null,
   "metadata": {},
   "outputs": [],
   "source": [
    "# Split into train, test\n",
    "X_train,X_test,y_train,y_test = train_test_split(X, y, test_size=0.25, random_state=0)"
   ]
  },
  {
   "cell_type": "code",
   "execution_count": null,
   "metadata": {},
   "outputs": [],
   "source": [
    "# Fit the lasso\n",
    "reg = LinearRegression()\n",
    "reg.fit(X_train, y_train)\n",
    "print(f\"Train score: {reg.score(X_train,y_train)*100}. Test score: {reg.score(X_test,y_test)*100}\")"
   ]
  },
  {
   "cell_type": "code",
   "execution_count": null,
   "metadata": {},
   "outputs": [],
   "source": [
    "plt.plot(reg.coef_, marker='o')"
   ]
  },
  {
   "cell_type": "markdown",
   "metadata": {},
   "source": [
    "# Picking good coordinates "
   ]
  },
  {
   "cell_type": "markdown",
   "metadata": {},
   "source": [
    "To find good features for DGA, we should get as much as we can out of reanalysis, such as approximate committors or correlates with the extreme values. "
   ]
  },
  {
   "cell_type": "code",
   "execution_count": null,
   "metadata": {},
   "outputs": [],
   "source": [
    "from sklearn.preprocessing import StandardScaler\n",
    "from sklearn.model_selection import train_test_split\n",
    "from sklearn.linear_model import Lasso, LinearRegression, LogisticRegression"
   ]
  },
  {
   "cell_type": "code",
   "execution_count": null,
   "metadata": {},
   "outputs": [],
   "source": [
    "# Choose a specific time window\n",
    "i_tth = 0\n",
    "t_thresh = t_thresh_list[i_tth]"
   ]
  },
  {
   "cell_type": "code",
   "execution_count": null,
   "metadata": {},
   "outputs": [],
   "source": [
    "# Compute minimum u between a time point and the end of winter\n",
    "fy_evs = extval_stats[\"e5\"][\"fall_years\"]\n",
    "umin2come = np.nan*np.ones(feat_tpt[\"e5\"].t_sim.size)\n",
    "for i_yr in range(len(fy_evs)):\n",
    "    idx = np.sort(np.where(\n",
    "        (\n",
    "            (feat_all[\"e5\"][\"time_observable\"].sel(feature=\"year_szn_start\") == fy_evs[i_yr]) * \n",
    "            (feat_tpt[\"e5\"].sel(feature=\"t_szn\") >= t_thresh[0]) * \n",
    "            (feat_tpt[\"e5\"].sel(feature=\"t_szn\") < t_thresh[1])\n",
    "        ).to_numpy().flatten()\n",
    "    )[0])\n",
    "    umin2come[idx] = np.minimum.accumulate(\n",
    "        feat_tpt[\"e5\"].sel(feature=\"ubar_10_60_delay0\").to_numpy().flatten()[idx][::-1]\n",
    "    )[::-1]"
   ]
  },
  {
   "cell_type": "code",
   "execution_count": null,
   "metadata": {},
   "outputs": [],
   "source": [
    "# Select a time window for regression\n",
    "t0,t1 = t_thresh[0] + np.array([0,1])"
   ]
  },
  {
   "cell_type": "code",
   "execution_count": null,
   "metadata": {},
   "outputs": [],
   "source": [
    "stackmap = {\"sample\": (\"t_init\",\"member\",\"t_sim\")}\n",
    "cond = (\n",
    "    (feat_all[\"e5\"][\"time_observable\"].sel(feature=\"t_szn\") >= t0) * \n",
    "    (feat_all[\"e5\"][\"time_observable\"].sel(feature=\"t_szn\") < t1)\n",
    ")\n",
    "predictors = feat_tpt[\"e5\"].where(cond).stack(stackmap).transpose(\"sample\",\"feature\")"
   ]
  },
  {
   "cell_type": "code",
   "execution_count": null,
   "metadata": {},
   "outputs": [],
   "source": [
    "# Select some features by hand\n",
    "feature_names = (\n",
    "    []\n",
    "    + [f\"ubar_{p}_60_delay{d}\" for p in [10,100,500,850] for d in range(max_delay)] \n",
    "    + [f\"vT_{p}_1_runavg{d}\" for p in [10,100,500,850] for d in range(max_delay)]\n",
    "    + [f\"vT_{p}_2_runavg{d}\" for p in [10,100,500,850] for d in range(max_delay)]\n",
    "    + [f\"ubar_{p}_0pm5\" for p in [10,100]]\n",
    ")\n",
    "X = predictors.sel(feature=feature_names).to_numpy()\n",
    "z = umin2come.copy()\n",
    "good_idx, = np.where(np.all(np.isfinite(X), axis=1))\n",
    "X = X[good_idx]\n",
    "z = z[good_idx]"
   ]
  },
  {
   "cell_type": "markdown",
   "metadata": {},
   "source": [
    "### Sparse regression of the annual minimum as a function of early-winter conditions"
   ]
  },
  {
   "cell_type": "code",
   "execution_count": null,
   "metadata": {},
   "outputs": [],
   "source": [
    "# Clean and normalize data\n",
    "X = StandardScaler().fit_transform(X)\n",
    "# Split into training and testing\n",
    "holdout = 0\n",
    "if holdout:\n",
    "    X_train,X_test,z_train,z_test = train_test_split(X,z,test_size=0.25, random_state=3)\n",
    "else:\n",
    "    X_train = X\n",
    "    X_test = X\n",
    "    z_train = z\n",
    "    z_test = z\n"
   ]
  },
  {
   "cell_type": "code",
   "execution_count": null,
   "metadata": {},
   "outputs": [],
   "source": [
    "alpha_list = np.arange(0.1,1.6,0.1)\n",
    "Nalpha = len(alpha_list)\n",
    "test_score_list = np.nan*np.ones(Nalpha)\n",
    "train_score_list = np.nan*np.ones(Nalpha)\n",
    "coeffs = np.zeros((Nalpha,len(feature_names)))\n",
    "intercepts = np.zeros(Nalpha)\n",
    "for i_a in range(Nalpha):\n",
    "    reg = Lasso(alpha=alpha_list[i_a],max_iter=5000).fit(X_train,z_train)\n",
    "    coeffs[i_a] = reg.coef_\n",
    "    intercepts[i_a] = reg.intercept_\n",
    "    test_score_list[i_a] = reg.score(X_test,z_test)\n",
    "    train_score_list[i_a] = reg.score(X_train,z_train)\n"
   ]
  },
  {
   "cell_type": "code",
   "execution_count": null,
   "metadata": {},
   "outputs": [],
   "source": [
    "# Correlation coefficient\n",
    "corr = (z - z.mean()) @ (X - X.mean(axis=0)) / (len(z) * np.std(z) * np.std(X, axis=0))\n",
    "fig,ax = plt.subplots()\n",
    "ax.scatter(corr, coeffs[-1], color='black', marker='.')\n",
    "ax.set_xlabel(\"Correlation coefficient\")\n",
    "ax.set_ylabel(\"LASSO weight\")"
   ]
  },
  {
   "cell_type": "code",
   "execution_count": null,
   "metadata": {},
   "outputs": [],
   "source": [
    "fig,ax = plt.subplots()\n",
    "for i_feat in range(len(feature_names)):\n",
    "    ax.plot(alpha_list, coeffs[:,i_feat])"
   ]
  },
  {
   "cell_type": "code",
   "execution_count": null,
   "metadata": {},
   "outputs": [],
   "source": [
    "fig,axes = plt.subplots(nrows=2,figsize=(5,12))\n",
    "ax = axes[0]\n",
    "sparsity_list = np.mean(coeffs==0, axis=1)\n",
    "i_a_cutoff = np.where(alpha_list > 0.55)[0][0]\n",
    "sig_flag = (np.max(np.abs(coeffs[i_a_cutoff:]), axis=0) > 0)\n",
    "handles = []\n",
    "for i_feat in range(len(feature_names)):\n",
    "    if sig_flag[i_feat]:\n",
    "        color = None\n",
    "        if feature_names[i_feat].startswith(\"ubar\"):\n",
    "            color = \"red\"\n",
    "        elif feature_names[i_feat].startswith(\"vT\"):\n",
    "            color = \"black\"\n",
    "        h, = ax.plot(alpha_list, coeffs[:,i_feat],label=feature_names[i_feat], color=color)\n",
    "        handles += [h]\n",
    "ax.legend(handles=handles, fontsize=\"xx-small\",bbox_to_anchor=(1.6,1.0))\n",
    "ax.set_ylabel(\"Coeff\")\n",
    "ax = axes[1]\n",
    "hsc, = ax.plot(alpha_list, test_score_list, color='black', marker='.',label=\"Score\")\n",
    "hsp, = ax.plot(alpha_list, sparsity_list, color='red', marker='.',label=\"Sparsity\")\n",
    "ax.legend(handles=[hsc,hsp],bbox_to_anchor=(1.6,0.5))\n",
    "ax.set_xlabel(\"L1 penalty\")\n",
    "ax.set_ylim([0,1])"
   ]
  },
  {
   "cell_type": "code",
   "execution_count": null,
   "metadata": {},
   "outputs": [],
   "source": [
    "sig_feature_idx, = np.where(np.max(np.abs(coeffs[i_a_cutoff:,:]), axis=0) > 0)\n",
    "sig_feature_names = [feature_names[i] for i in sig_feature_idx]\n",
    "if 'ubar_10_60_delay0' not in sig_feature_names:\n",
    "    sig_feature_names += [\"ubar_10_60_delay0\"]"
   ]
  },
  {
   "cell_type": "code",
   "execution_count": null,
   "metadata": {},
   "outputs": [],
   "source": [
    "fig,ax = plt.subplots()\n",
    "zpred = intercepts[i_a_cutoff] + X_test @ coeffs[i_a_cutoff]\n",
    "ax.scatter(zpred,z_test,marker='.')\n",
    "ax.set_xlabel(\"Prediction\")\n",
    "ax.set_ylabel(\"Actual\")\n",
    "xlim = min(zpred.min(),z.min()), max(zpred.max(),z.max())\n",
    "ax.plot(xlim,xlim,color='gray')"
   ]
  }
 ],
 "metadata": {
  "kernelspec": {
   "display_name": "my_env",
   "language": "python",
   "name": "my_env"
  },
  "language_info": {
   "codemirror_mode": {
    "name": "ipython",
    "version": 3
   },
   "file_extension": ".py",
   "mimetype": "text/x-python",
   "name": "python",
   "nbconvert_exporter": "python",
   "pygments_lexer": "ipython3",
   "version": "3.9.5"
  }
 },
 "nbformat": 4,
 "nbformat_minor": 4
}
