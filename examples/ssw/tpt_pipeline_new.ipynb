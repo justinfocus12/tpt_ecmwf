{
 "cells": [
  {
   "cell_type": "markdown",
   "metadata": {},
   "source": [
    "# TPT pipeline with ERA5 and S2S"
   ]
  },
  {
   "cell_type": "code",
   "execution_count": 1,
   "metadata": {},
   "outputs": [],
   "source": [
    "import sys\n",
    "sys.path.append(\"../..\")"
   ]
  },
  {
   "cell_type": "code",
   "execution_count": 2,
   "metadata": {},
   "outputs": [],
   "source": [
    "import numpy as np\n",
    "import matplotlib\n",
    "from matplotlib import ticker\n",
    "from matplotlib import pyplot as plt\n",
    "import xarray as xr\n",
    "import netCDF4 as nc\n",
    "from importlib import reload\n",
    "import sys \n",
    "import os\n",
    "from os import mkdir, makedirs\n",
    "from os.path import join,exists\n",
    "from importlib import reload\n",
    "import pickle\n",
    "from sklearn.cluster import KMeans, MiniBatchKMeans\n",
    "from sklearn.linear_model import LinearRegression\n",
    "import datetime\n",
    "from calendar import monthrange\n",
    "import cartopy\n",
    "from cartopy import crs as ccrs"
   ]
  },
  {
   "cell_type": "code",
   "execution_count": 3,
   "metadata": {},
   "outputs": [],
   "source": [
    "%load_ext autoreload"
   ]
  },
  {
   "cell_type": "code",
   "execution_count": 4,
   "metadata": {},
   "outputs": [],
   "source": [
    "%aimport xr_utils\n",
    "%aimport feature_template\n",
    "%aimport feature_stratosphere\n",
    "%aimport tpt_utils\n",
    "%aimport tdmc_obj"
   ]
  },
  {
   "cell_type": "code",
   "execution_count": 5,
   "metadata": {},
   "outputs": [],
   "source": [
    "%matplotlib inline"
   ]
  },
  {
   "cell_type": "code",
   "execution_count": 6,
   "metadata": {},
   "outputs": [],
   "source": [
    "plt.rcParams.update({\"font.size\": 18, \"font.family\": \"monospace\"})"
   ]
  },
  {
   "cell_type": "markdown",
   "metadata": {},
   "source": [
    "# Set up experiment"
   ]
  },
  {
   "cell_type": "markdown",
   "metadata": {},
   "source": [
    "Algorithmic parameters"
   ]
  },
  {
   "cell_type": "code",
   "execution_count": 7,
   "metadata": {},
   "outputs": [],
   "source": [
    "max_delay = 15\n",
    "num_clusters = 170\n",
    "clust_bndy_choice = \"half\""
   ]
  },
  {
   "cell_type": "markdown",
   "metadata": {},
   "source": [
    "Which tasks to do"
   ]
  },
  {
   "cell_type": "code",
   "execution_count": 8,
   "metadata": {},
   "outputs": [],
   "source": [
    "compute_eofs_flag =                   0\n",
    "plot_eofs_flag =                      0\n",
    "compute_all_features_flag =           0\n",
    "assemble_tpt_features_flag =          0\n",
    "extreme_value_analysis_flag =         0\n",
    "path_counting_flag =                  0\n",
    "build_msm_flag =                      0\n",
    "dga_flag =                            0\n",
    "featset =                             1 # n, where this is the n'th set of features we've tried"
   ]
  },
  {
   "cell_type": "code",
   "execution_count": 9,
   "metadata": {},
   "outputs": [],
   "source": [
    "topic_dir = \"/scratch/jf4241/ecmwf_data/\"\n",
    "filedict = dict({\n",
    "    \"data\": dict({\n",
    "        \"e5\": dict({\n",
    "            \"traj\": dict({\n",
    "                \"dir\": join(topic_dir, \"era5_data\", \"raw_data\", \"2022-08-14\"), # Directory with possibly many files\n",
    "            }),\n",
    "            \"stats\": dict({\n",
    "                \"dir\": join(topic_dir, \"era5_data\", \"stats\", \"2022-09-03\"),\n",
    "                \"eof_filename\": \"eofs.nc\",\n",
    "                \"monthly_climatology_filename\": \"monclim.nc\",\n",
    "            }),\n",
    "            \"feat_all\": dict({\n",
    "                \"dir\": join(topic_dir, \"era5_data\", \"features_all\", \"2022-09-03\"),\n",
    "                #\"filename\": \"era5_features_all.nc\",\n",
    "            }),\n",
    "            \"feat_tpt\": dict({\n",
    "                \"dir\": join(topic_dir, \"era5_data\", \"features_tpt\", \"2022-09-05\",),\n",
    "                #\"filename\": \"era5_features_tpt.nc\",\n",
    "            }),\n",
    "        }),\n",
    "        \"s2\": dict({\n",
    "            \"traj\": dict({\n",
    "                \"dir\": join(topic_dir, \"s2s_data\", \"raw_data\", \"2022-08-20\"), # Directory with possibly many files\n",
    "            }),\n",
    "            \"stats\": dict({\n",
    "                \"dir\": join(topic_dir, \"s2s_data\", \"stats\", \"2022-09-04\"),\n",
    "            }),\n",
    "            \"feat_all\": dict({\n",
    "                \"dir\": join(topic_dir, \"s2s_data\", \"features_all\", \"2022-09-03\"),\n",
    "                \"filename\": \"era5_features_all.nc\",\n",
    "            }),\n",
    "            \"feat_tpt\": dict({\n",
    "                \"dir\": join(topic_dir, \"s2s_data\", \"features_tpt\", \"2022-09-05\",),\n",
    "                \"filename\": \"s2s_features_tpt.nc\",\n",
    "            }),\n",
    "        })    \n",
    "    }),\n",
    "    \"results\": dict({\n",
    "        \"dir\": join(\n",
    "            topic_dir, \"results\", \"tpt_quantities\", \"2022-09-25\", \n",
    "            f\"del{max_delay}_cls{num_clusters}_bdy{clust_bndy_choice}_featset{featset}\")\n",
    "    })\n",
    "})\n",
    "dispdict = dict({\n",
    "    \"e5\": dict({\n",
    "        \"color\": \"dodgerblue\",\n",
    "        \"abbrv\": \"ERA5\",\n",
    "    }),\n",
    "    \"s2\": dict({\n",
    "        \"color\": \"red\",\n",
    "        \"abbrv\": \"S2S\",\n",
    "    }),\n",
    "    \"linear_model\": dict({\n",
    "        \"color\": \"gray\",\n",
    "        \"abborv\": \"Linear model\",\n",
    "    })\n",
    "})"
   ]
  },
  {
   "cell_type": "code",
   "execution_count": 10,
   "metadata": {},
   "outputs": [],
   "source": [
    "# Create the directories if they don't exist already\n",
    "for src in list(filedict[\"data\"].keys()):\n",
    "    for data_stage in [\"traj\",\"stats\",\"feat_all\",\"feat_tpt\"]:\n",
    "        path = filedict[\"data\"][src][data_stage][\"dir\"]\n",
    "        if not exists(path):\n",
    "            makedirs(path, exist_ok=True)\n",
    "path = filedict[\"results\"][\"dir\"]\n",
    "if not exists(path): makedirs(path, exist_ok=True)"
   ]
  },
  {
   "cell_type": "markdown",
   "metadata": {},
   "source": [
    "# Define EOFs"
   ]
  },
  {
   "cell_type": "markdown",
   "metadata": {},
   "source": [
    "Compute from data between October and March"
   ]
  },
  {
   "cell_type": "code",
   "execution_count": null,
   "metadata": {},
   "outputs": [],
   "source": [
    "if compute_eofs_flag:\n",
    "    trajdir = filedict[\"data\"][\"e5\"][\"traj\"][\"dir\"]\n",
    "    file_list = [join(trajdir, f) for f in os.listdir(trajdir)]\n",
    "    ds_eofs, ds_monclim = xr_utils.compute_eofs(file_list, \"e5\", months_of_interest = [10, 11, 12, 1, 2, 3])\n",
    "    statsdir = filedict[\"data\"][\"e5\"][\"stats\"][\"dir\"]\n",
    "    eofdir = filedict[\"data\"][\"e5\"][\"stats\"][\"dir\"]\n",
    "    ds_eofs.to_netcdf(join(statsdir, filedict[\"data\"][\"e5\"][\"stats\"][\"eof_filename\"]))\n",
    "    ds_eofs.close()\n",
    "    ds_monclim.to_netcdf(join(statsdir, filedict[\"data\"][\"e5\"][\"stats\"][\"monthly_climatology_filename\"]))\n",
    "    ds_monclim.close()"
   ]
  },
  {
   "cell_type": "markdown",
   "metadata": {},
   "source": [
    "Reload and plot them "
   ]
  },
  {
   "cell_type": "code",
   "execution_count": null,
   "metadata": {},
   "outputs": [],
   "source": [
    "statsdir = filedict[\"data\"][\"e5\"][\"stats\"][\"dir\"]\n",
    "ds_eofs = xr.open_dataset(join(statsdir, filedict[\"data\"][\"e5\"][\"stats\"][\"eof_filename\"]))\n",
    "ds_monclim = xr.open_dataset(join(statsdir, filedict[\"data\"][\"e5\"][\"stats\"][\"monthly_climatology_filename\"]))\n",
    "ds_eofs.close()\n",
    "ds_monclim.close()\n",
    "\n",
    "if plot_eofs_flag:\n",
    "    fig = matplotlib.pyplot.figure(figsize=(24,18))\n",
    "    eofs, variance_fraction = ds_eofs[\"eofs\"], ds_eofs[\"variance_fraction\"]\n",
    "    for i_lev in range(4):\n",
    "        # Plot singular value spectrum\n",
    "        ax = fig.add_subplot(3,4,i_lev+1)\n",
    "        vf = variance_fraction.isel(level=i_lev)\n",
    "        ax.plot(variance_fraction.mode, 100*variance_fraction.isel(level=i_lev), marker='o', color='black')\n",
    "        ax.set_xlabel(\"Mode\")\n",
    "        ax.set_ylabel(\"Variance percentage\")\n",
    "        ax.set_title(f\"{variance_fraction.level.data[i_lev]} hPa\", font={\"size\": 30})\n",
    "        # Plot EOF 1\n",
    "        ax = fig.add_subplot(3,4,4+i_lev+1,projection=ccrs.Orthographic(-10,90))\n",
    "        xr_utils.display_pole_field(eofs.sel(mode=1).isel(level=i_lev), lat=eofs[\"latitude\"], lon=eofs[\"longitude\"], fig=fig, ax=ax)\n",
    "        ax.set_title(\"EOF 1\")\n",
    "        # Plot EOF 2\n",
    "        ax = fig.add_subplot(3,4,8+i_lev+1,projection=ccrs.Orthographic(-10,90))\n",
    "        xr_utils.display_pole_field(eofs.sel(mode=2).isel(level=i_lev), lat=eofs[\"latitude\"], lon=eofs[\"longitude\"], fig=fig, ax=ax)\n",
    "        ax.set_title(\"EOF 2\")\n"
   ]
  },
  {
   "cell_type": "markdown",
   "metadata": {},
   "source": [
    "## Read database and compute features. "
   ]
  },
  {
   "cell_type": "code",
   "execution_count": 11,
   "metadata": {},
   "outputs": [],
   "source": [
    "reload(feature_template)\n",
    "reload(feature_stratosphere)\n",
    "feat_strat = feature_stratosphere.WinterStratosphereFeatures()\n",
    "feat_strat.set_event_seasonal_params()\n",
    "feat_strat.set_ab_code()\n",
    "plt.rcParams.update({\"font.size\": 18, \"font.family\": \"monospace\"})"
   ]
  },
  {
   "cell_type": "markdown",
   "metadata": {},
   "source": [
    "Specify any feature definitions, such as for computing EOFs. But for the most part, these features are straightforward observables with original physical units and no normalization. "
   ]
  },
  {
   "cell_type": "code",
   "execution_count": 12,
   "metadata": {},
   "outputs": [],
   "source": [
    "#featdef = {\"ds_eofs\": ds_eofs, \"ds_monclim\": ds_monclim}"
   ]
  },
  {
   "cell_type": "code",
   "execution_count": 13,
   "metadata": {},
   "outputs": [],
   "source": [
    "if compute_all_features_flag:\n",
    "    obs2compute = [\n",
    "        \"time_observable\", \"ubar_observable\", #\"pc_observable\", \n",
    "        \"temperature_observable\", \"heatflux_observable\",\n",
    "        \"qbo_observable\",\n",
    "    ]\n",
    "    for src in [\"e5\",\"s2\"]:\n",
    "        obs_dict = dict({obsname: [] for obsname in obs2compute})\n",
    "        input_dir = filedict[\"data\"][src][\"traj\"][\"dir\"]\n",
    "        input_file_list = [f for f in os.listdir(input_dir) if f.endswith(\".nc\")]\n",
    "        output_dir = filedict[\"data\"][src][\"feat_all\"][\"dir\"]\n",
    "        feat_strat.compute_all_features(\n",
    "            src, input_dir, input_file_list, output_dir, \n",
    "            featdef, obs2compute=obs2compute\n",
    "        )"
   ]
  },
  {
   "cell_type": "markdown",
   "metadata": {},
   "source": [
    "Reload the TPT features as a dictionary. We don't yet put them in a single dataset in order to avoid dimension conflicts. "
   ]
  },
  {
   "cell_type": "code",
   "execution_count": 14,
   "metadata": {},
   "outputs": [],
   "source": [
    "feat_all = dict()\n",
    "for src in [\"s2\",\"e5\"]:\n",
    "    feat_all[src] = feat_strat.assemble_all_features(\n",
    "        src,\n",
    "        filedict[\"data\"][src][\"feat_all\"][\"dir\"]\n",
    "        )"
   ]
  },
  {
   "cell_type": "markdown",
   "metadata": {},
   "source": [
    "Plot some climatological envelopes, as well as some hindcast ensembles from the same year "
   ]
  },
  {
   "cell_type": "code",
   "execution_count": 15,
   "metadata": {},
   "outputs": [
    {
     "name": "stdout",
     "output_type": "stream",
     "text": [
      "[  0  30  61  91 122 153 181 212 242 273 303 334]\n",
      "[  0  30  61  91 122 153 181 212 242 273 303 334]\n"
     ]
    },
    {
     "data": {
      "text/plain": [
       "Text(0.5, 1.0, '2008-2009')"
      ]
     },
     "execution_count": 15,
     "metadata": {},
     "output_type": "execute_result"
    },
    {
     "data": {
      "image/png": "[encoded data removed]",
      "text/plain": [
       "<Figure size 1080x360 with 1 Axes>"
      ]
     },
     "metadata": {},
     "output_type": "display_data"
    }
   ],
   "source": [
    "fig,ax = plt.subplots(figsize=(15,5))\n",
    "fig.set_facecolor(\"white\")\n",
    "\n",
    "year2plot = 2008\n",
    "obs_group = \"ubar_observable\"\n",
    "obs_name = \"ubar_10_60\"\n",
    "obs_label = \"$\\overline{u}$(10 hPa, $60^\\circ$N)\"\n",
    "t_init_target_list = [60, 147.0, 250] # How many days into the season\n",
    "\n",
    "cond_e5 = 1*(feat_all[\"e5\"][\"time_observable\"].sel(feature=\"year_szn_start\") == year2plot)\n",
    "cond_s2 = 1*(feat_all[\"s2\"][\"time_observable\"].isel(t_sim=0).sel(feature=\"year_szn_start\") == year2plot)\n",
    "\n",
    "tpt_utils.plot_field_1d(\n",
    "    feat_all[\"e5\"][obs_group].sel(feature=obs_name).isel(t_init=0,member=0).to_numpy(), \n",
    "    np.ones(feat_all[\"e5\"][obs_group].t_sim.size), \n",
    "    feat_all[\"e5\"][\"time_observable\"].sel(feature=\"t_szn\").isel(t_init=0,member=0).to_numpy(),\n",
    "    feat_name=\"\", field_name=obs_label,\n",
    "    fig=fig, ax=ax, nbins=50\n",
    ")\n",
    "# Draw a zero line\n",
    "ax.axhline(y=0, color='black', linestyle='--')\n",
    "\n",
    "t_szn_1year = feat_all[\"e5\"][\"time_observable\"].where(cond_e5,drop=True).sel(feature=\"t_szn\").isel(t_init=0,member=0).to_numpy()\n",
    "xticks, xticklabels = feat_strat.generate_seasonal_xticks(t_szn_1year)\n",
    "ax.set_xticks(xticks)\n",
    "ax.set_xticklabels(xticklabels)\n",
    "ax.set_title(f\"{year2plot}-{year2plot+1}\")\n",
    "\n",
    "t_szn_1year = feat_all[\"e5\"][\"time_observable\"].where(cond_e5,drop=True).sel(feature=\"t_szn\").isel(t_init=0,member=0).to_numpy()\n",
    "for t_init_target in t_init_target_list:\n",
    "    i_t_init = int(t_init_target / 3.5)\n",
    "    for i_mem in range(feat_all[\"s2\"][\"time_observable\"].member.size):\n",
    "        x_ens, = (\n",
    "            feat_all[\"s2\"][\"time_observable\"].where(cond_s2,drop=True)\n",
    "            .isel(t_init=i_t_init,member=i_mem)\n",
    "            .sel(feature=\"t_szn\").to_numpy()\n",
    "        ),\n",
    "        y_ens, = feat_all[\"s2\"][obs_group].where(cond_s2,drop=True).isel(t_init=i_t_init,member=i_mem).sel(feature=obs_name).to_numpy(),\n",
    "        ax.plot(x_ens, y_ens, color='red')\n",
    "        if i_mem == 0: \n",
    "            h = ax.scatter(x_ens[0], y_ens[0], color='red', marker='o', zorder=10, s=144)\n",
    "    ax.plot(\n",
    "        t_szn_1year,\n",
    "        feat_all[\"e5\"][obs_group].where(cond_e5,drop=True).sel(feature=obs_name).isel(t_init=0,member=0).to_numpy(),\n",
    "        color='dodgerblue', linewidth=2\n",
    "    )\n",
    "\n",
    "xticks, xticklabels = feat_strat.generate_seasonal_xticks(t_szn_1year)\n",
    "ax.set_xticks(xticks)\n",
    "ax.set_xticklabels(xticklabels)\n",
    "ax.set_title(f\"{year2plot}-{year2plot+1}\")"
   ]
  },
  {
   "cell_type": "markdown",
   "metadata": {},
   "source": [
    "Plot some two-dimensional densities, at multiple time slices throughout the season."
   ]
  },
  {
   "cell_type": "markdown",
   "metadata": {},
   "source": [
    "# Assemble features for TPT."
   ]
  },
  {
   "cell_type": "markdown",
   "metadata": {},
   "source": [
    "Assemble and save the features with time delays. "
   ]
  },
  {
   "cell_type": "code",
   "execution_count": 16,
   "metadata": {},
   "outputs": [],
   "source": [
    "if assemble_tpt_features_flag:\n",
    "    for src in [\"s2\",\"e5\"]:\n",
    "        feat_strat.assemble_tpt_features(feat_all[src], filedict[\"data\"][src][\"feat_tpt\"][\"dir\"])"
   ]
  },
  {
   "cell_type": "markdown",
   "metadata": {},
   "source": [
    "Reload them"
   ]
  },
  {
   "cell_type": "code",
   "execution_count": 17,
   "metadata": {},
   "outputs": [],
   "source": [
    "feat_tpt = dict()\n",
    "for src in [\"s2\",\"e5\"]:\n",
    "    feat_tpt[src] = xr.open_dataarray(join(filedict[\"data\"][src][\"feat_tpt\"][\"dir\"], \"features_tpt.nc\"))"
   ]
  },
  {
   "cell_type": "markdown",
   "metadata": {},
   "source": [
    "# Plot some densities to get a feel for the data"
   ]
  },
  {
   "cell_type": "markdown",
   "metadata": {},
   "source": [
    "Two-dimensional histograms of various observables"
   ]
  },
  {
   "cell_type": "code",
   "execution_count": 18,
   "metadata": {},
   "outputs": [],
   "source": [
    "src = \"s2\"\n",
    "feats2plot = [\"ubar_10_60_delay0\",\"vT_100_1_runavg10\"]\n",
    "cond = 1*(\n",
    "    (feat_tpt[src].sel(feature=\"t_szn\") > 0) * \n",
    "    (feat_tpt[src].sel(feature=\"t_szn\") < 100)\n",
    ")\n",
    "feat_names = [\"U1060\",\"vT 10-day mean\"]\n",
    "data_cond = feat_tpt[src].where(cond)\n",
    "data_cond = data_cond.sel(feature=feats2plot,drop=True)\n",
    "data_cond = data_cond.stack(snapshot=(\"t_init\",\"member\",\"t_sim\"))"
   ]
  },
  {
   "cell_type": "code",
   "execution_count": null,
   "metadata": {},
   "outputs": [],
   "source": [
    "fig,ax = plt.subplots()\n",
    "tpt_utils.plot_field_2d(\n",
    "    np.ones(data_cond.snapshot.size), \n",
    "    np.ones(data_cond.snapshot.size),\n",
    "    np.array([\n",
    "        data_cond.sel(feature=feats2plot[0]).to_numpy().flatten(), \n",
    "        data_cond.sel(feature=feats2plot[1]).to_numpy().flatten()\n",
    "    ]).T,\n",
    "    feat_names = feat_names,\n",
    "    fig=fig, ax=ax, shp=[25,25],\n",
    "    stat_name=\"weightsum\", \n",
    "    cmap=plt.cm.magma, logscale=True\n",
    ")"
   ]
  },
  {
   "cell_type": "markdown",
   "metadata": {},
   "source": [
    "# Return time estimates: three methods "
   ]
  },
  {
   "cell_type": "markdown",
   "metadata": {},
   "source": [
    "In the following, we sweep through a number of SSW definitions, varying both the threshold and the season. "
   ]
  },
  {
   "cell_type": "code",
   "execution_count": 20,
   "metadata": {},
   "outputs": [],
   "source": [
    "sep1 = 0\n",
    "oct1,nov1,dec1,jan1 = np.cumsum([monthrange(1901,m)[1] for m in [9,10,11,12]])\n",
    "feb1,mar1,apr1 = jan1 + np.cumsum([monthrange(1902,m)[1] for m in [1,2,3]])\n",
    "u_thresh_list = np.arange(-52,1,4)\n",
    "t_thresh_list = np.array([\n",
    "    [oct1, apr1],\n",
    "    [nov1, mar1],\n",
    "    [oct1, mar1],\n",
    "])[:2]\n",
    "t_thresh_string_list = [\n",
    "    \"Oct-Mar\", \"Nov-Feb\", \n",
    "]\n",
    "np.save(join(filedict[\"results\"][\"dir\"], \"u_thresh_list\"), u_thresh_list)\n",
    "np.save(join(filedict[\"results\"][\"dir\"], \"t_thresh_list\"), u_thresh_list)"
   ]
  },
  {
   "cell_type": "markdown",
   "metadata": {},
   "source": [
    "## Method 1: extreme value theory"
   ]
  },
  {
   "cell_type": "code",
   "execution_count": null,
   "metadata": {},
   "outputs": [],
   "source": [
    "reload(feature_template)\n",
    "reload(feature_stratosphere)\n",
    "feat_strat = feature_stratosphere.WinterStratosphereFeatures()\n",
    "feat_strat.set_event_seasonal_params()\n",
    "feat_strat.set_ab_code()\n",
    "plt.rcParams.update({\"font.size\": 18, \"font.family\": \"monospace\"})"
   ]
  },
  {
   "cell_type": "code",
   "execution_count": null,
   "metadata": {},
   "outputs": [],
   "source": [
    "if extreme_value_analysis_flag:\n",
    "    feat_strat.extreme_value_analysis(t_thresh_list, feat_tpt, filedict[\"results\"][\"dir\"])"
   ]
  },
  {
   "cell_type": "markdown",
   "metadata": {},
   "source": [
    "## Plot results (just the linear model)"
   ]
  },
  {
   "cell_type": "code",
   "execution_count": 21,
   "metadata": {},
   "outputs": [
    {
     "data": {
      "image/png": "[encoded data removed]",
      "text/plain": [
       "<Figure size 432x288 with 1 Axes>"
      ]
     },
     "metadata": {},
     "output_type": "display_data"
    }
   ],
   "source": [
    "fig,ax = plt.subplots()\n",
    "fig.set_facecolor(\"white\")\n",
    "xlim = np.inf*np.array([1,-1])\n",
    "\n",
    "itth_list = [0,1,2]\n",
    "sizes = [100, 49, 9]\n",
    "zorders = [1, 2, 3]\n",
    "colors = ['springgreen', 'magenta', 'black']\n",
    "\n",
    "handles = []\n",
    "for i_tth in range(len(t_thresh_list)):\n",
    "    t_thresh = t_thresh_list[i_tth]\n",
    "    extval_stats = pickle.load(open(join(filedict[\"results\"][\"dir\"], f\"extval_stats_tth{t_thresh[0]}-{t_thresh[1]}\"), \"rb\"))\n",
    "    fyidx = dict({\n",
    "        \"e5\": np.where(np.in1d(extval_stats[\"e5\"][\"fall_years\"], extval_stats[\"s2\"][\"fall_years\"])),\n",
    "        \"s2\": np.where(np.in1d(extval_stats[\"s2\"][\"fall_years\"], extval_stats[\"e5\"][\"fall_years\"]))\n",
    "    })\n",
    "    fy_common = extval_stats[\"e5\"][\"fall_years\"][fyidx[\"e5\"]]\n",
    "    # Plot minimum S2S vs minimum E5\n",
    "    xdata = extval_stats[\"e5\"][\"umin\"][fyidx[\"e5\"]]\n",
    "    ydata = extval_stats[\"s2\"][\"umin\"][fyidx[\"s2\"]]\n",
    "    xlim = [min(xlim[0], xdata.min(), ydata.min()) - 5, max(xlim[1], xdata.max(), ydata.max()) + 5]\n",
    "    h = ax.scatter(xdata, ydata, s=sizes[i_tth], color=colors[i_tth], marker='o', zorder=zorders[i_tth], label=t_thresh_string_list[i_tth])\n",
    "    handles += [h]\n",
    "# Plot the linear model\n",
    "for i_tth in range(len(t_thresh_list)):\n",
    "    t_thresh = t_thresh_list[i_tth]\n",
    "    extval_stats = pickle.load(open(join(filedict[\"results\"][\"dir\"], f\"extval_stats_tth{t_thresh[0]}-{t_thresh[1]}\"), \"rb\"))\n",
    "    intercept,slope = extval_stats[\"linear_model\"][\"coeffs\"]\n",
    "    ax.plot(np.array(xlim), intercept + slope*np.array(xlim), color=colors[i_tth], zorder=-1)\n",
    "\n",
    "ax.set_title(r\"min $\\overline{u}$(10 hPa, 60$^\\circ$N)\")\n",
    "ax.set_xlabel(\"ERA5\")\n",
    "ax.set_ylabel(\"S2S\")\n",
    "ax.set_xlim(xlim)\n",
    "ax.set_ylim(xlim)\n",
    "ax.plot(xlim, xlim, color='gray', zorder=-1, alpha=0.75)\n",
    "ax.legend(handles=handles)\n",
    "\n",
    "fig.savefig(join(filedict[\"results\"][\"dir\"], \"umin_s2_vs_e5\"), bbox_inches=\"tight\")\n"
   ]
  },
  {
   "cell_type": "markdown",
   "metadata": {},
   "source": [
    "## Method 2: count paths from each initialization"
   ]
  },
  {
   "cell_type": "code",
   "execution_count": 22,
   "metadata": {},
   "outputs": [],
   "source": [
    "reload(feature_template)\n",
    "reload(feature_stratosphere)\n",
    "feat_strat = feature_stratosphere.WinterStratosphereFeatures()\n",
    "feat_strat.set_event_seasonal_params()\n",
    "feat_strat.set_ab_code()\n",
    "plt.rcParams.update({\"font.size\": 18, \"font.family\": \"monospace\"})"
   ]
  },
  {
   "cell_type": "code",
   "execution_count": 23,
   "metadata": {},
   "outputs": [],
   "source": [
    "if path_counting_flag:\n",
    "    for i_tth in range(len(t_thresh_list)):\n",
    "        t_thresh = t_thresh_list[i_tth]\n",
    "        rate_e5,rate_s2 = feat_strat.path_counting_rates(feat_all, feat_tpt, t_thresh, u_thresh_list)\n",
    "        rate_e5.to_netcdf(join(filedict[\"results\"][\"dir\"], f\"rate_pathcounting_e5_{t_thresh[0]}-{t_thresh[1]}.nc\"))\n",
    "        rate_s2.to_netcdf(join(filedict[\"results\"][\"dir\"], f\"rate_pathcounting_s2_{t_thresh[0]}-{t_thresh[1]}.nc\"))"
   ]
  },
  {
   "cell_type": "markdown",
   "metadata": {},
   "source": [
    "## Plot results"
   ]
  },
  {
   "cell_type": "code",
   "execution_count": 24,
   "metadata": {},
   "outputs": [
    {
     "data": {
      "text/plain": [
       "Text(0.5, 0.98, 'Nov-Feb')"
      ]
     },
     "execution_count": 24,
     "metadata": {},
     "output_type": "execute_result"
    },
    {
     "data": {
      "image/png": "[encoded data removed]",
      "text/plain": [
       "<Figure size 1080x360 with 2 Axes>"
      ]
     },
     "metadata": {},
     "output_type": "display_data"
    }
   ],
   "source": [
    "i_tth = 1\n",
    "t_thresh = t_thresh_list[i_tth]\n",
    "extval_stats = pickle.load(open(join(filedict[\"results\"][\"dir\"], f\"extval_stats_tth{t_thresh[0]}-{t_thresh[1]}\"), \"rb\"))\n",
    "rate_e5 = xr.open_dataarray(join(filedict[\"results\"][\"dir\"], f\"rate_pathcounting_e5_{t_thresh[0]}-{t_thresh[1]}.nc\"))\n",
    "rate_s2 = xr.open_dataarray(join(filedict[\"results\"][\"dir\"], f\"rate_pathcounting_s2_{t_thresh[0]}-{t_thresh[1]}.nc\"))\n",
    "\n",
    "fig,axes = plt.subplots(ncols=2, figsize=(15,5), sharey=True, sharex=True)\n",
    "fig.set_facecolor(\"white\")\n",
    "axes[1].yaxis.set_tick_params(labelbottom=True)\n",
    "\n",
    "# First plot: extreme values\n",
    "ax = axes[0]\n",
    "labels = {\"e5\": \"ERA5 (61 yr)\", \"s2\": \"S2S (20 yr)\", \"linear_model\": \"Linear model\"}\n",
    "zorders = {\"e5\": 0, \"s2\": 1, \"linear_model\": -1}\n",
    "handles = []\n",
    "for src in [\"e5\",\"s2\",\"linear_model\"]:\n",
    "    idx, = np.where(extval_stats[src][\"umin\"] < 0)\n",
    "    order = np.argsort(extval_stats[src][\"umin\"][idx])\n",
    "    h, = ax.plot(\n",
    "        extval_stats[src][\"umin\"][idx][order], extval_stats[src][\"rate_lower\"][idx][order], \n",
    "        color=dispdict[src][\"color\"],\n",
    "        marker='.', label=labels[src], zorder=zorders[src]\n",
    "    ) \n",
    "    handles += [h]\n",
    "\n",
    "\n",
    "ax.legend(handles=handles, fontsize=\"small\", loc=\"lower right\")\n",
    "ax.set_xlabel(\"Minimum $\\overline{u}$(10 hPa, 60$^\\circ$N)\")\n",
    "ax.set_ylabel(\"Rate [years$^{-1}$]\")\n",
    "ax.set_yscale(\"log\")\n",
    "ax.set_title(\"Extreme value estimate\")\n",
    "\n",
    "# Second plot: rates\n",
    "ax = axes[1]\n",
    "handles = []\n",
    "rate_s2 = rate_s2.where(rate_s2 > 0)\n",
    "#colors = [\"red\", \"purple\", \"orange\"]\n",
    "ax.plot(rate_s2[\"u_thresh\"], rate_s2.sel(bound=\"lower\"), color=\"red\", marker='.')\n",
    "h, = ax.plot(\n",
    "    rate_s2[\"u_thresh\"], rate_s2.sel(bound=\"upper\"), \n",
    "    color=\"red\", marker='.', label=r\"S2S (20 yr) bounds\"\n",
    ")\n",
    "handles += [h]\n",
    "# Additionally plot ERA5 only\n",
    "h, = ax.plot(rate_e5[\"u_thresh\"], rate_e5.where(rate_e5>0).sel(falls=\"1959-2019\"), color=\"orange\", marker='.', label=\"ERA5 (61 yr)\")\n",
    "handles += [h]\n",
    "h, = ax.plot(rate_e5[\"u_thresh\"], rate_e5.where(rate_e5>0).sel(falls=\"1996-2015\"), color=\"dodgerblue\", marker='.', label=\"ERA5 (20 yr)\")\n",
    "handles += [h]\n",
    "\n",
    "# Additionally plot Ed's estimate\n",
    "h, = ax.plot(rate_s2[\"u_thresh\"], rate_s2.sel(bound=\"ed\"), color=\"black\", marker=\"o\", label=\"Ed\")\n",
    "handles += [h]\n",
    "\n",
    "ax.set_yscale(\"log\")\n",
    "ax.set_xlabel(\"$\\overline{u}$(10 hPa, 60$^\\circ$N) threshold\")\n",
    "ax.legend(handles=handles, fontsize=\"small\")\n",
    "ax.set_title(\"Path counting bounds\")\n",
    "ax.set_ylim([1e-5,1])\n",
    "\n",
    "fig.subplots_adjust(top=0.85)\n",
    "fig.suptitle(t_thresh_string_list[i_tth], y=0.98, fontsize=25)"
   ]
  },
  {
   "cell_type": "markdown",
   "metadata": {},
   "source": [
    "# Method 3: running a LIM "
   ]
  },
  {
   "cell_type": "markdown",
   "metadata": {},
   "source": [
    "Here we construct a linear inverse model (a.k.a., (E)DMD) from the features we've chosen. We will test its robustness to lag time and ensure it varies smoothly with the seasonal cycle. After that, we will possibly incorporate the corresponding modes into the feature vector for DGA. "
   ]
  },
  {
   "cell_type": "code",
   "execution_count": 25,
   "metadata": {},
   "outputs": [],
   "source": [
    "ubar_names = [f\"ubar_{lev}_60_delay{d}\" for d in [0] for lev in [10,100,500,850]]\n",
    "vT_1_names = [f\"vT_{lev}_1_runavg10\" for lev in [10,100,500,850]]\n",
    "vT_2_names = [f\"vT_{lev}_2_runavg10\" for lev in [10,100,500,850]]\n",
    "ubar_delay_names = [f\"ubar_10_60_delay{d}\" for d in range(15)]\n",
    "#lim_feature_names = ubar_names + vT_1_names + vT_2_names\n",
    "lim_feature_names = ubar_delay_names\n",
    "feat_msm = feat_tpt[\"s2\"].sel(feature=lim_feature_names)\n",
    "feat_msm_e5 = feat_tpt[\"e5\"].sel(feature=lim_feature_names)"
   ]
  },
  {
   "cell_type": "code",
   "execution_count": 26,
   "metadata": {},
   "outputs": [],
   "source": [
    "szn_stats_e5 = feat_strat.get_seasonal_statistics(feat_msm_e5, feat_tpt[\"e5\"].sel(feature=\"t_szn\"))\n",
    "# Replace the mean with first four harmonics\n",
    "ssm = szn_stats_e5[\"mean\"].transpose(\"feature\",\"t_szn_cent\")\n",
    "ssmhat = np.fft.fft(ssm.values, axis=1)\n",
    "ssmhat[:,5:-5] = 0\n",
    "ssmooth = np.fft.ifft(ssmhat, axis=1).real\n",
    "ssm[:] = ssmooth"
   ]
  },
  {
   "cell_type": "code",
   "execution_count": 27,
   "metadata": {},
   "outputs": [],
   "source": [
    "reload(feature_template)\n",
    "reload(feature_stratosphere)\n",
    "feat_strat = feature_stratosphere.WinterStratosphereFeatures()\n",
    "feat_strat.set_event_seasonal_params()\n",
    "feat_strat.set_ab_code()\n",
    "plt.rcParams.update({\"font.size\": 18, \"font.family\": \"monospace\"})"
   ]
  },
  {
   "cell_type": "code",
   "execution_count": 72,
   "metadata": {},
   "outputs": [],
   "source": [
    "feat_lim = feat_tpt[\"s2\"].sel(feature=lim_feature_names)\n",
    "tmin = feat_tpt[\"e5\"][\"t_sim\"].mean().item()\n",
    "feat_lim_e5 = feat_tpt[\"e5\"].sel(feature=lim_feature_names).sel(t_sim=slice(tmin,None))\n",
    "t_obs = feat_all[\"s2\"][\"time_observable\"]"
   ]
  },
  {
   "cell_type": "code",
   "execution_count": 73,
   "metadata": {},
   "outputs": [],
   "source": [
    "lim = feat_strat.build_lim(\n",
    "    feat_lim_e5, szn_stats_e5, feat_all[\"e5\"][\"time_observable\"].sel(t_sim=slice(tmin,None)), \n",
    "    max_delay, demean=True, max_lag=1)"
   ]
  },
  {
   "cell_type": "code",
   "execution_count": 74,
   "metadata": {},
   "outputs": [],
   "source": [
    "limlam = xr.DataArray(\n",
    "    coords={\"eig\": np.arange(lim.feature_old.size), \"t_szn_cent\": lim.t_szn_cent}, \n",
    "    dims=[\"eig\",\"t_szn_cent\"], data=np.nan)\n",
    "limvec = xr.DataArray(\n",
    "    coords={\"eig\": np.arange(lim.feature_old.size), \n",
    "            \"feature_old\": lim.feature_old.data, \"t_szn_cent\": lim.t_szn_cent}, \n",
    "    dims=[\"eig\",\"feature_old\",\"t_szn_cent\"], data=np.nan)\n",
    "limsig = xr.DataArray(\n",
    "    coords={\"feature_new\": lim[\"feature_new\"].data, \n",
    "            \"feature_old\": lim[\"feature_old\"].data, \n",
    "            \"t_szn_cent\": lim.t_szn_cent}, \n",
    "    dims=[\"feature_new\",\"feature_old\",\"t_szn_cent\"], \n",
    "    data=np.nan\n",
    ")\n"
   ]
  },
  {
   "cell_type": "code",
   "execution_count": 75,
   "metadata": {},
   "outputs": [],
   "source": [
    "for i_win in range(len(lim.t_szn_cent)-1):\n",
    "    G,Q = lim[\"G\"].isel(t_szn_cent=i_win).values,lim[\"Q\"].isel(t_szn_cent=i_win).values\n",
    "    lam,vec = np.linalg.eigh(G.T @ G)\n",
    "    limlam[dict(t_szn_cent=i_win)] = lam\n",
    "    limvec[dict(t_szn_cent=i_win)] = vec\n",
    "    # Now get matrix square root of Q\n",
    "    Qlam,Qvec = np.linalg.eigh(Q)\n",
    "    limsig[dict(t_szn_cent=i_win)] = Qvec @ np.diag(np.sqrt(np.maximum(Qlam,0)))"
   ]
  },
  {
   "cell_type": "code",
   "execution_count": 76,
   "metadata": {},
   "outputs": [
    {
     "data": {
      "text/plain": [
       "<matplotlib.lines.Line2D at 0x14aa8f6fdeb0>"
      ]
     },
     "execution_count": 76,
     "metadata": {},
     "output_type": "execute_result"
    },
    {
     "data": {
      "image/png": "[encoded data removed]",
      "text/plain": [
       "<Figure size 432x288 with 1 Axes>"
      ]
     },
     "metadata": {
      "needs_background": "light"
     },
     "output_type": "display_data"
    }
   ],
   "source": [
    "fig,ax = plt.subplots()\n",
    "xr.plot.plot(limlam.max(dim=\"eig\"), x=\"t_szn_cent\",ax=ax)\n",
    "ax.axhline(y=1.0, color='black')"
   ]
  },
  {
   "cell_type": "markdown",
   "metadata": {},
   "source": [
    "Now that we've made the LIM, let's examine how the eigenvalues and eigenvectors change over the season."
   ]
  },
  {
   "cell_type": "markdown",
   "metadata": {},
   "source": [
    "Simulate the LIM!"
   ]
  },
  {
   "cell_type": "code",
   "execution_count": 78,
   "metadata": {},
   "outputs": [],
   "source": [
    "# Sample random initial conditions\n",
    "win_init = 30\n",
    "win_fin = 260\n",
    "szn_window_e5 = (feat_all[\"e5\"][\"time_observable\"].sel(feature=\"t_szn\") / feat_strat.dt_szn).astype(int)\n",
    "feat_lim_e5 = feat_lim_e5.transpose(\"t_init\",\"member\",\"t_sim\",\"feature\")\n",
    "idx_init = np.where(szn_window_e5.sel(t_sim=slice(tmin,None)).values == win_init)\n",
    "X_init = (feat_lim_e5 - szn_stats_e5[\"mean\"].isel(t_szn_cent=win_init)).values[idx_init]"
   ]
  },
  {
   "cell_type": "code",
   "execution_count": 79,
   "metadata": {},
   "outputs": [],
   "source": [
    "X_sim = xr.DataArray(\n",
    "    coords={\n",
    "        \"t_szn_cent\": szn_stats_e5[\"t_szn_cent\"].values[win_init:win_fin+1], \n",
    "        \"feature\": feat_lim_e5[\"feature\"],\n",
    "        \"sample\": np.arange(5000),\n",
    "    },\n",
    "    dims=[\"t_szn_cent\",\"sample\",\"feature\"],\n",
    "    data=np.nan,\n",
    ")\n",
    "idx_sim = np.random.choice(np.arange(len(X_init)), size=X_sim[\"sample\"].size, replace=True)\n",
    "X_sim[dict(t_szn_cent=0)] = X_init[idx_sim]"
   ]
  },
  {
   "cell_type": "code",
   "execution_count": 80,
   "metadata": {},
   "outputs": [],
   "source": [
    "for i_win in range(win_fin-win_init):\n",
    "    xi = np.random.randn(X_sim[\"sample\"].size, X_sim[\"feature\"].size)\n",
    "    forcing = xi @ (limsig.isel(t_szn_cent=win_init+i_win).values).T\n",
    "    G = lim[\"G\"].isel(t_szn_cent=win_init+i_win).values\n",
    "    X_sim[dict(t_szn_cent=i_win+1)] = X_sim.isel(t_szn_cent=i_win).values @ G.T + forcing"
   ]
  },
  {
   "cell_type": "code",
   "execution_count": 81,
   "metadata": {},
   "outputs": [
    {
     "data": {
      "text/plain": [
       "[<matplotlib.lines.Line2D at 0x14aa8f334a60>]"
      ]
     },
     "execution_count": 81,
     "metadata": {},
     "output_type": "execute_result"
    },
    {
     "data": {
      "image/png": "[encoded data removed]",
      "text/plain": [
       "<Figure size 432x288 with 1 Axes>"
      ]
     },
     "metadata": {
      "needs_background": "light"
     },
     "output_type": "display_data"
    }
   ],
   "source": [
    "feat = \"ubar_10_60_delay0\"\n",
    "fig,ax = plt.subplots()\n",
    "ax.plot(szn_stats_e5[\"mean\"].sel(feature=feat).isel(t_szn_cent=slice(win_init,win_fin+1)), color='black', linewidth=3)\n",
    "for samp in range(500): #X_sim[\"sample\"].values:\n",
    "    ax.plot(\n",
    "        X_sim.sel(sample=samp,feature=feat) + szn_stats_e5[\"mean\"].sel(feature=feat).isel(t_szn_cent=slice(win_init,win_fin+1)),\n",
    "        color='dodgerblue', alpha=0.5\n",
    "    )\n",
    "ax.plot(szn_stats_e5[\"mean\"].sel(feature=feat).isel(t_szn_cent=slice(win_init,win_fin+1)), color='black', linewidth=3)\n",
    "ax.plot(szn_stats_e5[\"min\"].sel(feature=feat).isel(t_szn_cent=slice(win_init,win_fin+1)), color='black', linewidth=3)\n",
    "ax.plot(szn_stats_e5[\"max\"].sel(feature=feat).isel(t_szn_cent=slice(win_init,win_fin+1)), color='black', linewidth=3)"
   ]
  },
  {
   "cell_type": "markdown",
   "metadata": {},
   "source": [
    "Compute the rates inferred from this model."
   ]
  },
  {
   "cell_type": "code",
   "execution_count": 82,
   "metadata": {},
   "outputs": [],
   "source": [
    "for i_tth in range(len(t_thresh_list)):\n",
    "    t_thresh = t_thresh_list[i_tth]\n",
    "    lim_umin = (\n",
    "        (X_sim + szn_stats_e5[\"mean\"])\n",
    "        .sel(feature=\"ubar_10_60_delay0\",t_szn_cent=slice(t_thresh[0],t_thresh[1]))\n",
    "    ).min(dim=\"t_szn_cent\")\n",
    "    rate_lim = xr.DataArray(coords={\"u_thresh\": u_thresh_list}, dims=[\"u_thresh\"], data=np.nan)\n",
    "    for uth in rate_lim[\"u_thresh\"].values:\n",
    "        rate_lim.loc[dict(u_thresh=uth)] = np.mean(lim_umin <= uth)\n",
    "    rate_lim.to_netcdf(join(filedict[\"results\"][\"dir\"], f\"rate_lim_s2_{t_thresh[0]}-{t_thresh[1]}.nc\"))"
   ]
  },
  {
   "cell_type": "code",
   "execution_count": 84,
   "metadata": {},
   "outputs": [
    {
     "data": {
      "text/html": [
       "<div><svg style=\"position: absolute; width: 0; height: 0; overflow: hidden\">\n",
       "<defs>\n",
       "<symbol id=\"icon-database\" viewBox=\"0 0 32 32\">\n",
       "<path d=\"M16 0c-8.837 0-16 2.239-16 5v4c0 2.761 7.163 5 16 5s16-2.239 16-5v-4c0-2.761-7.163-5-16-5z\"></path>\n",
       "<path d=\"M16 17c-8.837 0-16-2.239-16-5v6c0 2.761 7.163 5 16 5s16-2.239 16-5v-6c0 2.761-7.163 5-16 5z\"></path>\n",
       "<path d=\"M16 26c-8.837 0-16-2.239-16-5v6c0 2.761 7.163 5 16 5s16-2.239 16-5v-6c0 2.761-7.163 5-16 5z\"></path>\n",
       "</symbol>\n",
       "<symbol id=\"icon-file-text2\" viewBox=\"0 0 32 32\">\n",
       "<path d=\"M28.681 7.159c-0.694-0.947-1.662-2.053-2.724-3.116s-2.169-2.030-3.116-2.724c-1.612-1.182-2.393-1.319-2.841-1.319h-15.5c-1.378 0-2.5 1.121-2.5 2.5v27c0 1.378 1.122 2.5 2.5 2.5h23c1.378 0 2.5-1.122 2.5-2.5v-19.5c0-0.448-0.137-1.23-1.319-2.841zM24.543 5.457c0.959 0.959 1.712 1.825 2.268 2.543h-4.811v-4.811c0.718 0.556 1.584 1.309 2.543 2.268zM28 29.5c0 0.271-0.229 0.5-0.5 0.5h-23c-0.271 0-0.5-0.229-0.5-0.5v-27c0-0.271 0.229-0.5 0.5-0.5 0 0 15.499-0 15.5 0v7c0 0.552 0.448 1 1 1h7v19.5z\"></path>\n",
       "<path d=\"M23 26h-14c-0.552 0-1-0.448-1-1s0.448-1 1-1h14c0.552 0 1 0.448 1 1s-0.448 1-1 1z\"></path>\n",
       "<path d=\"M23 22h-14c-0.552 0-1-0.448-1-1s0.448-1 1-1h14c0.552 0 1 0.448 1 1s-0.448 1-1 1z\"></path>\n",
       "<path d=\"M23 18h-14c-0.552 0-1-0.448-1-1s0.448-1 1-1h14c0.552 0 1 0.448 1 1s-0.448 1-1 1z\"></path>\n",
       "</symbol>\n",
       "</defs>\n",
       "</svg>\n",
       "<style>/* CSS stylesheet for displaying xarray objects in jupyterlab.\n",
       " *\n",
       " */\n",
       "\n",
       ":root {\n",
       "  --xr-font-color0: var(--jp-content-font-color0, rgba(0, 0, 0, 1));\n",
       "  --xr-font-color2: var(--jp-content-font-color2, rgba(0, 0, 0, 0.54));\n",
       "  --xr-font-color3: var(--jp-content-font-color3, rgba(0, 0, 0, 0.38));\n",
       "  --xr-border-color: var(--jp-border-color2, #e0e0e0);\n",
       "  --xr-disabled-color: var(--jp-layout-color3, #bdbdbd);\n",
       "  --xr-background-color: var(--jp-layout-color0, white);\n",
       "  --xr-background-color-row-even: var(--jp-layout-color1, white);\n",
       "  --xr-background-color-row-odd: var(--jp-layout-color2, #eeeeee);\n",
       "}\n",
       "\n",
       "html[theme=dark],\n",
       "body.vscode-dark {\n",
       "  --xr-font-color0: rgba(255, 255, 255, 1);\n",
       "  --xr-font-color2: rgba(255, 255, 255, 0.54);\n",
       "  --xr-font-color3: rgba(255, 255, 255, 0.38);\n",
       "  --xr-border-color: #1F1F1F;\n",
       "  --xr-disabled-color: #515151;\n",
       "  --xr-background-color: #111111;\n",
       "  --xr-background-color-row-even: #111111;\n",
       "  --xr-background-color-row-odd: #313131;\n",
       "}\n",
       "\n",
       ".xr-wrap {\n",
       "  display: block !important;\n",
       "  min-width: 300px;\n",
       "  max-width: 700px;\n",
       "}\n",
       "\n",
       ".xr-text-repr-fallback {\n",
       "  /* fallback to plain text repr when CSS is not injected (untrusted notebook) */\n",
       "  display: none;\n",
       "}\n",
       "\n",
       ".xr-header {\n",
       "  padding-top: 6px;\n",
       "  padding-bottom: 6px;\n",
       "  margin-bottom: 4px;\n",
       "  border-bottom: solid 1px var(--xr-border-color);\n",
       "}\n",
       "\n",
       ".xr-header > div,\n",
       ".xr-header > ul {\n",
       "  display: inline;\n",
       "  margin-top: 0;\n",
       "  margin-bottom: 0;\n",
       "}\n",
       "\n",
       ".xr-obj-type,\n",
       ".xr-array-name {\n",
       "  margin-left: 2px;\n",
       "  margin-right: 10px;\n",
       "}\n",
       "\n",
       ".xr-obj-type {\n",
       "  color: var(--xr-font-color2);\n",
       "}\n",
       "\n",
       ".xr-sections {\n",
       "  padding-left: 0 !important;\n",
       "  display: grid;\n",
       "  grid-template-columns: 150px auto auto 1fr 20px 20px;\n",
       "}\n",
       "\n",
       ".xr-section-item {\n",
       "  display: contents;\n",
       "}\n",
       "\n",
       ".xr-section-item input {\n",
       "  display: none;\n",
       "}\n",
       "\n",
       ".xr-section-item input + label {\n",
       "  color: var(--xr-disabled-color);\n",
       "}\n",
       "\n",
       ".xr-section-item input:enabled + label {\n",
       "  cursor: pointer;\n",
       "  color: var(--xr-font-color2);\n",
       "}\n",
       "\n",
       ".xr-section-item input:enabled + label:hover {\n",
       "  color: var(--xr-font-color0);\n",
       "}\n",
       "\n",
       ".xr-section-summary {\n",
       "  grid-column: 1;\n",
       "  color: var(--xr-font-color2);\n",
       "  font-weight: 500;\n",
       "}\n",
       "\n",
       ".xr-section-summary > span {\n",
       "  display: inline-block;\n",
       "  padding-left: 0.5em;\n",
       "}\n",
       "\n",
       ".xr-section-summary-in:disabled + label {\n",
       "  color: var(--xr-font-color2);\n",
       "}\n",
       "\n",
       ".xr-section-summary-in + label:before {\n",
       "  display: inline-block;\n",
       "  content: '►';\n",
       "  font-size: 11px;\n",
       "  width: 15px;\n",
       "  text-align: center;\n",
       "}\n",
       "\n",
       ".xr-section-summary-in:disabled + label:before {\n",
       "  color: var(--xr-disabled-color);\n",
       "}\n",
       "\n",
       ".xr-section-summary-in:checked + label:before {\n",
       "  content: '▼';\n",
       "}\n",
       "\n",
       ".xr-section-summary-in:checked + label > span {\n",
       "  display: none;\n",
       "}\n",
       "\n",
       ".xr-section-summary,\n",
       ".xr-section-inline-details {\n",
       "  padding-top: 4px;\n",
       "  padding-bottom: 4px;\n",
       "}\n",
       "\n",
       ".xr-section-inline-details {\n",
       "  grid-column: 2 / -1;\n",
       "}\n",
       "\n",
       ".xr-section-details {\n",
       "  display: none;\n",
       "  grid-column: 1 / -1;\n",
       "  margin-bottom: 5px;\n",
       "}\n",
       "\n",
       ".xr-section-summary-in:checked ~ .xr-section-details {\n",
       "  display: contents;\n",
       "}\n",
       "\n",
       ".xr-array-wrap {\n",
       "  grid-column: 1 / -1;\n",
       "  display: grid;\n",
       "  grid-template-columns: 20px auto;\n",
       "}\n",
       "\n",
       ".xr-array-wrap > label {\n",
       "  grid-column: 1;\n",
       "  vertical-align: top;\n",
       "}\n",
       "\n",
       ".xr-preview {\n",
       "  color: var(--xr-font-color3);\n",
       "}\n",
       "\n",
       ".xr-array-preview,\n",
       ".xr-array-data {\n",
       "  padding: 0 5px !important;\n",
       "  grid-column: 2;\n",
       "}\n",
       "\n",
       ".xr-array-data,\n",
       ".xr-array-in:checked ~ .xr-array-preview {\n",
       "  display: none;\n",
       "}\n",
       "\n",
       ".xr-array-in:checked ~ .xr-array-data,\n",
       ".xr-array-preview {\n",
       "  display: inline-block;\n",
       "}\n",
       "\n",
       ".xr-dim-list {\n",
       "  display: inline-block !important;\n",
       "  list-style: none;\n",
       "  padding: 0 !important;\n",
       "  margin: 0;\n",
       "}\n",
       "\n",
       ".xr-dim-list li {\n",
       "  display: inline-block;\n",
       "  padding: 0;\n",
       "  margin: 0;\n",
       "}\n",
       "\n",
       ".xr-dim-list:before {\n",
       "  content: '(';\n",
       "}\n",
       "\n",
       ".xr-dim-list:after {\n",
       "  content: ')';\n",
       "}\n",
       "\n",
       ".xr-dim-list li:not(:last-child):after {\n",
       "  content: ',';\n",
       "  padding-right: 5px;\n",
       "}\n",
       "\n",
       ".xr-has-index {\n",
       "  font-weight: bold;\n",
       "}\n",
       "\n",
       ".xr-var-list,\n",
       ".xr-var-item {\n",
       "  display: contents;\n",
       "}\n",
       "\n",
       ".xr-var-item > div,\n",
       ".xr-var-item label,\n",
       ".xr-var-item > .xr-var-name span {\n",
       "  background-color: var(--xr-background-color-row-even);\n",
       "  margin-bottom: 0;\n",
       "}\n",
       "\n",
       ".xr-var-item > .xr-var-name:hover span {\n",
       "  padding-right: 5px;\n",
       "}\n",
       "\n",
       ".xr-var-list > li:nth-child(odd) > div,\n",
       ".xr-var-list > li:nth-child(odd) > label,\n",
       ".xr-var-list > li:nth-child(odd) > .xr-var-name span {\n",
       "  background-color: var(--xr-background-color-row-odd);\n",
       "}\n",
       "\n",
       ".xr-var-name {\n",
       "  grid-column: 1;\n",
       "}\n",
       "\n",
       ".xr-var-dims {\n",
       "  grid-column: 2;\n",
       "}\n",
       "\n",
       ".xr-var-dtype {\n",
       "  grid-column: 3;\n",
       "  text-align: right;\n",
       "  color: var(--xr-font-color2);\n",
       "}\n",
       "\n",
       ".xr-var-preview {\n",
       "  grid-column: 4;\n",
       "}\n",
       "\n",
       ".xr-var-name,\n",
       ".xr-var-dims,\n",
       ".xr-var-dtype,\n",
       ".xr-preview,\n",
       ".xr-attrs dt {\n",
       "  white-space: nowrap;\n",
       "  overflow: hidden;\n",
       "  text-overflow: ellipsis;\n",
       "  padding-right: 10px;\n",
       "}\n",
       "\n",
       ".xr-var-name:hover,\n",
       ".xr-var-dims:hover,\n",
       ".xr-var-dtype:hover,\n",
       ".xr-attrs dt:hover {\n",
       "  overflow: visible;\n",
       "  width: auto;\n",
       "  z-index: 1;\n",
       "}\n",
       "\n",
       ".xr-var-attrs,\n",
       ".xr-var-data {\n",
       "  display: none;\n",
       "  background-color: var(--xr-background-color) !important;\n",
       "  padding-bottom: 5px !important;\n",
       "}\n",
       "\n",
       ".xr-var-attrs-in:checked ~ .xr-var-attrs,\n",
       ".xr-var-data-in:checked ~ .xr-var-data {\n",
       "  display: block;\n",
       "}\n",
       "\n",
       ".xr-var-data > table {\n",
       "  float: right;\n",
       "}\n",
       "\n",
       ".xr-var-name span,\n",
       ".xr-var-data,\n",
       ".xr-attrs {\n",
       "  padding-left: 25px !important;\n",
       "}\n",
       "\n",
       ".xr-attrs,\n",
       ".xr-var-attrs,\n",
       ".xr-var-data {\n",
       "  grid-column: 1 / -1;\n",
       "}\n",
       "\n",
       "dl.xr-attrs {\n",
       "  padding: 0;\n",
       "  margin: 0;\n",
       "  display: grid;\n",
       "  grid-template-columns: 125px auto;\n",
       "}\n",
       "\n",
       ".xr-attrs dt,\n",
       ".xr-attrs dd {\n",
       "  padding: 0;\n",
       "  margin: 0;\n",
       "  float: left;\n",
       "  padding-right: 10px;\n",
       "  width: auto;\n",
       "}\n",
       "\n",
       ".xr-attrs dt {\n",
       "  font-weight: normal;\n",
       "  grid-column: 1;\n",
       "}\n",
       "\n",
       ".xr-attrs dt:hover span {\n",
       "  display: inline-block;\n",
       "  background: var(--xr-background-color);\n",
       "  padding-right: 10px;\n",
       "}\n",
       "\n",
       ".xr-attrs dd {\n",
       "  grid-column: 2;\n",
       "  white-space: pre-wrap;\n",
       "  word-break: break-all;\n",
       "}\n",
       "\n",
       ".xr-icon-database,\n",
       ".xr-icon-file-text2 {\n",
       "  display: inline-block;\n",
       "  vertical-align: middle;\n",
       "  width: 1em;\n",
       "  height: 1.5em !important;\n",
       "  stroke-width: 0;\n",
       "  stroke: currentColor;\n",
       "  fill: currentColor;\n",
       "}\n",
       "</style><pre class='xr-text-repr-fallback'>&lt;xarray.DataArray (u_thresh: 14)&gt;\n",
       "array([0.    , 0.    , 0.    , 0.0008, 0.0026, 0.0066, 0.011 , 0.0236,\n",
       "       0.042 , 0.0742, 0.1206, 0.1846, 0.2776, 0.3914])\n",
       "Coordinates:\n",
       "  * u_thresh  (u_thresh) int64 -52 -48 -44 -40 -36 -32 ... -20 -16 -12 -8 -4 0</pre><div class='xr-wrap' style='display:none'><div class='xr-header'><div class='xr-obj-type'>xarray.DataArray</div><div class='xr-array-name'></div><ul class='xr-dim-list'><li><span class='xr-has-index'>u_thresh</span>: 14</li></ul></div><ul class='xr-sections'><li class='xr-section-item'><div class='xr-array-wrap'><input id='section-1d4fbdb9-3bfa-4f03-a17f-7d4aae681f7f' class='xr-array-in' type='checkbox' checked><label for='section-1d4fbdb9-3bfa-4f03-a17f-7d4aae681f7f' title='Show/hide data repr'><svg class='icon xr-icon-database'><use xlink:href='#icon-database'></use></svg></label><div class='xr-array-preview xr-preview'><span>0.0 0.0 0.0 0.0008 0.0026 ... 0.0742 0.1206 0.1846 0.2776 0.3914</span></div><div class='xr-array-data'><pre>array([0.    , 0.    , 0.    , 0.0008, 0.0026, 0.0066, 0.011 , 0.0236,\n",
       "       0.042 , 0.0742, 0.1206, 0.1846, 0.2776, 0.3914])</pre></div></div></li><li class='xr-section-item'><input id='section-5360b95e-cec9-4454-9c96-ae29d6a5a25b' class='xr-section-summary-in' type='checkbox'  checked><label for='section-5360b95e-cec9-4454-9c96-ae29d6a5a25b' class='xr-section-summary' >Coordinates: <span>(1)</span></label><div class='xr-section-inline-details'></div><div class='xr-section-details'><ul class='xr-var-list'><li class='xr-var-item'><div class='xr-var-name'><span class='xr-has-index'>u_thresh</span></div><div class='xr-var-dims'>(u_thresh)</div><div class='xr-var-dtype'>int64</div><div class='xr-var-preview xr-preview'>-52 -48 -44 -40 -36 ... -12 -8 -4 0</div><input id='attrs-2b172d76-e44b-4e8a-b0a8-994fc820cec7' class='xr-var-attrs-in' type='checkbox' disabled><label for='attrs-2b172d76-e44b-4e8a-b0a8-994fc820cec7' title='Show/Hide attributes'><svg class='icon xr-icon-file-text2'><use xlink:href='#icon-file-text2'></use></svg></label><input id='data-76de5cd2-f91b-4f03-85e8-3aae43984986' class='xr-var-data-in' type='checkbox'><label for='data-76de5cd2-f91b-4f03-85e8-3aae43984986' title='Show/Hide data repr'><svg class='icon xr-icon-database'><use xlink:href='#icon-database'></use></svg></label><div class='xr-var-attrs'><dl class='xr-attrs'></dl></div><div class='xr-var-data'><pre>array([-52, -48, -44, -40, -36, -32, -28, -24, -20, -16, -12,  -8,  -4,   0])</pre></div></li></ul></div></li><li class='xr-section-item'><input id='section-89b4b932-efa7-45a0-860c-ffaa9e8501a9' class='xr-section-summary-in' type='checkbox' disabled ><label for='section-89b4b932-efa7-45a0-860c-ffaa9e8501a9' class='xr-section-summary'  title='Expand/collapse section'>Attributes: <span>(0)</span></label><div class='xr-section-inline-details'></div><div class='xr-section-details'><dl class='xr-attrs'></dl></div></li></ul></div></div>"
      ],
      "text/plain": [
       "<xarray.DataArray (u_thresh: 14)>\n",
       "array([0.    , 0.    , 0.    , 0.0008, 0.0026, 0.0066, 0.011 , 0.0236,\n",
       "       0.042 , 0.0742, 0.1206, 0.1846, 0.2776, 0.3914])\n",
       "Coordinates:\n",
       "  * u_thresh  (u_thresh) int64 -52 -48 -44 -40 -36 -32 ... -20 -16 -12 -8 -4 0"
      ]
     },
     "execution_count": 84,
     "metadata": {},
     "output_type": "execute_result"
    }
   ],
   "source": [
    "rate_lim"
   ]
  },
  {
   "cell_type": "code",
   "execution_count": 85,
   "metadata": {},
   "outputs": [
    {
     "data": {
      "text/plain": [
       "Text(0.5, 0.98, 'Nov-Feb')"
      ]
     },
     "execution_count": 85,
     "metadata": {},
     "output_type": "execute_result"
    },
    {
     "data": {
      "image/png": "[encoded data removed]",
      "text/plain": [
       "<Figure size 1080x360 with 2 Axes>"
      ]
     },
     "metadata": {},
     "output_type": "display_data"
    }
   ],
   "source": [
    "i_tth = 1\n",
    "t_thresh = t_thresh_list[i_tth]\n",
    "extval_stats = pickle.load(open(join(filedict[\"results\"][\"dir\"], f\"extval_stats_tth{t_thresh[0]}-{t_thresh[1]}\"), \"rb\"))\n",
    "rate_e5 = xr.open_dataarray(join(filedict[\"results\"][\"dir\"], f\"rate_pathcounting_e5_{t_thresh[0]}-{t_thresh[1]}.nc\"))\n",
    "rate_s2 = xr.open_dataarray(join(filedict[\"results\"][\"dir\"], f\"rate_pathcounting_s2_{t_thresh[0]}-{t_thresh[1]}.nc\"))\n",
    "rate_lim_s2 = xr.open_dataarray(join(filedict[\"results\"][\"dir\"], f\"rate_lim_s2_{t_thresh[0]}-{t_thresh[1]}.nc\"))\n",
    "\n",
    "fig,axes = plt.subplots(ncols=2, figsize=(15,5), sharey=True, sharex=True)\n",
    "fig.set_facecolor(\"white\")\n",
    "axes[1].yaxis.set_tick_params(labelbottom=True)\n",
    "\n",
    "# First plot: extreme values\n",
    "ax = axes[0]\n",
    "labels = {\"e5\": \"ERA5 (61 yr)\", \"s2\": \"S2S (20 yr)\", \"linear_model\": \"Linear model\"}\n",
    "zorders = {\"e5\": 0, \"s2\": 1, \"linear_model\": -1}\n",
    "handles = []\n",
    "for src in [\"e5\",\"s2\",\"linear_model\"]:\n",
    "    idx, = np.where(extval_stats[src][\"umin\"] < 0)\n",
    "    order = np.argsort(extval_stats[src][\"umin\"][idx])\n",
    "    h, = ax.plot(\n",
    "        extval_stats[src][\"umin\"][idx][order], extval_stats[src][\"rate_lower\"][idx][order], \n",
    "        color=dispdict[src][\"color\"],\n",
    "        marker='.', label=labels[src], zorder=zorders[src]\n",
    "    ) \n",
    "    handles += [h]\n",
    "\n",
    "\n",
    "ax.legend(handles=handles, fontsize=\"small\", loc=\"lower right\")\n",
    "ax.set_xlabel(\"Minimum $\\overline{u}$(10 hPa, 60$^\\circ$N)\")\n",
    "ax.set_ylabel(\"Rate [years$^{-1}$]\")\n",
    "ax.set_yscale(\"log\")\n",
    "ax.set_title(\"Extreme value estimate\")\n",
    "\n",
    "# Second plot: rates\n",
    "ax = axes[1]\n",
    "handles = []\n",
    "rate_s2 = rate_s2.where(rate_s2 > 0)\n",
    "#colors = [\"red\", \"purple\", \"orange\"]\n",
    "ax.plot(rate_s2[\"u_thresh\"], rate_s2.sel(bound=\"lower\"), color=\"red\", marker='.')\n",
    "h, = ax.plot(\n",
    "    rate_s2[\"u_thresh\"], rate_s2.sel(bound=\"upper\"), \n",
    "    color=\"red\", marker='.', label=r\"S2S (20 yr) bounds\"\n",
    ")\n",
    "handles += [h]\n",
    "# Additionally plot ERA5 only\n",
    "h, = ax.plot(rate_e5[\"u_thresh\"], rate_e5.where(rate_e5>0).sel(falls=\"1959-2019\"), color=\"orange\", marker='.', label=\"ERA5 (61 yr)\")\n",
    "handles += [h]\n",
    "h, = ax.plot(rate_e5[\"u_thresh\"], rate_e5.where(rate_e5>0).sel(falls=\"1996-2015\"), color=\"dodgerblue\", marker='.', label=\"ERA5 (20 yr)\")\n",
    "handles += [h]\n",
    "\n",
    "# Additionally plot Ed's estimate\n",
    "h, = ax.plot(rate_s2[\"u_thresh\"], rate_s2.sel(bound=\"ed\"), color=\"black\", marker=\"o\", label=\"Ed\")\n",
    "handles += [h]\n",
    "\n",
    "# Additionally plot the LIM estimate\n",
    "h, = ax.plot(rate_lim_s2[\"u_thresh\"], rate_lim_s2.values, color=\"gray\", marker=\"o\", linestyle='--', label=\"LIM\")\n",
    "handles += [h]\n",
    "\n",
    "\n",
    "\n",
    "ax.set_yscale(\"log\")\n",
    "ax.set_xlabel(\"$\\overline{u}$(10 hPa, 60$^\\circ$N) threshold\")\n",
    "ax.legend(handles=handles, fontsize=\"small\")\n",
    "ax.set_title(\"Path counting bounds\")\n",
    "ax.set_ylim([1e-5,1])\n",
    "\n",
    "fig.subplots_adjust(top=0.85)\n",
    "fig.suptitle(t_thresh_string_list[i_tth], y=0.98, fontsize=25)"
   ]
  },
  {
   "cell_type": "code",
   "execution_count": null,
   "metadata": {},
   "outputs": [],
   "source": [
    "# Plot eigenvectors as a function of observable\n",
    "eig = 2\n",
    "fig,axes = plt.subplots(ncols=3,nrows=2,figsize=(15,12),sharey=True)\n",
    "fig.subplots_adjust(top=0.9)\n",
    "fig.suptitle(f\"Eigenvalue {eig}: {lam[eig].real:.2f}+{lam[eig].imag:.2f}i\", y=0.98, fontsize=25)\n",
    "levels = np.array([10,100,500,850])\n",
    "# First plot: zonal wind\n",
    "ax = axes[0,0]\n",
    "names = [f\"ubar_{lev}_60_delay{d}\" for d in [0] for lev in levels]\n",
    "ax.barh([str(lev) for lev in levels], E.sel(eigenvector=eig, feature=names).real, color='dodgerblue')\n",
    "ax.set_title(\"$\\overline{u}$\")\n",
    "ax.axvline(0, color='black')\n",
    "ax = axes[1,0]\n",
    "names = [f\"ubar_{lev}_60_delay{d}\" for d in [0] for lev in levels]\n",
    "ax.barh([str(lev) for lev in levels], E.sel(eigenvector=eig, feature=names).imag, color='red')\n",
    "ax.set_title(\"$\\overline{u}$\")\n",
    "ax.axvline(0, color='black')\n",
    "# Second plot: heat flux wave 1\n",
    "ax = axes[0,1]\n",
    "xlim = [E.sel(feature=vT_1_names+vT_2_names).real.min(), E.sel(feature=vT_1_names+vT_2_names).real.max()]\n",
    "names = [f\"vT_{lev}_1_runavg10\" for lev in levels]\n",
    "ax.barh([str(lev) for lev in levels], E.sel(eigenvector=eig, feature=names).real, color='dodgerblue')\n",
    "ax.set_title(\"$\\overline{v'T'}$ wave 1\")\n",
    "ax.axvline(0, color='black')\n",
    "ax.set_xlim(xlim)\n",
    "ax = axes[1,1]\n",
    "xlim = [E.sel(feature=vT_1_names+vT_2_names).real.min(), E.sel(feature=vT_1_names+vT_2_names).real.max()]\n",
    "names = [f\"vT_{lev}_1_runavg10\" for lev in levels]\n",
    "ax.barh([str(lev) for lev in levels], E.sel(eigenvector=eig, feature=names).imag, color='red')\n",
    "ax.set_title(\"$\\overline{v'T'}$ wave 1\")\n",
    "ax.axvline(0, color='black')\n",
    "ax.set_xlim(xlim)\n",
    "# Thir plot: heat flux wave 1\n",
    "ax = axes[0,2]\n",
    "names = [f\"vT_{lev}_2_runavg10\" for lev in levels]\n",
    "ax.barh([str(lev) for lev in levels], E.sel(eigenvector=eig, feature=names).real, color='dodgerblue')\n",
    "ax.set_title(\"$\\overline{v'T'}$ wave 2\")\n",
    "ax.axvline(0, color='black')\n",
    "ax.set_xlim(xlim)\n",
    "ax = axes[1,2]\n",
    "names = [f\"vT_{lev}_2_runavg10\" for lev in levels]\n",
    "ax.barh([str(lev) for lev in levels], E.sel(eigenvector=eig, feature=names).imag, color='dodgerblue')\n",
    "ax.set_title(\"$\\overline{v'T'}$ wave 2\")\n",
    "ax.axvline(0, color='black')\n",
    "ax.set_xlim(xlim)"
   ]
  },
  {
   "cell_type": "markdown",
   "metadata": {},
   "source": [
    "# Method 3: DGA"
   ]
  },
  {
   "cell_type": "code",
   "execution_count": null,
   "metadata": {},
   "outputs": [],
   "source": [
    "reload(tpt_utils)\n",
    "reload(feature_template)\n",
    "reload(feature_stratosphere)\n",
    "feat_strat = feature_stratosphere.WinterStratosphereFeatures()\n",
    "feat_strat.set_event_seasonal_params()\n",
    "feat_strat.set_ab_code()\n",
    "plt.rcParams.update({\"font.size\": 18, \"font.family\": \"monospace\"})"
   ]
  },
  {
   "cell_type": "code",
   "execution_count": null,
   "metadata": {},
   "outputs": [],
   "source": [
    "if build_msm_flag:\n",
    "    msm_feature_names = [f\"ubar_10_60_delay{d}\" for d in np.arange(max_delay)] \n",
    "    szn_stats_e5,msm_info = feat_strat.build_msm(\n",
    "        max_delay, feat_all, feat_tpt, msm_feature_names, filedict[\"results\"][\"dir\"], km_seed=43, num_clusters=num_clusters, \n",
    "    )"
   ]
  },
  {
   "cell_type": "code",
   "execution_count": null,
   "metadata": {},
   "outputs": [],
   "source": [
    "szn_stats_e5.to_netcdf(join(filedict[\"results\"][\"dir\"], \"szn_stats_e5.nc\"))"
   ]
  },
  {
   "cell_type": "code",
   "execution_count": null,
   "metadata": {},
   "outputs": [],
   "source": [
    "reload(tpt_utils)\n",
    "reload(feature_template)\n",
    "reload(feature_stratosphere)\n",
    "feat_strat = feature_stratosphere.WinterStratosphereFeatures()\n",
    "feat_strat.set_event_seasonal_params()\n",
    "feat_strat.set_ab_code()\n",
    "plt.rcParams.update({\"font.size\": 18, \"font.family\": \"monospace\"})"
   ]
  },
  {
   "cell_type": "code",
   "execution_count": null,
   "metadata": {},
   "outputs": [],
   "source": [
    "if dga_flag:\n",
    "    szn_stats_e5 = xr.open_dataset(join(filedict[\"results\"][\"dir\"], \"szn_stats_e5.nc\"))\n",
    "    msm_info = pickle.load(open(join(filedict[\"results\"][\"dir\"], \"msm_info\"), \"rb\"))\n",
    "    feat_strat.dga_from_msm(msm_info, feat_tpt, szn_stats_e5, t_thresh_list, u_thresh_list, filedict[\"results\"][\"dir\"], clust_bndy_choice)"
   ]
  },
  {
   "cell_type": "markdown",
   "metadata": {},
   "source": [
    "# Plot all the results together, regarding rates"
   ]
  },
  {
   "cell_type": "code",
   "execution_count": null,
   "metadata": {},
   "outputs": [],
   "source": [
    "i_tth = 0\n",
    "t_thresh = t_thresh_list[i_tth]\n",
    "\n",
    "extval_stats = pickle.load(open(join(filedict[\"results\"][\"dir\"], f\"extval_stats_tth{t_thresh[0]}-{t_thresh[1]}\"), \"rb\"))\n",
    "rate_e5 = xr.open_dataarray(join(filedict[\"results\"][\"dir\"], f\"rate_pathcounting_e5_{t_thresh[0]}-{t_thresh[1]}.nc\"))\n",
    "rate_s2 = xr.open_dataarray(join(filedict[\"results\"][\"dir\"], f\"rate_pathcounting_s2_{t_thresh[0]}-{t_thresh[1]}.nc\"))\n",
    "dga_rates = pickle.load(open(join(filedict[\"results\"][\"dir\"], f\"dga_rates_{t_thresh[0]}-{t_thresh[1]}\"), \"rb\"))[\"s2\"]\n",
    "dga_rates[dga_rates==0] = np.nan\n",
    "rate_lim_s2 = xr.open_dataarray(join(filedict[\"results\"][\"dir\"], f\"rate_lim_s2_{t_thresh[0]}-{t_thresh[1]}.nc\"))\n",
    "\n",
    "\n",
    "fig,axes = plt.subplots(ncols=2, figsize=(15,5), sharey=True, sharex=True)\n",
    "fig.set_facecolor(\"white\")\n",
    "axes[1].yaxis.set_tick_params(labelbottom=True)\n",
    "\n",
    "# First plot: extreme values\n",
    "ax = axes[0]\n",
    "labels = {\"e5\": \"ERA5 (61 yr)\", \"s2\": \"S2S (20 yr)\", \"linear_model\": \"Linear model\"}\n",
    "zorders = {\"e5\": 0, \"s2\": 1, \"linear_model\": -1}\n",
    "handles = []\n",
    "for src in [\"e5\",\"s2\",\"linear_model\"]:\n",
    "    idx, = np.where(extval_stats[src][\"umin\"] < 0)\n",
    "    order = np.argsort(extval_stats[src][\"umin\"][idx])\n",
    "    h, = ax.plot(\n",
    "        extval_stats[src][\"umin\"][idx][order], extval_stats[src][\"rate_lower\"][idx][order], \n",
    "        color=dispdict[src][\"color\"],\n",
    "        marker='.', label=labels[src], zorder=zorders[src]\n",
    "    ) \n",
    "    #handles += [h]\n",
    "\n",
    "\n",
    "ax.legend(handles=handles, fontsize=\"small\", loc=\"lower right\")\n",
    "ax.set_xlabel(\"Minimum $\\overline{u}$(10 hPa, 60$^\\circ$N)\")\n",
    "ax.set_ylabel(\"Rate [years$^{-1}$]\")\n",
    "ax.set_yscale(\"log\")\n",
    "ax.set_title(\"Extreme value estimate\")\n",
    "\n",
    "# Second plot: rates\n",
    "ax = axes[1]\n",
    "rate_s2 = rate_s2.where(rate_s2 > 0)\n",
    "#colors = [\"red\", \"purple\", \"orange\"]\n",
    "ax.plot(rate_s2[\"u_thresh\"], rate_s2.sel(bound=\"lower\"), color=\"red\", marker='.')\n",
    "h, = ax.plot(\n",
    "    rate_s2[\"u_thresh\"], rate_s2.sel(bound=\"upper\"), \n",
    "    color=\"red\", marker='.', label=r\"S2S bounds\"\n",
    ")\n",
    "handles += [h]\n",
    "# Additionally plot ERA5 only\n",
    "h, = ax.plot(rate_e5[\"u_thresh\"], rate_e5.where(rate_e5>0).sel(falls=\"1959-2019\"), color=\"orange\", marker='.', label=\"ERA5 (61 yr)\")\n",
    "handles += [h]\n",
    "h, = ax.plot(rate_e5[\"u_thresh\"], rate_e5.where(rate_e5>0).sel(falls=\"1996-2015\"), color=\"dodgerblue\", marker='.', label=\"ERA5 (20 yr)\")\n",
    "handles += [h]\n",
    "\n",
    "# Additionally plot Ed's estimate\n",
    "h, = ax.plot(rate_s2[\"u_thresh\"], rate_s2.sel(bound=\"ed\"), color=\"black\", marker=\"o\", label=\"Ed\")\n",
    "handles += [h]\n",
    "# Add DGA \n",
    "h, = ax.plot(u_thresh_list, dga_rates, color='purple', marker='o', label=\"S2S+DGA (20 yr)\")\n",
    "handles += [h]\n",
    "# Additionally plot the LIM estimate\n",
    "h, = ax.plot(rate_lim_s2[\"u_thresh\"], rate_lim_s2.values, color=\"gray\", marker=\"o\", linestyle='--', label=\"LIM\")\n",
    "handles += [h]\n",
    "\n",
    "ax.set_yscale(\"log\")\n",
    "ax.set_xlabel(\"$\\overline{u}$(10 hPa, 60$^\\circ$N) threshold\")\n",
    "ax.legend(handles=handles, fontsize=\"small\")\n",
    "ax.set_title(\"TPT estimate\")\n",
    "ax.set_ylim([1e-5,1])\n",
    "\n",
    "fig.subplots_adjust(top=0.85)\n",
    "fig.suptitle(t_thresh_string_list[i_tth], y=0.98, fontsize=25)\n",
    "fig.savefig(join(filedict[\"results\"][\"dir\"], f\"all_results_itth{i_tth}\"), bbox_inches=\"tight\")"
   ]
  },
  {
   "cell_type": "markdown",
   "metadata": {},
   "source": [
    "## Plot some pictures of the committor "
   ]
  },
  {
   "cell_type": "code",
   "execution_count": null,
   "metadata": {},
   "outputs": [],
   "source": [
    "reload(tpt_utils)\n",
    "reload(feature_template)\n",
    "reload(feature_stratosphere)\n",
    "feat_strat = feature_stratosphere.WinterStratosphereFeatures()\n",
    "feat_strat.set_event_seasonal_params()\n",
    "feat_strat.set_ab_code()\n",
    "plt.rcParams.update({\"font.size\": 18, \"font.family\": \"monospace\"})"
   ]
  },
  {
   "cell_type": "code",
   "execution_count": null,
   "metadata": {},
   "outputs": [],
   "source": [
    "i_tth = 0\n",
    "i_uth = 13\n",
    "t_thresh = t_thresh_list[i_tth]\n",
    "u_thresh = u_thresh_list[i_uth]\n",
    "\n",
    "dga_results = pickle.load(open(join(filedict[\"results\"][\"dir\"], f\"dga_results_s2_{t_thresh[0]}-{t_thresh[1]}_u{u_thresh}\"), \"rb\"))\n",
    "szn_stats_e5 = xr.open_dataset(join(filedict[\"results\"][\"dir\"], \"szn_stats_e5.nc\"))\n",
    "msm_info = pickle.load(open(join(filedict[\"results\"][\"dir\"], \"msm_info\"), \"rb\"))\n",
    "\n",
    "feat_strat.set_ab_boundaries(t_thresh[0], t_thresh[1], u_thresh)\n",
    "ab_tag_e5 = feat_strat.ab_test(feat_tpt[\"e5\"])\n",
    "cej_e5 = feat_strat.cotton_eye_joe(feat_tpt[\"e5\"], ab_tag_e5, \"timechunks\")\n",
    "comm_e5 = feat_strat.estimate_empirical_committor(cej_e5)"
   ]
  },
  {
   "cell_type": "code",
   "execution_count": null,
   "metadata": {},
   "outputs": [],
   "source": [
    "qp = dict({\n",
    "    \"s2\": feat_strat.broadcast_field_msm2dataarray(msm_info[\"s2\"], dga_results[\"qp\"]), \"e5\": comm_e5.sel(sense=\"until\"),\n",
    "})\n",
    "qm = dict({\n",
    "    \"s2\": feat_strat.broadcast_field_msm2dataarray(msm_info[\"s2\"], dga_results[\"qm\"]), \"e5\": comm_e5.sel(sense=\"since\"),\n",
    "})\n",
    "pi = dict({\n",
    "    \"s2\": feat_strat.broadcast_field_msm2dataarray(msm_info[\"s2\"], dga_results[\"pi\"], density_flag=True), \"e5\": xr.ones_like(qm[\"e5\"]),\n",
    "})"
   ]
  },
  {
   "cell_type": "code",
   "execution_count": null,
   "metadata": {},
   "outputs": [],
   "source": [
    "combo = 3\n",
    "if combo == 0:\n",
    "    feat_names = [\"ubar_100_60_delay0\",\"ubar_500_60_delay0\"]\n",
    "    t_bounds = t_thresh[0], t_thresh[0]+50\n",
    "elif combo == 1:\n",
    "    feat_names = [\"ubar_100_60_delay0\",\"ubar_500_60_delay0\"]\n",
    "    t_bounds = t_thresh[0]+50, t_thresh[0]+100\n",
    "elif combo == 2:\n",
    "    feat_names = [\"ubar_100_60_delay0\",\"ubar_500_60_delay0\"]\n",
    "    t_bounds = t_thresh[0]+100, t_thresh[0]+150\n",
    "elif combo == 3:\n",
    "    feat_names = [\"ubar_100_60_delay0\",\"ubar_500_60_delay0\"]\n",
    "    t_bounds = t_thresh[0]+150, t_thresh[0]+200    \n",
    "elif combo == 4:\n",
    "    feat_names = [\"t_szn\",\"ubar_10_60_delay0\"]\n",
    "    t_bounds = t_thresh[0], t_thresh[1]   \n",
    "elif combo == 5:\n",
    "    feat_names = [\"t_szn\",\"ubar_500_60_delay0\"]\n",
    "    t_bounds = t_thresh[0], t_thresh[1]  \n",
    "elif combo == 6:\n",
    "    feat_names = [\"t_szn\",\"ubar_100_60_delay0\"]\n",
    "    t_bounds = t_thresh[0], t_thresh[1]  \n",
    "\n",
    "    \n",
    "fig,axes = plt.subplots(ncols=2, nrows=2, figsize=(16,12), sharey=True, sharex=True)\n",
    "fig.suptitle(f\"Days {t_bounds[0]}-{t_bounds[1]}\")\n",
    "fig.set_facecolor('white')\n",
    "for i_src, src in enumerate([\"e5\",\"s2\"]):\n",
    "    # Two committors to plot: one according to ERA5, and one according to S2S \n",
    "    stackmap = {\"sample\": (\"t_init\",\"member\",\"t_sim\")}\n",
    "    field = qp[src].stack(stackmap).to_numpy().flatten()\n",
    "    weight = pi[src].stack(stackmap).to_numpy().flatten()\n",
    "    cond = (feat_tpt[src].sel(feature=\"t_szn\") > t_bounds[0]) * (feat_tpt[src].sel(feature=\"t_szn\") < t_bounds[1])\n",
    "    features = np.array([\n",
    "        feat_tpt[src].where(cond).sel(feature=feat_names[0]).stack(stackmap).to_numpy().flatten(),\n",
    "        feat_tpt[src].where(cond).sel(feature=feat_names[1]).stack(stackmap).to_numpy().flatten()\n",
    "    ]).T\n",
    "    \n",
    "    ax = axes[0,i_src]\n",
    "    tpt_utils.plot_field_2d(\n",
    "        field, weight, features, fig=fig, ax=ax, feat_names=feat_names, \n",
    "        stat_name=\"mean\", \n",
    "        vmin=0, vmax=1, shp=[30,30], cmap=plt.cm.coolwarm\n",
    "    )\n",
    "    ax.set_title(f\"{dispdict[src]['abbrv']} Committor\")\n",
    "\n",
    "    ax = axes[1,i_src]\n",
    "    tpt_utils.plot_field_2d(\n",
    "        field, weight, features, fig=fig, ax=ax, feat_names=feat_names, \n",
    "        stat_name=\"weightsum\", \n",
    "        vmin=None, vmax=None, logscale=True, cmap=plt.cm.magma\n",
    "    )\n",
    "    ax.set_title(\"Density\")\n",
    "    # Modify x ticks if the horizontal axis is t_szn\n",
    "    if feat_names[0] == \"t_szn\":\n",
    "        xticks, xticklabels = feat_strat.generate_seasonal_xticks(features[:,0])\n",
    "        axes[1,i_src].set_xticks(xticks)\n",
    "        axes[1,i_src].set_xticklabels(xticklabels)\n"
   ]
  },
  {
   "cell_type": "markdown",
   "metadata": {},
   "source": [
    "### Do a sparse linear regression on the features at a certain slice of time"
   ]
  },
  {
   "cell_type": "code",
   "execution_count": null,
   "metadata": {},
   "outputs": [],
   "source": [
    "from sklearn.preprocessing import StandardScaler\n",
    "from sklearn.model_selection import train_test_split\n",
    "from sklearn.linear_model import Lasso, LinearRegression"
   ]
  },
  {
   "cell_type": "code",
   "execution_count": null,
   "metadata": {},
   "outputs": [],
   "source": [
    "src = \"s2\"\n",
    "stackmap = {\"sample\": (\"t_init\",\"member\",\"t_sim\")}\n",
    "committor = qp[src].stack(stackmap)\n",
    "feat_names = [f\"ubar_{p}_60_delay{d}\" for p in [500] for d in range(10)]\n",
    "predictors = feat_tpt[src].sel(feature=feat_names+[\"t_szn\"]).stack(stackmap).transpose(\"sample\",\"feature\")"
   ]
  },
  {
   "cell_type": "code",
   "execution_count": null,
   "metadata": {},
   "outputs": [],
   "source": [
    "# Clean and subset data\n",
    "idx, = np.where(\n",
    "    (np.isnan(predictors).sum(axis=1) == 0) * \n",
    "    (np.isnan(committor) == 0) * \n",
    "    # (committor > 0.52) * (committor < 0.522) * \n",
    "    (predictors.sel(feature=\"t_szn\") > t_thresh[0]) * (predictors.sel(feature=\"t_szn\") < t_thresh[0]+170)\n",
    ")\n",
    "X = predictors.sel(feature=feat_names).to_numpy()[idx]\n",
    "y = committor[idx]"
   ]
  },
  {
   "cell_type": "code",
   "execution_count": null,
   "metadata": {},
   "outputs": [],
   "source": [
    "_ = plt.hist(y, bins=100)"
   ]
  },
  {
   "cell_type": "code",
   "execution_count": null,
   "metadata": {},
   "outputs": [],
   "source": [
    "# Normalize features\n",
    "X = StandardScaler().fit_transform(X)"
   ]
  },
  {
   "cell_type": "code",
   "execution_count": null,
   "metadata": {},
   "outputs": [],
   "source": [
    "# Split into train, test\n",
    "X_train,X_test,y_train,y_test = train_test_split(X, y, test_size=0.25, random_state=0)"
   ]
  },
  {
   "cell_type": "code",
   "execution_count": null,
   "metadata": {},
   "outputs": [],
   "source": [
    "# Fit the lasso\n",
    "reg = LinearRegression()\n",
    "reg.fit(X_train, y_train)\n",
    "print(f\"Train score: {reg.score(X_train,y_train)*100}. Test score: {reg.score(X_test,y_test)*100}\")"
   ]
  },
  {
   "cell_type": "code",
   "execution_count": null,
   "metadata": {},
   "outputs": [],
   "source": [
    "plt.plot(reg.coef_, marker='o')"
   ]
  },
  {
   "cell_type": "markdown",
   "metadata": {},
   "source": [
    "# Picking good coordinates "
   ]
  },
  {
   "cell_type": "markdown",
   "metadata": {},
   "source": [
    "To find good features for DGA, we should get as much as we can out of reanalysis, such as approximate committors or correlates with the extreme values. "
   ]
  },
  {
   "cell_type": "code",
   "execution_count": null,
   "metadata": {},
   "outputs": [],
   "source": [
    "from sklearn.preprocessing import StandardScaler\n",
    "from sklearn.model_selection import train_test_split\n",
    "from sklearn.linear_model import Lasso, LinearRegression, LogisticRegression"
   ]
  },
  {
   "cell_type": "code",
   "execution_count": null,
   "metadata": {},
   "outputs": [],
   "source": [
    "# Choose a specific time window\n",
    "i_tth = 0\n",
    "t_thresh = t_thresh_list[i_tth]"
   ]
  },
  {
   "cell_type": "code",
   "execution_count": null,
   "metadata": {},
   "outputs": [],
   "source": [
    "# Compute minimum u between a time point and the end of winter\n",
    "fy_evs = extval_stats[\"e5\"][\"fall_years\"]\n",
    "umin2come = np.nan*np.ones(feat_tpt[\"e5\"].t_sim.size)\n",
    "for i_yr in range(len(fy_evs)):\n",
    "    idx = np.sort(np.where(\n",
    "        (\n",
    "            (feat_all[\"e5\"][\"time_observable\"].sel(feature=\"year_szn_start\") == fy_evs[i_yr]) * \n",
    "            (feat_tpt[\"e5\"].sel(feature=\"t_szn\") >= t_thresh[0]) * \n",
    "            (feat_tpt[\"e5\"].sel(feature=\"t_szn\") < t_thresh[1])\n",
    "        ).to_numpy().flatten()\n",
    "    )[0])\n",
    "    umin2come[idx] = np.minimum.accumulate(\n",
    "        feat_tpt[\"e5\"].sel(feature=\"ubar_10_60_delay0\").to_numpy().flatten()[idx][::-1]\n",
    "    )[::-1]"
   ]
  },
  {
   "cell_type": "code",
   "execution_count": null,
   "metadata": {},
   "outputs": [],
   "source": [
    "# Select a time window for regression\n",
    "t0,t1 = t_thresh[0] + np.array([0,1])"
   ]
  },
  {
   "cell_type": "code",
   "execution_count": null,
   "metadata": {},
   "outputs": [],
   "source": [
    "stackmap = {\"sample\": (\"t_init\",\"member\",\"t_sim\")}\n",
    "cond = (\n",
    "    (feat_all[\"e5\"][\"time_observable\"].sel(feature=\"t_szn\") >= t0) * \n",
    "    (feat_all[\"e5\"][\"time_observable\"].sel(feature=\"t_szn\") < t1)\n",
    ")\n",
    "predictors = feat_tpt[\"e5\"].where(cond).stack(stackmap).transpose(\"sample\",\"feature\")"
   ]
  },
  {
   "cell_type": "code",
   "execution_count": null,
   "metadata": {},
   "outputs": [],
   "source": [
    "# Select some features by hand\n",
    "feature_names = (\n",
    "    []\n",
    "    + [f\"ubar_{p}_60_delay{d}\" for p in [10,100,500,850] for d in range(max_delay)] \n",
    "    + [f\"vT_{p}_1_runavg{d}\" for p in [10,100,500,850] for d in range(max_delay)]\n",
    "    + [f\"vT_{p}_2_runavg{d}\" for p in [10,100,500,850] for d in range(max_delay)]\n",
    "    + [f\"ubar_{p}_0pm5\" for p in [10,100]]\n",
    ")\n",
    "X = predictors.sel(feature=feature_names).to_numpy()\n",
    "z = umin2come.copy()\n",
    "good_idx, = np.where(np.all(np.isfinite(X), axis=1))\n",
    "X = X[good_idx]\n",
    "z = z[good_idx]"
   ]
  },
  {
   "cell_type": "markdown",
   "metadata": {},
   "source": [
    "### Sparse regression of the annual minimum as a function of early-winter conditions"
   ]
  },
  {
   "cell_type": "code",
   "execution_count": null,
   "metadata": {},
   "outputs": [],
   "source": [
    "# Clean and normalize data\n",
    "X = StandardScaler().fit_transform(X)\n",
    "# Split into training and testing\n",
    "holdout = 0\n",
    "if holdout:\n",
    "    X_train,X_test,z_train,z_test = train_test_split(X,z,test_size=0.25, random_state=3)\n",
    "else:\n",
    "    X_train = X\n",
    "    X_test = X\n",
    "    z_train = z\n",
    "    z_test = z\n"
   ]
  },
  {
   "cell_type": "code",
   "execution_count": null,
   "metadata": {},
   "outputs": [],
   "source": [
    "alpha_list = np.arange(0.1,1.6,0.1)\n",
    "Nalpha = len(alpha_list)\n",
    "test_score_list = np.nan*np.ones(Nalpha)\n",
    "train_score_list = np.nan*np.ones(Nalpha)\n",
    "coeffs = np.zeros((Nalpha,len(feature_names)))\n",
    "intercepts = np.zeros(Nalpha)\n",
    "for i_a in range(Nalpha):\n",
    "    reg = Lasso(alpha=alpha_list[i_a],max_iter=5000).fit(X_train,z_train)\n",
    "    coeffs[i_a] = reg.coef_\n",
    "    intercepts[i_a] = reg.intercept_\n",
    "    test_score_list[i_a] = reg.score(X_test,z_test)\n",
    "    train_score_list[i_a] = reg.score(X_train,z_train)\n"
   ]
  },
  {
   "cell_type": "code",
   "execution_count": null,
   "metadata": {},
   "outputs": [],
   "source": [
    "# Correlation coefficient\n",
    "corr = (z - z.mean()) @ (X - X.mean(axis=0)) / (len(z) * np.std(z) * np.std(X, axis=0))\n",
    "fig,ax = plt.subplots()\n",
    "ax.scatter(corr, coeffs[-1], color='black', marker='.')\n",
    "ax.set_xlabel(\"Correlation coefficient\")\n",
    "ax.set_ylabel(\"LASSO weight\")"
   ]
  },
  {
   "cell_type": "code",
   "execution_count": null,
   "metadata": {},
   "outputs": [],
   "source": [
    "fig,ax = plt.subplots()\n",
    "for i_feat in range(len(feature_names)):\n",
    "    ax.plot(alpha_list, coeffs[:,i_feat])"
   ]
  },
  {
   "cell_type": "code",
   "execution_count": null,
   "metadata": {},
   "outputs": [],
   "source": [
    "fig,axes = plt.subplots(nrows=2,figsize=(5,12))\n",
    "ax = axes[0]\n",
    "sparsity_list = np.mean(coeffs==0, axis=1)\n",
    "i_a_cutoff = np.where(alpha_list > 0.55)[0][0]\n",
    "sig_flag = (np.max(np.abs(coeffs[i_a_cutoff:]), axis=0) > 0)\n",
    "handles = []\n",
    "for i_feat in range(len(feature_names)):\n",
    "    if sig_flag[i_feat]:\n",
    "        color = None\n",
    "        if feature_names[i_feat].startswith(\"ubar\"):\n",
    "            color = \"red\"\n",
    "        elif feature_names[i_feat].startswith(\"vT\"):\n",
    "            color = \"black\"\n",
    "        h, = ax.plot(alpha_list, coeffs[:,i_feat],label=feature_names[i_feat], color=color)\n",
    "        handles += [h]\n",
    "ax.legend(handles=handles, fontsize=\"xx-small\",bbox_to_anchor=(1.6,1.0))\n",
    "ax.set_ylabel(\"Coeff\")\n",
    "ax = axes[1]\n",
    "hsc, = ax.plot(alpha_list, test_score_list, color='black', marker='.',label=\"Score\")\n",
    "hsp, = ax.plot(alpha_list, sparsity_list, color='red', marker='.',label=\"Sparsity\")\n",
    "ax.legend(handles=[hsc,hsp],bbox_to_anchor=(1.6,0.5))\n",
    "ax.set_xlabel(\"L1 penalty\")\n",
    "ax.set_ylim([0,1])"
   ]
  },
  {
   "cell_type": "code",
   "execution_count": null,
   "metadata": {},
   "outputs": [],
   "source": [
    "sig_feature_idx, = np.where(np.max(np.abs(coeffs[i_a_cutoff:,:]), axis=0) > 0)\n",
    "sig_feature_names = [feature_names[i] for i in sig_feature_idx]\n",
    "if 'ubar_10_60_delay0' not in sig_feature_names:\n",
    "    sig_feature_names += [\"ubar_10_60_delay0\"]"
   ]
  },
  {
   "cell_type": "code",
   "execution_count": null,
   "metadata": {},
   "outputs": [],
   "source": [
    "fig,ax = plt.subplots()\n",
    "zpred = intercepts[i_a_cutoff] + X_test @ coeffs[i_a_cutoff]\n",
    "ax.scatter(zpred,z_test,marker='.')\n",
    "ax.set_xlabel(\"Prediction\")\n",
    "ax.set_ylabel(\"Actual\")\n",
    "xlim = min(zpred.min(),z.min()), max(zpred.max(),z.max())\n",
    "ax.plot(xlim,xlim,color='gray')"
   ]
  }
 ],
 "metadata": {
  "kernelspec": {
   "display_name": "my_env",
   "language": "python",
   "name": "my_env"
  },
  "language_info": {
   "codemirror_mode": {
    "name": "ipython",
    "version": 3
   },
   "file_extension": ".py",
   "mimetype": "text/x-python",
   "name": "python",
   "nbconvert_exporter": "python",
   "pygments_lexer": "ipython3",
   "version": "3.9.5"
  }
 },
 "nbformat": 4,
 "nbformat_minor": 4
}
