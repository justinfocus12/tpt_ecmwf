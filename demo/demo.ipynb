{
 "cells": [
  {
   "cell_type": "code",
   "execution_count": 42,
   "metadata": {},
   "outputs": [],
   "source": [
    "import numpy as np\n",
    "import xarray as xr\n",
    "import netCDF4 as nc\n",
    "import model_crommelin_seasonal\n",
    "import feature_crommelin \n",
    "from importlib import reload\n",
    "import sys \n",
    "import os\n",
    "from os import mkdir, makedirs\n",
    "from os.path import join,exists\n",
    "from importlib import reload\n",
    "import pickle"
   ]
  },
  {
   "cell_type": "code",
   "execution_count": 43,
   "metadata": {},
   "outputs": [],
   "source": [
    "import matplotlib.pyplot as plt \n",
    "%matplotlib inline"
   ]
  },
  {
   "cell_type": "markdown",
   "metadata": {},
   "source": [
    "Create directories to save results "
   ]
  },
  {
   "cell_type": "code",
   "execution_count": 45,
   "metadata": {},
   "outputs": [],
   "source": [
    "# Organize the directory of data and features to be read from the data. \n",
    "topic_dir = \"/scratch/jf4241/crommelin\"\n",
    "filedict = dict({\n",
    "    \"ra\": dict({\n",
    "        \"traj\": dict({\n",
    "            \"dir\": join(topic_dir, \"reanalysis\", \"trajectory\", \"2022-07-26\", \"0\"), # Directory with possibly many files\n",
    "        }),\n",
    "        \"feat_all\": dict({\n",
    "            \"dir\": join(topic_dir, \"reanalysis\", \"features_all\", \"2022-07-26\", \"0\"),\n",
    "            \"filename\": \"crom_feat_all.nc\",\n",
    "        }),\n",
    "        \"feat_tpt\": dict({\n",
    "            \"dir\": join(topic_dir, \"reanalysis\", \"features_tpt\", \"2022-07-26\", \"0\",),\n",
    "            \"filename\": \"crom_feat_tpt.nc\",\n",
    "        }),\n",
    "    }),\n",
    "    \"hc\": dict({\n",
    "        \"traj\": dict({\n",
    "            \"dir\": join(topic_dir, \"hindcast\", \"trajectory\", \"2022-07-26\", \"0\"), # Directory with possibly multiple files\n",
    "        }),\n",
    "        \"feat_all\": dict({\n",
    "            \"dir\": join(topic_dir, \"hindcast\", \"features_all\", \"2022-07-26\", \"0\"),\n",
    "            \"filename\": \"crom_feat_all.nc\",\n",
    "        }),\n",
    "        \"feat_tpt\": dict({\n",
    "            \"dir\": join(topic_dir, \"hindcast\", \"features_tpt\", \"2022-07-26\", \"0\"),\n",
    "            \"filename\": \"crom_feat_tpt.nc\",\n",
    "        })\n",
    "    }),\n",
    "    \"results\": dict({\n",
    "        \"dir\": join(topic_dir, \"results\", \"2022-07-26\", \"0\")\n",
    "    })\n",
    "})"
   ]
  },
  {
   "cell_type": "code",
   "execution_count": 46,
   "metadata": {},
   "outputs": [],
   "source": [
    "# Create the directories if they don't exist already\n",
    "for src in [\"ra\",\"hc\"]:\n",
    "    for fmt in [\"traj\",\"feat_all\",\"feat_tpt\"]:\n",
    "        path = filedict[src][fmt][\"dir\"]\n",
    "        if not exists(path):\n",
    "            makedirs(path, exist_ok=True)\n",
    "path = filedict[\"results\"][\"dir\"]\n",
    "if not exists(path): makedirs(path, exist_ok=True)"
   ]
  },
  {
   "cell_type": "markdown",
   "metadata": {},
   "source": [
    "Set physical parameters"
   ]
  },
  {
   "cell_type": "code",
   "execution_count": 47,
   "metadata": {},
   "outputs": [],
   "source": [
    "dt_samp = 0.5 # Time step to save out\n",
    "dt_szn = 0.74 # Time resolution for the seasonal model \n",
    "szn_start = 300.0\n",
    "szn_length = 250.0\n",
    "year_length = 400.0\n",
    "Nt_szn = int(szn_length / dt_szn)\n",
    "szn_avg_window = 5.0\n",
    "burnin_time = 500.0"
   ]
  },
  {
   "cell_type": "code",
   "execution_count": 48,
   "metadata": {},
   "outputs": [
    {
     "data": {
      "text/plain": [
       "<module 'model_crommelin_seasonal' from '/home/jf4241/ecmwf/tpt_ecmwf/demo/model_crommelin_seasonal.py'>"
      ]
     },
     "execution_count": 48,
     "metadata": {},
     "output_type": "execute_result"
    }
   ],
   "source": [
    "reload(model_crommelin_seasonal)"
   ]
  },
  {
   "cell_type": "markdown",
   "metadata": {},
   "source": [
    "Initialize the model."
   ]
  },
  {
   "cell_type": "code",
   "execution_count": 49,
   "metadata": {},
   "outputs": [],
   "source": [
    "fundamental_param_dict = dict({\n",
    "    \"b\": 0.5, \"beta\": 1.25, \"gamma_limits\": [0.15, 0.22], \n",
    "    \"C\": 0.1, \"x1star\": 0.95, \"r\": -0.801, \"year_length\": year_length,\n",
    "})\n",
    "crom = model_crommelin_seasonal.SeasonalCrommelinModel(fundamental_param_dict)\n"
   ]
  },
  {
   "cell_type": "markdown",
   "metadata": {},
   "source": [
    "Create \"reanalysis\" in the file folder reserved for contiguous data."
   ]
  },
  {
   "cell_type": "code",
   "execution_count": 50,
   "metadata": {},
   "outputs": [],
   "source": [
    "# Run the model initially for a bit to find the attractor. Start arbitrarily 1/5 of the way through year 1958\n",
    "t_init = (1957 + 0.2)*fundamental_param_dict[\"year_length\"]\n",
    "x0 = np.zeros((1,7))\n",
    "x0[0,-1] = t_init\n",
    "t_save = np.arange(0, burnin_time, dt_samp)\n",
    "traj_filename_burnin = join(filedict[\"ra\"][\"traj\"][\"dir\"], \"burnin.nc\")\n",
    "crom.integrate_and_save(x0,t_save,traj_filename_burnin)"
   ]
  },
  {
   "cell_type": "code",
   "execution_count": 53,
   "metadata": {},
   "outputs": [],
   "source": [
    "x_burnin = xr.open_dataset(traj_filename_burnin)[\"X\"]\n",
    "x0 = x_burnin[:,-1].data\n",
    "duration = 20*fundamental_param_dict[\"year_length\"]\n",
    "t_init_str,_ = crom.date_format(x0[0,-1])\n",
    "t_fin_str,_ = crom.date_format(x0[0,-1] + duration)\n",
    "traj_filename_ra = join(filedict[\"ra\"][\"traj\"][\"dir\"], f\"ra_{t_init_str}_to_{t_fin_str}.nc\")\n",
    "param_filename_ra = join(filedict[\"ra\"][\"traj\"][\"dir\"], \"params\")"
   ]
  },
  {
   "cell_type": "code",
   "execution_count": 52,
   "metadata": {},
   "outputs": [
    {
     "name": "stdout",
     "output_type": "stream",
     "text": [
      "Integrated through time 1000.0000000001588 out of 7999.5\n",
      "Integrated through time 2000.0999999992764 out of 7999.5\n",
      "Integrated through time 3000.099999998367 out of 7999.5\n",
      "Integrated through time 4000.0999999974574 out of 7999.5\n",
      "Integrated through time 5000.0000000006585 out of 7999.5\n",
      "Integrated through time 6000.000000004296 out of 7999.5\n",
      "Integrated through time 7000.000000007934 out of 7999.5\n"
     ]
    }
   ],
   "source": [
    "t_save = np.arange(0,duration,dt_samp)\n",
    "crom.integrate_and_save(x0,t_save,traj_filename_ra,metadata_filename=param_filename_ra)"
   ]
  },
  {
   "cell_type": "markdown",
   "metadata": {},
   "source": [
    "Create \"hindcast\" data in the file folder reserved for hindcast data."
   ]
  },
  {
   "cell_type": "code",
   "execution_count": 54,
   "metadata": {},
   "outputs": [
    {
     "name": "stdout",
     "output_type": "stream",
     "text": [
      "Hindcast integration 25.312499987662886 percent done\n",
      "Hindcast integration 50.28749998184794 percent done\n",
      "Hindcast integration 75.262499976033 percent done\n",
      "Hindcast integration 100.23749997021805 percent done\n"
     ]
    }
   ],
   "source": [
    "# Generate hindcast dataset\n",
    "t_abs_range = crom.q[\"year_length\"]*np.array([1960,1970])\n",
    "crom.generate_hindcast_dataset(\n",
    "    [traj_filename_ra],filedict[\"hc\"][\"traj\"][\"dir\"],t_abs_range,dt_samp,\n",
    "    ens_size=10,ens_duration=47,ens_gap=13,pert_scale=0.01\n",
    ")"
   ]
  },
  {
   "cell_type": "markdown",
   "metadata": {},
   "source": [
    "Extract features of interest from both the reanalysis and hindcast datasets. This will be expensive, as we have to read from a large database of files. Therefore, we should minimize the number of times we do this in development. Therefore, we should read in ALL possible features we MIGHT use for the downstream tasks of K-means clustering. Some extra reduction is likely necessary."
   ]
  },
  {
   "cell_type": "markdown",
   "metadata": {},
   "source": [
    "# All possible features for DGA"
   ]
  },
  {
   "cell_type": "code",
   "execution_count": 55,
   "metadata": {},
   "outputs": [
    {
     "data": {
      "text/plain": [
       "<module 'feature_crommelin' from '/home/jf4241/ecmwf/tpt_ecmwf/demo/feature_crommelin.py'>"
      ]
     },
     "execution_count": 55,
     "metadata": {},
     "output_type": "execute_result"
    }
   ],
   "source": [
    "reload(feature_crommelin)"
   ]
  },
  {
   "cell_type": "code",
   "execution_count": 56,
   "metadata": {},
   "outputs": [],
   "source": [
    "# Extract all features of potential use from the reanalysis dataset. \n",
    "# Don't waste RAM by time-delay embedding explicitly\n",
    "# Encode this in a function that loops through all files in a directory and puts features into one file\n",
    "crom_feat = feature_crommelin.SeasonalCrommelinModelFeatures()\n",
    "qra = pickle.load(open(param_filename_ra,\"rb\"))"
   ]
  },
  {
   "cell_type": "code",
   "execution_count": 57,
   "metadata": {},
   "outputs": [],
   "source": [
    "epd = dict(\n",
    "    dt_szn = 0.74,\n",
    "    szn_start = 300.0,\n",
    "    szn_length = 250.0,\n",
    "    year_length = 400.0,\n",
    "    szn_avg_window = 5.0,\n",
    ")\n",
    "epd[\"Nt_szn\"] = int(epd[\"szn_length\"] / epd[\"dt_szn\"])\n",
    "crom_feat.set_event_params(epd)"
   ]
  },
  {
   "cell_type": "code",
   "execution_count": 58,
   "metadata": {},
   "outputs": [],
   "source": [
    "# WARNING! So that this steps work, the 'feature' coordinate of each observable must be uniquely named. \n",
    "# For example, if the identity observable and energy observable both have a coordinate called \"feature\", \n",
    "# then xarray will assume it's the same and smush them together, filling in NaNs. x\n",
    "feat_all = dict()"
   ]
  },
  {
   "cell_type": "code",
   "execution_count": 59,
   "metadata": {},
   "outputs": [],
   "source": [
    "for src in [\"ra\",\"hc\"]:\n",
    "    ds_feature_list = []\n",
    "    file_list = [f for f in os.listdir(filedict[src][\"traj\"][\"dir\"]) if (f.startswith(src) and f.endswith(\".nc\"))]\n",
    "    for filename in file_list:\n",
    "        ds = xr.open_dataset(join(filedict[src][\"traj\"][\"dir\"], filename))\n",
    "        ds_feature_list += [\n",
    "            xr.Dataset(\n",
    "                data_vars = dict({\n",
    "                    \"identity\": crom_feat.identity_observable(ds, qra),\n",
    "                    \"energy\": crom_feat.energy_observable(ds, qra),\n",
    "                    \"energy_tendency\": crom_feat.energy_tendency_observable(ds, qra),\n",
    "                    \"energy_exchange\": crom_feat.energy_exchange_observable(ds, qra),\n",
    "                    \"phase\": crom_feat.phase_observable(ds, qra),\n",
    "                })\n",
    "            )\n",
    "        ]\n",
    "        ds.close()\n",
    "    feat_all[src] = xr.concat(ds_feature_list,dim=\"ensemble\") # ensemble is a new dimension\n",
    "    feat_all[src].to_netcdf(join(filedict[src][\"feat_all\"][\"dir\"], filedict[src][\"feat_all\"][\"filename\"]))"
   ]
  },
  {
   "cell_type": "markdown",
   "metadata": {},
   "source": [
    "# Subset observables for use in TPT analysis\n",
    "Incorporate any time-delay information we might want. "
   ]
  },
  {
   "cell_type": "code",
   "execution_count": 60,
   "metadata": {},
   "outputs": [],
   "source": [
    "feat_all = dict()\n",
    "feat_tpt = dict()\n",
    "# List the features to put into feat_tpt\n",
    "# First, the features needed to define A and B: the time, the x1 coordinate, and its running mean, min, and max\n",
    "# over some time horizon. \n",
    "time_horizon = 40.0 # time units\n",
    "feat_tpt_list = [\"t_abs\",\"x1\",\"x1_runmean\",\"x1_runmin\",\"x1_runmax\",\"t_szn\",\"szn_start_year\",\"t_cal\",\"ti_szn\"]\n",
    "# Physical features\n",
    "feat_tpt_list += [\"E_01\",\"E_02\",\"E_11\",\"E_12\",\"E_tot\",\"Edot_dissipation\",\"Edot_forcing\"]\n",
    "for src in [\"ra\",\"hc\"]:\n",
    "    feat_all[src] = xr.open_dataset(join(filedict[src][\"feat_all\"][\"dir\"], filedict[src][\"feat_all\"][\"filename\"]))\n",
    "    feat_tpt[src] = xr.Dataset(\n",
    "        data_vars = {\n",
    "            \"X\": xr.DataArray(               \n",
    "                coords = {\n",
    "                    \"ensemble\": feat_all[src].coords[\"ensemble\"],\n",
    "                    \"member\": feat_all[src].coords[\"member\"],\n",
    "                    \"t_sim\": feat_all[src].coords[\"t_sim\"],\n",
    "                    \"feature\": feat_tpt_list,\n",
    "                },\n",
    "                data = np.zeros((\n",
    "                    feat_all[src][\"ensemble\"].size, feat_all[src][\"member\"].size, \n",
    "                    feat_all[src][\"t_sim\"].size, len(feat_tpt_list)\n",
    "                )),\n",
    "            )\n",
    "        }\n",
    "    )\n",
    "    feat_tpt[src][\"X\"].loc[dict(feature=\"t_abs\")] = feat_all[src][\"identity\"].sel(feature=\"t_abs\")\n",
    "    feat_tpt[src][\"X\"].loc[dict(feature=\"E_01\")] = feat_all[src][\"energy\"].sel(reservoir=\"E01\")\n",
    "    feat_tpt[src][\"X\"].loc[dict(feature=\"E_02\")] = feat_all[src][\"energy\"].sel(reservoir=\"E02\")\n",
    "    feat_tpt[src][\"X\"].loc[dict(feature=\"E_11\")] = feat_all[src][\"energy\"].sel(reservoir=\"E11\")\n",
    "    feat_tpt[src][\"X\"].loc[dict(feature=\"E_12\")] = feat_all[src][\"energy\"].sel(reservoir=\"E12\")\n",
    "    feat_tpt[src][\"X\"].loc[dict(feature=\"E_tot\")] = feat_all[src][\"energy\"].sel(reservoir=\"Etot\")\n",
    "    feat_tpt[src][\"X\"].loc[dict(feature=\"Edot_dissipation\")] = feat_all[src][\"energy_tendency\"].sel(Eflow=\"dissipation\")\n",
    "    feat_tpt[src][\"X\"].loc[dict(feature=\"Edot_forcing\")] = feat_all[src][\"energy_tendency\"].sel(Eflow=\"forcing\")\n",
    "    # For the A- and B-defining feature of x1, take the running mean, minimum, and maximum of x1 over the time horizon\n",
    "    feat_tpt[src][\"X\"].loc[dict(feature=\"x1\")] = feat_all[src][\"identity\"].sel(feature=\"x1\")\n",
    "    dt_samp = (feat_all[src][\"t_sim\"][1] - feat_all[src][\"t_sim\"][0]).data # Assume uniform time sampling!\n",
    "    num_delays = int(time_horizon/dt_samp) + 1\n",
    "    rolling_x1 = feat_all[src][\"identity\"].sel(feature=\"x1\").rolling(\n",
    "        dim={\"t_sim\": num_delays}, min_periods=num_delays) \n",
    "    feat_tpt[src][\"X\"].loc[dict(feature=\"x1_runmean\")] = rolling_x1.mean() \n",
    "    feat_tpt[src][\"X\"].loc[dict(feature=\"x1_runmin\")] = rolling_x1.min() \n",
    "    feat_tpt[src][\"X\"].loc[dict(feature=\"x1_runmax\")] = rolling_x1.max() \n",
    "    # Compute the calendar time and other temporal metadata, as this defines the seasonality \n",
    "    szn_start_year,t_cal,t_szn,ti_szn = crom_feat.time_conversion_from_absolute(\n",
    "        feat_all[src][\"identity\"].sel(feature=\"t_abs\")\n",
    "    )\n",
    "    feat_tpt[src][\"X\"].loc[dict(feature=\"t_szn\")] = t_szn # Time since the most recent season beginning\n",
    "    feat_tpt[src][\"X\"].loc[dict(feature=\"szn_start_year\")] = szn_start_year\n",
    "    feat_tpt[src][\"X\"].loc[dict(feature=\"t_cal\")] = t_cal\n",
    "    feat_tpt[src][\"X\"].loc[dict(feature=\"ti_szn\")] = ti_szn # Which window of the discretized season this sample belongs to\n",
    "    # Save \n",
    "    feat_tpt[src].to_netcdf(join(filedict[src][\"feat_tpt\"][\"dir\"], filedict[src][\"feat_tpt\"][\"filename\"]))"
   ]
  },
  {
   "cell_type": "code",
   "execution_count": 61,
   "metadata": {},
   "outputs": [
    {
     "data": {
      "text/plain": [
       "<matplotlib.legend.Legend at 0x148f36ea9760>"
      ]
     },
     "execution_count": 61,
     "metadata": {},
     "output_type": "execute_result"
    },
    {
     "data": {
      "image/png": "[encoded data removed]",
      "text/plain": [
       "<Figure size 432x288 with 1 Axes>"
      ]
     },
     "metadata": {
      "needs_background": "light"
     },
     "output_type": "display_data"
    }
   ],
   "source": [
    "# Plot the running mean, min, and max of x1\n",
    "fig,ax = plt.subplots()\n",
    "h_x1, = xr.plot.plot(\n",
    "    feat_tpt[\"ra\"][\"X\"].sel(feature=\"x1\",ensemble=0,member=0,t_sim=slice(None,1000)), ax=ax, label=\"x1\"\n",
    ")\n",
    "h_x1_runmean, = xr.plot.plot(\n",
    "    feat_tpt[\"ra\"][\"X\"].sel(feature=\"x1_runmean\",ensemble=0,member=0,t_sim=slice(None,1000)), ax=ax, label=\"x1_runmean\"\n",
    ")\n",
    "h_x1_runmin, = xr.plot.plot(\n",
    "    feat_tpt[\"ra\"][\"X\"].sel(feature=\"x1_runmin\",ensemble=0,member=0,t_sim=slice(None,1000)), ax=ax, label=\"x1_runmin\"\n",
    ")\n",
    "h_x1_runmax, = xr.plot.plot(\n",
    "    feat_tpt[\"ra\"][\"X\"].sel(feature=\"x1_runmax\",ensemble=0,member=0,t_sim=slice(None,1000)), ax=ax, label=\"x1_runmax\"\n",
    ")\n",
    "ax.legend(handles=[h_x1,h_x1_runmean,h_x1_runmin,h_x1_runmax])"
   ]
  },
  {
   "cell_type": "markdown",
   "metadata": {},
   "source": [
    "# Define A and B\n",
    "Define a parameterized family of A and B, in this case a sequence of thresholds for x1_runmin and x1_runmax over a single time horizon. To vary the time horizon instead, we would have to enlarge the state space above to include information at a sequence of time delays."
   ]
  },
  {
   "cell_type": "code",
   "execution_count": 62,
   "metadata": {},
   "outputs": [],
   "source": [
    "abcode = {\"A\": 0, \"B\": 1, \"D\": 2}\n",
    "def abtest(Xtpt, tpt_bndy):\n",
    "    # Given a snapshot of an instance of the feat_tpt data structure, return ab_tag: \n",
    "    # 0 means in A, 1 means in B, and 2 means neither.\n",
    "    # The definition of A and B will be parameterized by a dictionary, tpt_bndy, which specifies\n",
    "    # the time of season when blockings can happen as well as the thresholds for A and B. \n",
    "    time_window_flag = 1.0*(\n",
    "        Xtpt.sel(feature=\"t_szn\") >= tpt_bndy[\"tthresh\"][0])*(\n",
    "        Xtpt.sel(feature=\"t_szn\") <= tpt_bndy[\"tthresh\"][1]\n",
    "    )\n",
    "    blocked_flag = 1.0*(Xtpt.sel(feature=\"x1_runmax\") <= tpt_bndy[\"x1thresh\"][0])\n",
    "    zonal_flag = 1.0*(Xtpt.sel(feature=\"x1\") >= tpt_bndy[\"x1thresh\"][1])\n",
    "    ab_tag = (\n",
    "        abcode[\"A\"]*((time_window_flag == 0) + zonal_flag > 0) + \n",
    "        abcode[\"B\"]*(time_window_flag*blocked_flag) + \n",
    "        abcode[\"D\"]*(time_window_flag*(blocked_flag==0)*(zonal_flag==0))\n",
    "    )\n",
    "    return ab_tag"
   ]
  },
  {
   "cell_type": "code",
   "execution_count": 63,
   "metadata": {},
   "outputs": [],
   "source": [
    "tpt_bndy = {\"tthresh\": [10,200], \"x1thresh\": [0.8, 2.0]}\n",
    "ab_tag = dict()\n",
    "for src in [\"ra\",\"hc\"]:\n",
    "    ab_tag[src] = abtest(feat_tpt[src][\"X\"], tpt_bndy)"
   ]
  },
  {
   "cell_type": "markdown",
   "metadata": {},
   "source": [
    "## Plot x1 over time, marked by whether in A, B, or neither"
   ]
  },
  {
   "cell_type": "code",
   "execution_count": 64,
   "metadata": {},
   "outputs": [
    {
     "data": {
      "text/plain": [
       "[<matplotlib.lines.Line2D at 0x148f27b31df0>]"
      ]
     },
     "execution_count": 64,
     "metadata": {},
     "output_type": "execute_result"
    },
    {
     "data": {
      "image/png": "[encoded data removed]",
      "text/plain": [
       "<Figure size 720x720 with 2 Axes>"
      ]
     },
     "metadata": {
      "needs_background": "light"
     },
     "output_type": "display_data"
    }
   ],
   "source": [
    "fig,ax = plt.subplots(nrows=2,figsize=(10,10))\n",
    "selection = {\"t_sim\": slice(4000,10000), \"ensemble\": 0, \"member\": 0}\n",
    "xr.plot.plot(\n",
    "    feat_tpt[\"ra\"][\"X\"].sel(selection).sel(feature=\"x1\"),\n",
    "    ax=ax[0]\n",
    ")\n",
    "xr.plot.plot(\n",
    "    ab_tag[\"ra\"].sel(selection,drop=True), ax=ax[1]\n",
    ")\n"
   ]
  },
  {
   "cell_type": "markdown",
   "metadata": {},
   "source": [
    "# Find and plot the committor, lead time, and current from reanalysis"
   ]
  },
  {
   "cell_type": "code",
   "execution_count": 71,
   "metadata": {},
   "outputs": [],
   "source": [
    "# Function to find the time since and until hitting A and B\n",
    "def cotton_eye_joe(Xtpt, tpt_bndy, ab_tag):\n",
    "    sintil = xr.DataArray(\n",
    "        coords = dict({\n",
    "            \"ensemble\": Xtpt.coords[\"ensemble\"],\n",
    "            \"member\": Xtpt.coords[\"member\"],\n",
    "            \"t_sim\": Xtpt.coords[\"t_sim\"],\n",
    "            \"sense\": [\"since\",\"until\"],\n",
    "            \"state\": [\"A\",\"B\"]\n",
    "        }),\n",
    "        data = np.nan*np.ones((Xtpt[\"ensemble\"].size, Xtpt[\"member\"].size, Xtpt[\"t_sim\"].size, 2, 2)),\n",
    "        dims = [\"ensemble\",\"member\",\"t_sim\",\"sense\",\"state\"],\n",
    "    )\n",
    "    # Forward pass through time \n",
    "    for i_time in np.arange(sintil[\"t_sim\"].size):    \n",
    "        if i_time % 200 == 0:\n",
    "            print(f\"Forward pass: through time {i_time} out of {sintil['t_sim'].size}\")\n",
    "        for state in [\"A\",\"B\"]:            \n",
    "            if i_time > 0:\n",
    "                sintil[dict(t_sim=i_time)].loc[dict(sense=\"since\")] = (\n",
    "                    sintil.isel(t_sim=i_time-1).sel(sense=\"since\").data + \n",
    "                    sintil[\"t_sim\"][i_time].data - sintil[\"t_sim\"][i_time-1].data\n",
    "                )\n",
    "            state_flag = (ab_tag.isel(t_sim=i_time) == abcode[state])\n",
    "            # Wherever the state is achieved at this time slice, set the time since to zero\n",
    "            sintil[dict(t_sim=i_time)].loc[dict(sense=\"since\",state=state)] = (\n",
    "                (0*sintil.isel(t_sim=i_time).sel(sense=\"since\",state=state)).where(\n",
    "                state_flag, sintil.isel(t_sim=i_time).sel(sense=\"since\",state=state))\n",
    "            )\n",
    "    # Backward pass through time\n",
    "    for i_time in np.arange(sintil[\"t_sim\"].size-1,-1,-1):\n",
    "        if i_time % 200 == 0:\n",
    "            print(f\"Backward pass: through time {i_time} out of {sintil['t_sim'].size}\")\n",
    "        for state in [\"A\",\"B\"]:\n",
    "            if i_time < sintil[\"t_sim\"].size-1:\n",
    "                sintil[dict(t_sim=i_time)].loc[dict(sense=\"until\")] = (\n",
    "                    sintil.isel(t_sim=i_time+1).sel(sense=\"until\").data + \n",
    "                    sintil[\"t_sim\"][i_time+1].data - sintil[\"t_sim\"][i_time].data\n",
    "                )\n",
    "            state_flag = (ab_tag.isel(t_sim=i_time) == abcode[state])\n",
    "            sintil[dict(t_sim=i_time)].loc[dict(sense=\"until\",state=state)] = (\n",
    "                (0*sintil.isel(t_sim=i_time).sel(sense=\"until\",state=state)).where(\n",
    "                state_flag, sintil.isel(t_sim=i_time).sel(sense=\"until\",state=state))\n",
    "            )\n",
    "    return sintil   "
   ]
  },
  {
   "cell_type": "code",
   "execution_count": null,
   "metadata": {},
   "outputs": [],
   "source": [
    "sintil = dict()\n",
    "for src in [\"hc\",\"ra\"]:\n",
    "    sintil[src] = cotton_eye_joe(feat_tpt[src][\"X\"],tpt_bndy,ab_tag[src])"
   ]
  },
  {
   "cell_type": "code",
   "execution_count": 92,
   "metadata": {},
   "outputs": [],
   "source": [
    "for src in [\"ra\",\"hc\"]:\n",
    "    sintil[src].to_netcdf(join(filedict[src][\"traj\"][\"dir\"], \"sintil\"))"
   ]
  },
  {
   "cell_type": "markdown",
   "metadata": {},
   "source": [
    "Reload the sintil object, and then plot committor and MFPTs in various coordinates. "
   ]
  },
  {
   "cell_type": "code",
   "execution_count": 99,
   "metadata": {},
   "outputs": [],
   "source": [
    "sintil = dict()\n",
    "for src in [\"hc\",\"ra\"]:\n",
    "    sintil[src] = xr.open_dataarray(join(filedict[src][\"traj\"][\"dir\"], \"sintil\"))"
   ]
  },
  {
   "cell_type": "code",
   "execution_count": 100,
   "metadata": {},
   "outputs": [
    {
     "data": {
      "text/html": [
       "<div><svg style=\"position: absolute; width: 0; height: 0; overflow: hidden\">\n",
       "<defs>\n",
       "<symbol id=\"icon-database\" viewBox=\"0 0 32 32\">\n",
       "<path d=\"M16 0c-8.837 0-16 2.239-16 5v4c0 2.761 7.163 5 16 5s16-2.239 16-5v-4c0-2.761-7.163-5-16-5z\"></path>\n",
       "<path d=\"M16 17c-8.837 0-16-2.239-16-5v6c0 2.761 7.163 5 16 5s16-2.239 16-5v-6c0 2.761-7.163 5-16 5z\"></path>\n",
       "<path d=\"M16 26c-8.837 0-16-2.239-16-5v6c0 2.761 7.163 5 16 5s16-2.239 16-5v-6c0 2.761-7.163 5-16 5z\"></path>\n",
       "</symbol>\n",
       "<symbol id=\"icon-file-text2\" viewBox=\"0 0 32 32\">\n",
       "<path d=\"M28.681 7.159c-0.694-0.947-1.662-2.053-2.724-3.116s-2.169-2.030-3.116-2.724c-1.612-1.182-2.393-1.319-2.841-1.319h-15.5c-1.378 0-2.5 1.121-2.5 2.5v27c0 1.378 1.122 2.5 2.5 2.5h23c1.378 0 2.5-1.122 2.5-2.5v-19.5c0-0.448-0.137-1.23-1.319-2.841zM24.543 5.457c0.959 0.959 1.712 1.825 2.268 2.543h-4.811v-4.811c0.718 0.556 1.584 1.309 2.543 2.268zM28 29.5c0 0.271-0.229 0.5-0.5 0.5h-23c-0.271 0-0.5-0.229-0.5-0.5v-27c0-0.271 0.229-0.5 0.5-0.5 0 0 15.499-0 15.5 0v7c0 0.552 0.448 1 1 1h7v19.5z\"></path>\n",
       "<path d=\"M23 26h-14c-0.552 0-1-0.448-1-1s0.448-1 1-1h14c0.552 0 1 0.448 1 1s-0.448 1-1 1z\"></path>\n",
       "<path d=\"M23 22h-14c-0.552 0-1-0.448-1-1s0.448-1 1-1h14c0.552 0 1 0.448 1 1s-0.448 1-1 1z\"></path>\n",
       "<path d=\"M23 18h-14c-0.552 0-1-0.448-1-1s0.448-1 1-1h14c0.552 0 1 0.448 1 1s-0.448 1-1 1z\"></path>\n",
       "</symbol>\n",
       "</defs>\n",
       "</svg>\n",
       "<style>/* CSS stylesheet for displaying xarray objects in jupyterlab.\n",
       " *\n",
       " */\n",
       "\n",
       ":root {\n",
       "  --xr-font-color0: var(--jp-content-font-color0, rgba(0, 0, 0, 1));\n",
       "  --xr-font-color2: var(--jp-content-font-color2, rgba(0, 0, 0, 0.54));\n",
       "  --xr-font-color3: var(--jp-content-font-color3, rgba(0, 0, 0, 0.38));\n",
       "  --xr-border-color: var(--jp-border-color2, #e0e0e0);\n",
       "  --xr-disabled-color: var(--jp-layout-color3, #bdbdbd);\n",
       "  --xr-background-color: var(--jp-layout-color0, white);\n",
       "  --xr-background-color-row-even: var(--jp-layout-color1, white);\n",
       "  --xr-background-color-row-odd: var(--jp-layout-color2, #eeeeee);\n",
       "}\n",
       "\n",
       "html[theme=dark],\n",
       "body.vscode-dark {\n",
       "  --xr-font-color0: rgba(255, 255, 255, 1);\n",
       "  --xr-font-color2: rgba(255, 255, 255, 0.54);\n",
       "  --xr-font-color3: rgba(255, 255, 255, 0.38);\n",
       "  --xr-border-color: #1F1F1F;\n",
       "  --xr-disabled-color: #515151;\n",
       "  --xr-background-color: #111111;\n",
       "  --xr-background-color-row-even: #111111;\n",
       "  --xr-background-color-row-odd: #313131;\n",
       "}\n",
       "\n",
       ".xr-wrap {\n",
       "  display: block !important;\n",
       "  min-width: 300px;\n",
       "  max-width: 700px;\n",
       "}\n",
       "\n",
       ".xr-text-repr-fallback {\n",
       "  /* fallback to plain text repr when CSS is not injected (untrusted notebook) */\n",
       "  display: none;\n",
       "}\n",
       "\n",
       ".xr-header {\n",
       "  padding-top: 6px;\n",
       "  padding-bottom: 6px;\n",
       "  margin-bottom: 4px;\n",
       "  border-bottom: solid 1px var(--xr-border-color);\n",
       "}\n",
       "\n",
       ".xr-header > div,\n",
       ".xr-header > ul {\n",
       "  display: inline;\n",
       "  margin-top: 0;\n",
       "  margin-bottom: 0;\n",
       "}\n",
       "\n",
       ".xr-obj-type,\n",
       ".xr-array-name {\n",
       "  margin-left: 2px;\n",
       "  margin-right: 10px;\n",
       "}\n",
       "\n",
       ".xr-obj-type {\n",
       "  color: var(--xr-font-color2);\n",
       "}\n",
       "\n",
       ".xr-sections {\n",
       "  padding-left: 0 !important;\n",
       "  display: grid;\n",
       "  grid-template-columns: 150px auto auto 1fr 20px 20px;\n",
       "}\n",
       "\n",
       ".xr-section-item {\n",
       "  display: contents;\n",
       "}\n",
       "\n",
       ".xr-section-item input {\n",
       "  display: none;\n",
       "}\n",
       "\n",
       ".xr-section-item input + label {\n",
       "  color: var(--xr-disabled-color);\n",
       "}\n",
       "\n",
       ".xr-section-item input:enabled + label {\n",
       "  cursor: pointer;\n",
       "  color: var(--xr-font-color2);\n",
       "}\n",
       "\n",
       ".xr-section-item input:enabled + label:hover {\n",
       "  color: var(--xr-font-color0);\n",
       "}\n",
       "\n",
       ".xr-section-summary {\n",
       "  grid-column: 1;\n",
       "  color: var(--xr-font-color2);\n",
       "  font-weight: 500;\n",
       "}\n",
       "\n",
       ".xr-section-summary > span {\n",
       "  display: inline-block;\n",
       "  padding-left: 0.5em;\n",
       "}\n",
       "\n",
       ".xr-section-summary-in:disabled + label {\n",
       "  color: var(--xr-font-color2);\n",
       "}\n",
       "\n",
       ".xr-section-summary-in + label:before {\n",
       "  display: inline-block;\n",
       "  content: '►';\n",
       "  font-size: 11px;\n",
       "  width: 15px;\n",
       "  text-align: center;\n",
       "}\n",
       "\n",
       ".xr-section-summary-in:disabled + label:before {\n",
       "  color: var(--xr-disabled-color);\n",
       "}\n",
       "\n",
       ".xr-section-summary-in:checked + label:before {\n",
       "  content: '▼';\n",
       "}\n",
       "\n",
       ".xr-section-summary-in:checked + label > span {\n",
       "  display: none;\n",
       "}\n",
       "\n",
       ".xr-section-summary,\n",
       ".xr-section-inline-details {\n",
       "  padding-top: 4px;\n",
       "  padding-bottom: 4px;\n",
       "}\n",
       "\n",
       ".xr-section-inline-details {\n",
       "  grid-column: 2 / -1;\n",
       "}\n",
       "\n",
       ".xr-section-details {\n",
       "  display: none;\n",
       "  grid-column: 1 / -1;\n",
       "  margin-bottom: 5px;\n",
       "}\n",
       "\n",
       ".xr-section-summary-in:checked ~ .xr-section-details {\n",
       "  display: contents;\n",
       "}\n",
       "\n",
       ".xr-array-wrap {\n",
       "  grid-column: 1 / -1;\n",
       "  display: grid;\n",
       "  grid-template-columns: 20px auto;\n",
       "}\n",
       "\n",
       ".xr-array-wrap > label {\n",
       "  grid-column: 1;\n",
       "  vertical-align: top;\n",
       "}\n",
       "\n",
       ".xr-preview {\n",
       "  color: var(--xr-font-color3);\n",
       "}\n",
       "\n",
       ".xr-array-preview,\n",
       ".xr-array-data {\n",
       "  padding: 0 5px !important;\n",
       "  grid-column: 2;\n",
       "}\n",
       "\n",
       ".xr-array-data,\n",
       ".xr-array-in:checked ~ .xr-array-preview {\n",
       "  display: none;\n",
       "}\n",
       "\n",
       ".xr-array-in:checked ~ .xr-array-data,\n",
       ".xr-array-preview {\n",
       "  display: inline-block;\n",
       "}\n",
       "\n",
       ".xr-dim-list {\n",
       "  display: inline-block !important;\n",
       "  list-style: none;\n",
       "  padding: 0 !important;\n",
       "  margin: 0;\n",
       "}\n",
       "\n",
       ".xr-dim-list li {\n",
       "  display: inline-block;\n",
       "  padding: 0;\n",
       "  margin: 0;\n",
       "}\n",
       "\n",
       ".xr-dim-list:before {\n",
       "  content: '(';\n",
       "}\n",
       "\n",
       ".xr-dim-list:after {\n",
       "  content: ')';\n",
       "}\n",
       "\n",
       ".xr-dim-list li:not(:last-child):after {\n",
       "  content: ',';\n",
       "  padding-right: 5px;\n",
       "}\n",
       "\n",
       ".xr-has-index {\n",
       "  font-weight: bold;\n",
       "}\n",
       "\n",
       ".xr-var-list,\n",
       ".xr-var-item {\n",
       "  display: contents;\n",
       "}\n",
       "\n",
       ".xr-var-item > div,\n",
       ".xr-var-item label,\n",
       ".xr-var-item > .xr-var-name span {\n",
       "  background-color: var(--xr-background-color-row-even);\n",
       "  margin-bottom: 0;\n",
       "}\n",
       "\n",
       ".xr-var-item > .xr-var-name:hover span {\n",
       "  padding-right: 5px;\n",
       "}\n",
       "\n",
       ".xr-var-list > li:nth-child(odd) > div,\n",
       ".xr-var-list > li:nth-child(odd) > label,\n",
       ".xr-var-list > li:nth-child(odd) > .xr-var-name span {\n",
       "  background-color: var(--xr-background-color-row-odd);\n",
       "}\n",
       "\n",
       ".xr-var-name {\n",
       "  grid-column: 1;\n",
       "}\n",
       "\n",
       ".xr-var-dims {\n",
       "  grid-column: 2;\n",
       "}\n",
       "\n",
       ".xr-var-dtype {\n",
       "  grid-column: 3;\n",
       "  text-align: right;\n",
       "  color: var(--xr-font-color2);\n",
       "}\n",
       "\n",
       ".xr-var-preview {\n",
       "  grid-column: 4;\n",
       "}\n",
       "\n",
       ".xr-var-name,\n",
       ".xr-var-dims,\n",
       ".xr-var-dtype,\n",
       ".xr-preview,\n",
       ".xr-attrs dt {\n",
       "  white-space: nowrap;\n",
       "  overflow: hidden;\n",
       "  text-overflow: ellipsis;\n",
       "  padding-right: 10px;\n",
       "}\n",
       "\n",
       ".xr-var-name:hover,\n",
       ".xr-var-dims:hover,\n",
       ".xr-var-dtype:hover,\n",
       ".xr-attrs dt:hover {\n",
       "  overflow: visible;\n",
       "  width: auto;\n",
       "  z-index: 1;\n",
       "}\n",
       "\n",
       ".xr-var-attrs,\n",
       ".xr-var-data {\n",
       "  display: none;\n",
       "  background-color: var(--xr-background-color) !important;\n",
       "  padding-bottom: 5px !important;\n",
       "}\n",
       "\n",
       ".xr-var-attrs-in:checked ~ .xr-var-attrs,\n",
       ".xr-var-data-in:checked ~ .xr-var-data {\n",
       "  display: block;\n",
       "}\n",
       "\n",
       ".xr-var-data > table {\n",
       "  float: right;\n",
       "}\n",
       "\n",
       ".xr-var-name span,\n",
       ".xr-var-data,\n",
       ".xr-attrs {\n",
       "  padding-left: 25px !important;\n",
       "}\n",
       "\n",
       ".xr-attrs,\n",
       ".xr-var-attrs,\n",
       ".xr-var-data {\n",
       "  grid-column: 1 / -1;\n",
       "}\n",
       "\n",
       "dl.xr-attrs {\n",
       "  padding: 0;\n",
       "  margin: 0;\n",
       "  display: grid;\n",
       "  grid-template-columns: 125px auto;\n",
       "}\n",
       "\n",
       ".xr-attrs dt,\n",
       ".xr-attrs dd {\n",
       "  padding: 0;\n",
       "  margin: 0;\n",
       "  float: left;\n",
       "  padding-right: 10px;\n",
       "  width: auto;\n",
       "}\n",
       "\n",
       ".xr-attrs dt {\n",
       "  font-weight: normal;\n",
       "  grid-column: 1;\n",
       "}\n",
       "\n",
       ".xr-attrs dt:hover span {\n",
       "  display: inline-block;\n",
       "  background: var(--xr-background-color);\n",
       "  padding-right: 10px;\n",
       "}\n",
       "\n",
       ".xr-attrs dd {\n",
       "  grid-column: 2;\n",
       "  white-space: pre-wrap;\n",
       "  word-break: break-all;\n",
       "}\n",
       "\n",
       ".xr-icon-database,\n",
       ".xr-icon-file-text2 {\n",
       "  display: inline-block;\n",
       "  vertical-align: middle;\n",
       "  width: 1em;\n",
       "  height: 1.5em !important;\n",
       "  stroke-width: 0;\n",
       "  stroke: currentColor;\n",
       "  fill: currentColor;\n",
       "}\n",
       "</style><pre class='xr-text-repr-fallback'>&lt;xarray.DataArray (ensemble: 297, member: 10, t_sim: 94, sense: 2, state: 2)&gt;\n",
       "[1116720 values with dtype=float64]\n",
       "Coordinates:\n",
       "  * ensemble  (ensemble) int64 0 1 2 3 4 5 6 7 ... 290 291 292 293 294 295 296\n",
       "  * member    (member) int64 0 1 2 3 4 5 6 7 8 9\n",
       "  * t_sim     (t_sim) float64 0.0 0.5 1.0 1.5 2.0 ... 44.5 45.0 45.5 46.0 46.5\n",
       "  * sense     (sense) object &#x27;since&#x27; &#x27;until&#x27;\n",
       "  * state     (state) object &#x27;A&#x27; &#x27;B&#x27;</pre><div class='xr-wrap' style='display:none'><div class='xr-header'><div class='xr-obj-type'>xarray.DataArray</div><div class='xr-array-name'></div><ul class='xr-dim-list'><li><span class='xr-has-index'>ensemble</span>: 297</li><li><span class='xr-has-index'>member</span>: 10</li><li><span class='xr-has-index'>t_sim</span>: 94</li><li><span class='xr-has-index'>sense</span>: 2</li><li><span class='xr-has-index'>state</span>: 2</li></ul></div><ul class='xr-sections'><li class='xr-section-item'><div class='xr-array-wrap'><input id='section-7fa569e6-62ee-4210-b7bb-db59383a0ea0' class='xr-array-in' type='checkbox' checked><label for='section-7fa569e6-62ee-4210-b7bb-db59383a0ea0' title='Show/hide data repr'><svg class='icon xr-icon-database'><use xlink:href='#icon-database'></use></svg></label><div class='xr-array-preview xr-preview'><span>...</span></div><div class='xr-array-data'><pre>[1116720 values with dtype=float64]</pre></div></div></li><li class='xr-section-item'><input id='section-73789163-ea77-4b41-ba9b-6fb2fd29ee85' class='xr-section-summary-in' type='checkbox'  checked><label for='section-73789163-ea77-4b41-ba9b-6fb2fd29ee85' class='xr-section-summary' >Coordinates: <span>(5)</span></label><div class='xr-section-inline-details'></div><div class='xr-section-details'><ul class='xr-var-list'><li class='xr-var-item'><div class='xr-var-name'><span class='xr-has-index'>ensemble</span></div><div class='xr-var-dims'>(ensemble)</div><div class='xr-var-dtype'>int64</div><div class='xr-var-preview xr-preview'>0 1 2 3 4 5 ... 292 293 294 295 296</div><input id='attrs-c9639970-f205-41c1-85b3-1943e5377805' class='xr-var-attrs-in' type='checkbox' disabled><label for='attrs-c9639970-f205-41c1-85b3-1943e5377805' title='Show/Hide attributes'><svg class='icon xr-icon-file-text2'><use xlink:href='#icon-file-text2'></use></svg></label><input id='data-7281a386-e5ac-48f1-918a-b1983ec25477' class='xr-var-data-in' type='checkbox'><label for='data-7281a386-e5ac-48f1-918a-b1983ec25477' title='Show/Hide data repr'><svg class='icon xr-icon-database'><use xlink:href='#icon-database'></use></svg></label><div class='xr-var-attrs'><dl class='xr-attrs'></dl></div><div class='xr-var-data'><pre>array([  0,   1,   2, ..., 294, 295, 296])</pre></div></li><li class='xr-var-item'><div class='xr-var-name'><span class='xr-has-index'>member</span></div><div class='xr-var-dims'>(member)</div><div class='xr-var-dtype'>int64</div><div class='xr-var-preview xr-preview'>0 1 2 3 4 5 6 7 8 9</div><input id='attrs-7336f61b-3680-4a0d-9d91-8c4f35d73b9d' class='xr-var-attrs-in' type='checkbox' disabled><label for='attrs-7336f61b-3680-4a0d-9d91-8c4f35d73b9d' title='Show/Hide attributes'><svg class='icon xr-icon-file-text2'><use xlink:href='#icon-file-text2'></use></svg></label><input id='data-79a28637-f9d8-448f-badc-49b0399c73da' class='xr-var-data-in' type='checkbox'><label for='data-79a28637-f9d8-448f-badc-49b0399c73da' title='Show/Hide data repr'><svg class='icon xr-icon-database'><use xlink:href='#icon-database'></use></svg></label><div class='xr-var-attrs'><dl class='xr-attrs'></dl></div><div class='xr-var-data'><pre>array([0, 1, 2, 3, 4, 5, 6, 7, 8, 9])</pre></div></li><li class='xr-var-item'><div class='xr-var-name'><span class='xr-has-index'>t_sim</span></div><div class='xr-var-dims'>(t_sim)</div><div class='xr-var-dtype'>float64</div><div class='xr-var-preview xr-preview'>0.0 0.5 1.0 1.5 ... 45.5 46.0 46.5</div><input id='attrs-3377020e-64ac-4e75-917c-3f6ee9bd2844' class='xr-var-attrs-in' type='checkbox' disabled><label for='attrs-3377020e-64ac-4e75-917c-3f6ee9bd2844' title='Show/Hide attributes'><svg class='icon xr-icon-file-text2'><use xlink:href='#icon-file-text2'></use></svg></label><input id='data-21234925-378e-4a56-972e-982efec669a8' class='xr-var-data-in' type='checkbox'><label for='data-21234925-378e-4a56-972e-982efec669a8' title='Show/Hide data repr'><svg class='icon xr-icon-database'><use xlink:href='#icon-database'></use></svg></label><div class='xr-var-attrs'><dl class='xr-attrs'></dl></div><div class='xr-var-data'><pre>array([ 0. ,  0.5,  1. ,  1.5,  2. ,  2.5,  3. ,  3.5,  4. ,  4.5,  5. ,  5.5,\n",
       "        6. ,  6.5,  7. ,  7.5,  8. ,  8.5,  9. ,  9.5, 10. , 10.5, 11. , 11.5,\n",
       "       12. , 12.5, 13. , 13.5, 14. , 14.5, 15. , 15.5, 16. , 16.5, 17. , 17.5,\n",
       "       18. , 18.5, 19. , 19.5, 20. , 20.5, 21. , 21.5, 22. , 22.5, 23. , 23.5,\n",
       "       24. , 24.5, 25. , 25.5, 26. , 26.5, 27. , 27.5, 28. , 28.5, 29. , 29.5,\n",
       "       30. , 30.5, 31. , 31.5, 32. , 32.5, 33. , 33.5, 34. , 34.5, 35. , 35.5,\n",
       "       36. , 36.5, 37. , 37.5, 38. , 38.5, 39. , 39.5, 40. , 40.5, 41. , 41.5,\n",
       "       42. , 42.5, 43. , 43.5, 44. , 44.5, 45. , 45.5, 46. , 46.5])</pre></div></li><li class='xr-var-item'><div class='xr-var-name'><span class='xr-has-index'>sense</span></div><div class='xr-var-dims'>(sense)</div><div class='xr-var-dtype'>object</div><div class='xr-var-preview xr-preview'>&#x27;since&#x27; &#x27;until&#x27;</div><input id='attrs-4023926c-f9c9-4324-a828-32d5370cf799' class='xr-var-attrs-in' type='checkbox' disabled><label for='attrs-4023926c-f9c9-4324-a828-32d5370cf799' title='Show/Hide attributes'><svg class='icon xr-icon-file-text2'><use xlink:href='#icon-file-text2'></use></svg></label><input id='data-82d92755-ed82-4b20-9612-fb4872b69aaa' class='xr-var-data-in' type='checkbox'><label for='data-82d92755-ed82-4b20-9612-fb4872b69aaa' title='Show/Hide data repr'><svg class='icon xr-icon-database'><use xlink:href='#icon-database'></use></svg></label><div class='xr-var-attrs'><dl class='xr-attrs'></dl></div><div class='xr-var-data'><pre>array([&#x27;since&#x27;, &#x27;until&#x27;], dtype=object)</pre></div></li><li class='xr-var-item'><div class='xr-var-name'><span class='xr-has-index'>state</span></div><div class='xr-var-dims'>(state)</div><div class='xr-var-dtype'>object</div><div class='xr-var-preview xr-preview'>&#x27;A&#x27; &#x27;B&#x27;</div><input id='attrs-52b66e15-c684-4641-a7c7-02fe5e94ec19' class='xr-var-attrs-in' type='checkbox' disabled><label for='attrs-52b66e15-c684-4641-a7c7-02fe5e94ec19' title='Show/Hide attributes'><svg class='icon xr-icon-file-text2'><use xlink:href='#icon-file-text2'></use></svg></label><input id='data-fa86f3d9-e328-4167-a76f-c654ee6d318b' class='xr-var-data-in' type='checkbox'><label for='data-fa86f3d9-e328-4167-a76f-c654ee6d318b' title='Show/Hide data repr'><svg class='icon xr-icon-database'><use xlink:href='#icon-database'></use></svg></label><div class='xr-var-attrs'><dl class='xr-attrs'></dl></div><div class='xr-var-data'><pre>array([&#x27;A&#x27;, &#x27;B&#x27;], dtype=object)</pre></div></li></ul></div></li><li class='xr-section-item'><input id='section-16c2392a-e5b7-406d-9a25-3b6e772f7a07' class='xr-section-summary-in' type='checkbox' disabled ><label for='section-16c2392a-e5b7-406d-9a25-3b6e772f7a07' class='xr-section-summary'  title='Expand/collapse section'>Attributes: <span>(0)</span></label><div class='xr-section-inline-details'></div><div class='xr-section-details'><dl class='xr-attrs'></dl></div></li></ul></div></div>"
      ],
      "text/plain": [
       "<xarray.DataArray (ensemble: 297, member: 10, t_sim: 94, sense: 2, state: 2)>\n",
       "[1116720 values with dtype=float64]\n",
       "Coordinates:\n",
       "  * ensemble  (ensemble) int64 0 1 2 3 4 5 6 7 ... 290 291 292 293 294 295 296\n",
       "  * member    (member) int64 0 1 2 3 4 5 6 7 8 9\n",
       "  * t_sim     (t_sim) float64 0.0 0.5 1.0 1.5 2.0 ... 44.5 45.0 45.5 46.0 46.5\n",
       "  * sense     (sense) object 'since' 'until'\n",
       "  * state     (state) object 'A' 'B'"
      ]
     },
     "execution_count": 100,
     "metadata": {},
     "output_type": "execute_result"
    }
   ],
   "source": []
  },
  {
   "cell_type": "code",
   "execution_count": 81,
   "metadata": {},
   "outputs": [
    {
     "data": {
      "text/plain": [
       "((297, 10, 94, 16), (1, 1, 16000, 16))"
      ]
     },
     "execution_count": 81,
     "metadata": {},
     "output_type": "execute_result"
    }
   ],
   "source": [
    "feat_tpt[\"hc\"][\"X\"].shape, feat_tpt[\"ra\"][\"X\"].shape"
   ]
  },
  {
   "cell_type": "code",
   "execution_count": 38,
   "metadata": {},
   "outputs": [],
   "source": [
    "data_vars_clim = dict()\n",
    "t_dim = np.where(np.array(feat_all[\"hc\"].dims) == 't_sim')[0][0]\n",
    "for obs_name in list(feat_all[\"hc\"].data_vars.keys()):\n",
    "    shp = list(feat_all[\"hc\"][obs_name].shape)\n",
    "    shp[t_dim] = crom_feat.Nt_szn\n",
    "    data_vars_clim[obs_name] = np.zeros(shp)"
   ]
  },
  {
   "cell_type": "code",
   "execution_count": null,
   "metadata": {},
   "outputs": [],
   "source": [
    "for obs_name in list(feat_all[\"hc\"].data_vars.keys()):\n",
    "    "
   ]
  },
  {
   "cell_type": "code",
   "execution_count": 15,
   "metadata": {},
   "outputs": [
    {
     "data": {
      "text/plain": [
       "KeysView(Data variables:\n",
       "    identity         (ensemble, member, t_sim, feature) float64 0.8252 ... 8....\n",
       "    energy           (ensemble, member, t_sim, reservoir) float64 0.3405 ... nan\n",
       "    energy_tendency  (ensemble, member, t_sim, reservoir) float64 nan ... 0.0\n",
       "    energy_exchange  (ensemble, member, t_sim, source, sink) float64 0.0 ... 0.0\n",
       "    phase            (ensemble, member, t_sim, wavenumber) float64 0.6467 ......)"
      ]
     },
     "execution_count": 15,
     "metadata": {},
     "output_type": "execute_result"
    }
   ],
   "source": [
    "feat_all[\"ra\"].data_vars.keys()"
   ]
  },
  {
   "cell_type": "code",
   "execution_count": null,
   "metadata": {},
   "outputs": [],
   "source": [
    "# Load the already-executed model (contiguous)\n",
    "X_ra_cont = xr.open_dataset(traj_filename_ra)[\"X\"]\n",
    "print(X_ra_cont.sel(feature=\"x1\").isel(t_sim=0))\n",
    "print(X_ra_cont.sel(feature=\"x2\").isel(t_sim=0))"
   ]
  },
  {
   "cell_type": "code",
   "execution_count": null,
   "metadata": {},
   "outputs": [],
   "source": [
    "# Plot x1 and x4 over time for 4 annual cycles\n",
    "fig,ax = plt.subplots(ncols=2, figsize=(12,6))\n",
    "xr.plot.plot(\n",
    "    X_ra_cont.sel(feature='x1',member=0)\n",
    "    .where(X_ra_cont['t_sim'] < 4*crom.q[\"year_length\"], drop=True),\n",
    "    x='t_sim', ax=ax[0]\n",
    ")\n",
    "xr.plot.plot(\n",
    "    X_ra_cont.sel(feature='x4',member=0)\n",
    "    .where(X_ra_cont['t_sim'] < 4*crom.q[\"year_length\"], drop=True),\n",
    "    x='t_sim', ax=ax[1]\n",
    ")\n"
   ]
  },
  {
   "cell_type": "code",
   "execution_count": null,
   "metadata": {},
   "outputs": [],
   "source": [
    "# Compute the climatology\n",
    "feat_crom.compute_climatology(in_filename,save_filename)"
   ]
  },
  {
   "cell_type": "code",
   "execution_count": null,
   "metadata": {},
   "outputs": [],
   "source": [
    "# Plot some hindcasts on top of climatology\n"
   ]
  },
  {
   "cell_type": "code",
   "execution_count": null,
   "metadata": {},
   "outputs": [],
   "source": []
  }
 ],
 "metadata": {
  "kernelspec": {
   "display_name": "my_env",
   "language": "python",
   "name": "my_env"
  },
  "language_info": {
   "codemirror_mode": {
    "name": "ipython",
    "version": 3
   },
   "file_extension": ".py",
   "mimetype": "text/x-python",
   "name": "python",
   "nbconvert_exporter": "python",
   "pygments_lexer": "ipython3",
   "version": "3.9.5"
  }
 },
 "nbformat": 4,
 "nbformat_minor": 4
}
