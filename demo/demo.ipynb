{
 "cells": [
  {
   "cell_type": "code",
   "execution_count": 1,
   "metadata": {},
   "outputs": [],
   "source": [
    "import numpy as np\n",
    "import xarray as xr\n",
    "import netCDF4 as nc\n",
    "import model_crommelin_seasonal\n",
    "import feature_crommelin \n",
    "from importlib import reload\n",
    "import sys \n",
    "import os\n",
    "from os import mkdir, makedirs\n",
    "from os.path import join,exists\n",
    "from importlib import reload\n",
    "import pickle"
   ]
  },
  {
   "cell_type": "code",
   "execution_count": 2,
   "metadata": {},
   "outputs": [],
   "source": [
    "import matplotlib.pyplot as plt \n",
    "%matplotlib inline"
   ]
  },
  {
   "cell_type": "markdown",
   "metadata": {},
   "source": [
    "Create directories to save results"
   ]
  },
  {
   "cell_type": "code",
   "execution_count": 3,
   "metadata": {},
   "outputs": [],
   "source": [
    "# Organize the directory of data and features to be read from the data. \n",
    "topic_dir = \"/scratch/jf4241/crommelin\"\n",
    "filedict = dict({\n",
    "    \"ra\": dict({\n",
    "        \"traj\": dict({\n",
    "            \"dir\": join(topic_dir, \"reanalysis\", \"trajectory\", \"2022-07-25\", \"0\"), # Directory with possibly many files\n",
    "        }),\n",
    "        \"feat_all\": dict({\n",
    "            \"dir\": join(topic_dir, \"reanalysis\", \"features_all\", \"2022-07-25\", \"0\"),\n",
    "            \"filename\": \"crom_feat_all.nc\",\n",
    "        }),\n",
    "        \"feat_tpt\": dict({\n",
    "            \"dir\": join(topic_dir, \"reanalysis\", \"features_tpt\", \"2022-07-25\", \"0\",),\n",
    "            \"filename\": \"crom_feat_tpt.nc\",\n",
    "        }),\n",
    "    }),\n",
    "    \"hc\": dict({\n",
    "        \"traj\": dict({\n",
    "            \"dir\": join(topic_dir, \"hindcast\", \"trajectory\", \"2022-07-25\", \"0\"), # Directory with possibly multiple files\n",
    "        }),\n",
    "        \"feat_all\": dict({\n",
    "            \"dir\": join(topic_dir, \"hindcast\", \"features_all\", \"2022-07-25\", \"0\"),\n",
    "            \"filename\": \"crom_feat_all.nc\",\n",
    "        }),\n",
    "        \"feat_tpt\": dict({\n",
    "            \"dir\": join(topic_dir, \"hindcast\", \"features_tpt\", \"2022-07-25\", \"0\"),\n",
    "            \"filename\": \"crom_feat_tpt.nc\",\n",
    "        })\n",
    "    }),\n",
    "    \"results\": dict({\n",
    "        \"dir\": join(topic_dir, \"results\", \"2022-07-25\", \"0\")\n",
    "    })\n",
    "})"
   ]
  },
  {
   "cell_type": "code",
   "execution_count": 4,
   "metadata": {},
   "outputs": [],
   "source": [
    "# Create the directories if they don't exist already\n",
    "for src in [\"ra\",\"hc\"]:\n",
    "    for fmt in [\"traj\",\"feat_all\",\"feat_tpt\"]:\n",
    "        path = filedict[src][fmt][\"dir\"]\n",
    "        if not exists(path):\n",
    "            makedirs(path, exist_ok=True)\n",
    "path = filedict[\"results\"][\"dir\"]\n",
    "if not exists(path): makedirs(path, exist_ok=True)"
   ]
  },
  {
   "cell_type": "markdown",
   "metadata": {},
   "source": [
    "Set physical parameters"
   ]
  },
  {
   "cell_type": "code",
   "execution_count": 5,
   "metadata": {},
   "outputs": [],
   "source": [
    "dt_samp = 0.5 # Time step to save out\n",
    "dt_szn = 0.74 # Time resolution for the seasonal model \n",
    "szn_start = 300.0\n",
    "szn_length = 250.0\n",
    "year_length = 400.0\n",
    "Nt_szn = int(szn_length / dt_szn)\n",
    "szn_avg_window = 5.0\n",
    "burnin_time = 500.0"
   ]
  },
  {
   "cell_type": "code",
   "execution_count": 6,
   "metadata": {},
   "outputs": [
    {
     "data": {
      "text/plain": [
       "<module 'model_crommelin_seasonal' from '/home/jf4241/ecmwf/tpt_ecmwf/demo/model_crommelin_seasonal.py'>"
      ]
     },
     "execution_count": 6,
     "metadata": {},
     "output_type": "execute_result"
    }
   ],
   "source": [
    "reload(model_crommelin_seasonal)"
   ]
  },
  {
   "cell_type": "markdown",
   "metadata": {},
   "source": [
    "Initialize the model."
   ]
  },
  {
   "cell_type": "code",
   "execution_count": 7,
   "metadata": {},
   "outputs": [],
   "source": [
    "fundamental_param_dict = dict({\n",
    "    \"b\": 0.5, \"beta\": 1.25, \"gamma_limits\": [0.15, 0.22], \n",
    "    \"C\": 0.1, \"x1star\": 0.95, \"r\": -0.801, \"year_length\": year_length,\n",
    "})\n",
    "crom = model_crommelin_seasonal.SeasonalCrommelinModel(fundamental_param_dict)\n"
   ]
  },
  {
   "cell_type": "markdown",
   "metadata": {},
   "source": [
    "Create \"reanalysis\" in the file folder reserved for contiguous data."
   ]
  },
  {
   "cell_type": "code",
   "execution_count": 8,
   "metadata": {},
   "outputs": [],
   "source": [
    "# Run the model initially for a bit to find the attractor. Start arbitrarily 1/5 of the way through year 1958\n",
    "t_init = (1957 + 0.2)*fundamental_param_dict[\"year_length\"]\n",
    "x0 = np.zeros((1,7))\n",
    "x0[0,-1] = t_init\n",
    "t_save = np.arange(0, burnin_time, dt_samp)\n",
    "traj_filename_burnin = join(filedict[\"ra\"][\"traj\"][\"dir\"], \"burnin.nc\")\n",
    "crom.integrate_and_save(x0,t_save,traj_filename_burnin)"
   ]
  },
  {
   "cell_type": "code",
   "execution_count": 9,
   "metadata": {},
   "outputs": [],
   "source": [
    "x_burnin = xr.open_dataset(traj_filename_burnin)[\"X\"]\n",
    "x0 = x_burnin[:,-1].data\n",
    "duration = 100*fundamental_param_dict[\"year_length\"]\n",
    "t_init_str,_ = crom.date_format(x0[0,-1])\n",
    "t_fin_str,_ = crom.date_format(x0[0,-1] + duration)\n",
    "traj_filename_ra = join(filedict[\"ra\"][\"traj\"][\"dir\"], f\"ra_{t_init_str}_to_{t_fin_str}.nc\")\n",
    "param_filename_ra = join(filedict[\"ra\"][\"traj\"][\"dir\"], \"params\")"
   ]
  },
  {
   "cell_type": "code",
   "execution_count": 14,
   "metadata": {},
   "outputs": [
    {
     "name": "stdout",
     "output_type": "stream",
     "text": [
      "Integrated through time 1000.0000000001588 out of 39999.5\n",
      "Integrated through time 2000.0999999992764 out of 39999.5\n",
      "Integrated through time 3000.099999998367 out of 39999.5\n",
      "Integrated through time 4000.0999999974574 out of 39999.5\n",
      "Integrated through time 5000.0000000006585 out of 39999.5\n",
      "Integrated through time 6000.000000004296 out of 39999.5\n",
      "Integrated through time 7000.000000007934 out of 39999.5\n",
      "Integrated through time 8000.000000011572 out of 39999.5\n",
      "Integrated through time 9000.00000001521 out of 39999.5\n",
      "Integrated through time 10000.000000018848 out of 39999.5\n",
      "Integrated through time 11000.000000022486 out of 39999.5\n",
      "Integrated through time 12000.000000026124 out of 39999.5\n",
      "Integrated through time 13000.000000029762 out of 39999.5\n",
      "Integrated through time 14000.0000000334 out of 39999.5\n",
      "Integrated through time 15000.000000037038 out of 39999.5\n",
      "Integrated through time 16000.000000040676 out of 39999.5\n",
      "Integrated through time 17000.00000003311 out of 39999.5\n",
      "Integrated through time 18000.000000018557 out of 39999.5\n",
      "Integrated through time 19000.000000004005 out of 39999.5\n",
      "Integrated through time 20000.099999989452 out of 39999.5\n",
      "Integrated through time 21000.0999999749 out of 39999.5\n",
      "Integrated through time 22000.09999996035 out of 39999.5\n",
      "Integrated through time 23000.099999945796 out of 39999.5\n",
      "Integrated through time 24000.099999931244 out of 39999.5\n",
      "Integrated through time 25000.099999916692 out of 39999.5\n",
      "Integrated through time 26000.09999990214 out of 39999.5\n",
      "Integrated through time 27000.09999988759 out of 39999.5\n",
      "Integrated through time 28000.099999873037 out of 39999.5\n",
      "Integrated through time 29000.099999858485 out of 39999.5\n",
      "Integrated through time 30000.099999843933 out of 39999.5\n",
      "Integrated through time 31000.09999982938 out of 39999.5\n",
      "Integrated through time 32000.09999981483 out of 39999.5\n",
      "Integrated through time 33000.09999980028 out of 39999.5\n",
      "Integrated through time 34000.09999978573 out of 39999.5\n",
      "Integrated through time 35000.09999977118 out of 39999.5\n",
      "Integrated through time 36000.099999756625 out of 39999.5\n",
      "Integrated through time 37000.09999974207 out of 39999.5\n",
      "Integrated through time 38000.09999972752 out of 39999.5\n",
      "Integrated through time 39000.09999971297 out of 39999.5\n"
     ]
    }
   ],
   "source": [
    "t_save = np.arange(0,duration,dt_samp)\n",
    "crom.integrate_and_save(x0,t_save,traj_filename_ra,metadata_filename=param_filename_ra)"
   ]
  },
  {
   "cell_type": "markdown",
   "metadata": {},
   "source": [
    "Create \"hindcast\" data in the file folder reserved for hindcast data."
   ]
  },
  {
   "cell_type": "code",
   "execution_count": 10,
   "metadata": {},
   "outputs": [
    {
     "ename": "KeyboardInterrupt",
     "evalue": "",
     "output_type": "error",
     "traceback": [
      "\u001b[0;31m---------------------------------------------------------------------------\u001b[0m",
      "\u001b[0;31mKeyboardInterrupt\u001b[0m                         Traceback (most recent call last)",
      "Input \u001b[0;32mIn [10]\u001b[0m, in \u001b[0;36m<cell line: 3>\u001b[0;34m()\u001b[0m\n\u001b[1;32m      1\u001b[0m \u001b[38;5;66;03m# Generate hindcast dataset\u001b[39;00m\n\u001b[1;32m      2\u001b[0m t_abs_range \u001b[38;5;241m=\u001b[39m crom\u001b[38;5;241m.\u001b[39mq[\u001b[38;5;124m\"\u001b[39m\u001b[38;5;124myear_length\u001b[39m\u001b[38;5;124m\"\u001b[39m]\u001b[38;5;241m*\u001b[39mnp\u001b[38;5;241m.\u001b[39marray([\u001b[38;5;241m1960\u001b[39m,\u001b[38;5;241m1970\u001b[39m])\n\u001b[0;32m----> 3\u001b[0m \u001b[43mcrom\u001b[49m\u001b[38;5;241;43m.\u001b[39;49m\u001b[43mgenerate_hindcast_dataset\u001b[49m\u001b[43m(\u001b[49m\n\u001b[1;32m      4\u001b[0m \u001b[43m    \u001b[49m\u001b[43m[\u001b[49m\u001b[43mtraj_filename_ra\u001b[49m\u001b[43m]\u001b[49m\u001b[43m,\u001b[49m\u001b[43mfiledict\u001b[49m\u001b[43m[\u001b[49m\u001b[38;5;124;43m\"\u001b[39;49m\u001b[38;5;124;43mhc\u001b[39;49m\u001b[38;5;124;43m\"\u001b[39;49m\u001b[43m]\u001b[49m\u001b[43m[\u001b[49m\u001b[38;5;124;43m\"\u001b[39;49m\u001b[38;5;124;43mtraj\u001b[39;49m\u001b[38;5;124;43m\"\u001b[39;49m\u001b[43m]\u001b[49m\u001b[43m[\u001b[49m\u001b[38;5;124;43m\"\u001b[39;49m\u001b[38;5;124;43mdir\u001b[39;49m\u001b[38;5;124;43m\"\u001b[39;49m\u001b[43m]\u001b[49m\u001b[43m,\u001b[49m\u001b[43mt_abs_range\u001b[49m\u001b[43m,\u001b[49m\u001b[43mdt_samp\u001b[49m\u001b[43m,\u001b[49m\n\u001b[1;32m      5\u001b[0m \u001b[43m    \u001b[49m\u001b[43mens_size\u001b[49m\u001b[38;5;241;43m=\u001b[39;49m\u001b[38;5;241;43m30\u001b[39;49m\u001b[43m,\u001b[49m\u001b[43mens_duration\u001b[49m\u001b[38;5;241;43m=\u001b[39;49m\u001b[38;5;241;43m47\u001b[39;49m\u001b[43m,\u001b[49m\u001b[43mens_gap\u001b[49m\u001b[38;5;241;43m=\u001b[39;49m\u001b[38;5;241;43m13\u001b[39;49m\u001b[43m,\u001b[49m\u001b[43mpert_scale\u001b[49m\u001b[38;5;241;43m=\u001b[39;49m\u001b[38;5;241;43m0.01\u001b[39;49m\n\u001b[1;32m      6\u001b[0m \u001b[43m)\u001b[49m\n",
      "File \u001b[0;32m~/ecmwf/tpt_ecmwf/demo/model_crommelin_seasonal.py:432\u001b[0m, in \u001b[0;36mSeasonalCrommelinModel.generate_hindcast_dataset\u001b[0;34m(self, ra_filename_list, hc_dir, t_abs_range, dt_samp, ens_size, ens_duration, ens_gap, pert_scale)\u001b[0m\n\u001b[1;32m    430\u001b[0m ens_filename \u001b[38;5;241m=\u001b[39m join(hc_dir,\u001b[38;5;124mf\u001b[39m\u001b[38;5;124m\"\u001b[39m\u001b[38;5;124mhc\u001b[39m\u001b[38;5;132;01m{\u001b[39;00mt0_str\u001b[38;5;132;01m}\u001b[39;00m\u001b[38;5;124m_to_\u001b[39m\u001b[38;5;132;01m{\u001b[39;00mt1_str\u001b[38;5;132;01m}\u001b[39;00m\u001b[38;5;124m.nc\u001b[39m\u001b[38;5;124m\"\u001b[39m)\n\u001b[1;32m    431\u001b[0m t_ens \u001b[38;5;241m=\u001b[39m np\u001b[38;5;241m.\u001b[39marange(\u001b[38;5;241m0\u001b[39m,ens_duration,dt_samp)\n\u001b[0;32m--> 432\u001b[0m \u001b[38;5;28;43mself\u001b[39;49m\u001b[38;5;241;43m.\u001b[39;49m\u001b[43mintegrate_and_save\u001b[49m\u001b[43m(\u001b[49m\u001b[43mx0\u001b[49m\u001b[43m,\u001b[49m\u001b[43mt_ens\u001b[49m\u001b[43m,\u001b[49m\u001b[43mens_filename\u001b[49m\u001b[43m)\u001b[49m\n\u001b[1;32m    433\u001b[0m \u001b[38;5;66;03m# Advance the initialization time\u001b[39;00m\n\u001b[1;32m    434\u001b[0m t_abs \u001b[38;5;241m=\u001b[39m t_abs_ra[i_time_ra] \u001b[38;5;241m+\u001b[39m ens_gap\n",
      "File \u001b[0;32m~/ecmwf/tpt_ecmwf/demo/model_crommelin_seasonal.py:285\u001b[0m, in \u001b[0;36mSeasonalCrommelinModel.integrate_and_save\u001b[0;34m(self, x0, t_save, traj_filename, metadata_filename, burnin_time)\u001b[0m\n\u001b[1;32m    283\u001b[0m \u001b[38;5;28;01mif\u001b[39;00m \u001b[38;5;129;01mnot\u001b[39;00m (traj_filename\u001b[38;5;241m.\u001b[39mendswith(\u001b[38;5;124m\"\u001b[39m\u001b[38;5;124m.nc\u001b[39m\u001b[38;5;124m\"\u001b[39m)):\n\u001b[1;32m    284\u001b[0m     \u001b[38;5;28;01mraise\u001b[39;00m \u001b[38;5;167;01mException\u001b[39;00m(\u001b[38;5;124m\"\u001b[39m\u001b[38;5;124mThe traj_filename must end with .nc\u001b[39m\u001b[38;5;124m\"\u001b[39m)\n\u001b[0;32m--> 285\u001b[0m x \u001b[38;5;241m=\u001b[39m \u001b[38;5;28;43mself\u001b[39;49m\u001b[38;5;241;43m.\u001b[39;49m\u001b[43mintegrate\u001b[49m\u001b[43m(\u001b[49m\u001b[43mx0\u001b[49m\u001b[43m,\u001b[49m\u001b[43mt_save\u001b[49m\u001b[43m)\u001b[49m\n\u001b[1;32m    286\u001b[0m \u001b[38;5;28;01mif\u001b[39;00m burnin_time \u001b[38;5;241m>\u001b[39m \u001b[38;5;241m0\u001b[39m:\n\u001b[1;32m    287\u001b[0m     ti0 \u001b[38;5;241m=\u001b[39m np\u001b[38;5;241m.\u001b[39mwhere(t_save \u001b[38;5;241m>\u001b[39m burnin_time)[\u001b[38;5;241m0\u001b[39m][\u001b[38;5;241m0\u001b[39m]\n",
      "File \u001b[0;32m~/ecmwf/tpt_ecmwf/demo/model_crommelin_seasonal.py:247\u001b[0m, in \u001b[0;36mSeasonalCrommelinModel.integrate\u001b[0;34m(self, x0, t_save)\u001b[0m\n\u001b[1;32m    245\u001b[0m k1 \u001b[38;5;241m=\u001b[39m \u001b[38;5;28mself\u001b[39m\u001b[38;5;241m.\u001b[39mtendency(x_old)\n\u001b[1;32m    246\u001b[0m k2 \u001b[38;5;241m=\u001b[39m \u001b[38;5;28mself\u001b[39m\u001b[38;5;241m.\u001b[39mtendency(x_old\u001b[38;5;241m+\u001b[39m\u001b[38;5;28mself\u001b[39m\u001b[38;5;241m.\u001b[39mdt_sim\u001b[38;5;241m*\u001b[39mk1\u001b[38;5;241m/\u001b[39m\u001b[38;5;241m2\u001b[39m)\n\u001b[0;32m--> 247\u001b[0m k3 \u001b[38;5;241m=\u001b[39m \u001b[38;5;28;43mself\u001b[39;49m\u001b[38;5;241;43m.\u001b[39;49m\u001b[43mtendency\u001b[49m\u001b[43m(\u001b[49m\u001b[43mx_old\u001b[49m\u001b[38;5;241;43m+\u001b[39;49m\u001b[38;5;28;43mself\u001b[39;49m\u001b[38;5;241;43m.\u001b[39;49m\u001b[43mdt_sim\u001b[49m\u001b[38;5;241;43m*\u001b[39;49m\u001b[43mk2\u001b[49m\u001b[38;5;241;43m/\u001b[39;49m\u001b[38;5;241;43m2\u001b[39;49m\u001b[43m)\u001b[49m\n\u001b[1;32m    248\u001b[0m k4 \u001b[38;5;241m=\u001b[39m \u001b[38;5;28mself\u001b[39m\u001b[38;5;241m.\u001b[39mtendency(x_old\u001b[38;5;241m+\u001b[39m\u001b[38;5;28mself\u001b[39m\u001b[38;5;241m.\u001b[39mdt_sim\u001b[38;5;241m*\u001b[39mk3)\n\u001b[1;32m    249\u001b[0m x_new \u001b[38;5;241m=\u001b[39m x_old \u001b[38;5;241m+\u001b[39m \u001b[38;5;241m1.0\u001b[39m\u001b[38;5;241m/\u001b[39m\u001b[38;5;241m6\u001b[39m\u001b[38;5;241m*\u001b[39m\u001b[38;5;28mself\u001b[39m\u001b[38;5;241m.\u001b[39mdt_sim\u001b[38;5;241m*\u001b[39m(k1 \u001b[38;5;241m+\u001b[39m \u001b[38;5;241m2\u001b[39m\u001b[38;5;241m*\u001b[39mk2 \u001b[38;5;241m+\u001b[39m \u001b[38;5;241m2\u001b[39m\u001b[38;5;241m*\u001b[39mk3 \u001b[38;5;241m+\u001b[39m k4)\n",
      "File \u001b[0;32m~/ecmwf/tpt_ecmwf/demo/model_crommelin_seasonal.py:152\u001b[0m, in \u001b[0;36mSeasonalCrommelinModel.tendency\u001b[0;34m(self, x)\u001b[0m\n\u001b[1;32m    150\u001b[0m xdot \u001b[38;5;241m=\u001b[39m np\u001b[38;5;241m.\u001b[39mzeros((Nx,\u001b[38;5;28mself\u001b[39m\u001b[38;5;241m.\u001b[39mxdim))\n\u001b[1;32m    151\u001b[0m \u001b[38;5;66;03m# ------------ Do the calculation as written -----------------\u001b[39;00m\n\u001b[0;32m--> 152\u001b[0m xdot \u001b[38;5;241m=\u001b[39m \u001b[38;5;28mself\u001b[39m\u001b[38;5;241m.\u001b[39mtendency_forcing(x) \u001b[38;5;241m+\u001b[39m \u001b[38;5;28;43mself\u001b[39;49m\u001b[38;5;241;43m.\u001b[39;49m\u001b[43mtendency_dissipation\u001b[49m\u001b[43m(\u001b[49m\u001b[43mx\u001b[49m\u001b[43m)\u001b[49m \u001b[38;5;241m+\u001b[39m \u001b[38;5;28mself\u001b[39m\u001b[38;5;241m.\u001b[39mtendency_quadratic(x)\n\u001b[1;32m    153\u001b[0m \u001b[38;5;66;03m#gamma_t,gamma_tilde_t,gamma_fpd_t = self.orography_cycle(x[:,6])\u001b[39;00m\n\u001b[1;32m    154\u001b[0m \u001b[38;5;66;03m#xdot[:,0] = gamma_tilde_t[:,0]*x[:,2] - self.q[\"C\"]*(x[:,0] - self.q[\"xstar\"][0])\u001b[39;00m\n\u001b[1;32m    155\u001b[0m \u001b[38;5;66;03m#xdot[:,1] = -(self.q[\"alpha\"][0]*x[:,0] - self.q[\"beta\"][0])*x[:,2] - self.q[\"C\"]*x[:,1] - self.q[\"delta\"][0]*x[:,3]*x[:,5]\u001b[39;00m\n\u001b[0;32m   (...)\u001b[0m\n\u001b[1;32m    164\u001b[0m \u001b[38;5;66;03m#for j in range(self.xdim):\u001b[39;00m\n\u001b[1;32m    165\u001b[0m \u001b[38;5;66;03m#    xdot[:,j] += np.sum(x * (x.dot(self.q[\"bilinear_term\"][j].T)), axis=1)\u001b[39;00m\n\u001b[1;32m    166\u001b[0m \u001b[38;5;28;01mreturn\u001b[39;00m xdot\n",
      "File \u001b[0;32m~/ecmwf/tpt_ecmwf/demo/model_crommelin_seasonal.py:178\u001b[0m, in \u001b[0;36mSeasonalCrommelinModel.tendency_dissipation\u001b[0;34m(self, x)\u001b[0m\n\u001b[1;32m    176\u001b[0m diss[:,:\u001b[38;5;241m-\u001b[39m\u001b[38;5;241m1\u001b[39m] \u001b[38;5;241m=\u001b[39m x[:,:\u001b[38;5;241m-\u001b[39m\u001b[38;5;241m1\u001b[39m]\u001b[38;5;241m.\u001b[39mdot(\u001b[38;5;28mself\u001b[39m\u001b[38;5;241m.\u001b[39mq[\u001b[38;5;124m\"\u001b[39m\u001b[38;5;124mlinear_term\u001b[39m\u001b[38;5;124m\"\u001b[39m]\u001b[38;5;241m.\u001b[39mT)\n\u001b[1;32m    177\u001b[0m \u001b[38;5;66;03m# Modify the time-dependent components\u001b[39;00m\n\u001b[0;32m--> 178\u001b[0m gamma_t,gamma_tilde_t,gamma_fpd_t,gammadot_t,gammadot_tilde_t,gammadot_fpd_t \u001b[38;5;241m=\u001b[39m \u001b[38;5;28;43mself\u001b[39;49m\u001b[38;5;241;43m.\u001b[39;49m\u001b[43morography_cycle\u001b[49m\u001b[43m(\u001b[49m\u001b[43mx\u001b[49m\u001b[43m[\u001b[49m\u001b[43m:\u001b[49m\u001b[43m,\u001b[49m\u001b[38;5;241;43m6\u001b[39;49m\u001b[43m]\u001b[49m\u001b[43m)\u001b[49m\n\u001b[1;32m    179\u001b[0m diss[:,\u001b[38;5;241m0\u001b[39m] \u001b[38;5;241m+\u001b[39m\u001b[38;5;241m=\u001b[39m gamma_tilde_t[:,\u001b[38;5;241m0\u001b[39m]\u001b[38;5;241m*\u001b[39mx[:,\u001b[38;5;241m2\u001b[39m]\n\u001b[1;32m    180\u001b[0m diss[:,\u001b[38;5;241m2\u001b[39m] \u001b[38;5;241m-\u001b[39m\u001b[38;5;241m=\u001b[39m gamma_t[:,\u001b[38;5;241m0\u001b[39m]\u001b[38;5;241m*\u001b[39mx[:,\u001b[38;5;241m0\u001b[39m]\n",
      "File \u001b[0;32m~/ecmwf/tpt_ecmwf/demo/model_crommelin_seasonal.py:117\u001b[0m, in \u001b[0;36mSeasonalCrommelinModel.orography_cycle\u001b[0;34m(self, t_abs)\u001b[0m\n\u001b[1;32m    115\u001b[0m gamma_t \u001b[38;5;241m=\u001b[39m np\u001b[38;5;241m.\u001b[39mouter(cosine, (\u001b[38;5;28mself\u001b[39m\u001b[38;5;241m.\u001b[39mq[\u001b[38;5;124m\"\u001b[39m\u001b[38;5;124mgamma_limits\u001b[39m\u001b[38;5;124m\"\u001b[39m][\u001b[38;5;241m1\u001b[39m,:] \u001b[38;5;241m-\u001b[39m \u001b[38;5;28mself\u001b[39m\u001b[38;5;241m.\u001b[39mq[\u001b[38;5;124m\"\u001b[39m\u001b[38;5;124mgamma_limits\u001b[39m\u001b[38;5;124m\"\u001b[39m][\u001b[38;5;241m0\u001b[39m,:])\u001b[38;5;241m/\u001b[39m\u001b[38;5;241m2\u001b[39m) \u001b[38;5;241m+\u001b[39m (\u001b[38;5;28mself\u001b[39m\u001b[38;5;241m.\u001b[39mq[\u001b[38;5;124m\"\u001b[39m\u001b[38;5;124mgamma_limits\u001b[39m\u001b[38;5;124m\"\u001b[39m][\u001b[38;5;241m0\u001b[39m,:] \u001b[38;5;241m+\u001b[39m \u001b[38;5;28mself\u001b[39m\u001b[38;5;241m.\u001b[39mq[\u001b[38;5;124m\"\u001b[39m\u001b[38;5;124mgamma_limits\u001b[39m\u001b[38;5;124m\"\u001b[39m][\u001b[38;5;241m1\u001b[39m,:])\u001b[38;5;241m/\u001b[39m\u001b[38;5;241m2\u001b[39m\n\u001b[1;32m    116\u001b[0m gammadot_t \u001b[38;5;241m=\u001b[39m np\u001b[38;5;241m.\u001b[39mouter(\u001b[38;5;241m-\u001b[39msine, (\u001b[38;5;28mself\u001b[39m\u001b[38;5;241m.\u001b[39mq[\u001b[38;5;124m\"\u001b[39m\u001b[38;5;124mgamma_limits\u001b[39m\u001b[38;5;124m\"\u001b[39m][\u001b[38;5;241m1\u001b[39m,:] \u001b[38;5;241m-\u001b[39m \u001b[38;5;28mself\u001b[39m\u001b[38;5;241m.\u001b[39mq[\u001b[38;5;124m\"\u001b[39m\u001b[38;5;124mgamma_limits\u001b[39m\u001b[38;5;124m\"\u001b[39m][\u001b[38;5;241m0\u001b[39m,:])\u001b[38;5;241m/\u001b[39m\u001b[38;5;241m2\u001b[39m)\n\u001b[0;32m--> 117\u001b[0m gamma_tilde_t \u001b[38;5;241m=\u001b[39m np\u001b[38;5;241m.\u001b[39mouter(cosine, (\u001b[38;5;28mself\u001b[39m\u001b[38;5;241m.\u001b[39mq[\u001b[38;5;124m\"\u001b[39m\u001b[38;5;124mgamma_tilde_limits\u001b[39m\u001b[38;5;124m\"\u001b[39m][\u001b[38;5;241m1\u001b[39m,:] \u001b[38;5;241m-\u001b[39m \u001b[38;5;28mself\u001b[39m\u001b[38;5;241m.\u001b[39mq[\u001b[38;5;124m\"\u001b[39m\u001b[38;5;124mgamma_tilde_limits\u001b[39m\u001b[38;5;124m\"\u001b[39m][\u001b[38;5;241m0\u001b[39m,:])\u001b[38;5;241m/\u001b[39m\u001b[38;5;241m2\u001b[39m) \u001b[38;5;241m+\u001b[39m \u001b[43m(\u001b[49m\u001b[38;5;28;43mself\u001b[39;49m\u001b[38;5;241;43m.\u001b[39;49m\u001b[43mq\u001b[49m\u001b[43m[\u001b[49m\u001b[38;5;124;43m\"\u001b[39;49m\u001b[38;5;124;43mgamma_tilde_limits\u001b[39;49m\u001b[38;5;124;43m\"\u001b[39;49m\u001b[43m]\u001b[49m\u001b[43m[\u001b[49m\u001b[38;5;241;43m0\u001b[39;49m\u001b[43m,\u001b[49m\u001b[43m:\u001b[49m\u001b[43m]\u001b[49m\u001b[43m \u001b[49m\u001b[38;5;241;43m+\u001b[39;49m\u001b[43m \u001b[49m\u001b[38;5;28;43mself\u001b[39;49m\u001b[38;5;241;43m.\u001b[39;49m\u001b[43mq\u001b[49m\u001b[43m[\u001b[49m\u001b[38;5;124;43m\"\u001b[39;49m\u001b[38;5;124;43mgamma_tilde_limits\u001b[39;49m\u001b[38;5;124;43m\"\u001b[39;49m\u001b[43m]\u001b[49m\u001b[43m[\u001b[49m\u001b[38;5;241;43m1\u001b[39;49m\u001b[43m,\u001b[49m\u001b[43m:\u001b[49m\u001b[43m]\u001b[49m\u001b[43m)\u001b[49m\u001b[38;5;241;43m/\u001b[39;49m\u001b[38;5;241;43m2\u001b[39;49m\n\u001b[1;32m    118\u001b[0m gammadot_tilde_t \u001b[38;5;241m=\u001b[39m np\u001b[38;5;241m.\u001b[39mouter(\u001b[38;5;241m-\u001b[39msine, (\u001b[38;5;28mself\u001b[39m\u001b[38;5;241m.\u001b[39mq[\u001b[38;5;124m\"\u001b[39m\u001b[38;5;124mgamma_tilde_limits\u001b[39m\u001b[38;5;124m\"\u001b[39m][\u001b[38;5;241m1\u001b[39m,:] \u001b[38;5;241m-\u001b[39m \u001b[38;5;28mself\u001b[39m\u001b[38;5;241m.\u001b[39mq[\u001b[38;5;124m\"\u001b[39m\u001b[38;5;124mgamma_tilde_limits\u001b[39m\u001b[38;5;124m\"\u001b[39m][\u001b[38;5;241m0\u001b[39m,:])\u001b[38;5;241m/\u001b[39m\u001b[38;5;241m2\u001b[39m) \u001b[38;5;241m+\u001b[39m (\u001b[38;5;28mself\u001b[39m\u001b[38;5;241m.\u001b[39mq[\u001b[38;5;124m\"\u001b[39m\u001b[38;5;124mgamma_tilde_limits\u001b[39m\u001b[38;5;124m\"\u001b[39m][\u001b[38;5;241m0\u001b[39m,:] \u001b[38;5;241m+\u001b[39m \u001b[38;5;28mself\u001b[39m\u001b[38;5;241m.\u001b[39mq[\u001b[38;5;124m\"\u001b[39m\u001b[38;5;124mgamma_tilde_limits\u001b[39m\u001b[38;5;124m\"\u001b[39m][\u001b[38;5;241m1\u001b[39m,:])\u001b[38;5;241m/\u001b[39m\u001b[38;5;241m2\u001b[39m\n\u001b[1;32m    119\u001b[0m gamma_fpd_t \u001b[38;5;241m=\u001b[39m cosine \u001b[38;5;241m*\u001b[39m (\u001b[38;5;28mself\u001b[39m\u001b[38;5;241m.\u001b[39mq[\u001b[38;5;124m\"\u001b[39m\u001b[38;5;124mgamma_limits_fpd\u001b[39m\u001b[38;5;124m\"\u001b[39m][\u001b[38;5;241m1\u001b[39m] \u001b[38;5;241m-\u001b[39m \u001b[38;5;28mself\u001b[39m\u001b[38;5;241m.\u001b[39mq[\u001b[38;5;124m\"\u001b[39m\u001b[38;5;124mgamma_limits_fpd\u001b[39m\u001b[38;5;124m\"\u001b[39m][\u001b[38;5;241m0\u001b[39m])\u001b[38;5;241m/\u001b[39m\u001b[38;5;241m2\u001b[39m \n",
      "\u001b[0;31mKeyboardInterrupt\u001b[0m: "
     ]
    }
   ],
   "source": [
    "# Generate hindcast dataset\n",
    "t_abs_range = crom.q[\"year_length\"]*np.array([1960,1970])\n",
    "crom.generate_hindcast_dataset(\n",
    "    [traj_filename_ra],filedict[\"hc\"][\"traj\"][\"dir\"],t_abs_range,dt_samp,\n",
    "    ens_size=30,ens_duration=47,ens_gap=13,pert_scale=0.01\n",
    ")"
   ]
  },
  {
   "cell_type": "markdown",
   "metadata": {},
   "source": [
    "Extract features of interest from both the reanalysis and hindcast datasets. This will be expensive, as we have to read from a large database of files. Therefore, we should minimize the number of times we do this in development. Therefore, we should read in ALL possible features we MIGHT use for the downstream tasks of K-means clustering. Some extra reduction is likely necessary."
   ]
  },
  {
   "cell_type": "code",
   "execution_count": 11,
   "metadata": {},
   "outputs": [
    {
     "data": {
      "text/plain": [
       "<module 'feature_crommelin' from '/home/jf4241/ecmwf/tpt_ecmwf/demo/feature_crommelin.py'>"
      ]
     },
     "execution_count": 11,
     "metadata": {},
     "output_type": "execute_result"
    }
   ],
   "source": [
    "reload(feature_crommelin)"
   ]
  },
  {
   "cell_type": "markdown",
   "metadata": {},
   "source": [
    "# All possible features for DGA"
   ]
  },
  {
   "cell_type": "code",
   "execution_count": 13,
   "metadata": {},
   "outputs": [],
   "source": [
    "# Extract all features of potential use from the reanalysis dataset. \n",
    "# Don't waste RAM by time-delay embedding explicitly\n",
    "# Encode this in a function that loops through all files in a directory and puts features into one file\n",
    "crom_feat = feature_crommelin.SeasonalCrommelinModelFeatures()\n",
    "qra = pickle.load(open(param_filename_ra,\"rb\"))"
   ]
  },
  {
   "cell_type": "code",
   "execution_count": 39,
   "metadata": {},
   "outputs": [],
   "source": [
    "# WARNING! So that this steps work, the 'feature' coordinate of each observable must be uniquely named. \n",
    "# For example, if the identity observable and energy observable both have a coordinate called \"feature\", \n",
    "# then xarray will assume it's the same and smush them together, filling in NaNs. x\n",
    "feat_all = dict()"
   ]
  },
  {
   "cell_type": "code",
   "execution_count": 14,
   "metadata": {},
   "outputs": [],
   "source": [
    "for src in [\"ra\",\"hc\"]:\n",
    "    ds_feature_list = []\n",
    "    file_list = [f for f in os.listdir(filedict[src][\"traj\"][\"dir\"]) if (f.startswith(src) and f.endswith(\".nc\"))]\n",
    "    for filename in file_list:\n",
    "        ds = xr.open_dataset(join(filedict[src][\"traj\"][\"dir\"], filename))\n",
    "        ds_feature_list += [\n",
    "            xr.Dataset(\n",
    "                data_vars = dict({\n",
    "                    \"identity\": crom_feat.identity_observable(ds, qra),\n",
    "                    \"energy\": crom_feat.energy_observable(ds, qra),\n",
    "                    \"energy_tendency\": crom_feat.energy_tendency_observable(ds, qra),\n",
    "                    \"energy_exchange\": crom_feat.energy_exchange_observable(ds, qra),\n",
    "                    \"phase\": crom_feat.phase_observable(ds, qra),\n",
    "                })\n",
    "            )\n",
    "        ]\n",
    "        ds.close()\n",
    "    feat_all[src] = xr.concat(ds_feature_list,dim=\"ensemble\") # ensemble is a new dimension\n",
    "    feat_all[src].to_netcdf(join(filedict[src][\"feat_all\"][\"dir\"], filedict[src][\"feat_all\"][\"filename\"]))"
   ]
  },
  {
   "cell_type": "markdown",
   "metadata": {},
   "source": [
    "# Subset observables for use in DGA"
   ]
  },
  {
   "cell_type": "code",
   "execution_count": null,
   "metadata": {},
   "outputs": [],
   "source": [
    "feat_all = dict()\n",
    "feat_tpt = dict()\n",
    "for src in [\"ra\",\"hc\"]:\n",
    "    feat_all[src] = xr.open_dataset(join(filedict[src][\"feat_all\"][\"dir\"], filedict[src][\"feat_all\"][\"filename\"]))\n",
    "    da_tpt = xr.DataArray(\n",
    "        coords = {\n",
    "            \"ensemble\": feat_all[src].coords[\"ensemble\"],\n",
    "            \"member\": feat_all[src].coords[\"member\"],\n",
    "            \"t_sim\": feat_all[src].coords[\"t_sim\"],\n",
    "            \"feature\": [\"E_01\",\"E_02\",\"E_11\",\"E_12\",\"E_tot\",\"Edot_dissipation\",\"Edot_forcing\"],\n",
    "        },\n",
    "        data = np.zeros((feat_all[src][\"ensemble\"].size, feat_all[src][\"member\"].size, feat_all[src][\"t_sim\"].size, 7)),\n",
    "    )\n",
    "    da_tpt.loc[dict(feature=\"E_01\")] = feat_all[src][\"energy\"].sel(reservoir=\"E01\")\n",
    "    # TODO: finish filling in the rest"
   ]
  },
  {
   "cell_type": "code",
   "execution_count": 35,
   "metadata": {},
   "outputs": [],
   "source": [
    "epd = dict(\n",
    "    dt_szn = 0.74,\n",
    "    szn_start = 300.0,\n",
    "    szn_length = 250.0,\n",
    "    year_length = 400.0,\n",
    "    szn_avg_window = 5.0,\n",
    ")\n",
    "epd[\"Nt_szn\"] = int(epd[\"szn_length\"] / epd[\"dt_szn\"])"
   ]
  },
  {
   "cell_type": "code",
   "execution_count": 36,
   "metadata": {},
   "outputs": [],
   "source": [
    "crom_feat.set_event_params(epd)"
   ]
  },
  {
   "cell_type": "code",
   "execution_count": 38,
   "metadata": {},
   "outputs": [],
   "source": [
    "data_vars_clim = dict()\n",
    "t_dim = np.where(np.array(feat_all[\"hc\"].dims) == 't_sim')[0][0]\n",
    "for obs_name in list(feat_all[\"hc\"].data_vars.keys()):\n",
    "    shp = list(feat_all[\"hc\"][obs_name].shape)\n",
    "    shp[t_dim] = crom_feat.Nt_szn\n",
    "    data_vars_clim[obs_name] = np.zeros(shp)"
   ]
  },
  {
   "cell_type": "code",
   "execution_count": null,
   "metadata": {},
   "outputs": [],
   "source": [
    "for obs_name in list(feat_all[\"hc\"].data_vars.keys()):\n",
    "    "
   ]
  },
  {
   "cell_type": "code",
   "execution_count": 15,
   "metadata": {},
   "outputs": [
    {
     "data": {
      "text/plain": [
       "KeysView(Data variables:\n",
       "    identity         (ensemble, member, t_sim, feature) float64 0.8252 ... 8....\n",
       "    energy           (ensemble, member, t_sim, reservoir) float64 0.3405 ... nan\n",
       "    energy_tendency  (ensemble, member, t_sim, reservoir) float64 nan ... 0.0\n",
       "    energy_exchange  (ensemble, member, t_sim, source, sink) float64 0.0 ... 0.0\n",
       "    phase            (ensemble, member, t_sim, wavenumber) float64 0.6467 ......)"
      ]
     },
     "execution_count": 15,
     "metadata": {},
     "output_type": "execute_result"
    }
   ],
   "source": [
    "feat_all[\"ra\"].data_vars.keys()"
   ]
  },
  {
   "cell_type": "code",
   "execution_count": null,
   "metadata": {},
   "outputs": [],
   "source": [
    "# Load the already-executed model (contiguous)\n",
    "X_ra_cont = xr.open_dataset(traj_filename_ra)[\"X\"]\n",
    "print(X_ra_cont.sel(feature=\"x1\").isel(t_sim=0))\n",
    "print(X_ra_cont.sel(feature=\"x2\").isel(t_sim=0))"
   ]
  },
  {
   "cell_type": "code",
   "execution_count": null,
   "metadata": {},
   "outputs": [],
   "source": [
    "# Plot x1 and x4 over time for 4 annual cycles\n",
    "fig,ax = plt.subplots(ncols=2, figsize=(12,6))\n",
    "xr.plot.plot(\n",
    "    X_ra_cont.sel(feature='x1',member=0)\n",
    "    .where(X_ra_cont['t_sim'] < 4*crom.q[\"year_length\"], drop=True),\n",
    "    x='t_sim', ax=ax[0]\n",
    ")\n",
    "xr.plot.plot(\n",
    "    X_ra_cont.sel(feature='x4',member=0)\n",
    "    .where(X_ra_cont['t_sim'] < 4*crom.q[\"year_length\"], drop=True),\n",
    "    x='t_sim', ax=ax[1]\n",
    ")\n"
   ]
  },
  {
   "cell_type": "code",
   "execution_count": null,
   "metadata": {},
   "outputs": [],
   "source": [
    "# Compute the climatology\n",
    "feat_crom.compute_climatology(in_filename,save_filename)"
   ]
  },
  {
   "cell_type": "code",
   "execution_count": null,
   "metadata": {},
   "outputs": [],
   "source": [
    "# Plot some hindcasts on top of climatology\n"
   ]
  },
  {
   "cell_type": "code",
   "execution_count": null,
   "metadata": {},
   "outputs": [],
   "source": []
  }
 ],
 "metadata": {
  "kernelspec": {
   "display_name": "my_env",
   "language": "python",
   "name": "my_env"
  },
  "language_info": {
   "codemirror_mode": {
    "name": "ipython",
    "version": 3
   },
   "file_extension": ".py",
   "mimetype": "text/x-python",
   "name": "python",
   "nbconvert_exporter": "python",
   "pygments_lexer": "ipython3",
   "version": "3.9.5"
  }
 },
 "nbformat": 4,
 "nbformat_minor": 4
}
