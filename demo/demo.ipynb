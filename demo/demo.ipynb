{
 "cells": [
  {
   "cell_type": "code",
   "execution_count": 1,
   "metadata": {},
   "outputs": [],
   "source": [
    "# Imports\n",
    "import pickle\n",
    "import pandas\n",
    "import numpy as np\n",
    "from scipy.stats import binom as scipy_binom\n",
    "import datetime\n",
    "from calendar import monthrange\n",
    "import time as timelib\n",
    "import matplotlib\n",
    "matplotlib.use('AGG')\n",
    "import matplotlib.colors as colors\n",
    "import matplotlib.pyplot as plt \n",
    "matplotlib.rcParams['font.size'] = 12\n",
    "matplotlib.rcParams['font.family'] = 'serif'\n",
    "matplotlib.rcParams['savefig.bbox'] = 'tight'\n",
    "matplotlib.rcParams['savefig.pad_inches'] = 0.2 \n",
    "smallfont = {'family': 'serif', 'size': 12} \n",
    "font = {'family': 'serif', 'size': 18} \n",
    "bigfont = {'family': 'serif', 'size': 40} \n",
    "giantfont = {'family': 'serif', 'size': 80} \n",
    "ggiantfont = {'family': 'serif', 'size': 120}\n",
    "import netCDF4 as nc\n",
    "import sys \n",
    "import os\n",
    "from os import mkdir\n",
    "from os.path import join,exists\n",
    "codedir = \"/home/jf4241/ecmwf/tpt_ecmwf\"\n",
    "os.chdir(codedir)\n",
    "import helper\n",
    "import strat_feat\n",
    "import tpt_general"
   ]
  },
  {
   "cell_type": "code",
   "execution_count": null,
   "metadata": {},
   "outputs": [],
   "source": [
    "# Set directories\n",
    "datadirs = dict({\n",
    "    \"ei\": \"/scratch/jf4241/ecmwf_data/eraint_data/2022-02-10\",\n",
    "    \"e2\": \"/scratch/jf4241/ecmwf_data/era20c_data/2022-02-10\",\n",
    "    \"e5\": \"/scratch/jf4241/ecmwf_data/era5_data/2022-03-10\",\n",
    "    \"s2s\": \"/scratch/jf4241/ecmwf_data/s2s_data/2021-12-23\",\n",
    "    })\n",
    "sources = list(datadirs.keys())\n",
    "featdir = \"/scratch/jf4241/ecmwf_data/features/2022-04-25\"\n",
    "if not exists(featdir): mkdir(featdir)\n",
    "feat_display_dir = join(featdir,\"display0\")\n",
    "if not exists(feat_display_dir): mkdir(feat_display_dir)\n",
    "resultsdir = \"/scratch/jf4241/ecmwf_data/results\"\n",
    "if not exists(resultsdir): mkdir(resultsdir)\n",
    "daydir = join(resultsdir,\"2022-04-25\")\n",
    "if not exists(daydir): mkdir(daydir)\n",
    "expdir = join(daydir,\"1\")\n",
    "if not exists(expdir): mkdir(expdir)"
   ]
  },
  {
   "cell_type": "code",
   "execution_count": 3,
   "metadata": {},
   "outputs": [
    {
     "name": "stdout",
     "output_type": "stream",
     "text": [
      "README.md\t\t      hm.out\t\ts2s_request.sbatch\r\n",
      "Untitled.ipynb\t\t      output\t\ts2s_request.txt\r\n",
      "Untitled1.ipynb\t\t      progress_s2s.txt\ts2s_request_october.out\r\n",
      "__pycache__\t\t      s2s.err\t\ts2s_request_october.py\r\n",
      "driver2.py\t\t      s2s.out\t\ts2s_request_october.txt\r\n",
      "flux_dens_tob_tth13624.0.npy  s2s.sbatch\tsrc_dest\r\n",
      "flux_dens_tob_tth14368.0.npy  s2s0.out\t\tstrat_feat.py\r\n",
      "grb2nc.sbatch\t\t      s2s1.out\t\ttdmc_obj.py\r\n",
      "grb2nc_era20c.sh\t      s2s2.out\t\ttpt_era20c.py\r\n",
      "grb2nc_eraint.sh\t      s2s_msg.txt\ttpt_general.py\r\n",
      "grb2nc_s2s.sh\t\t      s2s_request.out\tvisualize_one_ensemble.py\r\n",
      "helper.py\t\t      s2s_request.py\r\n"
     ]
    }
   ],
   "source": [
    "!ls"
   ]
  },
  {
   "cell_type": "code",
   "execution_count": 4,
   "metadata": {},
   "outputs": [],
   "source": [
    "import cartopy"
   ]
  },
  {
   "cell_type": "code",
   "execution_count": 5,
   "metadata": {},
   "outputs": [],
   "source": [
    "import helper"
   ]
  },
  {
   "cell_type": "code",
   "execution_count": 8,
   "metadata": {},
   "outputs": [
    {
     "data": {
      "text/plain": [
       "(3.141592653589793, 3)"
      ]
     },
     "execution_count": 8,
     "metadata": {},
     "output_type": "execute_result"
    }
   ],
   "source": [
    "helper.mantexp(np.pi*1000)"
   ]
  },
  {
   "cell_type": "code",
   "execution_count": null,
   "metadata": {},
   "outputs": [],
   "source": []
  }
 ],
 "metadata": {
  "kernelspec": {
   "display_name": "my_env",
   "language": "python",
   "name": "my_env"
  },
  "language_info": {
   "codemirror_mode": {
    "name": "ipython",
    "version": 3
   },
   "file_extension": ".py",
   "mimetype": "text/x-python",
   "name": "python",
   "nbconvert_exporter": "python",
   "pygments_lexer": "ipython3",
   "version": "3.9.5"
  }
 },
 "nbformat": 4,
 "nbformat_minor": 4
}
