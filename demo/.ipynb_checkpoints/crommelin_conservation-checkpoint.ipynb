{
 "cells": [
  {
   "cell_type": "markdown",
   "metadata": {},
   "source": [
    "# Physical coordinates for the Crommelin model"
   ]
  },
  {
   "cell_type": "markdown",
   "metadata": {},
   "source": [
    "## Energy and enstrophy \n",
    "\n",
    "The dynamics of regime transitions are more interpretable when viewed in a space of approximately conserved quantities. In particular, we focus on the *energy* $E$ and *enstrophy* $\\Omega$, defined as follows:\n",
    "\n",
    "\\begin{align}\n",
    "    E&=\\iint_D\\frac12\\big[u(x,y)^2+v(x,y)^2\\big]\\,dA\\\\\n",
    "    \\Omega&=\\iint_D\\frac12\\big[\\partial_xv(x,y)-\\partial_yu(x,y)\\big]^2\\,dA\n",
    "\\end{align}\n",
    "\n",
    "where $D=[0,2\\pi)\\times[0,\\pi b)$ is the domain and $dA$ is the area element. The flow is periodic in $x$ and zero-flux in $y$, meaning that $v(x,0)=0$ and $v(x,\\pi b)=0$ for all $x$. Additionally, Crommelin imposes the more mysterious boundary condition $\\int_0^{2\\pi}u(x,0)=\\int_0^{2\\pi}u(x,\\pi b)=0$. I don't have a good explanation for this, other than that it makes for nice orthogonality relations on the basis functions below. \n",
    "\n",
    "In this model, the flow is incompressible so that $u$ and $v$ are determined entirely by the streamfunction $\\psi(x,y)$, through the relations $u=-\\partial_y\\psi$, $v=\\partial_x\\psi$. This lets us write $E$ and $\\Omega$ completely in terms of $\\psi$:\n",
    "\n",
    "\\begin{align}\n",
    "    \\Omega&=\\frac12\\iint(\\nabla^2\\psi)^2\\,dA\\\\\n",
    "    E&=\\frac12\\iint|\\nabla\\psi|^2\\,dA\\\\\n",
    "    &=\\frac12\\iint\\big[\\nabla\\cdot(\\psi\\nabla\\psi)-\\psi\\nabla^2\\psi\\big]\\,dA\\\\\n",
    "    &=\\frac12\\int_{\\partial D}\\psi\\nabla\\psi\\cdot\\mathbf{n}\\,dS-\\frac12\\iint_D\\psi\\nabla^2\\psi\\,dA\n",
    "\\end{align}\n",
    "\n",
    "The boundary term will vanish. To see this, we decompose it explicitly over the upper and lower boundaries\n",
    "\n",
    "\\begin{align}\n",
    "    \\int_{\\partial D}\\psi\\nabla\\psi\\cdot\\mathbf{n}\\,dS&=\\int_0^{2\\pi}\\big[\\psi(x,\\pi b)\\partial_y\\psi(x,\\pi b)-\\psi(x,0)\\partial_y\\psi(x,0)\\big]\\,dx\n",
    "\\end{align}\n",
    "\n",
    "Now, since $\\partial_x\\psi=v=0$ on these two boundaries, $\\psi$ is constant along both boundaries, so that term can be pulled out of both integrals. This leaves $\\int\\partial_y\\psi\\,dx$, in other words $\\int u\\,dx$. But the mysterious boundary condition above stipulates this is zero, and so the whole boundary term vanishes. "
   ]
  },
  {
   "cell_type": "markdown",
   "metadata": {},
   "source": [
    "# Expressing energy and enstrophy\n"
   ]
  },
  {
   "cell_type": "markdown",
   "metadata": {},
   "source": [
    "## Orthogonality of modes\n",
    "\n",
    "Crommelin, following Charney \\& Devore, expands $\\psi$ in Fourier modes $\\phi_{n,m}$ (eigenfunctions of the Laplacian) with coefficients $\\psi_{n,m}$, as follows:\n",
    "\\begin{align}\n",
    "    \\psi(t,x,y)&=\\sum_{n=-1}^1\\sum_{m=1}^2\\psi_{n,m}(t)\\phi_{n,m}(x,y)\n",
    "\\end{align}\n",
    "\n",
    "where\n",
    "\n",
    "\\begin{align}\n",
    "    \\phi_{n,m}(x,y)&=\\sqrt2e^{inx}\\times\\begin{cases}\\cos(my/b) & n=0 \\\\ \\sin(my/b) & n\\neq0\\end{cases}\n",
    "\\end{align}\n",
    "\n",
    "So $\\phi_{n,m}$ is an eigenfunction of the Laplacian with eigenvalue $-(n^2+m^2/b^2)$. \n",
    "\n",
    "We can express $E$ and $\\Omega$ neatly in terms of the coefficients $\\psi_{n,m}$ with the following arguments. First, let's verify that $\\{\\phi_{n,m}\\}$ form an orthogonal set over $D$ by checking that\n",
    "\n",
    "\\begin{align}\n",
    "    \\langle\\phi_{n_1,m_1},\\phi_{n_2,m_2}\\rangle:=\\iint_D\\phi_{n_1,m_1}\\phi_{n_2,m_2}^*\\,dA=0\n",
    "\\end{align}\n",
    "\n",
    "unless $n_1=n_2$ and $m_1=m_2$. We have to split into a few cases.\n",
    "\n"
   ]
  },
  {
   "cell_type": "markdown",
   "metadata": {},
   "source": [
    "1. $n_1=n_2=0$\n",
    "\n",
    "\\begin{align}\n",
    "    \\langle\\phi_{0,m_1},\\phi_{0,m_2}\\rangle&=2\\pi\\int_0^{\\pi b}2\\cos\\bigg(\\frac{m_1y}{b}\\bigg)\\cos\\bigg(\\frac{m_2y}{b}\\bigg)\\,dy\\\\\n",
    "    &=4\\pi\\int_0^\\pi\\cos(m_1\\theta)\\cos(m_2\\theta)\\,d(b\\theta)\\\\\n",
    "    &=4\\pi b\\int_0^\\pi\\frac12\\big[\\cos\\big((m_1+m_2)\\theta\\big)+\\cos\\big((m_1-m_2)\\theta\\big)\\big]\\,d\\theta\\\\\n",
    "\\end{align}\n",
    "The first term is always zero, as $m_1+m_2$ is a positive integer, and cosine integrates to zero from 0 to any multiple of $\\pi$. The second term is also zero as long as $m_1\\neq m_2$. If $m_1=m_2$, the integrand is $1$. Therefore\n",
    "\\begin{align}\n",
    "    \\langle\\phi_{0,m_1},\\phi_{0,m_2}\\rangle&=2\\pi^2b\\delta_{m_1,m_2}\n",
    "\\end{align}\n",
    "\n",
    "2. $n_1=0, n_2\\neq0$\n",
    "\n",
    "\\begin{align}\n",
    "    \\langle\\phi_{0,m_1},\\phi_{n_2,m_2}\\rangle&=\\int_0^{2\\pi}\\int_0^{\\pi b}2e^{-in_2x}\\cos\\bigg(\\frac{m_1y}{b}\\bigg)\\sin\\bigg(\\frac{m_2y}{b}\\bigg)\\,dy\\,dx=0\n",
    "\\end{align}\n",
    "simply because $\\int_0^{2\\pi}e^{-in_2x}=0$ for any nonzero integer $n_2$. \n",
    "\n",
    "3. $n_1\\neq0, n_2\\neq0$\n",
    "\n",
    "\\begin{align}\n",
    "    \\langle\\phi_{n_1,m_1},\\phi_{n_2,m_2}\\rangle&=\\int_0^{2\\pi}\\int_0^{\\pi b}2e^{i(n_1-n_2)x}\\sin\\bigg(\\frac{m_1y}{b}\\bigg)\\sin\\bigg(\\frac{m_2y}{b}\\bigg)\\,dy\\,dx\n",
    "\\end{align}\n",
    "If $n_1\\neq n_2$, this is zero for the same reason as case (2) above. Otherwise, $e^{i(n_1-n_2)x}=1$ and we proceed to integrate the product of sinusoids.\n",
    "\n",
    "\\begin{align}\n",
    "    \\langle\\phi_{n_1,m_1},\\phi_{n_2,m_2}\\rangle&=4\\pi\\int_0^{\\pi}\\sin(m_1\\theta)\\sin(m_2\\theta)\\,d(b\\theta)\\\\\n",
    "    &=4\\pi b\\int_0^\\pi\\frac12\\big[\\cos\\big((m_1-m_2)\\theta\\big)-\\cos\\big((m_1+m_2)\\theta\\big)\\big]\\,d\\theta\\\\\n",
    "    &=2\\pi^2b\\delta_{m_1,m_2}\n",
    "\\end{align}\n",
    "for the same reason as above. We conclude in general that\n",
    "\n",
    "\\begin{align}\n",
    "    \\langle\\phi_{n_1,m_1}\\phi_{n_2,m_2}\\rangle=2\\pi^2b\\delta_{m_1,m_2}\\delta_{n_1,n_2}\n",
    "\\end{align}"
   ]
  },
  {
   "cell_type": "markdown",
   "metadata": {},
   "source": [
    "## Energy and enstrophy expansion in modes"
   ]
  },
  {
   "cell_type": "markdown",
   "metadata": {},
   "source": [
    "With the orthogonality relations above, we can expand the integrals defining energy and enstrophy in terms of the modes $\\phi_{n,m}$ and simply i\n",
    "\n",
    "\\begin{align}\n",
    "    E&=-\\frac12\\langle\\psi,\\nabla^2\\psi\\rangle\\\\\n",
    "    &=-\\frac12\\sum_{n,m}\\sum_{k,\\ell}\\psi_{n,m}\\psi_{k,\\ell}^\\star\\langle\\phi_{n,m},\\nabla^2\\phi_{k,\\ell}\\rangle\\\\\n",
    "    &=\\frac12\\sum_{n,m}\\sum_{k,\\ell}\\psi_{n,m}\\psi_{k,\\ell}^\\star\\bigg(k^2+\\frac{\\ell^2}{b^2}\\bigg)\\langle\\phi_{n,m},\\phi_{k,\\ell}\\rangle\\\\\n",
    "    &=\\frac12\\sum_{n,m}\\sum_{k,\\ell}\\psi_{n,m}\\psi_{k,\\ell}^\\star\\bigg(k^2+\\frac{\\ell^2}{b^2}\\bigg)2\\pi^2b\\delta_{n,k}\\delta_{m,\\ell}\\\\\n",
    "    &=\\pi^2b\\sum_{n,m}|\\psi_{n,m}|^2\\bigg(n^2+\\frac{m^2}{b^2}\\bigg)\n",
    "\\end{align}\n",
    "\n",
    "With completely analogous arguments, the enstrophy is\n",
    "\\begin{align}\n",
    "    \\Omega&=\\frac12\\langle\\nabla^2\\psi,\\nabla^2\\psi\\rangle\\\\\n",
    "    &=\\pi^2b\\sum_{n,m}|\\psi_{n,m}|^2\\bigg(n^2+\\frac{m^2}{b^2}\\bigg)^2\n",
    "\\end{align}"
   ]
  },
  {
   "cell_type": "markdown",
   "metadata": {},
   "source": [
    "But let us now convert to expressions involving the real variables $x_1,...,x_6$ used in simulation, defined by Crommelin as \n",
    "\n",
    "\\begin{align}\n",
    "    x_1&=\\frac1b\\psi_{0,1}\\\\\n",
    "    x_2&=\\frac{1}{b\\sqrt2}(\\psi_{1,1}+\\psi_{-1,1})\\\\\n",
    "    x_3&=\\frac{i}{b\\sqrt2}(\\psi_{1,1}-\\psi_{-1,1})\\\\\n",
    "    x_4&=\\frac1b\\psi_{0,2}\\\\\n",
    "    x_5&=\\frac{1}{b\\sqrt2}(\\psi_{1,2}+\\psi_{-1,2})\\\\\n",
    "    x_6&=\\frac{1}{b\\sqrt2}(\\psi_{1,2}-\\psi_{-1,2})\n",
    "\\end{align}\n",
    "\n",
    "Inverting for $\\psi$ in terms of $x$, each $|\\psi_{n,m}|^2$ is \n",
    "\\begin{align}\n",
    "    |\\psi_{0,1}|^2&=b^2x_1^2\\\\\n",
    "    |\\psi_{0,2}|^2&=b^2x_4^2\\\\\n",
    "    \\psi_{\\pm1,1}&=\\frac{b}{\\sqrt2}(x_2\\mp ix_3)\\implies|\\psi_{1,1}|^2=|\\psi_{-1,1}|^2=\\frac{b^2}{2}(x_2^2+x_3^2)\\\\\n",
    "    \\psi_{\\pm1,2}&=\\frac{b}{\\sqrt2}(x_5\\mp ix_6)\\implies|\\psi_{1,2}|^2=|\\psi_{-1,2}|^2=\\frac{b^2}{2}(x_5^2+x_6^2)\n",
    "\\end{align}"
   ]
  },
  {
   "cell_type": "markdown",
   "metadata": {},
   "source": [
    "Finally, we have explicit expressions for $E$ and $\\Omega$ in terms of the $x$'s. \n",
    "\\begin{align}\n",
    "    E&=\\pi^2b\\bigg[\\frac1{b^2}|\\psi_{0,1}|^2+\\frac4{b^2}|\\psi_{0,2}|^2\n",
    "    +\\bigg(1+\\frac1{b^2}\\bigg)\\Big(|\\psi_{1,1}|^2+|\\psi_{-1,1}|^2\\Big)\n",
    "    +\\bigg(1+\\frac4{b^2}\\bigg)\\Big(|\\psi_{1,2}|^2+|\\psi_{-1,2}|^2\\Big)\\bigg]\\\\\n",
    "    &=2\\pi^2b\\bigg[\\frac12x_1^2+2x_4^2\n",
    "    +\\frac{b^2+1}{2}\\big(x_2^2+x_3^2\\big)\n",
    "    +\\frac{b^2+4}{2}\\big(x_5^2+x_6^2\\big)\\big]\\\\\n",
    "    &=:2\\pi^2b\\big[E_1x_1^2+E_4x_4^2+E_{23}\\big(x_2^2+x_3^2\\big)+E_{56}\\big(x_5^2+x_6^2\\big)\\big]\\\\\n",
    "    \\Omega&=\\pi^2b\\bigg[\\frac1{b^4}|\\psi_{0,1}|^2+\\frac{16}{b^4}|\\psi_{0,2}|^2\n",
    "    +\\bigg(1+\\frac1{b^2}\\bigg)^2\\Big(|\\psi_{1,1}|^2+|\\psi_{-1,1}|^2\\Big)\n",
    "    +\\bigg(1+\\frac4{b^2}\\bigg)^2\\Big(|\\psi_{1,2}|^2+|\\psi_{-1,2}|^2\\Big)\\bigg]\\\\\n",
    "    &=2\\pi^2b\\bigg[\\frac1{2b^2}x_1^2+\\frac{8}{b^2}x_4^2\n",
    "    +\\frac{(b^2+1)^2}{2b^2}\\big(x_2^2+x_3^2\\big)\n",
    "    +\\frac{(b^2+4)^2}{2b^2}\\big(x_5^2+x_6^2\\big)\\bigg]\\\\\n",
    "    &=:2\\pi^2b\\big[\\Omega_1x_1^2+\\Omega_4x_4^2+\\Omega_{23}\\big(x_2^2+x_3^2\\big)+\\Omega_{56}\\big(x_5^2+x_6^2\\big)\\big]\n",
    "\\end{align}"
   ]
  },
  {
   "cell_type": "markdown",
   "metadata": {},
   "source": [
    "The four groups of terms represent contributions from the four primitive flow configurations that linearly combine to make the complete field $\\psi$. These are plotted below, up to a phase shift in $x$ for $\\psi_{1,1}$ and $\\psi_{1,2}$. "
   ]
  },
  {
   "cell_type": "code",
   "execution_count": null,
   "metadata": {},
   "outputs": [],
   "source": [
    "import numpy as np\n",
    "import matplotlib\n",
    "import matplotlib.pyplot as plt\n",
    "import xarray as xr\n",
    "import netCDF4 as nc\n",
    "import model_crommelin_seasonal\n",
    "import feature_crommelin \n",
    "from importlib import reload\n",
    "import sys \n",
    "import os\n",
    "from os import mkdir\n",
    "from os.path import join,exists\n",
    "import pickle"
   ]
  },
  {
   "cell_type": "code",
   "execution_count": null,
   "metadata": {},
   "outputs": [],
   "source": [
    "%matplotlib inline\n",
    "matplotlib.rcParams['font.size'] = 24"
   ]
  },
  {
   "cell_type": "code",
   "execution_count": null,
   "metadata": {},
   "outputs": [],
   "source": [
    "b = 0.5 # set the aspect ratio of the channel\n",
    "\n",
    "xy,yx = np.meshgrid(np.linspace(0,2*np.pi,100), np.linspace(0,np.pi*b,50))\n",
    "xyc = 0.25*(xy[1:,1:] + xy[1:,:-1] + xy[:-1,1:] + xy[:-1,:-1])\n",
    "yxc = 0.25*(yx[1:,1:] + yx[1:,:-1] + yx[:-1,1:] + yx[:-1,:-1])\n",
    "psi_prims = dict({\n",
    "    \"01\": np.sqrt(2)*np.cos(yxc/b),\n",
    "    \"02\": np.sqrt(2)*np.cos(2*yxc/b),\n",
    "    \"11\": np.sqrt(2)*np.cos(xyc)*np.sin(yxc/b),\n",
    "    \"12\": np.sqrt(2)*np.cos(xyc)*np.sin(2*yxc/b),\n",
    "})\n",
    "fig,ax = plt.subplots(ncols=1,nrows=4,figsize=(16,16),sharex=True,sharey=True)\n",
    "for i_key,key in enumerate(list(psi_prims.keys())):\n",
    "    ax[i_key].set_ylabel(r\"$y$\")\n",
    "    ax[i_key].set_title(r\"$\\phi_{%s}$\"%(key))\n",
    "    im = ax[i_key].pcolormesh(xy,yx,psi_prims[key],cmap=plt.cm.coolwarm)\n",
    "    fig.colorbar(im,ax=ax[i_key],label=r\"$\\psi_{%s}$\"%(key))\n",
    "ax[3].set_xlabel(r\"$x$\")\n",
    "    "
   ]
  },
  {
   "cell_type": "markdown",
   "metadata": {},
   "source": [
    "A key input to the conservation law is the topography, $h(x,y)=\\cos(x)\\sin(y/b)$. "
   ]
  },
  {
   "cell_type": "code",
   "execution_count": null,
   "metadata": {},
   "outputs": [],
   "source": [
    "h = np.cos(xyc)*np.sin(yxc/b)\n",
    "fig,ax = plt.subplots(figsize=(16,4))\n",
    "im = ax.pcolormesh(xy,yx,h,cmap=plt.cm.viridis)\n",
    "fig.colorbar(im,ax=ax,label=r\"$h$\")\n",
    "ax.set_title(\"$h(x,y)$\")\n",
    "ax.set_xlabel(\"$x$\")\n",
    "ax.set_ylabel(\"$y$\")"
   ]
  },
  {
   "cell_type": "markdown",
   "metadata": {},
   "source": [
    "## Conservation law from the equations"
   ]
  },
  {
   "cell_type": "markdown",
   "metadata": {},
   "source": [
    "The evolution equations for $\\mathbf{x}=(x_1,...,x_6)^\\intercal$ take the form \n",
    "\\begin{align}\n",
    "    \\frac{d}{dt}{\\mathbf{x}}=\\mathbf{F}+A\\mathbf{x}+B(\\mathbf{x},\\mathbf{x})\n",
    "\\end{align}\n",
    "where the quadratic nonlinearity $B(\\mathbf{x},\\mathbf{x})$ is, according to Crommelin, energy- and enstrophy-preserving. This means that if both $\\mathbf{F}$ and $A$ were zero (these represent forcing and dissipation), then both energy and enstrophy would be conserved. We can verify this mathematically by differentiating the expressions above for $\\Omega$ and $E$ in time using equations (2.6) of Crommelin, but without all the constant and nonlinear terms. Term by term, the equation $\\dot{\\mathbf{x}}=B(\\mathbf{x},\\mathbf{x})$ reads\n",
    "\n",
    "\\begin{align}\n",
    "    \\dot{x}_1&=0\\\\\n",
    "    \\dot{x}_2&=-\\alpha_1x_1x_3-\\delta_1x_4x_6\\\\\n",
    "    \\dot{x}_3&=\\alpha_1x_1x_2+\\delta_1x_4x_5\\\\\n",
    "    \\dot{x}_4&=\\varepsilon(x_2x_6-x_3x_5)\\\\\n",
    "    \\dot{x}_5&=-\\alpha_2x_1x_6-\\delta_2x_4x_3\\\\\n",
    "    \\dot{x}_6&=\\alpha_2x_1x_5+\\delta_2x_4x_2\n",
    "\\end{align}"
   ]
  },
  {
   "cell_type": "markdown",
   "metadata": {},
   "source": [
    "We need to get the evolution of each quadratic, $\\frac{d}{dt}(x_i^2)=2x_i\\dot{x}_i$, for which we multiply each equation by the corresponding $x_i$:\n",
    "\\begin{align}\n",
    "    \\frac{d}{dt}(x_1^2)&=0\\\\\n",
    "    \\frac{d}{dt}(x_2^2)&=-2\\alpha_1x_1x_2x_3-2\\delta_1x_2x_4x_6\\\\\n",
    "    \\frac{d}{dt}(x_3^2)&=2\\alpha_1x_1x_2x_3+2\\delta_1x_3x_4x_5\\\\\n",
    "    \\frac{d}{dt}(x_4^2)&=2\\varepsilon(x_2x_4x_6-x_3x_4x_5)\\\\\n",
    "    \\frac{d}{dt}(x_5^2)&=-2\\alpha_2x_1x_5x_6-2\\delta_2x_3x_4x_5\\\\\n",
    "    \\frac{d}{dt}(x_6^2)&=2\\alpha_2x_1x_5x_6+2\\delta_2x_2x_4x_6\n",
    "\\end{align}\n",
    "\n"
   ]
  },
  {
   "cell_type": "markdown",
   "metadata": {},
   "source": [
    "Of course, terms (2,3) and (5,6) always occur in groups for the energy and enstrophy evolution equations, so we add them:\n",
    "\\begin{align}\n",
    "    \\frac{d}{dt}(x_2^2+x_3^2)&=-2\\delta_1(x_2x_4x_6-x_3x_4x_5)\\\\\n",
    "    \\frac{d}{dt}(x_5^2+x_6^2)&=2\\delta_2(x_2x_4x_6-x_3x_4x_5)\n",
    "\\end{align}\n",
    "Now we combine these according to the coefficients $E_1,...,E_{56}$ and $\\Omega_1,...,\\Omega_{56}$ to find the evolution of energy and enstrophy.\n",
    "\\begin{align}\n",
    "    \\frac{\\dot{E}}{2\\pi^2b}&=2(E_4\\varepsilon-E_{23}\\delta_1+E_{56}\\delta_2)(x_2x_4x_6-x_3x_4x_5)\\\\\n",
    "    \\frac{\\dot{\\Omega}}{2\\pi^2b}&=2(\\Omega_4\\varepsilon-\\Omega_{23}\\delta_1+\\Omega_{56}\\delta_2)(x_2x_4x_6-x_3x_4x_5)\\\\\n",
    "\\end{align}\n",
    "In other words, if $(E_4,E_{23},E_{56})$ and $(\\Omega_4,\\Omega_{23},\\Omega_{56})$ are both perpendicular to $(\\varepsilon,-\\delta_1,\\delta_2)$, then both $E$ and $\\Omega$ will be conserved. Let's check, using the definitions of $\\varepsilon$ and $\\delta_1,\\delta_2$:\n",
    "\\begin{align}\n",
    "    \\varepsilon&=\\frac{16\\sqrt2}{5\\pi}\\\\\n",
    "    \\delta_1&=\\frac{64\\sqrt2}{15\\pi}\\frac{b^2}{b^2+1}=\\frac43\\varepsilon\\bigg(\\frac{b^2}{b^2+1}\\bigg)\\\\\n",
    "    \\delta_2&=\\frac{64\\sqrt2}{15\\pi}\\frac{b^2-3}{b^2+4}=\\frac43\\varepsilon\\bigg(\\frac{b^2-3}{b^2+4}\\bigg)\n",
    "\\end{align}"
   ]
  },
  {
   "cell_type": "markdown",
   "metadata": {},
   "source": [
    "\\begin{align}\n",
    "    \\begin{bmatrix}\n",
    "        E_4 & E_{23} & E_{56} \\\\\n",
    "        \\Omega_4 & \\Omega_{23} & \\Omega_{56} \n",
    "    \\end{bmatrix}\n",
    "    \\begin{bmatrix}\n",
    "        \\varepsilon \\\\ -\\delta_1 \\\\ \\delta_2\n",
    "    \\end{bmatrix}\n",
    "    &=\\varepsilon\n",
    "    \\begin{bmatrix}\n",
    "        2 & \\frac{b^2+1}{2} & \\frac{b^2+4}{2} \\\\\n",
    "        \\frac{8}{b^2} & \\frac{(b^2+1)^2}{2b^2} & \\frac{(b^2+4)^2}{2b^2} \n",
    "    \\end{bmatrix}\n",
    "    \\begin{bmatrix}\n",
    "        1 \\\\ -\\frac43\\big(\\frac{b^2}{b^2+1}\\big) \\\\ \\frac43\\big(\\frac{b^2-3}{b^2+4}\\big)\n",
    "    \\end{bmatrix} \\\\\n",
    "    &=\n",
    "    \\begin{bmatrix}\n",
    "        2-\\frac{2b^2}{3}+\\frac{2(b^2-3)}{3} \\\\\n",
    "        \\frac{8}{b^2}-\\frac{2b^2(b^2+1)}{3b^2}+\\frac{2(b^2+4)(b^2-3)}{3b^2}\n",
    "    \\end{bmatrix}\\\\\n",
    "    &=\n",
    "    \\begin{bmatrix}\n",
    "        \\frac13(6-2b^2+2b^2-6) \\\\\n",
    "        \\frac1{3b^2}(24-2b^4-2b^2+2b^4-6b^2+8b^2-24)\n",
    "    \\end{bmatrix}\n",
    "    =\n",
    "    \\begin{bmatrix} 0 \\\\ 0 \\end{bmatrix}\n",
    "\\end{align}"
   ]
  },
  {
   "cell_type": "markdown",
   "metadata": {},
   "source": [
    "Since the null space of $(\\varepsilon,-\\delta_1,\\delta_2)$ is two-dimensional, $E$ and $\\Omega$ are the only linear combinations of $\\{x_1^2,x_4^2,x_2^2+x_3^2,x_5^2+x_6^2\\}$---up to normalization---that are conserved by the quadratic nonlinearities. However, other invariants might exist that take more general forms. Their physical interpretation might not be so clear, however."
   ]
  },
  {
   "cell_type": "markdown",
   "metadata": {},
   "source": [
    "## Forcing and dissipation\n",
    "\n",
    "While we're at it, we may as well quantify the forcing and dissipation effects, this time ignoring the quadratic nonlinearities. Term by term, the dissipation and forcing part of the dynamics $\\dot{\\mathbf{x}}=\\mathbf{F}+A\\mathbf{x}$ gives\n",
    "\n",
    "\\begin{align}\n",
    "    \\frac{d}{dt}(x_1^2)&=2\\big[\\widetilde{\\gamma}_1x_1x_3-Cx_1^2\\big]+2Cx_1x_1^\\star\\\\\n",
    "    \\frac{d}{dt}(x_2^2)&=2\\big[\\beta_1x_2x_3-Cx_2^2\\big]\\\\\n",
    "    \\frac{d}{dt}(x_3^2)&=2\\big[-\\beta_1x_2x_3-\\gamma_1x_1x_3-Cx_3^2\\big]\\\\\n",
    "    \\frac{d}{dt}(x_4^2)&=2\\big[\\widetilde{\\gamma}_2x_4x_6-Cx_4^2\\big]+2Cx_4x_4^\\star\\\\\n",
    "    \\frac{d}{dt}(x_5^2)&=2\\big[\\beta_2x_5x_6-Cx_5^2\\big]\\\\\n",
    "    \\frac{d}{dt}(x_6^2)&=2\\big[-\\beta_2x_5x_6-\\gamma_2x_4x_6-Cx_6^2\\big]\n",
    "\\end{align}"
   ]
  },
  {
   "cell_type": "markdown",
   "metadata": {},
   "source": [
    "Grouping together terms (2,3) and (5,6) as before,\n",
    "\\begin{align}\n",
    "    \\frac{d}{dt}(x_2^2+x_3^2)&=-2C(x_2^2+x_3^2)-2\\gamma_1x_1x_3\\\\\n",
    "    \\frac{d}{dt}(x_5^2+x_6^2)&=-2C(x_5^2+x_6^2)-2\\gamma_2x_4x_6\n",
    "\\end{align}"
   ]
  },
  {
   "cell_type": "markdown",
   "metadata": {},
   "source": [
    "Each quadratic term is linearly damped with a coefficient $-2C$, which means $\\Omega$ and $E$ are as well. Grouping like terms together,\n",
    "\\begin{align}\n",
    "    \\frac{\\dot{E}}{2\\pi^2b}\n",
    "    &=2(\\widetilde{\\gamma}_1E_1-\\gamma_1E_{23})x_1x_3\n",
    "    +2(\\widetilde{\\gamma}_2E_4-\\gamma_2E_{56})x_4x_6\n",
    "    -2C\\frac{E}{2\\pi^2b} \\\\\n",
    "    &\\ \\ \\ +2C(E_1x_1x_1^\\star+E_4x_4x_4^\\star)\\\\\n",
    "    \\frac{\\dot{\\Omega}}{2\\pi^2b}\n",
    "    &=2(\\widetilde{\\gamma}_1\\Omega_1-\\gamma_1\\Omega_{23})x_1x_3\n",
    "    +2(\\widetilde{\\gamma}_2\\Omega_4-\\gamma_2\\Omega_{56})x_4x_6\n",
    "    -2C\\frac{\\Omega}{2\\pi^2b} \\\\\n",
    "    &\\ \\ \\ +2C(\\Omega_1x_1x_1^\\star+\\Omega_4x_4x_4^\\star)\n",
    "\\end{align}\n"
   ]
  },
  {
   "cell_type": "markdown",
   "metadata": {},
   "source": [
    "So what about those pesky cross terms $x_1x_3$ and $x_4x_6$? In the Crommelin model, the $\\gamma$ and $\\widetilde{\\gamma}$ coefficients are as follows:\n",
    "\\begin{align}\n",
    "    \\gamma_1&=\\gamma\\frac{4}{3}\\frac{\\sqrt2b}{\\pi(b^2+1)}\\\\\n",
    "    \\widetilde{\\gamma}_1&=\\gamma\\frac43\\frac{\\sqrt2b}{\\pi}=(b^2+1)\\gamma_1\\\\\n",
    "    \\gamma_2&=\\gamma\\frac{32}{15}\\frac{\\sqrt2b}{\\pi(b^2+4)}\\\\\n",
    "    \\widetilde{\\gamma}_2&=\\gamma\\frac{8}{15}\\frac{\\sqrt2b}{\\pi}=\\frac{b^2+4}{4}\\gamma_2\n",
    "\\end{align}"
   ]
  },
  {
   "cell_type": "markdown",
   "metadata": {},
   "source": [
    "And above, we derived the coefficients\n",
    "\\begin{align}\n",
    "    E_1=\\frac12 && E_4=2 &&  E_{23}=\\frac{b^2+1}{2} &&  E_{56}=\\frac{b^2+4}{2} \\\\\n",
    "    \\Omega_1=\\frac{1}{2b^2} && \\Omega_4=\\frac{8}{b^2} && \\Omega_{23}=\\frac{(b^2+1)^2}{2b^2} && \\Omega_{56}=\\frac{(b^2+4)^2}{2b^2}\n",
    "\\end{align}"
   ]
  },
  {
   "cell_type": "markdown",
   "metadata": {},
   "source": [
    "Putting these together, the cross term coefficients are\n",
    "\n",
    "\\begin{align}\n",
    "    \\widetilde{\\gamma}_1E_1-\\gamma_1E_{23}\n",
    "    &=(b^2+1)\\gamma_1\\frac12-\\gamma_1\\frac{b^2+1}{2}=0\\\\\n",
    "    \\widetilde{\\gamma}_2E_4-\\gamma_2E_{56}\n",
    "    &=\\frac{b^2+4}{4}\\gamma_2(2)-\\gamma_2\\frac{b^2+4}{2}=0\\\\\n",
    "    \\widetilde{\\gamma}_1\\Omega_1-\\gamma_1\\Omega_{23}\n",
    "    &=(b^2+1)\\gamma_1\\frac{1}{2b^2}-\\gamma_1\\frac{(b^2+1)^2}{2b^2}\\\\\n",
    "    &=-\\frac{b^4+b^2}{2b^2}\\gamma_1=-\\frac{b^2+1}{2}\\gamma_1\\\\\n",
    "    \\widetilde{\\gamma}_2\\Omega_4-\\gamma_2\\Omega_{56}\n",
    "    &=\\frac{b^2+4}{4}\\gamma_2\\frac{8}{b^2}-\\gamma_2\\frac{(b^2+4)^2}{2b^2}\\\\\n",
    "    &=-\\frac{b^4+4b^2}{2b^2}\\gamma_2=-\\frac{b^2+4}{2}\\gamma_2\n",
    "\\end{align}"
   ]
  },
  {
   "cell_type": "markdown",
   "metadata": {},
   "source": [
    "So enstrophy is clearly more complicated than energy; let's set this aside and focus on energy, whose full evolution is\n",
    "\n",
    "\\begin{align}\n",
    "    \\frac{\\dot{E}}{2\\pi^2b}&=-2C\\frac{E}{2\\pi^2b}+C(x_1x_1^\\star+4x_4x_4^\\star)\n",
    "\\end{align}\n",
    "\n",
    "The first term, dissipation, is due to friction: pump some energy in, and some proportional amount will leak out of the system. The second term, forcing, is the dot product between $\\mathbf{x}$ and $\\mathbf{x}^\\star$. When this dot product goes to zero, energy simply declines, but if $\\mathbf{x}$ aligns with $\\mathbf{x}^\\star$, the system gains energy."
   ]
  },
  {
   "cell_type": "markdown",
   "metadata": {},
   "source": [
    "## Conservation law from the code"
   ]
  },
  {
   "cell_type": "markdown",
   "metadata": {},
   "source": [
    "So we've shown it mathematically. How about numerically? Below I create an instance of the Crommelin model, integrate it over time, and numerically compute its tendency. Then we can check with a finite time difference that the change in $E$ is as predicted above, up to discretization and roundoff error. "
   ]
  },
  {
   "cell_type": "code",
   "execution_count": null,
   "metadata": {},
   "outputs": [],
   "source": [
    "import model_crommelin_seasonal\n",
    "import feature_crommelin\n",
    "reload(model_crommelin_seasonal)\n",
    "reload(feature_crommelin)"
   ]
  },
  {
   "cell_type": "markdown",
   "metadata": {},
   "source": [
    "Below we set the fundamental parameters of the model: $b$ (for the channel aspect ratio), $\\beta$ (for the meridional gradient of the coriolis force), $C$ (for the strength of dissipation), $x_1^\\star$ (for the damping profile), and $r$ (for the ratio of $x_4^\\star$ to $x_1^\\star$). The orographic forcing $\\gamma$ we make time-dependent, which still satisfies all of the derivations above. For this reason, we input lower and upper limits on $\\gamma$, and it will vary sinusoidally throughout an annual cycle with these values.\n",
    "\n",
    "The `__init__` function of `CrommelinModel` derives all the other constants, such as $\\varepsilon$ and $\\delta_1,\\delta_2$, from these fundamental parameters."
   ]
  },
  {
   "cell_type": "code",
   "execution_count": null,
   "metadata": {},
   "outputs": [],
   "source": [
    "# Load the already-run trajectory\n",
    "topic_dir = \"/scratch/jf4241/crommelin\"\n",
    "day_dir = join(topic_dir,\"2022-07-25\")\n",
    "exp_dir = join(day_dir,\"0\")\n",
    "ra_dir = join(exp_dir,\"reanalysis_data\")\n",
    "ra_dir_contiguous = join(ra_dir,\"contiguous\") # For long, unbroken record\n",
    "ra_dir_seasonal = join(ra_dir,\"seasonal\") # For data split into seasons\n",
    "hc_dir = join(exp_dir,\"hindcast_data\")\n",
    "featspec_dir = join(exp_dir,\"featspec\") # Metadata with info to compute features\n",
    "results_dir = join(exp_dir,\"results\")\n",
    "results_dir_ra = join(results_dir,\"ra\")\n",
    "results_dir_hc = join(results_dir,\"hc\")\n",
    "traj_filename_ra = join(ra_dir_contiguous,\"crom_long.nc\")\n",
    "metadata_filename_ra = join(ra_dir_contiguous,\"crom_long_params\")"
   ]
  },
  {
   "cell_type": "markdown",
   "metadata": {},
   "source": [
    "Let's load the \"reanalysis\" data."
   ]
  },
  {
   "cell_type": "code",
   "execution_count": null,
   "metadata": {},
   "outputs": [],
   "source": [
    "# Load the already-executed model (contiguous)\n",
    "ds_ra_cont = xr.open_dataset(traj_filename_ra)\n",
    "X_ra_cont = ds_ra_cont[\"X\"]\n",
    "qra = pickle.load(open(metadata_filename_ra,\"rb\"))"
   ]
  },
  {
   "cell_type": "code",
   "execution_count": null,
   "metadata": {},
   "outputs": [],
   "source": [
    "# Reconstruct the Crommelin model object from the metadata\n",
    "crom = model_crommelin_seasonal.SeasonalCrommelinModel(qra[\"fpd\"])"
   ]
  },
  {
   "cell_type": "markdown",
   "metadata": {},
   "source": [
    "Let's sample some arbitrary points $\\mathbf{x}_0$ along the trajectory and test that energy and enstrophy are not changing, at least according to the quadratic terms. For this purpose, there is a function `CrommelinModel.tendency_quadratic` that returns only $B(\\mathbf{x}_0,\\mathbf{x}_0)$. Then we take a tiny step forward and backward, $\\mathbf{x_0}\\pm dt\\,B(\\mathbf{x_0},\\mathbf{x_0})$, and compute the energy and enstrophy at both places. The finite difference approximation to $\\dot{E}$ is then\n",
    "\\begin{align}\n",
    "    \\dot{E}(\\mathbf{x_0})\\approx\\frac{1}{2\\,dt}\\big[E\\big(\\mathbf{x_0}+dt\\,B(\\mathbf{x_0},\\mathbf{x_0})\\big)-E\\big(\\mathbf{x_0}-dt\\,B(\\mathbf{x_0},\\mathbf{x_0})\\big)\\big]\n",
    "\\end{align}\n",
    "and likewise for $\\dot{\\Omega}$. \n",
    "\n",
    "The function `CrommelinModel.energy_enstrophy` computes the energy and enstrophy of a given state $\\mathbf{x}$, normalized by area: $E/(2\\pi^2b)$ and $\\Omega/(2\\pi^2b)$. It returns not only the total energy, but the contributions from each mode, stored in the form a Python dictionary."
   ]
  },
  {
   "cell_type": "code",
   "execution_count": null,
   "metadata": {},
   "outputs": [],
   "source": [
    "Nx,Nt,xdim = [X_ra_cont[vbl].size for vbl in ['member','t_sim','feature']]\n",
    "tidx_samp = np.array([0, 1, 2]) # Random points in time\n",
    "X0 = X_ra_cont.isel(t_sim=tidx_samp,member=0,drop=True) \n",
    "x0 = X0.data"
   ]
  },
  {
   "cell_type": "code",
   "execution_count": null,
   "metadata": {},
   "outputs": [],
   "source": [
    "xdot = crom.tendency_quadratic(x0) # Tendency according to quadratic term\n",
    "dt = 0.5 #crom.dt_sim # Default simulation time step\n",
    "# Now compute the energy and enstrophy at x0 +/- dt*xdot\n",
    "energy_fwd,enstrophy_fwd = crom.energy_enstrophy(x0 + dt*xdot) \n",
    "energy_bwd,enstrophy_bwd = crom.energy_enstrophy(x0 - dt*xdot)\n",
    "energy_dot = dict({key: (energy_fwd[key] - energy_bwd[key])/(2*dt) for key in energy_fwd.keys()})\n",
    "enstrophy_dot = dict({key: (enstrophy_fwd[key] - enstrophy_bwd[key])/(2*dt) for key in enstrophy_fwd.keys()})"
   ]
  },
  {
   "cell_type": "code",
   "execution_count": null,
   "metadata": {},
   "outputs": [],
   "source": [
    "energy_dot"
   ]
  },
  {
   "cell_type": "markdown",
   "metadata": {},
   "source": [
    "Above, we see the time derivatives of each of the four contribution to energy: from the (0,1), (0,2), (1,1), and (1,2) components. In general, they are nonnegligible, but when we add up the contributions they cancel almost exactly. This validates that the numerical implementation of quadratic terms also conserves $E$ and $\\Omega$.a_E.isel(t_sim=np.arange(20)).sel(feature=\"Etot\").data.flatten()"
   ]
  },
  {
   "cell_type": "markdown",
   "metadata": {},
   "source": [
    "Now let's verify the other terms in the energy budget. First, the dissipation tendency."
   ]
  },
  {
   "cell_type": "code",
   "execution_count": null,
   "metadata": {},
   "outputs": [],
   "source": [
    "xdot = crom.tendency_dissipation(x0)\n",
    "dt = 0.5 #crom.dt_sim\n",
    "energy_0,_ = crom.energy_enstrophy(X0.data)\n",
    "energy_fwd,_ = crom.energy_enstrophy(x0 + dt*xdot) \n",
    "energy_bwd,_ = crom.energy_enstrophy(x0 - dt*xdot)\n",
    "energy_dot = dict({key: (energy_fwd[key] - energy_bwd[key])/(2*dt) \n",
    "                   for key in energy_fwd.keys()})\n",
    "energy_dot_total_expected = crom.energy_tendency_dissipation(x0)\n",
    "print(f\"Energy tendency: \")\n",
    "print(f\"numerical:\\n{energy_dot['total']}\")\n",
    "print(f\"expected:\\n{energy_dot_total_expected}\")"
   ]
  },
  {
   "cell_type": "markdown",
   "metadata": {},
   "source": [
    "Second, the forcing tendency."
   ]
  },
  {
   "cell_type": "code",
   "execution_count": null,
   "metadata": {},
   "outputs": [],
   "source": [
    "xdot = crom.tendency_forcing(x0)\n",
    "dt = 0.5 #crom.dt_sim\n",
    "energy_0,_ = crom.energy_enstrophy(x0)\n",
    "energy_fwd,_ = crom.energy_enstrophy(x0 + dt*xdot) \n",
    "energy_bwd,_ = crom.energy_enstrophy(x0 - dt*xdot)\n",
    "energy_dot = dict({key: (energy_fwd[key] - energy_bwd[key])/(2*dt) \n",
    "                   for key in energy_fwd.keys()})\n",
    "energy_dot_total_expected = crom.energy_tendency_forcing(x0)\n",
    "print(f\"Energy tendency: \")\n",
    "print(f\"numerical:\\n{energy_dot['total']}\")\n",
    "print(f\"expected:\\n{energy_dot_total_expected}\")"
   ]
  },
  {
   "cell_type": "markdown",
   "metadata": {},
   "source": [
    "Finally, the total:"
   ]
  },
  {
   "cell_type": "code",
   "execution_count": null,
   "metadata": {},
   "outputs": [],
   "source": [
    "xdot = crom.tendency(x0)\n",
    "dt = 0.5 #crom.dt_sim\n",
    "energy_0,_ = crom.energy_enstrophy(x0)\n",
    "energy_fwd,_ = crom.energy_enstrophy(x0 + dt*xdot) \n",
    "energy_bwd,_ = crom.energy_enstrophy(x0 - dt*xdot)\n",
    "energy_dot = dict({key: (energy_fwd[key] - energy_bwd[key])/(2*dt) \n",
    "                   for key in energy_fwd.keys()})\n",
    "energy_dot_total_expected = crom.energy_tendency_forcing(x0) + crom.energy_tendency_dissipation(x0)\n",
    "print(f\"Energy tendency: \")\n",
    "print(f\"numerical:\\n{energy_dot['total']}\")\n",
    "print(f\"expected:\\n{energy_dot_total_expected}\")"
   ]
  },
  {
   "cell_type": "markdown",
   "metadata": {},
   "source": [
    "## Tracking energy and enstrophy over time"
   ]
  },
  {
   "cell_type": "markdown",
   "metadata": {},
   "source": [
    "In the full model, there are forcing and dissipation terms, so $E$ and $\\Omega$ will not be conserved. I suspect, however, that they will be informative coordinates in which to view TPT quantities. Let's examine their long-term behavior by computing $E$ and $\\Omega$ over the full trajectory and plotting the various contributions. "
   ]
  },
  {
   "cell_type": "code",
   "execution_count": null,
   "metadata": {},
   "outputs": [],
   "source": [
    "epd = dict(\n",
    "    dt_szn = 0.74,\n",
    "    szn_start = 300.0,\n",
    "    szn_length = 250.0,\n",
    "    year_length = 400.0,\n",
    "    szn_avg_window = 5.0,\n",
    ")\n",
    "epd[\"Nt_szn\"] = int(epd[\"szn_length\"] / epd[\"dt_szn\"])"
   ]
  },
  {
   "cell_type": "code",
   "execution_count": null,
   "metadata": {},
   "outputs": [],
   "source": [
    "reload(feature_crommelin)"
   ]
  },
  {
   "cell_type": "code",
   "execution_count": null,
   "metadata": {},
   "outputs": [],
   "source": [
    "crom_feat = feature_crommelin.SeasonalCrommelinModelFeatures()"
   ]
  },
  {
   "cell_type": "code",
   "execution_count": null,
   "metadata": {},
   "outputs": [],
   "source": [
    "da_E = crom_feat.energy_observable(ds_ra_cont,qra)\n",
    "da_Edot = crom_feat.energy_tendency_observable(ds_ra_cont,qra,da_E)\n",
    "da_Edot_findiff = crom_feat.energy_tendency_observable_findiff(ds_ra_cont,qra,da_E)\n",
    "# For complete verification, calculate energy difference using finite difference with a smaller time step from the full model\n",
    "dt_test = crom.dt_sim\n",
    "xdot_model = crom.tendency(X_ra_cont.isel(member=0,drop=True).data)\n",
    "X_fwd = X_ra_cont + xdot_model*dt_test\n",
    "X_bwd = X_ra_cont - xdot_model*dt_test\n",
    "ds_fwd = xr.Dataset(data_vars={\"X\": X_fwd}, attrs=ds_ra_cont.attrs)\n",
    "ds_bwd = xr.Dataset(data_vars={\"X\": X_bwd}, attrs=ds_ra_cont.attrs)\n",
    "da_Edot_findiff_model = (crom_feat.energy_observable(ds_fwd,qra) - crom_feat.energy_observable(ds_bwd,qra))/(2*dt_test)"
   ]
  },
  {
   "cell_type": "code",
   "execution_count": null,
   "metadata": {},
   "outputs": [],
   "source": [
    "fig,ax = plt.subplots(ncols=2,nrows=2,figsize=(18,12), sharex=True) \n",
    "handles_energy = []\n",
    "handles_enstrophy = []\n",
    "handles_Edot = []\n",
    "handles_Omdot = []\n",
    "timax = np.where(ds_ra_cont.coords['t_sim'].data > 1000)[0][0]\n",
    "tidx = np.arange(timax)\n",
    "# Upper left: energy\n",
    "for i_key,key in enumerate([\"E12\",\"E11\",\"E02\",\"E01\",\"Etot\"]):\n",
    "    h, = xr.plot.plot(\n",
    "        da_E.sel(feature=key,member=0,drop=True).isel(t_sim=tidx),\n",
    "        x=\"t_sim\", label=key, ax=ax[0,0]\n",
    "    )\n",
    "    handles_energy += [h]\n",
    "# Lower left: energy tendency\n",
    "for i_key,key in enumerate([\"Etot\",\"forcing\",\"dissipation\"]):\n",
    "    h, = xr.plot.plot(\n",
    "        da_Edot.sel(feature=key,member=0,drop=True).isel(t_sim=tidx),\n",
    "        x=\"t_sim\", label=f\"d({key})/dt predicted\", ax=ax[1,0]\n",
    "    )\n",
    "    handles_Edot += [h]\n",
    "h, = xr.plot.plot(\n",
    "    da_Edot_findiff.sel(feature=\"Etot\",member=0,drop=True).isel(t_sim=tidx),\n",
    "    x=\"t_sim\", label=\"$\\Delta E/\\Delta t$ empirical\", ax=ax[1,0]\n",
    ")\n",
    "\n",
    "xr.plot.plot(da_Edot_findiff_model.sel(feature=\"Etot\",member=0,drop=True)\n",
    "             - da_Edot.sel(feature=\"Etot\",member=0,drop=True).isel(t_sim=tidx),\n",
    "             color=\"gray\", ax=ax[1,0])\n",
    "handles_Edot += [h]\n",
    "ax[1,0].legend(handles=handles_Edot)\n",
    "# Lower right: enstrophy tendency\n",
    "\n",
    "ax[0,0].set_title(\"Energy\")\n",
    "ax[0,1].set_title(\"Enstrophy\")\n",
    "ax[0,0].legend(handles=handles_energy)\n",
    "ax[0,1].legend(handles=handles_enstrophy)"
   ]
  },
  {
   "cell_type": "markdown",
   "metadata": {},
   "source": [
    "Let's compute the energy transfers between the four energy reservoirs of the system, as well as the external environment."
   ]
  },
  {
   "cell_type": "code",
   "execution_count": null,
   "metadata": {},
   "outputs": [],
   "source": [
    "reload(feature_crommelin)"
   ]
  },
  {
   "cell_type": "code",
   "execution_count": null,
   "metadata": {},
   "outputs": [],
   "source": [
    "crom_feat = feature_crommelin.SeasonalCrommelinModelFeatures()"
   ]
  },
  {
   "cell_type": "code",
   "execution_count": null,
   "metadata": {},
   "outputs": [],
   "source": [
    "da_Ex = crom_feat.energy_exchange_observable(ds_ra_cont,qra)"
   ]
  },
  {
   "cell_type": "code",
   "execution_count": null,
   "metadata": {},
   "outputs": [],
   "source": [
    "# Plot the energy exchanges over time\n",
    "fig,ax = plt.subplots(nrows=2,figsize=(6,12))\n",
    "xr.plot.plot(da_Ex.sel(source=\"E11\",sink=\"E12\",member=0).sel(t_sim=slice(None,800)), x=\"t_sim\",ax=ax[0])\n",
    "xr.plot.plot(da_E.sel(feature=\"E01\",member=0).sel(t_sim=slice(None,800)), x=\"t_sim\",ax=ax[1])"
   ]
  },
  {
   "cell_type": "markdown",
   "metadata": {},
   "source": [
    "# Phase observables"
   ]
  },
  {
   "cell_type": "code",
   "execution_count": null,
   "metadata": {},
   "outputs": [],
   "source": [
    "da_ph = crom_feat.phase_observable(ds_ra_cont,qra)"
   ]
  },
  {
   "cell_type": "code",
   "execution_count": null,
   "metadata": {},
   "outputs": [],
   "source": [
    "tmax = 800\n",
    "fig,ax = plt.subplots(ncols=2,figsize=(10,5))\n",
    "xr.plot.plot(\n",
    "    da_ph.sel(feature=\"ph11\",t_sim=slice(None,tmax))*\n",
    "    da_E.sel(feature=\"E11\",t_sim=slice(None,tmax)), \n",
    "    x=\"t_sim\", ax=ax[0]\n",
    ")\n",
    "xr.plot.plot(\n",
    "    da_ph.sel(feature=\"ph12\",t_sim=slice(None,tmax))*\n",
    "    da_E.sel(feature=\"E12\",t_sim=slice(None,tmax)), \n",
    "    x=\"t_sim\", ax=ax[1]\n",
    ")"
   ]
  },
  {
   "cell_type": "markdown",
   "metadata": {},
   "source": [
    "The energy budget responds very clearly to blocking events, i.e., when $x_1(t)$ goes very low for an extended period. During blocking events, the zonally symmetric modes (0,1) and (0,2) reach minima whereas the eddy modes (1,1) and (1,2) reach maxima. \n",
    "\n",
    "Let's furthermore dissect the energy budget into the dissipation and forcing terms, $-2CE/(2\\pi^2b)$ and $C(x_1x_1^\\star+4x_4x_4^\\star)$ respectively."
   ]
  },
  {
   "cell_type": "code",
   "execution_count": null,
   "metadata": {},
   "outputs": [],
   "source": [
    "forcing = crom.energy_tendency_forcing(x[0])\n",
    "dissipation = crom.energy_tendency_dissipation(x[0])\n",
    "dEdt = np.zeros(x.shape[1])\n",
    "dEdt[1:-1] = (energy[\"total\"][2:] - energy[\"total\"][:-2])/(t_save[2:] - t_save[:-2])\n",
    "dEdt[0] = (energy[\"total\"][1] - energy[\"total\"][0])/(t_save[1] - t_save[0])\n",
    "dEdt[-1] = (energy[\"total\"][-1] - energy[\"total\"][-2])/(t_save[-1] - t_save[-2])\n"
   ]
  },
  {
   "cell_type": "code",
   "execution_count": null,
   "metadata": {},
   "outputs": [],
   "source": [
    "dt_save = t_save[1] - t_save[0]\n",
    "timax = int(2000/dt_save)\n",
    "fig,ax = plt.subplots(figsize=(16,8))\n",
    "h_dEdt, = ax.plot(t_save[:timax], dEdt[:timax], color='dodgerblue', label=\"$dE/dt$\")\n",
    "h_F, = ax.plot(t_save[:timax], forcing[:timax], color='red', label=\"Forcing\")\n",
    "h_d, = ax.plot(t_save[:timax], dissipation[:timax], color='black', label=\"Dissipation\")\n",
    "ax.plot(t_save[:timax], (dEdt-forcing-dissipation)[:timax], color='gray')\n",
    "ax.legend(handles=[h_dEdt,h_F,h_d])"
   ]
  },
  {
   "cell_type": "markdown",
   "metadata": {},
   "source": [
    "Let's make a simple definition for blocking and look only at the reactive trajectories. Define\n",
    "\n",
    "\\begin{align}\n",
    "    A&=\\{\\mathbf{x}:x_1\\geq0.92\\}\\\\\n",
    "    B&=\\{\\mathbf{x}:x_1\\leq0.8\\}\n",
    "\\end{align}\n",
    "\n",
    "And now label each point on the trajectory by its source and destination."
   ]
  },
  {
   "cell_type": "code",
   "execution_count": null,
   "metadata": {},
   "outputs": [],
   "source": [
    "def abtest(x):\n",
    "    # x should have shape (Nx, xdim)\n",
    "    # Return whether each point on the trajectory is in A, or in B\n",
    "    # -1: in A\n",
    "    # 1: in B\n",
    "    # 0: in neither A nore B\n",
    "    abcode = -1*(x[:,0] >= 0.92) + 1*(x[:,0] <= 0.8) \n",
    "    return abcode\n",
    "\n",
    "def label_src_dest(x,abtest_fun):\n",
    "    # Find the source and destination for an array of parallel runs\n",
    "    Nx,Nt,xdim = x.shape[:3]\n",
    "    trailing_dims = int(round(x.size / (Nx*Nt*xdim)))\n",
    "    abcode_x = abtest_fun(x.reshape((Nx*Nt,xdim,trailing_dims))).reshape((Nx,Nt))\n",
    "    # Sweep forward in time to find source\n",
    "    src_tag = np.zeros((Nx,Nt), dtype=int)\n",
    "    src_tag[:,0] = abcode_x[:,0]\n",
    "    for i_time in np.arange(1,Nt):\n",
    "        src_tag[:,i_time] = src_tag[:,i_time-1]*(abcode_x[:,i_time] == 0) + abcode_x[:,i_time]\n",
    "    # Sweep backward in time to find destination\n",
    "    dest_tag = np.zeros((Nx,Nt), dtype=int)\n",
    "    dest_tag[:,Nt-1] = abcode_x[:,Nt-1]\n",
    "    for i_time in np.arange(Nt-2,-1,-1):\n",
    "        dest_tag[:,i_time] = dest_tag[:,i_time+1]*(abcode_x[:,i_time] == 0) + abcode_x[:,i_time]\n",
    "    return src_tag,dest_tag\n",
    "\n",
    "def compute_hitting_time(x,t,abtest_fun,target_code):\n",
    "    # Find the hitting time to A (if target_code == -1) or B (if target_code == 1)\n",
    "    Nx,Nt,xdim = x.shape[:3]\n",
    "    trailing_dims = int(round(x.size / (Nx*Nt*xdim)))\n",
    "    abcode_x = abtest_fun(x.reshape((Nx*Nt,xdim,trailing_dims))).reshape((Nx,Nt))\n",
    "    hittime_bwd = np.nan*np.ones((Nx,Nt), dtype=int)\n",
    "    hittime_fwd = np.nan*np.ones((Nx,Nt), dtype=int)\n",
    "    # Whenever the system is in the target, set the hitting time (backward and forward) to zero\n",
    "    abidx = np.where(abcode_x == target_code)\n",
    "    hittime_bwd[abidx] = 0.0\n",
    "    hittime_fwd[abidx] = 0.0\n",
    "    for i_time in np.arange(1,Nt):\n",
    "        open_idx = np.where(hittime_bwd[:,i_time] != 0)\n",
    "        hittime_bwd[:,i_time][open_idx] = (hittime_bwd[:,i_time-1][open_idx] + t[i_time] - t[i_time-1])\n",
    "    # Sweep backward in time to find destination\n",
    "    for i_time in np.arange(Nt-2,-1,-1):\n",
    "        open_idx = np.where(hittime_fwd[:,i_time] != 0)\n",
    "        hittime_fwd[:,i_time][open_idx] = (hittime_fwd[:,i_time+1][open_idx] + t[i_time+1] - t[i_time])\n",
    "    return hittime_bwd,hittime_fwd\n",
    "\n",
    "def snip_reactive_trajectories(src_tag,dest_tag):\n",
    "    # Find the beginning and end of each reaction\n",
    "    Nx,Nt = src_tag.shape\n",
    "    rxn_starts = []\n",
    "    rxn_ends = []\n",
    "    for i in range(Nx):\n",
    "        reactive_flag = 1*(src_tag[i] == -1)*(dest_tag[i] == 1)\n",
    "        rxn_starts_i, = np.where(np.diff(reactive_flag) == 1)\n",
    "        rxn_ends_i, = np.where(np.diff(reactive_flag) == -1)\n",
    "        rxn_starts += [rxn_starts_i]\n",
    "        rxn_ends += [rxn_ends_i]\n",
    "    return rxn_starts,rxn_ends\n",
    "    "
   ]
  },
  {
   "cell_type": "code",
   "execution_count": null,
   "metadata": {},
   "outputs": [],
   "source": [
    "src_tag,dest_tag = label_src_dest(x,abtest)\n",
    "rxn_starts,rxn_ends = snip_reactive_trajectories(src_tag,dest_tag)\n",
    "rxn_starts = rxn_starts[0]\n",
    "rxn_ends = rxn_ends[0]"
   ]
  },
  {
   "cell_type": "code",
   "execution_count": null,
   "metadata": {},
   "outputs": [],
   "source": [
    "# Plot only the reactive trajectories\n",
    "dt_save = t_save[1] - t_save[0]\n",
    "window_length = int(200.0/dt_save)\n",
    "post_buffer = int(40.0/dt_save)\n",
    "mode = \"11\"\n",
    "fig,ax = plt.subplots(ncols=2, figsize=(12,6))\n",
    "for i in range(min(10,len(rxn_starts))):\n",
    "    i0 = rxn_starts[i]\n",
    "    i1 = rxn_ends[i]\n",
    "    pre_buffer = window_length - (i1 - i0 + post_buffer)\n",
    "    ax[0].plot(t_save[i0-pre_buffer:i0+1]-t_save[i1], x[0,i0-pre_buffer:i0+1,0],color='black')\n",
    "    ax[0].plot(t_save[i0:i1+1]-t_save[i1], x[0,i0:i1+1,0], color='red')\n",
    "    ax[0].plot(t_save[i1:i1+post_buffer]-t_save[i1], x[0,i1:i1+post_buffer,0], color='black')\n",
    "    ax[1].plot(t_save[i0-pre_buffer:i0+1]-t_save[i1], energy[mode][i0-pre_buffer:i0+1],color='black')\n",
    "    ax[1].plot(t_save[i0:i1+1]-t_save[i1], energy[mode][i0:i1+1], color='red')\n",
    "    ax[1].plot(t_save[i1:i1+post_buffer]-t_save[i1], energy[mode][i1:i1+post_buffer], color='black')   "
   ]
  },
  {
   "cell_type": "markdown",
   "metadata": {},
   "source": [
    "We can see the transition paths, but they seem pretty sudden. I would rather have the path leave $A$ for awhile before hitting $B$. We might be able to take care of this by defining a time-delayed version of the state space and enforcing the two thresholds for some time duration. "
   ]
  },
  {
   "cell_type": "code",
   "execution_count": null,
   "metadata": {},
   "outputs": [],
   "source": [
    "ndelay = int(round(100/dt_save))\n",
    "Nx,Nt,xdim = x.shape\n",
    "xdelay = np.nan*np.ones((Nx,Nt,ndelay,xdim))\n",
    "tdelay = np.zeros((Nt-ndelay+1,ndelay))\n",
    "for i_delay in range(ndelay):\n",
    "    xdelay[:,ndelay-1:,i_delay,:] = x[:,ndelay-1-i_delay:Nt-i_delay]  \n",
    "    tdelay[:,i_delay] = t_save[ndelay-i_delay-1:Nt-i_delay]"
   ]
  },
  {
   "cell_type": "markdown",
   "metadata": {},
   "source": [
    "Below we modify $A$ and $B$ to have some minimum durations."
   ]
  },
  {
   "cell_type": "code",
   "execution_count": null,
   "metadata": {},
   "outputs": [],
   "source": [
    "duration_A = int(2/dt_save)\n",
    "duration_B = int(50/dt_save)\n",
    "def abtest_delay(xdelay):\n",
    "    abcode = (\n",
    "        1*(np.max(xdelay[:,:duration_B,0], axis=1) <= 0.85)\n",
    "        - 1*(np.min(xdelay[:,:duration_A,0], axis=1) >= 0.9)\n",
    "    )\n",
    "    return abcode"
   ]
  },
  {
   "cell_type": "code",
   "execution_count": null,
   "metadata": {},
   "outputs": [],
   "source": [
    "src_tag,dest_tag = label_src_dest(xdelay,abtest_delay)\n",
    "rxn_starts,rxn_ends = snip_reactive_trajectories(src_tag,dest_tag)\n",
    "rxn_starts = rxn_starts[0]\n",
    "rxn_ends = rxn_ends[0]\n",
    "tb_bwd,tb_fwd = compute_hitting_time(xdelay,t_save,abtest_delay,1)"
   ]
  },
  {
   "cell_type": "markdown",
   "metadata": {},
   "source": [
    "Above we have computed the first-hitting time, which may be a more suitable measure of progress than the committor, since we don't have to worry about defining $A$. Let's plot the trajectory marking $A$ and $B$, as well as the hitting times."
   ]
  },
  {
   "cell_type": "code",
   "execution_count": null,
   "metadata": {},
   "outputs": [],
   "source": [
    "abcode_delay = abtest_delay(xdelay.reshape((Nx*Nt,ndelay,xdim))).reshape((Nx,Nt))\n",
    "timax = int(3000/dt_save)\n",
    "fig,ax = plt.subplots(nrows=3,figsize=(18,12),sharex=True)\n",
    "ax[0].scatter(t_save[:timax], xdelay[0,:timax,0,0], c=plt.cm.coolwarm((abcode_delay[0,:timax]+1)/2.0), marker='.')\n",
    "ax[1].plot(t_save[:timax], tb_bwd[0,:timax], color='black')\n",
    "ax[2].plot(t_save[:timax], tb_fwd[0,:timax], color='black')\n",
    "ax[0].set_title(\"$x_1$\")\n",
    "ax[1].set_title(\"Time since B\")\n",
    "ax[2].set_title(\"Time until B\")"
   ]
  },
  {
   "cell_type": "markdown",
   "metadata": {},
   "source": [
    "What does the first-passage time to $B$ look like from the standpoint of energy coordinates? "
   ]
  },
  {
   "cell_type": "code",
   "execution_count": null,
   "metadata": {},
   "outputs": [],
   "source": [
    "energy_delay,_ = crom.energy_enstrophy(xdelay.reshape((Nx*Nt*ndelay,xdim)))\n",
    "for key in energy_delay.keys():\n",
    "    energy_delay[key] = energy_delay[key].reshape((Nx,Nt,ndelay))\n",
    "forcing_delay = crom.energy_tendency_forcing(xdelay.reshape((Nx*Nt*ndelay,xdim))).reshape((Nx,Nt,ndelay))\n",
    "dissipation_delay = crom.energy_tendency_dissipation(xdelay.reshape((Nx*Nt*ndelay,xdim))).reshape((Nx,Nt,ndelay))\n"
   ]
  },
  {
   "cell_type": "markdown",
   "metadata": {},
   "source": [
    "Below, we restrict to times when the system is within some time threshold of hitting $B$, in order to home in on the transition."
   ]
  },
  {
   "cell_type": "code",
   "execution_count": null,
   "metadata": {},
   "outputs": [],
   "source": [
    "# Plot first-passage times in energy coordinates\n",
    "fig,ax = plt.subplots(figsize=(12,12))\n",
    "y0 = energy_delay[\"01\"][0,:,0] + energy_delay[\"02\"][0,:,0]\n",
    "y1 = energy_delay[\"11\"][0,:,0] + energy_delay[\"12\"][0,:,0]\n",
    "lab0,lab1 = \"zonal-mean energy\",\"eddy energy\"\n",
    "goodidx = np.where((np.isnan(tb_fwd[0])==0)*(tb_fwd[0] < 100)) #*(tb_fwd[0] > 0))\n",
    "tb_subset = tb_fwd[0][goodidx] \n",
    "ax.scatter(y0[goodidx],y1[goodidx],\n",
    "                c=plt.cm.coolwarm_r((tb_subset - np.min(tb_subset))/np.ptp(tb_subset)),\n",
    "                alpha=0.5, marker='.')\n",
    "ax.set_xlabel(lab0)\n",
    "ax.set_ylabel(lab1)"
   ]
  },
  {
   "cell_type": "code",
   "execution_count": null,
   "metadata": {},
   "outputs": [],
   "source": [
    "# Now let's plot the variance of energy over the last 100 days\n",
    "energy_var = dict({\n",
    "    key: np.var(energy_delay[key], axis=2) for key in energy_delay.keys()\n",
    "})\n",
    "energy_mean = dict({\n",
    "    key: np.mean(energy_delay[key], axis=2) for key in energy_delay.keys()\n",
    "})"
   ]
  },
  {
   "cell_type": "code",
   "execution_count": null,
   "metadata": {},
   "outputs": [],
   "source": [
    "fig,ax = plt.subplots(nrows=2,figsize=(16,8), sharex=True)\n",
    "ax[0].plot(t_save[:timax],energy_mean[\"11\"][0,:timax])\n",
    "ax[1].plot(t_save[:timax],x[0,:timax,0])"
   ]
  },
  {
   "cell_type": "code",
   "execution_count": null,
   "metadata": {},
   "outputs": [],
   "source": [
    "# Plot many 2D plots \n",
    "goodidx = np.where((np.isnan(tb_fwd[0])==0)*(tb_fwd[0] < 100)*(tb_fwd[0] > 0))\n",
    "tb_subset = tb_fwd[0][goodidx] "
   ]
  },
  {
   "cell_type": "code",
   "execution_count": null,
   "metadata": {},
   "outputs": [],
   "source": [
    "# Energy of first zonal mode and phase*magnitude of first eddy mode\n",
    "fig,ax = plt.subplots()\n",
    "phase_11 = np.arctan2(-xdelay[0,:,0,2],xdelay[0,:,0,1])/np.pi\n",
    "mag_11 = xdelay[0,:,0,2]**2 + xdelay[0,:,0,1]**2\n",
    "ax.scatter(energy_delay[\"01\"][0,:,0][goodidx],mag_11[goodidx]*phase_11[goodidx],\n",
    "           c=plt.cm.jet_r((tb_subset - np.min(tb_subset))/np.ptp(tb_subset)),\n",
    "           alpha=0.7, marker='.')"
   ]
  },
  {
   "cell_type": "code",
   "execution_count": null,
   "metadata": {},
   "outputs": [],
   "source": [
    "# phase*magnitude of first and second eddy modes\n",
    "fig,ax = plt.subplots()\n",
    "phase_12 = np.arctan2(-xdelay[0,:,0,5],xdelay[0,:,0,4])/np.pi\n",
    "mag_12 = xdelay[0,:,0,5]**2 + xdelay[0,:,0,4]**2\n",
    "ax.scatter(mag_11[goodidx]*phase_11[goodidx],mag_12[goodidx]*phase_12[goodidx],\n",
    "           c=plt.cm.jet_r((tb_subset - np.min(tb_subset))/np.ptp(tb_subset)),\n",
    "           alpha=0.7, marker='.')"
   ]
  },
  {
   "cell_type": "code",
   "execution_count": null,
   "metadata": {},
   "outputs": [],
   "source": [
    "# Energy of zonal and eddy modes\n",
    "fig,ax = plt.subplots()\n",
    "ax.scatter((energy_delay[\"01\"]+energy_delay[\"02\"])[0,:,0][goodidx],\n",
    "           (energy_delay[\"11\"]+energy_delay[\"12\"])[0,:,0][goodidx],\n",
    "           c=plt.cm.jet_r((tb_subset - np.min(tb_subset))/np.ptp(tb_subset)),\n",
    "           alpha=0.7, marker='.')"
   ]
  },
  {
   "cell_type": "code",
   "execution_count": null,
   "metadata": {},
   "outputs": [],
   "source": [
    "# Energy of 1st zonal and all eddy modes\n",
    "fig,ax = plt.subplots()\n",
    "ax.scatter((energy_delay[\"01\"])[0,:,0][goodidx],\n",
    "           (energy_delay[\"11\"]+energy_delay[\"12\"])[0,:,0][goodidx],\n",
    "           c=plt.cm.jet_r((tb_subset - np.min(tb_subset))/np.ptp(tb_subset)),\n",
    "           alpha=0.7, marker='.')"
   ]
  },
  {
   "cell_type": "code",
   "execution_count": null,
   "metadata": {},
   "outputs": [],
   "source": [
    "# Dissipation and forcing\n",
    "fig,ax = plt.subplots()\n",
    "ax.scatter(forcing_delay[0,:,0][goodidx],\n",
    "           dissipation_delay[0,:,0][goodidx],\n",
    "           c=plt.cm.jet_r((tb_subset - np.min(tb_subset))/np.ptp(tb_subset)),\n",
    "           alpha=0.7, marker='.')"
   ]
  },
  {
   "cell_type": "code",
   "execution_count": null,
   "metadata": {},
   "outputs": [],
   "source": [
    "# Energy of 1st and 2nd zonal modes\n",
    "fig,ax = plt.subplots()\n",
    "ax.scatter(energy_delay[\"01\"][0,:,0][goodidx],\n",
    "          energy_delay[\"02\"][0,:,0][goodidx],\n",
    "          c=plt.cm.jet_r((tb_subset - np.min(tb_subset))/np.ptp(tb_subset)),\n",
    "           alpha=0.7, marker='.')"
   ]
  },
  {
   "cell_type": "code",
   "execution_count": null,
   "metadata": {},
   "outputs": [],
   "source": [
    "plt.scatter(\n",
    "    xdelay[0,:,0,4][goodidx],xdelay[0,:,0,5][goodidx],\n",
    "    c=plt.cm.coolwarm_r((tb_subset - np.min(tb_subset))/np.ptp(tb_subset)),alpha=0.7,marker='.')"
   ]
  },
  {
   "cell_type": "markdown",
   "metadata": {},
   "source": [
    "Above, red means closer to $B$ in time. Let's plot in dissipation coordinates, too. "
   ]
  },
  {
   "cell_type": "code",
   "execution_count": null,
   "metadata": {},
   "outputs": [],
   "source": [
    "fig,ax = plt.subplots(figsize=(12,12))\n",
    "y0 = energy[\"total\"]\n",
    "y1 = forcing\n",
    "lab0,lab1 = \"total energy\",\"forcing\"\n",
    "goodidx = np.where((np.isnan(tb_fwd[0])==0)*(tb_fwd[0] < 100))\n",
    "tb_subset = tb_fwd[0][goodidx] \n",
    "ax.scatter(y0[goodidx],y1[goodidx],\n",
    "                c=plt.cm.coolwarm_r((tb_subset - np.min(tb_subset))/np.ptp(tb_subset)),\n",
    "                alpha=0.7, marker='.')\n",
    "ax.set_xlabel(lab0)\n",
    "ax.set_ylabel(lab1)"
   ]
  },
  {
   "cell_type": "code",
   "execution_count": null,
   "metadata": {},
   "outputs": [],
   "source": [
    "# Make a whole list of observable coordinates\n",
    "obs = dict()\n",
    "obs[\"forcing\"] = forcing\n",
    "for key in list(energy.keys()):\n",
    "    obs[f\"energy_{key}\"] = energy[key]"
   ]
  },
  {
   "cell_type": "code",
   "execution_count": null,
   "metadata": {},
   "outputs": [],
   "source": [
    "# Plot some of them over the course of transition paths\n",
    "goodidx = np.where((np.isnan(tb_fwd[0])==0)*(tb_fwd[0] < 100)*(tb_fwd[0] > 0))\n",
    "tb_subset = tb_fwd[0][goodidx] \n",
    "keys2plot = [\"forcing\",\"energy_01\",\"energy_11\",\"energy_total\"]\n",
    "for key in keys2plot:\n",
    "    fig,ax = plt.subplots()\n",
    "    ax.scatter(-tb_subset,obs[key][goodidx],color='gray',marker='.',s=9,alpha=0.2)\n",
    "    ax.set_xlabel(\"Time to B\")\n",
    "    ax.set_ylabel(key)"
   ]
  },
  {
   "cell_type": "markdown",
   "metadata": {},
   "source": [
    "That's spicy.\n",
    "\n",
    "To sum up, these energy coordinates and balance equations give us some way to intepret the dynamics. I would be very interested to see reactive current in these coordinates, with and without stochastic forcing and in different parameter regimes (perhaps the bistable regime of Charney \\& Devore 1979). Also, how will the rate change as a function of the definition of $B$? "
   ]
  },
  {
   "cell_type": "code",
   "execution_count": null,
   "metadata": {},
   "outputs": [],
   "source": []
  }
 ],
 "metadata": {
  "kernelspec": {
   "display_name": "my_env",
   "language": "python",
   "name": "my_env"
  },
  "language_info": {
   "codemirror_mode": {
    "name": "ipython",
    "version": 3
   },
   "file_extension": ".py",
   "mimetype": "text/x-python",
   "name": "python",
   "nbconvert_exporter": "python",
   "pygments_lexer": "ipython3",
   "version": "3.9.5"
  }
 },
 "nbformat": 4,
 "nbformat_minor": 5
}
