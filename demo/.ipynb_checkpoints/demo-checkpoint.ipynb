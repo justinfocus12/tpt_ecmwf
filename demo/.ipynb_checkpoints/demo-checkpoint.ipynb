{
 "cells": [
  {
   "cell_type": "code",
   "execution_count": 4,
   "metadata": {},
   "outputs": [],
   "source": [
    "import numpy as np\n",
    "import xarray as xr\n",
    "import netCDF4 as nc\n",
    "import model_crommelin_seasonal\n",
    "import feature_crommelin \n",
    "from importlib import reload\n",
    "import sys \n",
    "import os\n",
    "from os import mkdir\n",
    "from os.path import join,exists\n",
    "from importlib import reload\n"
   ]
  },
  {
   "cell_type": "code",
   "execution_count": 5,
   "metadata": {},
   "outputs": [],
   "source": [
    "import matplotlib.pyplot as plt \n",
    "%matplotlib inline"
   ]
  },
  {
   "cell_type": "markdown",
   "metadata": {},
   "source": [
    "Create directories to save results"
   ]
  },
  {
   "cell_type": "code",
   "execution_count": 6,
   "metadata": {},
   "outputs": [],
   "source": [
    "topic_dir = \"/scratch/jf4241/crommelin\"\n",
    "if not exists(topic_dir): mkdir(topic_dir)\n",
    "day_dir = join(topic_dir,\"2022-07-22\")\n",
    "if not exists(day_dir): mkdir(day_dir)\n",
    "exp_dir = join(day_dir,\"1\")\n",
    "if not exists(exp_dir): mkdir(exp_dir)\n",
    "ra_dir = join(exp_dir,\"reanalysis_data\")\n",
    "if not exists(ra_dir): mkdir(ra_dir)\n",
    "ra_dir_contiguous = join(ra_dir,\"contiguous\") # For long, unbroken record\n",
    "if not exists(ra_dir_contiguous): mkdir(ra_dir_contiguous)\n",
    "ra_dir_seasonal = join(ra_dir,\"seasonal\") # For data split into seasons\n",
    "if not exists(ra_dir_seasonal): mkdir(ra_dir_seasonal)\n",
    "hc_dir = join(exp_dir,\"hindcast_data\")\n",
    "if not exists(hc_dir): mkdir(hc_dir)\n",
    "featspec_dir = join(exp_dir,\"featspec\") # Metadata with info to compute features\n",
    "if not exists(featspec_dir): mkdir(featspec_dir)\n",
    "results_dir = join(exp_dir,\"results\")\n",
    "if not exists(results_dir): mkdir(results_dir)\n",
    "results_dir_ra = join(results_dir,\"ra\")\n",
    "if not exists(results_dir_ra): mkdir(results_dir_ra)\n",
    "results_dir_hc = join(results_dir,\"hc\")\n",
    "if not exists(results_dir_hc): mkdir(results_dir_hc)"
   ]
  },
  {
   "cell_type": "markdown",
   "metadata": {},
   "source": [
    "Set physical parameters"
   ]
  },
  {
   "cell_type": "code",
   "execution_count": 7,
   "metadata": {},
   "outputs": [],
   "source": [
    "dt_samp = 0.5 # Time step to save out\n",
    "dt_szn = 0.74 # Time resolution for the seasonal model \n",
    "szn_start = 300.0\n",
    "szn_length = 250.0\n",
    "year_length = 400.0\n",
    "Nt_szn = int(szn_length / dt_szn)\n",
    "szn_avg_window = 5.0\n",
    "burnin_time = 500.0"
   ]
  },
  {
   "cell_type": "code",
   "execution_count": 8,
   "metadata": {},
   "outputs": [
    {
     "data": {
      "text/plain": [
       "<module 'model_crommelin_seasonal' from '/home/jf4241/ecmwf/tpt_ecmwf/demo/model_crommelin_seasonal.py'>"
      ]
     },
     "execution_count": 8,
     "metadata": {},
     "output_type": "execute_result"
    }
   ],
   "source": [
    "reload(model_crommelin_seasonal)"
   ]
  },
  {
   "cell_type": "markdown",
   "metadata": {},
   "source": [
    "Initialize the model."
   ]
  },
  {
   "cell_type": "code",
   "execution_count": 9,
   "metadata": {},
   "outputs": [],
   "source": [
    "fundamental_param_dict = dict({\"b\": 0.5, \"beta\": 1.25, \"gamma_limits\": [0.15, 0.22], \"C\": 0.1, \"x1star\": 0.95, \"r\": -0.801, \"year_length\": year_length})\n",
    "crom = model_crommelin_seasonal.SeasonalCrommelinModel(fundamental_param_dict)\n"
   ]
  },
  {
   "cell_type": "markdown",
   "metadata": {},
   "source": [
    "Create \"reanalysis\" in the file folder reserved for contiguous data."
   ]
  },
  {
   "cell_type": "code",
   "execution_count": 10,
   "metadata": {},
   "outputs": [],
   "source": [
    "traj_filename_ra = join(ra_dir_contiguous,\"crom_long.nc\")\n",
    "metadata_filename_ra = join(ra_dir_contiguous,\"crom_long_params\")"
   ]
  },
  {
   "cell_type": "code",
   "execution_count": 11,
   "metadata": {},
   "outputs": [
    {
     "name": "stdout",
     "output_type": "stream",
     "text": [
      "Integrated through time 1000.0000000001588 out of 2499.5\n",
      "Integrated through time 2000.0999999992764 out of 2499.5\n"
     ]
    }
   ],
   "source": [
    "# Run the model forward\n",
    "x0 = np.zeros((1,7))\n",
    "x0[0,6] = (1957 + 0.2)*fundamental_param_dict[\"year_length\"]  # Starting time is about 20% of the way through 1957 (arbitrary)\n",
    "dt_save = 0.5\n",
    "tmax_save = 5*fundamental_param_dict[\"year_length\"] + burnin_time\n",
    "t_save = np.arange(0,tmax_save,dt_samp)\n",
    "crom.integrate_and_save(x0,t_save,traj_filename_ra,metadata_filename=metadata_filename_ra,burnin_time=burnin_time)"
   ]
  },
  {
   "cell_type": "code",
   "execution_count": null,
   "metadata": {},
   "outputs": [],
   "source": [
    "ds = xr.open_dataset(traj_filename_ra)"
   ]
  },
  {
   "cell_type": "code",
   "execution_count": null,
   "metadata": {},
   "outputs": [],
   "source": [
    "traj_filename_ra"
   ]
  },
  {
   "cell_type": "markdown",
   "metadata": {},
   "source": [
    "Create \"hindcast\" data in the file folder reserved for hindcast data."
   ]
  },
  {
   "cell_type": "code",
   "execution_count": null,
   "metadata": {},
   "outputs": [],
   "source": [
    "# Generate hindcast dataset\n",
    "t_abs_range = crom.q[\"year_length\"]*np.array([1960,1970])\n",
    "crom.generate_hindcast_dataset(\n",
    "    traj_filename_ra,hc_dir,t_abs_range,dt_samp,\n",
    "    ens_size=30,ens_duration=47,ens_gap=13,pert_scale=0.01\n",
    ")"
   ]
  },
  {
   "cell_type": "markdown",
   "metadata": {},
   "source": [
    "Extract features of interest from both the reanalysis and hindcast datasets. This will be expensive, as we have to read from a large database of files. Therefore, we should minimize the number of times we do this in development. Therefore, we should read in ALL possible features we MIGHT use for the downstream tasks of K-means clustering. Some extra reduction is likely necessary."
   ]
  },
  {
   "cell_type": "code",
   "execution_count": null,
   "metadata": {},
   "outputs": [],
   "source": [
    "# Extract all features of potential use from the reanalysis dataset. \n",
    "# Don't waste data by time-delaying, that's just silly\n",
    "crom_feat = feature_crommelin.SeasonalCrommelinModelFeatures()"
   ]
  },
  {
   "cell_type": "code",
   "execution_count": null,
   "metadata": {},
   "outputs": [],
   "source": [
    "# Load the already-executed model (contiguous)\n",
    "X_ra_cont = xr.open_dataset(traj_filename_ra)[\"X\"]\n",
    "print(X_ra_cont.sel(feature=\"x1\").isel(t_sim=0))\n",
    "print(X_ra_cont.sel(feature=\"x2\").isel(t_sim=0))"
   ]
  },
  {
   "cell_type": "code",
   "execution_count": null,
   "metadata": {},
   "outputs": [],
   "source": [
    "# Plot x1 and x4 over time for 4 annual cycles\n",
    "fig,ax = plt.subplots(ncols=2, figsize=(12,6))\n",
    "xr.plot.plot(\n",
    "    X_ra_cont.sel(feature='x1',member=0)\n",
    "    .where(X_ra_cont['t_sim'] < 4*crom.q[\"year_length\"], drop=True),\n",
    "    x='t_sim', ax=ax[0]\n",
    ")\n",
    "xr.plot.plot(\n",
    "    X_ra_cont.sel(feature='x4',member=0)\n",
    "    .where(X_ra_cont['t_sim'] < 4*crom.q[\"year_length\"], drop=True),\n",
    "    x='t_sim', ax=ax[1]\n",
    ")\n"
   ]
  },
  {
   "cell_type": "code",
   "execution_count": null,
   "metadata": {},
   "outputs": [],
   "source": [
    "# Compute the climatology\n",
    "feat_crom.compute_climatology(in_filename,save_filename)"
   ]
  },
  {
   "cell_type": "code",
   "execution_count": null,
   "metadata": {},
   "outputs": [],
   "source": [
    "# Plot some hindcasts on top of climatology\n"
   ]
  },
  {
   "cell_type": "code",
   "execution_count": null,
   "metadata": {},
   "outputs": [],
   "source": []
  }
 ],
 "metadata": {
  "kernelspec": {
   "display_name": "my_env",
   "language": "python",
   "name": "my_env"
  },
  "language_info": {
   "codemirror_mode": {
    "name": "ipython",
    "version": 3
   },
   "file_extension": ".py",
   "mimetype": "text/x-python",
   "name": "python",
   "nbconvert_exporter": "python",
   "pygments_lexer": "ipython3",
   "version": "3.9.5"
  }
 },
 "nbformat": 4,
 "nbformat_minor": 4
}
